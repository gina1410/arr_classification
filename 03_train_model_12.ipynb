{
 "cells": [
  {
   "attachments": {},
   "cell_type": "markdown",
   "metadata": {},
   "source": [
    "# Initialize"
   ]
  },
  {
   "cell_type": "code",
   "execution_count": 1,
   "metadata": {},
   "outputs": [],
   "source": [
    "import numpy as np\n",
    "import pandas as pd\n",
    "import matplotlib.pyplot as plt\n",
    "\n",
    "from keras.utils.np_utils import to_categorical\n",
    "from keras.models import Sequential\n",
    "from keras.layers import Conv1D, AvgPool1D, Flatten, Dense, Dropout, Softmax\n",
    "from keras import regularizers\n",
    "from keras.optimizers import Adam \n"
   ]
  },
  {
   "attachments": {},
   "cell_type": "markdown",
   "metadata": {},
   "source": [
    "# Load dataset"
   ]
  },
  {
   "cell_type": "code",
   "execution_count": 2,
   "metadata": {},
   "outputs": [
    {
     "name": "stdout",
     "output_type": "stream",
     "text": [
      "train_data :  (53102, 441)\n",
      "test_data  :  (13276, 441)\n"
     ]
    }
   ],
   "source": [
    "train = pd.read_csv('./data/0.8_train.csv', header=None)\n",
    "test = pd.read_csv('./data/0.2_test.csv', header=None)\n",
    "\n",
    "print(\"train_data : \", np.shape(train))\n",
    "print(\"test_data  : \", np.shape(test))"
   ]
  },
  {
   "cell_type": "code",
   "execution_count": 3,
   "metadata": {},
   "outputs": [
    {
     "name": "stdout",
     "output_type": "stream",
     "text": [
      "data train per class\n",
      "0.0    13152\n",
      "1.0    12938\n",
      "2.0    11508\n",
      "3.0    11421\n",
      "4.0     4083\n",
      "Name: 440, dtype: int64\n",
      "---------------------------------\n",
      "data test per class\n",
      "0.0    3244\n",
      "1.0    3200\n",
      "2.0    2992\n",
      "3.0    2835\n",
      "4.0    1005\n",
      "Name: 440, dtype: int64\n"
     ]
    }
   ],
   "source": [
    "# 0.0 Normal beat\n",
    "# 1.0 LBBB beat\n",
    "# 2.0 RBBB beat\n",
    "# 3.0 PVC beat\n",
    "# 4.0 PAC beat\n",
    "\n",
    "print('data train per class')\n",
    "print(train[440].value_counts())\n",
    "print('---------------------------------')\n",
    "print('data test per class')\n",
    "print(test[440].value_counts())"
   ]
  },
  {
   "cell_type": "code",
   "execution_count": 4,
   "metadata": {},
   "outputs": [
    {
     "name": "stdout",
     "output_type": "stream",
     "text": [
      "(53102, 5) (13276, 5)\n"
     ]
    }
   ],
   "source": [
    "target_train=train[train.shape[1]-1]\n",
    "target_test=test[test.shape[1]-1]\n",
    "train_y=to_categorical(target_train)\n",
    "test_y=to_categorical(target_test)\n",
    "print(np.shape(train_y), np.shape(test_y))"
   ]
  },
  {
   "cell_type": "code",
   "execution_count": 5,
   "metadata": {},
   "outputs": [
    {
     "name": "stdout",
     "output_type": "stream",
     "text": [
      "(53102, 440, 1) (13276, 440, 1)\n"
     ]
    }
   ],
   "source": [
    "train_x = train.iloc[:,:train.shape[1]-1].values\n",
    "test_x = test.iloc[:,:test.shape[1]-1].values\n",
    "train_x = train_x.reshape(len(train_x), train_x.shape[1],1)\n",
    "test_x = test_x.reshape(len(test_x), test_x.shape[1],1)\n",
    "print(np.shape(train_x), np.shape(test_x))"
   ]
  },
  {
   "attachments": {},
   "cell_type": "markdown",
   "metadata": {},
   "source": [
    "# Model architecture"
   ]
  },
  {
   "cell_type": "code",
   "execution_count": 6,
   "metadata": {},
   "outputs": [
    {
     "name": "stdout",
     "output_type": "stream",
     "text": [
      "Model: \"sequential\"\n",
      "_________________________________________________________________\n",
      " Layer (type)                Output Shape              Param #   \n",
      "=================================================================\n",
      " conv1d (Conv1D)             (None, 440, 16)           224       \n",
      "                                                                 \n",
      " average_pooling1d (AverageP  (None, 219, 16)          0         \n",
      " ooling1D)                                                       \n",
      "                                                                 \n",
      " conv1d_1 (Conv1D)           (None, 219, 32)           7712      \n",
      "                                                                 \n",
      " average_pooling1d_1 (Averag  (None, 109, 32)          0         \n",
      " ePooling1D)                                                     \n",
      "                                                                 \n",
      " conv1d_2 (Conv1D)           (None, 109, 64)           34880     \n",
      "                                                                 \n",
      " average_pooling1d_2 (Averag  (None, 54, 64)           0         \n",
      " ePooling1D)                                                     \n",
      "                                                                 \n",
      " conv1d_3 (Conv1D)           (None, 54, 128)           155776    \n",
      "                                                                 \n",
      " average_pooling1d_3 (Averag  (None, 26, 128)          0         \n",
      " ePooling1D)                                                     \n",
      "                                                                 \n",
      " flatten (Flatten)           (None, 3328)              0         \n",
      "                                                                 \n",
      " dropout (Dropout)           (None, 3328)              0         \n",
      "                                                                 \n",
      " dense (Dense)               (None, 35)                116515    \n",
      "                                                                 \n",
      " dense_1 (Dense)             (None, 5)                 180       \n",
      "                                                                 \n",
      " softmax (Softmax)           (None, 5)                 0         \n",
      "                                                                 \n",
      "=================================================================\n",
      "Total params: 315,287\n",
      "Trainable params: 315,287\n",
      "Non-trainable params: 0\n",
      "_________________________________________________________________\n"
     ]
    }
   ],
   "source": [
    "# Instanciate an empty model\n",
    "model = Sequential()\n",
    "\n",
    "model.add(Conv1D(filters=16, kernel_size=13, padding='same', activation='relu',input_shape=(440, 1)))\n",
    "model.add(AvgPool1D(pool_size=3, strides=2))\n",
    "model.add(Conv1D(filters=32, kernel_size=15, padding='same', activation='relu'))\n",
    "model.add(AvgPool1D(pool_size=3, strides=2))\n",
    "model.add(Conv1D(filters=64, kernel_size=17, padding='same', activation='relu'))\n",
    "model.add(AvgPool1D(pool_size=3, strides=2))\n",
    "model.add(Conv1D(filters=128, kernel_size=19, padding='same', activation='relu'))\n",
    "model.add(AvgPool1D(pool_size=3, strides=2))\n",
    "model.add(Flatten())\n",
    "model.add(Dropout(0.5))\n",
    "model.add(Dense(35,kernel_regularizer=regularizers.l2(0.0001), bias_regularizer=regularizers.l2(0.0001)))\n",
    "model.add(Dense(5,kernel_regularizer=regularizers.l2(0.0001), bias_regularizer=regularizers.l2(0.0001)))\n",
    "model.add(Softmax())\n",
    "\n",
    "model.summary()"
   ]
  },
  {
   "attachments": {},
   "cell_type": "markdown",
   "metadata": {},
   "source": [
    "# learning_rate 0.0015, batch_size 32, epoch 100"
   ]
  },
  {
   "cell_type": "code",
   "execution_count": 7,
   "metadata": {},
   "outputs": [],
   "source": [
    "model.compile(loss='categorical_crossentropy', optimizer=Adam(learning_rate=0.0015), metrics=['accuracy'])"
   ]
  },
  {
   "cell_type": "code",
   "execution_count": 8,
   "metadata": {},
   "outputs": [
    {
     "name": "stdout",
     "output_type": "stream",
     "text": [
      "Epoch 1/100\n",
      "1660/1660 [==============================] - 78s 46ms/step - loss: 0.3477 - accuracy: 0.8869 - val_loss: 0.1532 - val_accuracy: 0.9614\n",
      "Epoch 2/100\n",
      "1660/1660 [==============================] - 75s 45ms/step - loss: 0.1588 - accuracy: 0.9575 - val_loss: 0.1452 - val_accuracy: 0.9629\n",
      "Epoch 3/100\n",
      "1660/1660 [==============================] - 73s 44ms/step - loss: 0.1269 - accuracy: 0.9677 - val_loss: 0.1034 - val_accuracy: 0.9764\n",
      "Epoch 4/100\n",
      "1660/1660 [==============================] - 79s 48ms/step - loss: 0.1109 - accuracy: 0.9719 - val_loss: 0.0928 - val_accuracy: 0.9793\n",
      "Epoch 5/100\n",
      "1660/1660 [==============================] - 77s 47ms/step - loss: 0.0986 - accuracy: 0.9760 - val_loss: 0.0914 - val_accuracy: 0.9797\n",
      "Epoch 6/100\n",
      "1660/1660 [==============================] - 79s 48ms/step - loss: 0.0909 - accuracy: 0.9772 - val_loss: 0.0778 - val_accuracy: 0.9834\n",
      "Epoch 7/100\n",
      "1660/1660 [==============================] - 72s 43ms/step - loss: 0.0813 - accuracy: 0.9796 - val_loss: 0.0794 - val_accuracy: 0.9818\n",
      "Epoch 8/100\n",
      "1660/1660 [==============================] - 72s 43ms/step - loss: 0.0747 - accuracy: 0.9819 - val_loss: 0.0755 - val_accuracy: 0.9840\n",
      "Epoch 9/100\n",
      "1660/1660 [==============================] - 69s 42ms/step - loss: 0.0679 - accuracy: 0.9835 - val_loss: 0.0758 - val_accuracy: 0.9824\n",
      "Epoch 10/100\n",
      "1660/1660 [==============================] - 71s 43ms/step - loss: 0.0631 - accuracy: 0.9849 - val_loss: 0.0715 - val_accuracy: 0.9846\n",
      "Epoch 11/100\n",
      "1660/1660 [==============================] - 74s 45ms/step - loss: 0.0605 - accuracy: 0.9853 - val_loss: 0.0703 - val_accuracy: 0.9849\n",
      "Epoch 12/100\n",
      "1660/1660 [==============================] - 72s 43ms/step - loss: 0.0579 - accuracy: 0.9866 - val_loss: 0.0743 - val_accuracy: 0.9829\n",
      "Epoch 13/100\n",
      "1660/1660 [==============================] - 75s 45ms/step - loss: 0.0543 - accuracy: 0.9869 - val_loss: 0.0675 - val_accuracy: 0.9847\n",
      "Epoch 14/100\n",
      "1660/1660 [==============================] - 73s 44ms/step - loss: 0.0507 - accuracy: 0.9879 - val_loss: 0.0680 - val_accuracy: 0.9853\n",
      "Epoch 15/100\n",
      "1660/1660 [==============================] - 77s 46ms/step - loss: 0.0501 - accuracy: 0.9887 - val_loss: 0.0677 - val_accuracy: 0.9857\n",
      "Epoch 16/100\n",
      "1660/1660 [==============================] - 89s 53ms/step - loss: 0.0473 - accuracy: 0.9895 - val_loss: 0.0751 - val_accuracy: 0.9833\n",
      "Epoch 17/100\n",
      "1660/1660 [==============================] - 82s 50ms/step - loss: 0.0479 - accuracy: 0.9898 - val_loss: 0.0706 - val_accuracy: 0.9857\n",
      "Epoch 18/100\n",
      "1660/1660 [==============================] - 77s 46ms/step - loss: 0.0436 - accuracy: 0.9905 - val_loss: 0.0707 - val_accuracy: 0.9852\n",
      "Epoch 19/100\n",
      "1660/1660 [==============================] - 75s 45ms/step - loss: 0.0430 - accuracy: 0.9910 - val_loss: 0.0681 - val_accuracy: 0.9854\n",
      "Epoch 20/100\n",
      "1660/1660 [==============================] - 75s 45ms/step - loss: 0.0412 - accuracy: 0.9910 - val_loss: 0.0776 - val_accuracy: 0.9855\n",
      "Epoch 21/100\n",
      "1660/1660 [==============================] - 74s 45ms/step - loss: 0.0417 - accuracy: 0.9907 - val_loss: 0.0719 - val_accuracy: 0.9858\n",
      "Epoch 22/100\n",
      "1660/1660 [==============================] - 73s 44ms/step - loss: 0.0377 - accuracy: 0.9920 - val_loss: 0.0761 - val_accuracy: 0.9852\n",
      "Epoch 23/100\n",
      "1660/1660 [==============================] - 71s 43ms/step - loss: 0.0371 - accuracy: 0.9922 - val_loss: 0.0773 - val_accuracy: 0.9852\n",
      "Epoch 24/100\n",
      "1660/1660 [==============================] - 65s 39ms/step - loss: 0.0382 - accuracy: 0.9922 - val_loss: 0.0726 - val_accuracy: 0.9862\n",
      "Epoch 25/100\n",
      "1660/1660 [==============================] - 66s 40ms/step - loss: 0.0338 - accuracy: 0.9934 - val_loss: 0.0808 - val_accuracy: 0.9858\n",
      "Epoch 26/100\n",
      "1660/1660 [==============================] - 70s 42ms/step - loss: 0.0349 - accuracy: 0.9932 - val_loss: 0.0779 - val_accuracy: 0.9870\n",
      "Epoch 27/100\n",
      "1660/1660 [==============================] - 69s 42ms/step - loss: 0.0354 - accuracy: 0.9931 - val_loss: 0.0817 - val_accuracy: 0.9864\n",
      "Epoch 28/100\n",
      "1660/1660 [==============================] - 70s 42ms/step - loss: 0.0362 - accuracy: 0.9928 - val_loss: 0.0769 - val_accuracy: 0.9870\n",
      "Epoch 29/100\n",
      "1660/1660 [==============================] - 66s 40ms/step - loss: 0.0323 - accuracy: 0.9939 - val_loss: 0.0717 - val_accuracy: 0.9867\n",
      "Epoch 30/100\n",
      "1660/1660 [==============================] - 66s 40ms/step - loss: 0.0335 - accuracy: 0.9932 - val_loss: 0.0696 - val_accuracy: 0.9884\n",
      "Epoch 31/100\n",
      "1660/1660 [==============================] - 65s 39ms/step - loss: 0.0302 - accuracy: 0.9944 - val_loss: 0.0746 - val_accuracy: 0.9873\n",
      "Epoch 32/100\n",
      "1660/1660 [==============================] - 68s 41ms/step - loss: 0.0344 - accuracy: 0.9937 - val_loss: 0.0745 - val_accuracy: 0.9863\n",
      "Epoch 33/100\n",
      "1660/1660 [==============================] - 64s 39ms/step - loss: 0.0301 - accuracy: 0.9940 - val_loss: 0.0890 - val_accuracy: 0.9864\n",
      "Epoch 34/100\n",
      "1660/1660 [==============================] - 65s 39ms/step - loss: 0.0307 - accuracy: 0.9944 - val_loss: 0.0729 - val_accuracy: 0.9865\n",
      "Epoch 35/100\n",
      "1660/1660 [==============================] - 64s 39ms/step - loss: 0.0290 - accuracy: 0.9947 - val_loss: 0.0759 - val_accuracy: 0.9872\n",
      "Epoch 36/100\n",
      "1660/1660 [==============================] - 65s 39ms/step - loss: 0.0299 - accuracy: 0.9948 - val_loss: 0.0744 - val_accuracy: 0.9863\n",
      "Epoch 37/100\n",
      "1660/1660 [==============================] - 65s 39ms/step - loss: 0.0302 - accuracy: 0.9943 - val_loss: 0.0953 - val_accuracy: 0.9856\n",
      "Epoch 38/100\n",
      "1660/1660 [==============================] - 65s 39ms/step - loss: 0.0293 - accuracy: 0.9950 - val_loss: 0.0798 - val_accuracy: 0.9862\n",
      "Epoch 39/100\n",
      "1660/1660 [==============================] - 66s 40ms/step - loss: 0.0262 - accuracy: 0.9951 - val_loss: 0.0871 - val_accuracy: 0.9864\n",
      "Epoch 40/100\n",
      "1660/1660 [==============================] - 65s 39ms/step - loss: 0.0294 - accuracy: 0.9949 - val_loss: 0.0771 - val_accuracy: 0.9877\n",
      "Epoch 41/100\n",
      "1660/1660 [==============================] - 66s 40ms/step - loss: 0.0299 - accuracy: 0.9947 - val_loss: 0.0775 - val_accuracy: 0.9862\n",
      "Epoch 42/100\n",
      "1660/1660 [==============================] - 66s 40ms/step - loss: 0.0291 - accuracy: 0.9952 - val_loss: 0.0848 - val_accuracy: 0.9874\n",
      "Epoch 43/100\n",
      "1660/1660 [==============================] - 66s 40ms/step - loss: 0.0260 - accuracy: 0.9958 - val_loss: 0.0806 - val_accuracy: 0.9873\n",
      "Epoch 44/100\n",
      "1660/1660 [==============================] - 63s 38ms/step - loss: 0.0261 - accuracy: 0.9957 - val_loss: 0.0846 - val_accuracy: 0.9876\n",
      "Epoch 45/100\n",
      "1660/1660 [==============================] - 67s 40ms/step - loss: 0.0298 - accuracy: 0.9948 - val_loss: 0.0855 - val_accuracy: 0.9873\n",
      "Epoch 46/100\n",
      "1660/1660 [==============================] - 65s 39ms/step - loss: 0.0279 - accuracy: 0.9952 - val_loss: 0.0822 - val_accuracy: 0.9870\n",
      "Epoch 47/100\n",
      "1660/1660 [==============================] - 67s 40ms/step - loss: 0.0257 - accuracy: 0.9960 - val_loss: 0.0945 - val_accuracy: 0.9854\n",
      "Epoch 48/100\n",
      "1660/1660 [==============================] - 68s 41ms/step - loss: 0.0278 - accuracy: 0.9955 - val_loss: 0.0832 - val_accuracy: 0.9863\n",
      "Epoch 49/100\n",
      "1660/1660 [==============================] - 66s 40ms/step - loss: 0.0289 - accuracy: 0.9948 - val_loss: 0.0847 - val_accuracy: 0.9870\n",
      "Epoch 50/100\n",
      "1660/1660 [==============================] - 68s 41ms/step - loss: 0.0254 - accuracy: 0.9961 - val_loss: 0.0858 - val_accuracy: 0.9868\n",
      "Epoch 51/100\n",
      "1660/1660 [==============================] - 72s 44ms/step - loss: 0.0251 - accuracy: 0.9960 - val_loss: 0.0856 - val_accuracy: 0.9834\n",
      "Epoch 52/100\n",
      "1660/1660 [==============================] - 67s 41ms/step - loss: 0.0286 - accuracy: 0.9949 - val_loss: 0.0821 - val_accuracy: 0.9874\n",
      "Epoch 53/100\n",
      "1660/1660 [==============================] - 67s 40ms/step - loss: 0.0266 - accuracy: 0.9958 - val_loss: 0.0897 - val_accuracy: 0.9863\n",
      "Epoch 54/100\n",
      "1660/1660 [==============================] - 66s 40ms/step - loss: 0.0283 - accuracy: 0.9956 - val_loss: 0.0854 - val_accuracy: 0.9861\n",
      "Epoch 55/100\n",
      "1660/1660 [==============================] - 65s 39ms/step - loss: 0.0262 - accuracy: 0.9959 - val_loss: 0.0836 - val_accuracy: 0.9874\n",
      "Epoch 56/100\n",
      "1660/1660 [==============================] - 73s 44ms/step - loss: 0.0249 - accuracy: 0.9957 - val_loss: 0.0894 - val_accuracy: 0.9865\n",
      "Epoch 57/100\n",
      "1660/1660 [==============================] - 65s 39ms/step - loss: 0.0261 - accuracy: 0.9963 - val_loss: 0.0850 - val_accuracy: 0.9876\n",
      "Epoch 58/100\n",
      "1660/1660 [==============================] - 66s 40ms/step - loss: 0.0246 - accuracy: 0.9963 - val_loss: 0.0843 - val_accuracy: 0.9864\n",
      "Epoch 59/100\n",
      "1660/1660 [==============================] - 67s 40ms/step - loss: 0.0259 - accuracy: 0.9957 - val_loss: 0.0795 - val_accuracy: 0.9865\n",
      "Epoch 60/100\n",
      "1660/1660 [==============================] - 64s 39ms/step - loss: 0.0250 - accuracy: 0.9963 - val_loss: 0.0858 - val_accuracy: 0.9861\n",
      "Epoch 61/100\n",
      "1660/1660 [==============================] - 68s 41ms/step - loss: 0.0248 - accuracy: 0.9961 - val_loss: 0.0945 - val_accuracy: 0.9872\n",
      "Epoch 62/100\n",
      "1660/1660 [==============================] - 74s 45ms/step - loss: 0.0241 - accuracy: 0.9964 - val_loss: 0.0850 - val_accuracy: 0.9869\n",
      "Epoch 63/100\n",
      "1660/1660 [==============================] - 71s 43ms/step - loss: 0.0225 - accuracy: 0.9964 - val_loss: 0.0920 - val_accuracy: 0.9857\n",
      "Epoch 64/100\n",
      "1660/1660 [==============================] - 71s 43ms/step - loss: 0.0262 - accuracy: 0.9962 - val_loss: 0.0939 - val_accuracy: 0.9864\n",
      "Epoch 65/100\n",
      "1660/1660 [==============================] - 68s 41ms/step - loss: 0.0250 - accuracy: 0.9964 - val_loss: 0.0856 - val_accuracy: 0.9873\n",
      "Epoch 66/100\n",
      "1660/1660 [==============================] - 73s 44ms/step - loss: 0.0261 - accuracy: 0.9962 - val_loss: 0.0856 - val_accuracy: 0.9870\n",
      "Epoch 67/100\n",
      "1660/1660 [==============================] - 70s 42ms/step - loss: 0.0244 - accuracy: 0.9965 - val_loss: 0.0782 - val_accuracy: 0.9876\n",
      "Epoch 68/100\n",
      "1660/1660 [==============================] - 70s 42ms/step - loss: 0.0247 - accuracy: 0.9965 - val_loss: 0.0865 - val_accuracy: 0.9879\n",
      "Epoch 69/100\n",
      "1660/1660 [==============================] - 71s 43ms/step - loss: 0.0237 - accuracy: 0.9965 - val_loss: 0.0839 - val_accuracy: 0.9875\n",
      "Epoch 70/100\n",
      "1660/1660 [==============================] - 65s 39ms/step - loss: 0.0243 - accuracy: 0.9962 - val_loss: 0.0950 - val_accuracy: 0.9870\n",
      "Epoch 71/100\n",
      "1660/1660 [==============================] - 69s 42ms/step - loss: 0.0258 - accuracy: 0.9963 - val_loss: 0.0838 - val_accuracy: 0.9867\n",
      "Epoch 72/100\n",
      "1660/1660 [==============================] - 67s 40ms/step - loss: 0.0205 - accuracy: 0.9975 - val_loss: 0.1150 - val_accuracy: 0.9865\n",
      "Epoch 73/100\n",
      "1660/1660 [==============================] - 69s 41ms/step - loss: 0.0279 - accuracy: 0.9960 - val_loss: 0.0769 - val_accuracy: 0.9881\n",
      "Epoch 74/100\n",
      "1660/1660 [==============================] - 69s 42ms/step - loss: 0.0235 - accuracy: 0.9965 - val_loss: 0.1053 - val_accuracy: 0.9879\n",
      "Epoch 75/100\n",
      "1660/1660 [==============================] - 68s 41ms/step - loss: 0.0243 - accuracy: 0.9962 - val_loss: 0.0867 - val_accuracy: 0.9878\n",
      "Epoch 76/100\n",
      "1660/1660 [==============================] - 69s 41ms/step - loss: 0.0246 - accuracy: 0.9965 - val_loss: 0.0952 - val_accuracy: 0.9878\n",
      "Epoch 77/100\n",
      "1660/1660 [==============================] - 69s 42ms/step - loss: 0.0234 - accuracy: 0.9967 - val_loss: 0.1126 - val_accuracy: 0.9873\n",
      "Epoch 78/100\n",
      "1660/1660 [==============================] - 67s 41ms/step - loss: 0.0258 - accuracy: 0.9961 - val_loss: 0.1161 - val_accuracy: 0.9852\n",
      "Epoch 79/100\n",
      "1660/1660 [==============================] - 72s 43ms/step - loss: 0.0245 - accuracy: 0.9969 - val_loss: 0.0842 - val_accuracy: 0.9866\n",
      "Epoch 80/100\n",
      "1660/1660 [==============================] - 71s 43ms/step - loss: 0.0239 - accuracy: 0.9968 - val_loss: 0.1000 - val_accuracy: 0.9869\n",
      "Epoch 81/100\n",
      "1660/1660 [==============================] - 70s 42ms/step - loss: 0.0234 - accuracy: 0.9967 - val_loss: 0.0929 - val_accuracy: 0.9879\n",
      "Epoch 82/100\n",
      "1660/1660 [==============================] - 69s 41ms/step - loss: 0.0217 - accuracy: 0.9970 - val_loss: 0.0961 - val_accuracy: 0.9865\n",
      "Epoch 83/100\n",
      "1660/1660 [==============================] - 73s 44ms/step - loss: 0.0241 - accuracy: 0.9969 - val_loss: 0.0960 - val_accuracy: 0.9871\n",
      "Epoch 84/100\n",
      "1660/1660 [==============================] - 66s 40ms/step - loss: 0.0257 - accuracy: 0.9963 - val_loss: 0.1038 - val_accuracy: 0.9858\n",
      "Epoch 85/100\n",
      "1660/1660 [==============================] - 64s 38ms/step - loss: 0.0214 - accuracy: 0.9973 - val_loss: 0.1162 - val_accuracy: 0.9847\n",
      "Epoch 86/100\n",
      "1660/1660 [==============================] - 70s 42ms/step - loss: 0.0256 - accuracy: 0.9963 - val_loss: 0.0972 - val_accuracy: 0.9861\n",
      "Epoch 87/100\n",
      "1660/1660 [==============================] - 89s 54ms/step - loss: 0.0232 - accuracy: 0.9971 - val_loss: 0.0889 - val_accuracy: 0.9878\n",
      "Epoch 88/100\n",
      "1660/1660 [==============================] - 94s 57ms/step - loss: 0.0234 - accuracy: 0.9969 - val_loss: 0.1037 - val_accuracy: 0.9873\n",
      "Epoch 89/100\n",
      "1660/1660 [==============================] - 92s 55ms/step - loss: 0.0226 - accuracy: 0.9970 - val_loss: 0.0990 - val_accuracy: 0.9876\n",
      "Epoch 90/100\n",
      "1660/1660 [==============================] - 85s 51ms/step - loss: 0.0217 - accuracy: 0.9973 - val_loss: 0.1048 - val_accuracy: 0.9875\n",
      "Epoch 91/100\n",
      "1660/1660 [==============================] - 88s 53ms/step - loss: 0.0251 - accuracy: 0.9964 - val_loss: 0.0937 - val_accuracy: 0.9879\n",
      "Epoch 92/100\n",
      "1660/1660 [==============================] - 89s 53ms/step - loss: 0.0224 - accuracy: 0.9970 - val_loss: 0.0957 - val_accuracy: 0.9855\n",
      "Epoch 93/100\n",
      "1660/1660 [==============================] - 85s 51ms/step - loss: 0.0246 - accuracy: 0.9970 - val_loss: 0.0989 - val_accuracy: 0.9877\n",
      "Epoch 94/100\n",
      "1660/1660 [==============================] - 84s 50ms/step - loss: 0.0237 - accuracy: 0.9968 - val_loss: 0.0958 - val_accuracy: 0.9867\n",
      "Epoch 95/100\n",
      "1660/1660 [==============================] - 83s 50ms/step - loss: 0.0220 - accuracy: 0.9970 - val_loss: 0.1063 - val_accuracy: 0.9867\n",
      "Epoch 96/100\n",
      "1660/1660 [==============================] - 83s 50ms/step - loss: 0.0217 - accuracy: 0.9971 - val_loss: 0.1118 - val_accuracy: 0.9864\n",
      "Epoch 97/100\n",
      "1660/1660 [==============================] - 84s 51ms/step - loss: 0.0235 - accuracy: 0.9967 - val_loss: 0.1224 - val_accuracy: 0.9837\n",
      "Epoch 98/100\n",
      "1660/1660 [==============================] - 86s 52ms/step - loss: 0.0232 - accuracy: 0.9974 - val_loss: 0.1180 - val_accuracy: 0.9878\n",
      "Epoch 99/100\n",
      "1660/1660 [==============================] - 85s 51ms/step - loss: 0.0243 - accuracy: 0.9967 - val_loss: 0.0937 - val_accuracy: 0.9868\n",
      "Epoch 100/100\n",
      "1660/1660 [==============================] - 82s 50ms/step - loss: 0.0228 - accuracy: 0.9970 - val_loss: 0.1057 - val_accuracy: 0.9876\n"
     ]
    }
   ],
   "source": [
    "history = model.fit(train_x, train_y, batch_size=32, epochs=100, verbose=1, validation_data=(test_x, test_y))"
   ]
  },
  {
   "cell_type": "code",
   "execution_count": 9,
   "metadata": {},
   "outputs": [
    {
     "data": {
      "image/png": "[encoded data removed]",
      "text/plain": [
       "<Figure size 800x300 with 1 Axes>"
      ]
     },
     "metadata": {},
     "output_type": "display_data"
    },
    {
     "data": {
      "image/png": "[encoded data removed]",
      "text/plain": [
       "<Figure size 800x300 with 1 Axes>"
      ]
     },
     "metadata": {},
     "output_type": "display_data"
    }
   ],
   "source": [
    "# summarize history for loss\n",
    "plt.figure(figsize=(8,3))\n",
    "plt.plot(history.history['loss'])\n",
    "plt.plot(history.history['val_loss'])\n",
    "plt.title('model loss')\n",
    "plt.ylabel('loss')\n",
    "plt.xlabel('epoch')\n",
    "plt.legend(['train', 'test'], loc='best')\n",
    "plt.show()\n",
    "\n",
    "# summarize history for accuracy\n",
    "plt.figure(figsize=(8,3))\n",
    "plt.plot(history.history['accuracy'])\n",
    "plt.plot(history.history['val_accuracy'])\n",
    "plt.title('model accuracy')\n",
    "plt.ylabel('accuracy')\n",
    "plt.xlabel('epoch')\n",
    "plt.legend(['train', 'test'], loc='best')\n",
    "plt.show()"
   ]
  },
  {
   "cell_type": "code",
   "execution_count": 10,
   "metadata": {},
   "outputs": [
    {
     "name": "stdout",
     "output_type": "stream",
     "text": [
      "415/415 [==============================] - 6s 14ms/step - loss: 0.1057 - accuracy: 0.9876\n",
      "Test Loss: 0.10568360239267349\n",
      "Test accuracy: 0.9875715374946594\n"
     ]
    }
   ],
   "source": [
    "# finding the loss and acuracy of the model\n",
    "score = model.evaluate(test_x, test_y)\n",
    "\n",
    "print('Test Loss:', score[0])\n",
    "print('Test accuracy:', score[1])"
   ]
  },
  {
   "cell_type": "code",
   "execution_count": 11,
   "metadata": {},
   "outputs": [
    {
     "name": "stderr",
     "output_type": "stream",
     "text": [
      "WARNING:absl:Found untraced functions such as _jit_compiled_convolution_op, _jit_compiled_convolution_op, _jit_compiled_convolution_op, _jit_compiled_convolution_op while saving (showing 4 of 4). These functions will not be directly callable after loading.\n"
     ]
    },
    {
     "name": "stdout",
     "output_type": "stream",
     "text": [
      "INFO:tensorflow:Assets written to: CNN_model_12\\assets\n"
     ]
    },
    {
     "name": "stderr",
     "output_type": "stream",
     "text": [
      "INFO:tensorflow:Assets written to: CNN_model_12\\assets\n"
     ]
    }
   ],
   "source": [
    "# save model\n",
    "model.save('CNN_model_12')"
   ]
  },
  {
   "attachments": {},
   "cell_type": "markdown",
   "metadata": {},
   "source": [
    "# confusion matrix"
   ]
  },
  {
   "cell_type": "code",
   "execution_count": 12,
   "metadata": {},
   "outputs": [
    {
     "name": "stdout",
     "output_type": "stream",
     "text": [
      "415/415 [==============================] - 6s 14ms/step\n"
     ]
    },
    {
     "data": {
      "text/plain": [
       "array([3, 1, 2, ..., 0, 3, 0], dtype=int64)"
      ]
     },
     "execution_count": 12,
     "metadata": {},
     "output_type": "execute_result"
    }
   ],
   "source": [
    "y_pred = model.predict(test_x)\n",
    "y_pred = np.argmax(y_pred, axis=1)\n",
    "y_pred"
   ]
  },
  {
   "cell_type": "code",
   "execution_count": 13,
   "metadata": {},
   "outputs": [
    {
     "name": "stdout",
     "output_type": "stream",
     "text": [
      "confusion matrix\n",
      "[[3205    5    6   14   14]\n",
      " [   6 3182    2    9    1]\n",
      " [   9    2 2977    3    1]\n",
      " [  38    3    1 2789    4]\n",
      " [  27    0    4   16  958]]\n",
      "\n",
      "classification report\n",
      "              precision    recall  f1-score   support\n",
      "\n",
      "           N     0.9756    0.9880    0.9818      3244\n",
      "           L     0.9969    0.9944    0.9956      3200\n",
      "           R     0.9957    0.9950    0.9953      2992\n",
      "           V     0.9852    0.9838    0.9845      2835\n",
      "           A     0.9796    0.9532    0.9662      1005\n",
      "\n",
      "    accuracy                         0.9876     13276\n",
      "   macro avg     0.9866    0.9829    0.9847     13276\n",
      "weighted avg     0.9876    0.9876    0.9876     13276\n",
      "\n"
     ]
    }
   ],
   "source": [
    "y_true = test[440]\n",
    "\n",
    "from sklearn.metrics import confusion_matrix, classification_report\n",
    "\n",
    "cm = confusion_matrix(y_true, y_pred)\n",
    "print('confusion matrix')\n",
    "print(cm)\n",
    "print('\\nclassification report')\n",
    "report = classification_report(y_true, y_pred, target_names=['N', 'L', 'R', 'V', 'A'], digits=4)\n",
    "print(report )\n",
    "\n",
    "def report_to_df(report):\n",
    "    report = [x.split(' ') for x in report.split('\\n')]\n",
    "    header = ['Class Name']+[x for x in report[0] if x!='']\n",
    "    values = []\n",
    "    for row in report[1:-5]:\n",
    "        row = [value for value in row if value!='']\n",
    "        if row!=[]:\n",
    "            values.append(row)\n",
    "    df = pd.DataFrame(data = values, columns = header)\n",
    "    return df\n",
    "report = report_to_df(report)\n",
    "\n",
    "# report.to_csv('classification report.csv', index=True)"
   ]
  }
 ],
 "metadata": {
  "kernelspec": {
   "display_name": "cenv1",
   "language": "python",
   "name": "python3"
  },
  "language_info": {
   "codemirror_mode": {
    "name": "ipython",
    "version": 3
   },
   "file_extension": ".py",
   "mimetype": "text/x-python",
   "name": "python",
   "nbconvert_exporter": "python",
   "pygments_lexer": "ipython3",
   "version": "3.10.9"
  },
  "orig_nbformat": 4
 },
 "nbformat": 4,
 "nbformat_minor": 2
}
