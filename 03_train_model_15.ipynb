{
 "cells": [
  {
   "attachments": {},
   "cell_type": "markdown",
   "metadata": {},
   "source": [
    "# Initialize"
   ]
  },
  {
   "cell_type": "code",
   "execution_count": 1,
   "metadata": {},
   "outputs": [],
   "source": [
    "import numpy as np\n",
    "import pandas as pd\n",
    "import matplotlib.pyplot as plt\n",
    "\n",
    "from keras.utils.np_utils import to_categorical\n",
    "from keras.models import Sequential\n",
    "from keras.layers import Conv1D, AvgPool1D, Flatten, Dense, Dropout, Softmax\n",
    "from keras import regularizers\n",
    "from keras.optimizers import Adam \n"
   ]
  },
  {
   "attachments": {},
   "cell_type": "markdown",
   "metadata": {},
   "source": [
    "# Load dataset"
   ]
  },
  {
   "cell_type": "code",
   "execution_count": 2,
   "metadata": {},
   "outputs": [
    {
     "name": "stdout",
     "output_type": "stream",
     "text": [
      "train_data :  (53102, 441)\n",
      "test_data  :  (13276, 441)\n"
     ]
    }
   ],
   "source": [
    "train = pd.read_csv('./data/0.8_train.csv', header=None)\n",
    "test = pd.read_csv('./data/0.2_test.csv', header=None)\n",
    "\n",
    "print(\"train_data : \", np.shape(train))\n",
    "print(\"test_data  : \", np.shape(test))"
   ]
  },
  {
   "cell_type": "code",
   "execution_count": 3,
   "metadata": {},
   "outputs": [
    {
     "name": "stdout",
     "output_type": "stream",
     "text": [
      "data train per class\n",
      "0.0    13152\n",
      "1.0    12938\n",
      "2.0    11508\n",
      "3.0    11421\n",
      "4.0     4083\n",
      "Name: 440, dtype: int64\n",
      "---------------------------------\n",
      "data test per class\n",
      "0.0    3244\n",
      "1.0    3200\n",
      "2.0    2992\n",
      "3.0    2835\n",
      "4.0    1005\n",
      "Name: 440, dtype: int64\n"
     ]
    }
   ],
   "source": [
    "# 0.0 Normal beat\n",
    "# 1.0 LBBB beat\n",
    "# 2.0 RBBB beat\n",
    "# 3.0 PVC beat\n",
    "# 4.0 PAC beat\n",
    "\n",
    "print('data train per class')\n",
    "print(train[440].value_counts())\n",
    "print('---------------------------------')\n",
    "print('data test per class')\n",
    "print(test[440].value_counts())"
   ]
  },
  {
   "cell_type": "code",
   "execution_count": 4,
   "metadata": {},
   "outputs": [
    {
     "name": "stdout",
     "output_type": "stream",
     "text": [
      "(53102, 5) (13276, 5)\n"
     ]
    }
   ],
   "source": [
    "target_train=train[train.shape[1]-1]\n",
    "target_test=test[test.shape[1]-1]\n",
    "train_y=to_categorical(target_train)\n",
    "test_y=to_categorical(target_test)\n",
    "print(np.shape(train_y), np.shape(test_y))"
   ]
  },
  {
   "cell_type": "code",
   "execution_count": 5,
   "metadata": {},
   "outputs": [
    {
     "name": "stdout",
     "output_type": "stream",
     "text": [
      "(53102, 440, 1) (13276, 440, 1)\n"
     ]
    }
   ],
   "source": [
    "train_x = train.iloc[:,:train.shape[1]-1].values\n",
    "test_x = test.iloc[:,:test.shape[1]-1].values\n",
    "train_x = train_x.reshape(len(train_x), train_x.shape[1],1)\n",
    "test_x = test_x.reshape(len(test_x), test_x.shape[1],1)\n",
    "print(np.shape(train_x), np.shape(test_x))"
   ]
  },
  {
   "attachments": {},
   "cell_type": "markdown",
   "metadata": {},
   "source": [
    "# Model architecture"
   ]
  },
  {
   "cell_type": "code",
   "execution_count": 6,
   "metadata": {},
   "outputs": [
    {
     "name": "stdout",
     "output_type": "stream",
     "text": [
      "Model: \"sequential\"\n",
      "_________________________________________________________________\n",
      " Layer (type)                Output Shape              Param #   \n",
      "=================================================================\n",
      " conv1d (Conv1D)             (None, 440, 16)           224       \n",
      "                                                                 \n",
      " average_pooling1d (AverageP  (None, 219, 16)          0         \n",
      " ooling1D)                                                       \n",
      "                                                                 \n",
      " conv1d_1 (Conv1D)           (None, 219, 32)           7712      \n",
      "                                                                 \n",
      " average_pooling1d_1 (Averag  (None, 109, 32)          0         \n",
      " ePooling1D)                                                     \n",
      "                                                                 \n",
      " conv1d_2 (Conv1D)           (None, 109, 64)           34880     \n",
      "                                                                 \n",
      " average_pooling1d_2 (Averag  (None, 54, 64)           0         \n",
      " ePooling1D)                                                     \n",
      "                                                                 \n",
      " conv1d_3 (Conv1D)           (None, 54, 128)           155776    \n",
      "                                                                 \n",
      " average_pooling1d_3 (Averag  (None, 26, 128)          0         \n",
      " ePooling1D)                                                     \n",
      "                                                                 \n",
      " flatten (Flatten)           (None, 3328)              0         \n",
      "                                                                 \n",
      " dropout (Dropout)           (None, 3328)              0         \n",
      "                                                                 \n",
      " dense (Dense)               (None, 35)                116515    \n",
      "                                                                 \n",
      " dense_1 (Dense)             (None, 5)                 180       \n",
      "                                                                 \n",
      " softmax (Softmax)           (None, 5)                 0         \n",
      "                                                                 \n",
      "=================================================================\n",
      "Total params: 315,287\n",
      "Trainable params: 315,287\n",
      "Non-trainable params: 0\n",
      "_________________________________________________________________\n"
     ]
    }
   ],
   "source": [
    "# Instanciate an empty model\n",
    "model = Sequential()\n",
    "\n",
    "model.add(Conv1D(filters=16, kernel_size=13, padding='same', activation='relu',input_shape=(440, 1)))\n",
    "model.add(AvgPool1D(pool_size=3, strides=2))\n",
    "model.add(Conv1D(filters=32, kernel_size=15, padding='same', activation='relu'))\n",
    "model.add(AvgPool1D(pool_size=3, strides=2))\n",
    "model.add(Conv1D(filters=64, kernel_size=17, padding='same', activation='relu'))\n",
    "model.add(AvgPool1D(pool_size=3, strides=2))\n",
    "model.add(Conv1D(filters=128, kernel_size=19, padding='same', activation='relu'))\n",
    "model.add(AvgPool1D(pool_size=3, strides=2))\n",
    "model.add(Flatten())\n",
    "model.add(Dropout(0.5))\n",
    "model.add(Dense(35,kernel_regularizer=regularizers.l2(0.0001), bias_regularizer=regularizers.l2(0.0001)))\n",
    "model.add(Dense(5,kernel_regularizer=regularizers.l2(0.0001), bias_regularizer=regularizers.l2(0.0001)))\n",
    "model.add(Softmax())\n",
    "\n",
    "model.summary()"
   ]
  },
  {
   "attachments": {},
   "cell_type": "markdown",
   "metadata": {},
   "source": [
    "# learning_rate 0.0015, batch_size 64, epoch 100"
   ]
  },
  {
   "cell_type": "code",
   "execution_count": 7,
   "metadata": {},
   "outputs": [],
   "source": [
    "model.compile(loss='categorical_crossentropy', optimizer=Adam(learning_rate=0.0015), metrics=['accuracy'])"
   ]
  },
  {
   "cell_type": "code",
   "execution_count": 8,
   "metadata": {},
   "outputs": [
    {
     "name": "stdout",
     "output_type": "stream",
     "text": [
      "Epoch 1/100\n",
      "830/830 [==============================] - 67s 80ms/step - loss: 0.3595 - accuracy: 0.8796 - val_loss: 0.1603 - val_accuracy: 0.9549\n",
      "Epoch 2/100\n",
      "830/830 [==============================] - 74s 89ms/step - loss: 0.1481 - accuracy: 0.9595 - val_loss: 0.1162 - val_accuracy: 0.9706\n",
      "Epoch 3/100\n",
      "830/830 [==============================] - 72s 87ms/step - loss: 0.1198 - accuracy: 0.9686 - val_loss: 0.1174 - val_accuracy: 0.9712\n",
      "Epoch 4/100\n",
      "830/830 [==============================] - 73s 88ms/step - loss: 0.1039 - accuracy: 0.9732 - val_loss: 0.1053 - val_accuracy: 0.9743\n",
      "Epoch 5/100\n",
      "830/830 [==============================] - 67s 81ms/step - loss: 0.0956 - accuracy: 0.9757 - val_loss: 0.0920 - val_accuracy: 0.9783\n",
      "Epoch 6/100\n",
      "830/830 [==============================] - 63s 76ms/step - loss: 0.0866 - accuracy: 0.9778 - val_loss: 0.0894 - val_accuracy: 0.9794\n",
      "Epoch 7/100\n",
      "830/830 [==============================] - 63s 76ms/step - loss: 0.0793 - accuracy: 0.9805 - val_loss: 0.0813 - val_accuracy: 0.9802\n",
      "Epoch 8/100\n",
      "830/830 [==============================] - 63s 76ms/step - loss: 0.0737 - accuracy: 0.9823 - val_loss: 0.0841 - val_accuracy: 0.9803\n",
      "Epoch 9/100\n",
      "830/830 [==============================] - 63s 76ms/step - loss: 0.0691 - accuracy: 0.9831 - val_loss: 0.0829 - val_accuracy: 0.9814\n",
      "Epoch 10/100\n",
      "830/830 [==============================] - 64s 77ms/step - loss: 0.0667 - accuracy: 0.9840 - val_loss: 0.1006 - val_accuracy: 0.9770\n",
      "Epoch 11/100\n",
      "830/830 [==============================] - 63s 76ms/step - loss: 0.0587 - accuracy: 0.9866 - val_loss: 0.0804 - val_accuracy: 0.9821\n",
      "Epoch 12/100\n",
      "830/830 [==============================] - 74s 90ms/step - loss: 0.0573 - accuracy: 0.9864 - val_loss: 0.0884 - val_accuracy: 0.9803\n",
      "Epoch 13/100\n",
      "830/830 [==============================] - 81s 97ms/step - loss: 0.0551 - accuracy: 0.9875 - val_loss: 0.0703 - val_accuracy: 0.9840\n",
      "Epoch 14/100\n",
      "830/830 [==============================] - 63s 76ms/step - loss: 0.0505 - accuracy: 0.9887 - val_loss: 0.0669 - val_accuracy: 0.9852\n",
      "Epoch 15/100\n",
      "830/830 [==============================] - 59s 72ms/step - loss: 0.0497 - accuracy: 0.9886 - val_loss: 0.0713 - val_accuracy: 0.9848\n",
      "Epoch 16/100\n",
      "830/830 [==============================] - 60s 73ms/step - loss: 0.0447 - accuracy: 0.9899 - val_loss: 0.0708 - val_accuracy: 0.9855\n",
      "Epoch 17/100\n",
      "830/830 [==============================] - 60s 73ms/step - loss: 0.0446 - accuracy: 0.9898 - val_loss: 0.0713 - val_accuracy: 0.9870\n",
      "Epoch 18/100\n",
      "830/830 [==============================] - 58s 70ms/step - loss: 0.0435 - accuracy: 0.9907 - val_loss: 0.0687 - val_accuracy: 0.9861\n",
      "Epoch 19/100\n",
      "830/830 [==============================] - 60s 73ms/step - loss: 0.0418 - accuracy: 0.9908 - val_loss: 0.0742 - val_accuracy: 0.9834\n",
      "Epoch 20/100\n",
      "830/830 [==============================] - 60s 73ms/step - loss: 0.0384 - accuracy: 0.9919 - val_loss: 0.0732 - val_accuracy: 0.9855\n",
      "Epoch 21/100\n",
      "830/830 [==============================] - 63s 76ms/step - loss: 0.0360 - accuracy: 0.9924 - val_loss: 0.0714 - val_accuracy: 0.9864\n",
      "Epoch 22/100\n",
      "830/830 [==============================] - 62s 75ms/step - loss: 0.0356 - accuracy: 0.9925 - val_loss: 0.0746 - val_accuracy: 0.9838\n",
      "Epoch 23/100\n",
      "830/830 [==============================] - 60s 72ms/step - loss: 0.0334 - accuracy: 0.9927 - val_loss: 0.0681 - val_accuracy: 0.9859\n",
      "Epoch 24/100\n",
      "830/830 [==============================] - 61s 73ms/step - loss: 0.0333 - accuracy: 0.9927 - val_loss: 0.0684 - val_accuracy: 0.9866\n",
      "Epoch 25/100\n",
      "830/830 [==============================] - 61s 73ms/step - loss: 0.0309 - accuracy: 0.9936 - val_loss: 0.0786 - val_accuracy: 0.9840\n",
      "Epoch 26/100\n",
      "830/830 [==============================] - 61s 73ms/step - loss: 0.0321 - accuracy: 0.9932 - val_loss: 0.0719 - val_accuracy: 0.9862\n",
      "Epoch 27/100\n",
      "830/830 [==============================] - 59s 71ms/step - loss: 0.0332 - accuracy: 0.9932 - val_loss: 0.0779 - val_accuracy: 0.9862\n",
      "Epoch 28/100\n",
      "830/830 [==============================] - 58s 70ms/step - loss: 0.0294 - accuracy: 0.9941 - val_loss: 0.0870 - val_accuracy: 0.9831\n",
      "Epoch 29/100\n",
      "830/830 [==============================] - 60s 73ms/step - loss: 0.0282 - accuracy: 0.9944 - val_loss: 0.0804 - val_accuracy: 0.9849\n",
      "Epoch 30/100\n",
      "830/830 [==============================] - 60s 72ms/step - loss: 0.0276 - accuracy: 0.9953 - val_loss: 0.0771 - val_accuracy: 0.9862\n",
      "Epoch 31/100\n",
      "830/830 [==============================] - 61s 73ms/step - loss: 0.0273 - accuracy: 0.9949 - val_loss: 0.0849 - val_accuracy: 0.9867\n",
      "Epoch 32/100\n",
      "830/830 [==============================] - 59s 70ms/step - loss: 0.0286 - accuracy: 0.9948 - val_loss: 0.0805 - val_accuracy: 0.9870\n",
      "Epoch 33/100\n",
      "830/830 [==============================] - 70s 84ms/step - loss: 0.0271 - accuracy: 0.9949 - val_loss: 0.0802 - val_accuracy: 0.9863\n",
      "Epoch 34/100\n",
      "830/830 [==============================] - 80s 96ms/step - loss: 0.0276 - accuracy: 0.9945 - val_loss: 0.0792 - val_accuracy: 0.9861\n",
      "Epoch 35/100\n",
      "830/830 [==============================] - 81s 98ms/step - loss: 0.0246 - accuracy: 0.9953 - val_loss: 0.0773 - val_accuracy: 0.9861\n",
      "Epoch 36/100\n",
      "830/830 [==============================] - 77s 93ms/step - loss: 0.0280 - accuracy: 0.9949 - val_loss: 0.0763 - val_accuracy: 0.9862\n",
      "Epoch 37/100\n",
      "830/830 [==============================] - 76s 91ms/step - loss: 0.0253 - accuracy: 0.9951 - val_loss: 0.0822 - val_accuracy: 0.9866\n",
      "Epoch 38/100\n",
      "830/830 [==============================] - 78s 94ms/step - loss: 0.0233 - accuracy: 0.9958 - val_loss: 0.0824 - val_accuracy: 0.9865\n",
      "Epoch 39/100\n",
      "830/830 [==============================] - 79s 95ms/step - loss: 0.0229 - accuracy: 0.9959 - val_loss: 0.0837 - val_accuracy: 0.9864\n",
      "Epoch 40/100\n",
      "830/830 [==============================] - 76s 92ms/step - loss: 0.0241 - accuracy: 0.9960 - val_loss: 0.0848 - val_accuracy: 0.9853\n",
      "Epoch 41/100\n",
      "830/830 [==============================] - 77s 92ms/step - loss: 0.0247 - accuracy: 0.9956 - val_loss: 0.0797 - val_accuracy: 0.9873\n",
      "Epoch 42/100\n",
      "830/830 [==============================] - 77s 92ms/step - loss: 0.0227 - accuracy: 0.9961 - val_loss: 0.0803 - val_accuracy: 0.9873\n",
      "Epoch 43/100\n",
      "830/830 [==============================] - 77s 93ms/step - loss: 0.0221 - accuracy: 0.9962 - val_loss: 0.0872 - val_accuracy: 0.9872\n",
      "Epoch 44/100\n",
      "830/830 [==============================] - 77s 92ms/step - loss: 0.0238 - accuracy: 0.9958 - val_loss: 0.0864 - val_accuracy: 0.9857\n",
      "Epoch 45/100\n",
      "830/830 [==============================] - 78s 94ms/step - loss: 0.0247 - accuracy: 0.9959 - val_loss: 0.0837 - val_accuracy: 0.9868\n",
      "Epoch 46/100\n",
      "830/830 [==============================] - 78s 94ms/step - loss: 0.0222 - accuracy: 0.9959 - val_loss: 0.0701 - val_accuracy: 0.9879\n",
      "Epoch 47/100\n",
      "830/830 [==============================] - 69s 83ms/step - loss: 0.0201 - accuracy: 0.9967 - val_loss: 0.0768 - val_accuracy: 0.9871\n",
      "Epoch 48/100\n",
      "830/830 [==============================] - 59s 71ms/step - loss: 0.0204 - accuracy: 0.9966 - val_loss: 0.0823 - val_accuracy: 0.9859\n",
      "Epoch 49/100\n",
      "830/830 [==============================] - 58s 70ms/step - loss: 0.0220 - accuracy: 0.9961 - val_loss: 0.0872 - val_accuracy: 0.9860\n",
      "Epoch 50/100\n",
      "830/830 [==============================] - 59s 72ms/step - loss: 0.0205 - accuracy: 0.9967 - val_loss: 0.0781 - val_accuracy: 0.9874\n",
      "Epoch 51/100\n",
      "830/830 [==============================] - 59s 71ms/step - loss: 0.0188 - accuracy: 0.9969 - val_loss: 0.0873 - val_accuracy: 0.9871\n",
      "Epoch 52/100\n",
      "830/830 [==============================] - 60s 72ms/step - loss: 0.0228 - accuracy: 0.9962 - val_loss: 0.0848 - val_accuracy: 0.9870\n",
      "Epoch 53/100\n",
      "830/830 [==============================] - 58s 70ms/step - loss: 0.0201 - accuracy: 0.9968 - val_loss: 0.0771 - val_accuracy: 0.9875\n",
      "Epoch 54/100\n",
      "830/830 [==============================] - 59s 71ms/step - loss: 0.0207 - accuracy: 0.9965 - val_loss: 0.0837 - val_accuracy: 0.9866\n",
      "Epoch 55/100\n",
      "830/830 [==============================] - 60s 72ms/step - loss: 0.0202 - accuracy: 0.9968 - val_loss: 0.0792 - val_accuracy: 0.9882\n",
      "Epoch 56/100\n",
      "830/830 [==============================] - 58s 70ms/step - loss: 0.0189 - accuracy: 0.9967 - val_loss: 0.0907 - val_accuracy: 0.9835\n",
      "Epoch 57/100\n",
      "830/830 [==============================] - 60s 72ms/step - loss: 0.0223 - accuracy: 0.9965 - val_loss: 0.0972 - val_accuracy: 0.9877\n",
      "Epoch 58/100\n",
      "830/830 [==============================] - 59s 71ms/step - loss: 0.0167 - accuracy: 0.9976 - val_loss: 0.0897 - val_accuracy: 0.9867\n",
      "Epoch 59/100\n",
      "830/830 [==============================] - 58s 70ms/step - loss: 0.0213 - accuracy: 0.9965 - val_loss: 0.0809 - val_accuracy: 0.9878\n",
      "Epoch 60/100\n",
      "830/830 [==============================] - 59s 71ms/step - loss: 0.0172 - accuracy: 0.9975 - val_loss: 0.0914 - val_accuracy: 0.9877\n",
      "Epoch 61/100\n",
      "830/830 [==============================] - 58s 70ms/step - loss: 0.0182 - accuracy: 0.9972 - val_loss: 0.0830 - val_accuracy: 0.9889\n",
      "Epoch 62/100\n",
      "830/830 [==============================] - 58s 70ms/step - loss: 0.0187 - accuracy: 0.9971 - val_loss: 0.0874 - val_accuracy: 0.9874\n",
      "Epoch 63/100\n",
      "830/830 [==============================] - 59s 71ms/step - loss: 0.0190 - accuracy: 0.9969 - val_loss: 0.0826 - val_accuracy: 0.9870\n",
      "Epoch 64/100\n",
      "830/830 [==============================] - 59s 71ms/step - loss: 0.0180 - accuracy: 0.9972 - val_loss: 0.0821 - val_accuracy: 0.9870\n",
      "Epoch 65/100\n",
      "830/830 [==============================] - 61s 74ms/step - loss: 0.0171 - accuracy: 0.9975 - val_loss: 0.0894 - val_accuracy: 0.9869\n",
      "Epoch 66/100\n",
      "830/830 [==============================] - 58s 70ms/step - loss: 0.0168 - accuracy: 0.9975 - val_loss: 0.0940 - val_accuracy: 0.9850\n",
      "Epoch 67/100\n",
      "830/830 [==============================] - 59s 71ms/step - loss: 0.0189 - accuracy: 0.9971 - val_loss: 0.0911 - val_accuracy: 0.9854\n",
      "Epoch 68/100\n",
      "830/830 [==============================] - 59s 71ms/step - loss: 0.0198 - accuracy: 0.9971 - val_loss: 0.0828 - val_accuracy: 0.9873\n",
      "Epoch 69/100\n",
      "830/830 [==============================] - 61s 73ms/step - loss: 0.0186 - accuracy: 0.9973 - val_loss: 0.0970 - val_accuracy: 0.9872\n",
      "Epoch 70/100\n",
      "830/830 [==============================] - 59s 71ms/step - loss: 0.0168 - accuracy: 0.9976 - val_loss: 0.0950 - val_accuracy: 0.9859\n",
      "Epoch 71/100\n",
      "830/830 [==============================] - 59s 71ms/step - loss: 0.0189 - accuracy: 0.9971 - val_loss: 0.0903 - val_accuracy: 0.9878\n",
      "Epoch 72/100\n",
      "830/830 [==============================] - 59s 71ms/step - loss: 0.0189 - accuracy: 0.9973 - val_loss: 0.0872 - val_accuracy: 0.9879\n",
      "Epoch 73/100\n",
      "830/830 [==============================] - 58s 70ms/step - loss: 0.0172 - accuracy: 0.9974 - val_loss: 0.0919 - val_accuracy: 0.9873\n",
      "Epoch 74/100\n",
      "830/830 [==============================] - 59s 71ms/step - loss: 0.0190 - accuracy: 0.9971 - val_loss: 0.1010 - val_accuracy: 0.9863\n",
      "Epoch 75/100\n",
      "830/830 [==============================] - 59s 71ms/step - loss: 0.0193 - accuracy: 0.9973 - val_loss: 0.0892 - val_accuracy: 0.9871\n",
      "Epoch 76/100\n",
      "830/830 [==============================] - 58s 70ms/step - loss: 0.0169 - accuracy: 0.9979 - val_loss: 0.0971 - val_accuracy: 0.9876\n",
      "Epoch 77/100\n",
      "830/830 [==============================] - 58s 70ms/step - loss: 0.0195 - accuracy: 0.9969 - val_loss: 0.0895 - val_accuracy: 0.9867\n",
      "Epoch 78/100\n",
      "830/830 [==============================] - 61s 73ms/step - loss: 0.0154 - accuracy: 0.9982 - val_loss: 0.0946 - val_accuracy: 0.9873\n",
      "Epoch 79/100\n",
      "830/830 [==============================] - 58s 70ms/step - loss: 0.0171 - accuracy: 0.9976 - val_loss: 0.1040 - val_accuracy: 0.9852\n",
      "Epoch 80/100\n",
      "830/830 [==============================] - 59s 71ms/step - loss: 0.0186 - accuracy: 0.9974 - val_loss: 0.1049 - val_accuracy: 0.9873\n",
      "Epoch 81/100\n",
      "830/830 [==============================] - 59s 71ms/step - loss: 0.0166 - accuracy: 0.9979 - val_loss: 0.0863 - val_accuracy: 0.9885\n",
      "Epoch 82/100\n",
      "830/830 [==============================] - 59s 72ms/step - loss: 0.0159 - accuracy: 0.9980 - val_loss: 0.0948 - val_accuracy: 0.9873\n",
      "Epoch 83/100\n",
      "830/830 [==============================] - 59s 71ms/step - loss: 0.0180 - accuracy: 0.9975 - val_loss: 0.0884 - val_accuracy: 0.9872\n",
      "Epoch 84/100\n",
      "830/830 [==============================] - 58s 70ms/step - loss: 0.0160 - accuracy: 0.9977 - val_loss: 0.0983 - val_accuracy: 0.9855\n",
      "Epoch 85/100\n",
      "830/830 [==============================] - 59s 71ms/step - loss: 0.0191 - accuracy: 0.9974 - val_loss: 0.0959 - val_accuracy: 0.9869\n",
      "Epoch 86/100\n",
      "830/830 [==============================] - 59s 71ms/step - loss: 0.0162 - accuracy: 0.9980 - val_loss: 0.0854 - val_accuracy: 0.9880\n",
      "Epoch 87/100\n",
      "830/830 [==============================] - 58s 70ms/step - loss: 0.0172 - accuracy: 0.9977 - val_loss: 0.0907 - val_accuracy: 0.9874\n",
      "Epoch 88/100\n",
      "830/830 [==============================] - 59s 72ms/step - loss: 0.0144 - accuracy: 0.9983 - val_loss: 0.1052 - val_accuracy: 0.9867\n",
      "Epoch 89/100\n",
      "830/830 [==============================] - 59s 71ms/step - loss: 0.0161 - accuracy: 0.9979 - val_loss: 0.1063 - val_accuracy: 0.9875\n",
      "Epoch 90/100\n",
      "830/830 [==============================] - 59s 71ms/step - loss: 0.0176 - accuracy: 0.9974 - val_loss: 0.1027 - val_accuracy: 0.9879\n",
      "Epoch 91/100\n",
      "830/830 [==============================] - 59s 71ms/step - loss: 0.0191 - accuracy: 0.9971 - val_loss: 0.0938 - val_accuracy: 0.9868\n",
      "Epoch 92/100\n",
      "830/830 [==============================] - 58s 70ms/step - loss: 0.0167 - accuracy: 0.9979 - val_loss: 0.0990 - val_accuracy: 0.9878\n",
      "Epoch 93/100\n",
      "830/830 [==============================] - 328s 395ms/step - loss: 0.0202 - accuracy: 0.9971 - val_loss: 0.0945 - val_accuracy: 0.9879\n",
      "Epoch 94/100\n",
      "830/830 [==============================] - 100s 120ms/step - loss: 0.0145 - accuracy: 0.9982 - val_loss: 0.0982 - val_accuracy: 0.9868\n",
      "Epoch 95/100\n",
      "830/830 [==============================] - 99s 120ms/step - loss: 0.0152 - accuracy: 0.9978 - val_loss: 0.1001 - val_accuracy: 0.9880\n",
      "Epoch 96/100\n",
      "830/830 [==============================] - 100s 121ms/step - loss: 0.0173 - accuracy: 0.9975 - val_loss: 0.1097 - val_accuracy: 0.9864\n",
      "Epoch 97/100\n",
      "830/830 [==============================] - 92s 111ms/step - loss: 0.0197 - accuracy: 0.9974 - val_loss: 0.1000 - val_accuracy: 0.9878\n",
      "Epoch 98/100\n",
      "830/830 [==============================] - 92s 111ms/step - loss: 0.0154 - accuracy: 0.9983 - val_loss: 0.0986 - val_accuracy: 0.9866\n",
      "Epoch 99/100\n",
      "830/830 [==============================] - 93s 112ms/step - loss: 0.0125 - accuracy: 0.9986 - val_loss: 0.1043 - val_accuracy: 0.9870\n",
      "Epoch 100/100\n",
      "830/830 [==============================] - 93s 112ms/step - loss: 0.0192 - accuracy: 0.9976 - val_loss: 0.0968 - val_accuracy: 0.9870\n"
     ]
    }
   ],
   "source": [
    "history = model.fit(train_x, train_y, batch_size=64, epochs=100, verbose=1, validation_data=(test_x, test_y))"
   ]
  },
  {
   "cell_type": "code",
   "execution_count": 9,
   "metadata": {},
   "outputs": [
    {
     "data": {
      "image/png": "[encoded data removed]",
      "text/plain": [
       "<Figure size 800x300 with 1 Axes>"
      ]
     },
     "metadata": {},
     "output_type": "display_data"
    },
    {
     "data": {
      "image/png": "[encoded data removed]",
      "text/plain": [
       "<Figure size 800x300 with 1 Axes>"
      ]
     },
     "metadata": {},
     "output_type": "display_data"
    }
   ],
   "source": [
    "# summarize history for loss\n",
    "plt.figure(figsize=(8,3))\n",
    "plt.plot(history.history['loss'])\n",
    "plt.plot(history.history['val_loss'])\n",
    "plt.title('model loss')\n",
    "plt.ylabel('loss')\n",
    "plt.xlabel('epoch')\n",
    "plt.legend(['train', 'test'], loc='best')\n",
    "plt.show()\n",
    "\n",
    "# summarize history for accuracy\n",
    "plt.figure(figsize=(8,3))\n",
    "plt.plot(history.history['accuracy'])\n",
    "plt.plot(history.history['val_accuracy'])\n",
    "plt.title('model accuracy')\n",
    "plt.ylabel('accuracy')\n",
    "plt.xlabel('epoch')\n",
    "plt.legend(['train', 'test'], loc='best')\n",
    "plt.show()"
   ]
  },
  {
   "cell_type": "code",
   "execution_count": 10,
   "metadata": {},
   "outputs": [
    {
     "name": "stdout",
     "output_type": "stream",
     "text": [
      "415/415 [==============================] - 6s 15ms/step - loss: 0.0968 - accuracy: 0.9870\n",
      "Test Loss: 0.09679374098777771\n",
      "Test accuracy: 0.986968994140625\n"
     ]
    }
   ],
   "source": [
    "# finding the loss and acuracy of the model\n",
    "score = model.evaluate(test_x, test_y)\n",
    "\n",
    "print('Test Loss:', score[0])\n",
    "print('Test accuracy:', score[1])"
   ]
  },
  {
   "cell_type": "code",
   "execution_count": 11,
   "metadata": {},
   "outputs": [
    {
     "name": "stderr",
     "output_type": "stream",
     "text": [
      "WARNING:absl:Found untraced functions such as _jit_compiled_convolution_op, _jit_compiled_convolution_op, _jit_compiled_convolution_op, _jit_compiled_convolution_op while saving (showing 4 of 4). These functions will not be directly callable after loading.\n"
     ]
    },
    {
     "name": "stdout",
     "output_type": "stream",
     "text": [
      "INFO:tensorflow:Assets written to: CNN_model_15\\assets\n"
     ]
    },
    {
     "name": "stderr",
     "output_type": "stream",
     "text": [
      "INFO:tensorflow:Assets written to: CNN_model_15\\assets\n"
     ]
    }
   ],
   "source": [
    "# save model\n",
    "model.save('CNN_model_15')"
   ]
  },
  {
   "attachments": {},
   "cell_type": "markdown",
   "metadata": {},
   "source": [
    "# confusion matrix"
   ]
  },
  {
   "cell_type": "code",
   "execution_count": 12,
   "metadata": {},
   "outputs": [
    {
     "name": "stdout",
     "output_type": "stream",
     "text": [
      "415/415 [==============================] - 6s 14ms/step\n"
     ]
    },
    {
     "data": {
      "text/plain": [
       "array([3, 1, 2, ..., 0, 3, 0], dtype=int64)"
      ]
     },
     "execution_count": 12,
     "metadata": {},
     "output_type": "execute_result"
    }
   ],
   "source": [
    "y_pred = model.predict(test_x)\n",
    "y_pred = np.argmax(y_pred, axis=1)\n",
    "y_pred"
   ]
  },
  {
   "cell_type": "code",
   "execution_count": 13,
   "metadata": {},
   "outputs": [
    {
     "name": "stdout",
     "output_type": "stream",
     "text": [
      "confusion matrix\n",
      "[[3189    7   13   19   16]\n",
      " [   8 3186    0    5    1]\n",
      " [   9    1 2972    7    3]\n",
      " [  32    6    0 2792    5]\n",
      " [  26    0    2   13  964]]\n",
      "\n",
      "classification report\n",
      "              precision    recall  f1-score   support\n",
      "\n",
      "           N     0.9770    0.9830    0.9800      3244\n",
      "           L     0.9956    0.9956    0.9956      3200\n",
      "           R     0.9950    0.9933    0.9941      2992\n",
      "           V     0.9845    0.9848    0.9847      2835\n",
      "           A     0.9747    0.9592    0.9669      1005\n",
      "\n",
      "    accuracy                         0.9870     13276\n",
      "   macro avg     0.9854    0.9832    0.9843     13276\n",
      "weighted avg     0.9870    0.9870    0.9870     13276\n",
      "\n"
     ]
    }
   ],
   "source": [
    "y_true = test[440]\n",
    "\n",
    "from sklearn.metrics import confusion_matrix, classification_report\n",
    "\n",
    "cm = confusion_matrix(y_true, y_pred)\n",
    "print('confusion matrix')\n",
    "print(cm)\n",
    "print('\\nclassification report')\n",
    "report = classification_report(y_true, y_pred, target_names=['N', 'L', 'R', 'V', 'A'], digits=4)\n",
    "print(report )\n",
    "\n",
    "def report_to_df(report):\n",
    "    report = [x.split(' ') for x in report.split('\\n')]\n",
    "    header = ['Class Name']+[x for x in report[0] if x!='']\n",
    "    values = []\n",
    "    for row in report[1:-5]:\n",
    "        row = [value for value in row if value!='']\n",
    "        if row!=[]:\n",
    "            values.append(row)\n",
    "    df = pd.DataFrame(data = values, columns = header)\n",
    "    return df\n",
    "report = report_to_df(report)\n",
    "\n",
    "# report.to_csv('classification report.csv', index=True)"
   ]
  }
 ],
 "metadata": {
  "kernelspec": {
   "display_name": "cenv1",
   "language": "python",
   "name": "python3"
  },
  "language_info": {
   "codemirror_mode": {
    "name": "ipython",
    "version": 3
   },
   "file_extension": ".py",
   "mimetype": "text/x-python",
   "name": "python",
   "nbconvert_exporter": "python",
   "pygments_lexer": "ipython3",
   "version": "3.10.9"
  },
  "orig_nbformat": 4
 },
 "nbformat": 4,
 "nbformat_minor": 2
}
