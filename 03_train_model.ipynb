{
 "cells": [
  {
   "attachments": {},
   "cell_type": "markdown",
   "metadata": {},
   "source": [
    "# Initialize"
   ]
  },
  {
   "cell_type": "code",
   "execution_count": 1,
   "metadata": {},
   "outputs": [],
   "source": [
    "import numpy as np\n",
    "import pandas as pd\n",
    "import matplotlib.pyplot as plt\n",
    "\n",
    "from keras.utils.np_utils import to_categorical\n",
    "from keras.models import Sequential\n",
    "from keras.layers import Conv1D, AvgPool1D, Flatten, Dense, Dropout, Softmax\n",
    "from keras import regularizers\n",
    "from keras.optimizers import Adam \n"
   ]
  },
  {
   "attachments": {},
   "cell_type": "markdown",
   "metadata": {},
   "source": [
    "# Load dataset"
   ]
  },
  {
   "cell_type": "code",
   "execution_count": 2,
   "metadata": {},
   "outputs": [
    {
     "name": "stdout",
     "output_type": "stream",
     "text": [
      "train_data :  (24680, 441)\n",
      "test_data  :  (6171, 441)\n"
     ]
    }
   ],
   "source": [
    "train = pd.read_csv('./data/0.8_train.csv', header=None)\n",
    "test = pd.read_csv('./data/0.2_test.csv', header=None)\n",
    "\n",
    "print(\"train_data : \", np.shape(train))\n",
    "print(\"test_data  : \", np.shape(test))"
   ]
  },
  {
   "cell_type": "code",
   "execution_count": 12,
   "metadata": {},
   "outputs": [
    {
     "name": "stdout",
     "output_type": "stream",
     "text": [
      "data train per class\n",
      "0.0    7998\n",
      "3.0    5579\n",
      "1.0    4775\n",
      "2.0    4308\n",
      "4.0    2020\n",
      "Name: 440, dtype: int64\n",
      "---------------------------------\n",
      "data test per class\n",
      "0.0    1953\n",
      "3.0    1413\n",
      "1.0    1173\n",
      "2.0    1118\n",
      "4.0     514\n",
      "Name: 440, dtype: int64\n"
     ]
    }
   ],
   "source": [
    "# 0.0 Normal beat\n",
    "# 1.0 LBBB beat\n",
    "# 2.0 RBBB beat\n",
    "# 3.0 PVC beat\n",
    "# 4.0 PAC beat\n",
    "\n",
    "print('data train per class')\n",
    "print(train[440].value_counts())\n",
    "print('---------------------------------')\n",
    "print('data test per class')\n",
    "print(test[440].value_counts())"
   ]
  },
  {
   "cell_type": "code",
   "execution_count": 3,
   "metadata": {},
   "outputs": [
    {
     "name": "stdout",
     "output_type": "stream",
     "text": [
      "(24680, 5) (6171, 5)\n"
     ]
    }
   ],
   "source": [
    "target_train=train[train.shape[1]-1]\n",
    "target_test=test[test.shape[1]-1]\n",
    "train_y=to_categorical(target_train)\n",
    "test_y=to_categorical(target_test)\n",
    "print(np.shape(train_y), np.shape(test_y))"
   ]
  },
  {
   "cell_type": "code",
   "execution_count": 4,
   "metadata": {},
   "outputs": [
    {
     "name": "stdout",
     "output_type": "stream",
     "text": [
      "(24680, 440, 1) (6171, 440, 1)\n"
     ]
    }
   ],
   "source": [
    "train_x = train.iloc[:,:train.shape[1]-1].values\n",
    "test_x = test.iloc[:,:test.shape[1]-1].values\n",
    "train_x = train_x.reshape(len(train_x), train_x.shape[1],1)\n",
    "test_x = test_x.reshape(len(test_x), test_x.shape[1],1)\n",
    "print(np.shape(train_x), np.shape(test_x))"
   ]
  },
  {
   "attachments": {},
   "cell_type": "markdown",
   "metadata": {},
   "source": [
    "# Model architecture"
   ]
  },
  {
   "cell_type": "code",
   "execution_count": 13,
   "metadata": {},
   "outputs": [
    {
     "name": "stdout",
     "output_type": "stream",
     "text": [
      "Model: \"sequential_1\"\n",
      "_________________________________________________________________\n",
      " Layer (type)                Output Shape              Param #   \n",
      "=================================================================\n",
      " conv1d_4 (Conv1D)           (None, 440, 16)           224       \n",
      "                                                                 \n",
      " average_pooling1d_4 (Averag  (None, 219, 16)          0         \n",
      " ePooling1D)                                                     \n",
      "                                                                 \n",
      " conv1d_5 (Conv1D)           (None, 219, 32)           7712      \n",
      "                                                                 \n",
      " average_pooling1d_5 (Averag  (None, 109, 32)          0         \n",
      " ePooling1D)                                                     \n",
      "                                                                 \n",
      " conv1d_6 (Conv1D)           (None, 109, 64)           34880     \n",
      "                                                                 \n",
      " average_pooling1d_6 (Averag  (None, 54, 64)           0         \n",
      " ePooling1D)                                                     \n",
      "                                                                 \n",
      " conv1d_7 (Conv1D)           (None, 54, 128)           155776    \n",
      "                                                                 \n",
      " average_pooling1d_7 (Averag  (None, 26, 128)          0         \n",
      " ePooling1D)                                                     \n",
      "                                                                 \n",
      " flatten_1 (Flatten)         (None, 3328)              0         \n",
      "                                                                 \n",
      " dropout_1 (Dropout)         (None, 3328)              0         \n",
      "                                                                 \n",
      " dense_2 (Dense)             (None, 35)                116515    \n",
      "                                                                 \n",
      " dense_3 (Dense)             (None, 5)                 180       \n",
      "                                                                 \n",
      " softmax_1 (Softmax)         (None, 5)                 0         \n",
      "                                                                 \n",
      "=================================================================\n",
      "Total params: 315,287\n",
      "Trainable params: 315,287\n",
      "Non-trainable params: 0\n",
      "_________________________________________________________________\n"
     ]
    }
   ],
   "source": [
    "# Instanciate an empty model\n",
    "model = Sequential()\n",
    "\n",
    "# Adding a Convolution Layer C1\n",
    "model.add(Conv1D(filters=16, kernel_size=13, padding='same', activation='relu',input_shape=(440, 1)))\n",
    "\n",
    "# Adding an Average Pooling Layer S2\n",
    "model.add(AvgPool1D(pool_size=3, strides=2))\n",
    "\n",
    "# Adding a Convolution Layer C3\n",
    "model.add(Conv1D(filters=32, kernel_size=15, padding='same', activation='relu'))\n",
    "\n",
    "# Adding an Average Pooling Layer S4\n",
    "model.add(AvgPool1D(pool_size=3, strides=2))\n",
    "\n",
    "# Adding a Convolution Layer C5\n",
    "model.add(Conv1D(filters=64, kernel_size=17, padding='same', activation='relu'))\n",
    "\n",
    "# Adding an Average Pooling Layer S6\n",
    "model.add(AvgPool1D(pool_size=3, strides=2))\n",
    "\n",
    "# Adding a Convolution Layer C7\n",
    "model.add(Conv1D(filters=128, kernel_size=19, padding='same', activation='relu'))\n",
    "\n",
    "# Adding an Average Pooling Layer S8\n",
    "model.add(AvgPool1D(pool_size=3, strides=2))\n",
    "\n",
    "# Flattening the layer \n",
    "model.add(Flatten())\n",
    "\n",
    "# Dropout the layer S9\n",
    "model.add(Dropout(0.5))\n",
    "\n",
    "# Adding a Dense layer with regularization l2(0.0001)# S10\n",
    "model.add(Dense(35,kernel_regularizer=regularizers.l2(0.0001), bias_regularizer=regularizers.l2(0.0001)))\n",
    "\n",
    "# Adding a Dense layer with regularization l2(0.0001)# S11\n",
    "model.add(Dense(5,kernel_regularizer=regularizers.l2(0.0001), bias_regularizer=regularizers.l2(0.0001)))\n",
    "\n",
    "# Adding a Softmax layer S12\n",
    "model.add(Softmax())\n",
    "\n",
    "model.summary()"
   ]
  },
  {
   "attachments": {},
   "cell_type": "markdown",
   "metadata": {},
   "source": [
    "# learning_rate 1e-3, batch_size 32, epoch 50"
   ]
  },
  {
   "cell_type": "code",
   "execution_count": 14,
   "metadata": {},
   "outputs": [],
   "source": [
    "model.compile(loss='categorical_crossentropy', optimizer=Adam(learning_rate=1e-3), metrics=['accuracy'])"
   ]
  },
  {
   "cell_type": "code",
   "execution_count": 15,
   "metadata": {},
   "outputs": [
    {
     "name": "stdout",
     "output_type": "stream",
     "text": [
      "Epoch 1/50\n",
      "772/772 [==============================] - 55s 70ms/step - loss: 0.3441 - accuracy: 0.8838 - val_loss: 0.1781 - val_accuracy: 0.9415\n",
      "Epoch 2/50\n",
      "772/772 [==============================] - 65s 85ms/step - loss: 0.1400 - accuracy: 0.9590 - val_loss: 0.1073 - val_accuracy: 0.9708\n",
      "Epoch 3/50\n",
      "772/772 [==============================] - 65s 84ms/step - loss: 0.1085 - accuracy: 0.9699 - val_loss: 0.1409 - val_accuracy: 0.9593\n",
      "Epoch 4/50\n",
      "772/772 [==============================] - 58s 75ms/step - loss: 0.0985 - accuracy: 0.9719 - val_loss: 0.0847 - val_accuracy: 0.9796\n",
      "Epoch 5/50\n",
      "772/772 [==============================] - 60s 78ms/step - loss: 0.0901 - accuracy: 0.9756 - val_loss: 0.0826 - val_accuracy: 0.9799\n",
      "Epoch 6/50\n",
      "772/772 [==============================] - 54s 70ms/step - loss: 0.0826 - accuracy: 0.9786 - val_loss: 0.0790 - val_accuracy: 0.9812\n",
      "Epoch 7/50\n",
      "772/772 [==============================] - 61s 79ms/step - loss: 0.0747 - accuracy: 0.9799 - val_loss: 0.0783 - val_accuracy: 0.9810\n",
      "Epoch 8/50\n",
      "772/772 [==============================] - 57s 74ms/step - loss: 0.0704 - accuracy: 0.9822 - val_loss: 0.0781 - val_accuracy: 0.9809\n",
      "Epoch 9/50\n",
      "772/772 [==============================] - 54s 70ms/step - loss: 0.0667 - accuracy: 0.9834 - val_loss: 0.0724 - val_accuracy: 0.9830\n",
      "Epoch 10/50\n",
      "772/772 [==============================] - 60s 78ms/step - loss: 0.0605 - accuracy: 0.9853 - val_loss: 0.0816 - val_accuracy: 0.9807\n",
      "Epoch 11/50\n",
      "772/772 [==============================] - 55s 71ms/step - loss: 0.0582 - accuracy: 0.9861 - val_loss: 0.0784 - val_accuracy: 0.9817\n",
      "Epoch 12/50\n",
      "772/772 [==============================] - 54s 69ms/step - loss: 0.0568 - accuracy: 0.9865 - val_loss: 0.0645 - val_accuracy: 0.9859\n",
      "Epoch 13/50\n",
      "772/772 [==============================] - 53s 69ms/step - loss: 0.0494 - accuracy: 0.9883 - val_loss: 0.0752 - val_accuracy: 0.9843\n",
      "Epoch 14/50\n",
      "772/772 [==============================] - 58s 75ms/step - loss: 0.0495 - accuracy: 0.9883 - val_loss: 0.0671 - val_accuracy: 0.9862\n",
      "Epoch 15/50\n",
      "772/772 [==============================] - 55s 72ms/step - loss: 0.0483 - accuracy: 0.9885 - val_loss: 0.0737 - val_accuracy: 0.9825\n",
      "Epoch 16/50\n",
      "772/772 [==============================] - 55s 71ms/step - loss: 0.0417 - accuracy: 0.9911 - val_loss: 0.0767 - val_accuracy: 0.9822\n",
      "Epoch 17/50\n",
      "772/772 [==============================] - 61s 79ms/step - loss: 0.0425 - accuracy: 0.9903 - val_loss: 0.0675 - val_accuracy: 0.9864\n",
      "Epoch 18/50\n",
      "772/772 [==============================] - 62s 81ms/step - loss: 0.0430 - accuracy: 0.9904 - val_loss: 0.0658 - val_accuracy: 0.9864\n",
      "Epoch 19/50\n",
      "772/772 [==============================] - 55s 72ms/step - loss: 0.0395 - accuracy: 0.9911 - val_loss: 0.0699 - val_accuracy: 0.9856\n",
      "Epoch 20/50\n",
      "772/772 [==============================] - 51s 67ms/step - loss: 0.0366 - accuracy: 0.9919 - val_loss: 0.0664 - val_accuracy: 0.9851\n",
      "Epoch 21/50\n",
      "772/772 [==============================] - 50s 65ms/step - loss: 0.0353 - accuracy: 0.9919 - val_loss: 0.0639 - val_accuracy: 0.9869\n",
      "Epoch 22/50\n",
      "772/772 [==============================] - 51s 66ms/step - loss: 0.0310 - accuracy: 0.9930 - val_loss: 0.0823 - val_accuracy: 0.9843\n",
      "Epoch 23/50\n",
      "772/772 [==============================] - 32s 42ms/step - loss: 0.0313 - accuracy: 0.9934 - val_loss: 0.0580 - val_accuracy: 0.9875\n",
      "Epoch 24/50\n",
      "772/772 [==============================] - 38s 49ms/step - loss: 0.0349 - accuracy: 0.9919 - val_loss: 0.0716 - val_accuracy: 0.9849\n",
      "Epoch 25/50\n",
      "772/772 [==============================] - 38s 49ms/step - loss: 0.0304 - accuracy: 0.9932 - val_loss: 0.0643 - val_accuracy: 0.9859\n",
      "Epoch 26/50\n",
      "772/772 [==============================] - 39s 51ms/step - loss: 0.0282 - accuracy: 0.9938 - val_loss: 0.0700 - val_accuracy: 0.9854\n",
      "Epoch 27/50\n",
      "772/772 [==============================] - 37s 48ms/step - loss: 0.0277 - accuracy: 0.9940 - val_loss: 0.0709 - val_accuracy: 0.9887\n",
      "Epoch 28/50\n",
      "772/772 [==============================] - 38s 49ms/step - loss: 0.0275 - accuracy: 0.9936 - val_loss: 0.0750 - val_accuracy: 0.9870\n",
      "Epoch 29/50\n",
      "772/772 [==============================] - 37s 47ms/step - loss: 0.0276 - accuracy: 0.9943 - val_loss: 0.0655 - val_accuracy: 0.9883\n",
      "Epoch 30/50\n",
      "772/772 [==============================] - 37s 48ms/step - loss: 0.0238 - accuracy: 0.9949 - val_loss: 0.0634 - val_accuracy: 0.9857\n",
      "Epoch 31/50\n",
      "772/772 [==============================] - 36s 47ms/step - loss: 0.0242 - accuracy: 0.9947 - val_loss: 0.0759 - val_accuracy: 0.9865\n",
      "Epoch 32/50\n",
      "772/772 [==============================] - 38s 49ms/step - loss: 0.0229 - accuracy: 0.9955 - val_loss: 0.0614 - val_accuracy: 0.9872\n",
      "Epoch 33/50\n",
      "772/772 [==============================] - 36s 46ms/step - loss: 0.0236 - accuracy: 0.9951 - val_loss: 0.0754 - val_accuracy: 0.9836\n",
      "Epoch 34/50\n",
      "772/772 [==============================] - 36s 47ms/step - loss: 0.0219 - accuracy: 0.9955 - val_loss: 0.1065 - val_accuracy: 0.9857\n",
      "Epoch 35/50\n",
      "772/772 [==============================] - 39s 51ms/step - loss: 0.0236 - accuracy: 0.9952 - val_loss: 0.0694 - val_accuracy: 0.9861\n",
      "Epoch 36/50\n",
      "772/772 [==============================] - 38s 50ms/step - loss: 0.0191 - accuracy: 0.9970 - val_loss: 0.0766 - val_accuracy: 0.9877\n",
      "Epoch 37/50\n",
      "772/772 [==============================] - 35s 45ms/step - loss: 0.0247 - accuracy: 0.9944 - val_loss: 0.0617 - val_accuracy: 0.9883\n",
      "Epoch 38/50\n",
      "772/772 [==============================] - 38s 49ms/step - loss: 0.0188 - accuracy: 0.9964 - val_loss: 0.0682 - val_accuracy: 0.9861\n",
      "Epoch 39/50\n",
      "772/772 [==============================] - 39s 50ms/step - loss: 0.0194 - accuracy: 0.9961 - val_loss: 0.0709 - val_accuracy: 0.9872\n",
      "Epoch 40/50\n",
      "772/772 [==============================] - 37s 48ms/step - loss: 0.0161 - accuracy: 0.9973 - val_loss: 0.0719 - val_accuracy: 0.9882\n",
      "Epoch 41/50\n",
      "772/772 [==============================] - 37s 48ms/step - loss: 0.0195 - accuracy: 0.9960 - val_loss: 0.0782 - val_accuracy: 0.9853\n",
      "Epoch 42/50\n",
      "772/772 [==============================] - 37s 48ms/step - loss: 0.0174 - accuracy: 0.9971 - val_loss: 0.0703 - val_accuracy: 0.9865\n",
      "Epoch 43/50\n",
      "772/772 [==============================] - 38s 50ms/step - loss: 0.0218 - accuracy: 0.9956 - val_loss: 0.0634 - val_accuracy: 0.9882\n",
      "Epoch 44/50\n",
      "772/772 [==============================] - 37s 48ms/step - loss: 0.0158 - accuracy: 0.9971 - val_loss: 0.0720 - val_accuracy: 0.9880\n",
      "Epoch 45/50\n",
      "772/772 [==============================] - 36s 46ms/step - loss: 0.0174 - accuracy: 0.9964 - val_loss: 0.0740 - val_accuracy: 0.9867\n",
      "Epoch 46/50\n",
      "772/772 [==============================] - 32s 42ms/step - loss: 0.0202 - accuracy: 0.9965 - val_loss: 0.0739 - val_accuracy: 0.9853\n",
      "Epoch 47/50\n",
      "772/772 [==============================] - 33s 42ms/step - loss: 0.0154 - accuracy: 0.9972 - val_loss: 0.0791 - val_accuracy: 0.9869\n",
      "Epoch 48/50\n",
      "772/772 [==============================] - 33s 43ms/step - loss: 0.0150 - accuracy: 0.9972 - val_loss: 0.0758 - val_accuracy: 0.9859\n",
      "Epoch 49/50\n",
      "772/772 [==============================] - 36s 47ms/step - loss: 0.0189 - accuracy: 0.9961 - val_loss: 0.1014 - val_accuracy: 0.9841\n",
      "Epoch 50/50\n",
      "772/772 [==============================] - 36s 46ms/step - loss: 0.0150 - accuracy: 0.9972 - val_loss: 0.0727 - val_accuracy: 0.9864\n"
     ]
    }
   ],
   "source": [
    "history = model.fit(train_x, train_y, batch_size=32, epochs=50, verbose=1, validation_data=(test_x, test_y))"
   ]
  },
  {
   "cell_type": "code",
   "execution_count": 16,
   "metadata": {},
   "outputs": [
    {
     "data": {
      "image/png": "[encoded data removed]",
      "text/plain": [
       "<Figure size 800x300 with 1 Axes>"
      ]
     },
     "metadata": {},
     "output_type": "display_data"
    },
    {
     "data": {
      "image/png": "[encoded data removed]",
      "text/plain": [
       "<Figure size 800x300 with 1 Axes>"
      ]
     },
     "metadata": {},
     "output_type": "display_data"
    }
   ],
   "source": [
    "# summarize history for loss\n",
    "plt.figure(figsize=(8,3))\n",
    "plt.plot(history.history['loss'])\n",
    "plt.plot(history.history['val_loss'])\n",
    "plt.title('model loss')\n",
    "plt.ylabel('loss')\n",
    "plt.xlabel('epoch')\n",
    "plt.legend(['train', 'test'], loc='best')\n",
    "plt.show()\n",
    "\n",
    "# summarize history for accuracy\n",
    "plt.figure(figsize=(8,3))\n",
    "plt.plot(history.history['accuracy'])\n",
    "plt.plot(history.history['val_accuracy'])\n",
    "plt.title('model accuracy')\n",
    "plt.ylabel('accuracy')\n",
    "plt.xlabel('epoch')\n",
    "plt.legend(['train', 'test'], loc='best')\n",
    "plt.show()"
   ]
  },
  {
   "cell_type": "code",
   "execution_count": 17,
   "metadata": {},
   "outputs": [
    {
     "name": "stdout",
     "output_type": "stream",
     "text": [
      "193/193 [==============================] - 2s 9ms/step - loss: 0.0727 - accuracy: 0.9864\n",
      "Test Loss: 0.07270989567041397\n",
      "Test accuracy: 0.9863879680633545\n"
     ]
    }
   ],
   "source": [
    "# finding the loss and acuracy of the model\n",
    "score = model.evaluate(test_x, test_y)\n",
    "\n",
    "print('Test Loss:', score[0])\n",
    "print('Test accuracy:', score[1])"
   ]
  },
  {
   "cell_type": "code",
   "execution_count": 18,
   "metadata": {},
   "outputs": [
    {
     "name": "stderr",
     "output_type": "stream",
     "text": [
      "WARNING:absl:Found untraced functions such as _jit_compiled_convolution_op, _jit_compiled_convolution_op, _jit_compiled_convolution_op, _jit_compiled_convolution_op while saving (showing 4 of 4). These functions will not be directly callable after loading.\n"
     ]
    },
    {
     "name": "stdout",
     "output_type": "stream",
     "text": [
      "INFO:tensorflow:Assets written to: CNN_model_1\\assets\n"
     ]
    },
    {
     "name": "stderr",
     "output_type": "stream",
     "text": [
      "INFO:tensorflow:Assets written to: CNN_model_1\\assets\n"
     ]
    }
   ],
   "source": [
    "# save model\n",
    "model.save('CNN_model_1')"
   ]
  },
  {
   "attachments": {},
   "cell_type": "markdown",
   "metadata": {},
   "source": [
    "# confusion matrix"
   ]
  },
  {
   "cell_type": "code",
   "execution_count": 19,
   "metadata": {},
   "outputs": [
    {
     "name": "stdout",
     "output_type": "stream",
     "text": [
      "193/193 [==============================] - 2s 9ms/step\n"
     ]
    },
    {
     "data": {
      "text/plain": [
       "array([1, 0, 4, ..., 2, 0, 2], dtype=int64)"
      ]
     },
     "execution_count": 19,
     "metadata": {},
     "output_type": "execute_result"
    }
   ],
   "source": [
    "y_pred = model.predict(test_x)\n",
    "y_pred = np.argmax(y_pred, axis=1)\n",
    "y_pred"
   ]
  },
  {
   "cell_type": "code",
   "execution_count": 21,
   "metadata": {},
   "outputs": [
    {
     "name": "stdout",
     "output_type": "stream",
     "text": [
      "[[1929    0    6    5   13]\n",
      " [   3 1168    0    2    0]\n",
      " [   5    0 1106    6    1]\n",
      " [   6    1    0 1403    3]\n",
      " [  21    0    2   10  481]]\n",
      "\n",
      "classification report\n",
      "\n",
      "              precision    recall  f1-score   support\n",
      "\n",
      "           N     0.9822    0.9877    0.9849      1953\n",
      "           L     0.9991    0.9957    0.9974      1173\n",
      "           R     0.9928    0.9893    0.9910      1118\n",
      "           V     0.9839    0.9929    0.9884      1413\n",
      "           A     0.9659    0.9358    0.9506       514\n",
      "\n",
      "    accuracy                         0.9864      6171\n",
      "   macro avg     0.9848    0.9803    0.9825      6171\n",
      "weighted avg     0.9864    0.9864    0.9863      6171\n",
      "\n"
     ]
    }
   ],
   "source": [
    "y_true = test[440]\n",
    "\n",
    "from sklearn.metrics import confusion_matrix, classification_report\n",
    "\n",
    "cm = confusion_matrix(y_true, y_pred)\n",
    "print(cm)\n",
    "print('\\nclassification report\\n')\n",
    "report = classification_report(y_true, y_pred, target_names=['N', 'L', 'R', 'V', 'A'], digits=4)\n",
    "print(report )\n",
    "\n",
    "def report_to_df(report):\n",
    "    report = [x.split(' ') for x in report.split('\\n')]\n",
    "    header = ['Class Name']+[x for x in report[0] if x!='']\n",
    "    values = []\n",
    "    for row in report[1:-5]:\n",
    "        row = [value for value in row if value!='']\n",
    "        if row!=[]:\n",
    "            values.append(row)\n",
    "    df = pd.DataFrame(data = values, columns = header)\n",
    "    return df\n",
    "report = report_to_df(report)\n",
    "\n",
    "# report.to_csv('classification report.csv', index=True)"
   ]
  }
 ],
 "metadata": {
  "kernelspec": {
   "display_name": "cenv1",
   "language": "python",
   "name": "python3"
  },
  "language_info": {
   "codemirror_mode": {
    "name": "ipython",
    "version": 3
   },
   "file_extension": ".py",
   "mimetype": "text/x-python",
   "name": "python",
   "nbconvert_exporter": "python",
   "pygments_lexer": "ipython3",
   "version": "3.10.9"
  },
  "orig_nbformat": 4
 },
 "nbformat": 4,
 "nbformat_minor": 2
}
