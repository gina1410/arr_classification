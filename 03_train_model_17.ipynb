{
 "cells": [
  {
   "attachments": {},
   "cell_type": "markdown",
   "metadata": {},
   "source": [
    "# Initialize"
   ]
  },
  {
   "cell_type": "code",
   "execution_count": 1,
   "metadata": {},
   "outputs": [],
   "source": [
    "import numpy as np\n",
    "import pandas as pd\n",
    "import matplotlib.pyplot as plt\n",
    "\n",
    "from keras.utils.np_utils import to_categorical\n",
    "from keras.models import Sequential\n",
    "from keras.layers import Conv1D, AvgPool1D, Flatten, Dense, Dropout, Softmax\n",
    "from keras import regularizers\n",
    "from keras.optimizers import Adam \n"
   ]
  },
  {
   "attachments": {},
   "cell_type": "markdown",
   "metadata": {},
   "source": [
    "# Load dataset"
   ]
  },
  {
   "cell_type": "code",
   "execution_count": 2,
   "metadata": {},
   "outputs": [
    {
     "name": "stdout",
     "output_type": "stream",
     "text": [
      "train_data :  (53102, 441)\n",
      "test_data  :  (13276, 441)\n"
     ]
    }
   ],
   "source": [
    "train = pd.read_csv('./data/0.8_train.csv', header=None)\n",
    "test = pd.read_csv('./data/0.2_test.csv', header=None)\n",
    "\n",
    "print(\"train_data : \", np.shape(train))\n",
    "print(\"test_data  : \", np.shape(test))"
   ]
  },
  {
   "cell_type": "code",
   "execution_count": 3,
   "metadata": {},
   "outputs": [
    {
     "name": "stdout",
     "output_type": "stream",
     "text": [
      "data train per class\n",
      "0.0    13152\n",
      "1.0    12938\n",
      "2.0    11508\n",
      "3.0    11421\n",
      "4.0     4083\n",
      "Name: 440, dtype: int64\n",
      "---------------------------------\n",
      "data test per class\n",
      "0.0    3244\n",
      "1.0    3200\n",
      "2.0    2992\n",
      "3.0    2835\n",
      "4.0    1005\n",
      "Name: 440, dtype: int64\n"
     ]
    }
   ],
   "source": [
    "# 0.0 Normal beat\n",
    "# 1.0 LBBB beat\n",
    "# 2.0 RBBB beat\n",
    "# 3.0 PVC beat\n",
    "# 4.0 PAC beat\n",
    "\n",
    "print('data train per class')\n",
    "print(train[440].value_counts())\n",
    "print('---------------------------------')\n",
    "print('data test per class')\n",
    "print(test[440].value_counts())"
   ]
  },
  {
   "cell_type": "code",
   "execution_count": 4,
   "metadata": {},
   "outputs": [
    {
     "name": "stdout",
     "output_type": "stream",
     "text": [
      "(53102, 5) (13276, 5)\n"
     ]
    }
   ],
   "source": [
    "target_train=train[train.shape[1]-1]\n",
    "target_test=test[test.shape[1]-1]\n",
    "train_y=to_categorical(target_train)\n",
    "test_y=to_categorical(target_test)\n",
    "print(np.shape(train_y), np.shape(test_y))"
   ]
  },
  {
   "cell_type": "code",
   "execution_count": 5,
   "metadata": {},
   "outputs": [
    {
     "name": "stdout",
     "output_type": "stream",
     "text": [
      "(53102, 440, 1) (13276, 440, 1)\n"
     ]
    }
   ],
   "source": [
    "train_x = train.iloc[:,:train.shape[1]-1].values\n",
    "test_x = test.iloc[:,:test.shape[1]-1].values\n",
    "train_x = train_x.reshape(len(train_x), train_x.shape[1],1)\n",
    "test_x = test_x.reshape(len(test_x), test_x.shape[1],1)\n",
    "print(np.shape(train_x), np.shape(test_x))"
   ]
  },
  {
   "attachments": {},
   "cell_type": "markdown",
   "metadata": {},
   "source": [
    "# Model architecture"
   ]
  },
  {
   "cell_type": "code",
   "execution_count": 6,
   "metadata": {},
   "outputs": [
    {
     "name": "stdout",
     "output_type": "stream",
     "text": [
      "Model: \"sequential\"\n",
      "_________________________________________________________________\n",
      " Layer (type)                Output Shape              Param #   \n",
      "=================================================================\n",
      " conv1d (Conv1D)             (None, 440, 16)           224       \n",
      "                                                                 \n",
      " average_pooling1d (AverageP  (None, 219, 16)          0         \n",
      " ooling1D)                                                       \n",
      "                                                                 \n",
      " conv1d_1 (Conv1D)           (None, 219, 32)           7712      \n",
      "                                                                 \n",
      " average_pooling1d_1 (Averag  (None, 109, 32)          0         \n",
      " ePooling1D)                                                     \n",
      "                                                                 \n",
      " conv1d_2 (Conv1D)           (None, 109, 64)           34880     \n",
      "                                                                 \n",
      " average_pooling1d_2 (Averag  (None, 54, 64)           0         \n",
      " ePooling1D)                                                     \n",
      "                                                                 \n",
      " conv1d_3 (Conv1D)           (None, 54, 128)           155776    \n",
      "                                                                 \n",
      " average_pooling1d_3 (Averag  (None, 26, 128)          0         \n",
      " ePooling1D)                                                     \n",
      "                                                                 \n",
      " flatten (Flatten)           (None, 3328)              0         \n",
      "                                                                 \n",
      " dropout (Dropout)           (None, 3328)              0         \n",
      "                                                                 \n",
      " dense (Dense)               (None, 35)                116515    \n",
      "                                                                 \n",
      " dense_1 (Dense)             (None, 5)                 180       \n",
      "                                                                 \n",
      " softmax (Softmax)           (None, 5)                 0         \n",
      "                                                                 \n",
      "=================================================================\n",
      "Total params: 315,287\n",
      "Trainable params: 315,287\n",
      "Non-trainable params: 0\n",
      "_________________________________________________________________\n"
     ]
    }
   ],
   "source": [
    "# Instanciate an empty model\n",
    "model = Sequential()\n",
    "\n",
    "model.add(Conv1D(filters=16, kernel_size=13, padding='same', activation='relu',input_shape=(440, 1)))\n",
    "model.add(AvgPool1D(pool_size=3, strides=2))\n",
    "model.add(Conv1D(filters=32, kernel_size=15, padding='same', activation='relu'))\n",
    "model.add(AvgPool1D(pool_size=3, strides=2))\n",
    "model.add(Conv1D(filters=64, kernel_size=17, padding='same', activation='relu'))\n",
    "model.add(AvgPool1D(pool_size=3, strides=2))\n",
    "model.add(Conv1D(filters=128, kernel_size=19, padding='same', activation='relu'))\n",
    "model.add(AvgPool1D(pool_size=3, strides=2))\n",
    "model.add(Flatten())\n",
    "model.add(Dropout(0.5))\n",
    "model.add(Dense(35,kernel_regularizer=regularizers.l2(0.0001), bias_regularizer=regularizers.l2(0.0001)))\n",
    "model.add(Dense(5,kernel_regularizer=regularizers.l2(0.0001), bias_regularizer=regularizers.l2(0.0001)))\n",
    "model.add(Softmax())\n",
    "\n",
    "model.summary()"
   ]
  },
  {
   "attachments": {},
   "cell_type": "markdown",
   "metadata": {},
   "source": [
    "# learning_rate 0.0015, batch_size 128, epoch 75"
   ]
  },
  {
   "cell_type": "code",
   "execution_count": 7,
   "metadata": {},
   "outputs": [],
   "source": [
    "model.compile(loss='categorical_crossentropy', optimizer=Adam(learning_rate=0.0015), metrics=['accuracy'])"
   ]
  },
  {
   "cell_type": "code",
   "execution_count": 8,
   "metadata": {},
   "outputs": [
    {
     "name": "stdout",
     "output_type": "stream",
     "text": [
      "Epoch 1/75\n",
      "415/415 [==============================] - 89s 210ms/step - loss: 0.4366 - accuracy: 0.8456 - val_loss: 0.1875 - val_accuracy: 0.9446\n",
      "Epoch 2/75\n",
      "415/415 [==============================] - 78s 188ms/step - loss: 0.1683 - accuracy: 0.9505 - val_loss: 0.1227 - val_accuracy: 0.9669\n",
      "Epoch 3/75\n",
      "415/415 [==============================] - 77s 187ms/step - loss: 0.1261 - accuracy: 0.9643 - val_loss: 0.1022 - val_accuracy: 0.9729\n",
      "Epoch 4/75\n",
      "415/415 [==============================] - 78s 187ms/step - loss: 0.1079 - accuracy: 0.9706 - val_loss: 0.0948 - val_accuracy: 0.9762\n",
      "Epoch 5/75\n",
      "415/415 [==============================] - 77s 185ms/step - loss: 0.0946 - accuracy: 0.9746 - val_loss: 0.0826 - val_accuracy: 0.9804\n",
      "Epoch 6/75\n",
      "415/415 [==============================] - 78s 187ms/step - loss: 0.0866 - accuracy: 0.9776 - val_loss: 0.0890 - val_accuracy: 0.9783\n",
      "Epoch 7/75\n",
      "415/415 [==============================] - 76s 184ms/step - loss: 0.0806 - accuracy: 0.9791 - val_loss: 0.0883 - val_accuracy: 0.9770\n",
      "Epoch 8/75\n",
      "415/415 [==============================] - 76s 183ms/step - loss: 0.0749 - accuracy: 0.9804 - val_loss: 0.0755 - val_accuracy: 0.9819\n",
      "Epoch 9/75\n",
      "415/415 [==============================] - 76s 183ms/step - loss: 0.0705 - accuracy: 0.9815 - val_loss: 0.0742 - val_accuracy: 0.9835\n",
      "Epoch 10/75\n",
      "415/415 [==============================] - 76s 184ms/step - loss: 0.0681 - accuracy: 0.9830 - val_loss: 0.0804 - val_accuracy: 0.9811\n",
      "Epoch 11/75\n",
      "415/415 [==============================] - 77s 185ms/step - loss: 0.0636 - accuracy: 0.9845 - val_loss: 0.0703 - val_accuracy: 0.9846\n",
      "Epoch 12/75\n",
      "415/415 [==============================] - 76s 182ms/step - loss: 0.0617 - accuracy: 0.9847 - val_loss: 0.0682 - val_accuracy: 0.9858\n",
      "Epoch 13/75\n",
      "415/415 [==============================] - 77s 185ms/step - loss: 0.0556 - accuracy: 0.9869 - val_loss: 0.0721 - val_accuracy: 0.9843\n",
      "Epoch 14/75\n",
      "415/415 [==============================] - 77s 186ms/step - loss: 0.0569 - accuracy: 0.9861 - val_loss: 0.0822 - val_accuracy: 0.9823\n",
      "Epoch 15/75\n",
      "415/415 [==============================] - 77s 186ms/step - loss: 0.0559 - accuracy: 0.9871 - val_loss: 0.0714 - val_accuracy: 0.9849\n",
      "Epoch 16/75\n",
      "415/415 [==============================] - 75s 180ms/step - loss: 0.0493 - accuracy: 0.9886 - val_loss: 0.0718 - val_accuracy: 0.9844\n",
      "Epoch 17/75\n",
      "415/415 [==============================] - 74s 179ms/step - loss: 0.0487 - accuracy: 0.9887 - val_loss: 0.0631 - val_accuracy: 0.9864\n",
      "Epoch 18/75\n",
      "415/415 [==============================] - 76s 182ms/step - loss: 0.0458 - accuracy: 0.9895 - val_loss: 0.0697 - val_accuracy: 0.9862\n",
      "Epoch 19/75\n",
      "415/415 [==============================] - 61s 147ms/step - loss: 0.0455 - accuracy: 0.9900 - val_loss: 0.0686 - val_accuracy: 0.9855\n",
      "Epoch 20/75\n",
      "415/415 [==============================] - 62s 151ms/step - loss: 0.0419 - accuracy: 0.9905 - val_loss: 0.0670 - val_accuracy: 0.9861\n",
      "Epoch 21/75\n",
      "415/415 [==============================] - 60s 144ms/step - loss: 0.0410 - accuracy: 0.9906 - val_loss: 0.0678 - val_accuracy: 0.9855\n",
      "Epoch 22/75\n",
      "415/415 [==============================] - 59s 142ms/step - loss: 0.0411 - accuracy: 0.9907 - val_loss: 0.0689 - val_accuracy: 0.9868\n",
      "Epoch 23/75\n",
      "415/415 [==============================] - 58s 141ms/step - loss: 0.0375 - accuracy: 0.9921 - val_loss: 0.0623 - val_accuracy: 0.9867\n",
      "Epoch 24/75\n",
      "415/415 [==============================] - 59s 143ms/step - loss: 0.0367 - accuracy: 0.9921 - val_loss: 0.0681 - val_accuracy: 0.9864\n",
      "Epoch 25/75\n",
      "415/415 [==============================] - 62s 149ms/step - loss: 0.0344 - accuracy: 0.9925 - val_loss: 0.0646 - val_accuracy: 0.9879\n",
      "Epoch 26/75\n",
      "415/415 [==============================] - 62s 150ms/step - loss: 0.0352 - accuracy: 0.9920 - val_loss: 0.0721 - val_accuracy: 0.9849\n",
      "Epoch 27/75\n",
      "415/415 [==============================] - 59s 142ms/step - loss: 0.0351 - accuracy: 0.9923 - val_loss: 0.0643 - val_accuracy: 0.9873\n",
      "Epoch 28/75\n",
      "415/415 [==============================] - 59s 142ms/step - loss: 0.0311 - accuracy: 0.9937 - val_loss: 0.0670 - val_accuracy: 0.9880\n",
      "Epoch 29/75\n",
      "415/415 [==============================] - 59s 143ms/step - loss: 0.0317 - accuracy: 0.9932 - val_loss: 0.0661 - val_accuracy: 0.9879\n",
      "Epoch 30/75\n",
      "415/415 [==============================] - 63s 151ms/step - loss: 0.0327 - accuracy: 0.9927 - val_loss: 0.0622 - val_accuracy: 0.9857\n",
      "Epoch 31/75\n",
      "415/415 [==============================] - 62s 149ms/step - loss: 0.0306 - accuracy: 0.9938 - val_loss: 0.0660 - val_accuracy: 0.9865\n",
      "Epoch 32/75\n",
      "415/415 [==============================] - 59s 142ms/step - loss: 0.0282 - accuracy: 0.9941 - val_loss: 0.0618 - val_accuracy: 0.9886\n",
      "Epoch 33/75\n",
      "415/415 [==============================] - 59s 142ms/step - loss: 0.0281 - accuracy: 0.9945 - val_loss: 0.0644 - val_accuracy: 0.9873\n",
      "Epoch 34/75\n",
      "415/415 [==============================] - 60s 145ms/step - loss: 0.0272 - accuracy: 0.9944 - val_loss: 0.0651 - val_accuracy: 0.9879\n",
      "Epoch 35/75\n",
      "415/415 [==============================] - 64s 155ms/step - loss: 0.0262 - accuracy: 0.9948 - val_loss: 0.0805 - val_accuracy: 0.9851\n",
      "Epoch 36/75\n",
      "415/415 [==============================] - 61s 146ms/step - loss: 0.0260 - accuracy: 0.9945 - val_loss: 0.0707 - val_accuracy: 0.9868\n",
      "Epoch 37/75\n",
      "415/415 [==============================] - 59s 143ms/step - loss: 0.0261 - accuracy: 0.9947 - val_loss: 0.0608 - val_accuracy: 0.9889\n",
      "Epoch 38/75\n",
      "415/415 [==============================] - 62s 149ms/step - loss: 0.0260 - accuracy: 0.9951 - val_loss: 0.0683 - val_accuracy: 0.9877\n",
      "Epoch 39/75\n",
      "415/415 [==============================] - 63s 151ms/step - loss: 0.0234 - accuracy: 0.9959 - val_loss: 0.0612 - val_accuracy: 0.9887\n",
      "Epoch 40/75\n",
      "415/415 [==============================] - 59s 141ms/step - loss: 0.0228 - accuracy: 0.9955 - val_loss: 0.0652 - val_accuracy: 0.9881\n",
      "Epoch 41/75\n",
      "415/415 [==============================] - 60s 144ms/step - loss: 0.0233 - accuracy: 0.9956 - val_loss: 0.0634 - val_accuracy: 0.9892\n",
      "Epoch 42/75\n",
      "415/415 [==============================] - 59s 143ms/step - loss: 0.0213 - accuracy: 0.9958 - val_loss: 0.0700 - val_accuracy: 0.9881\n",
      "Epoch 43/75\n",
      "415/415 [==============================] - 60s 144ms/step - loss: 0.0232 - accuracy: 0.9953 - val_loss: 0.0656 - val_accuracy: 0.9886\n",
      "Epoch 44/75\n",
      "415/415 [==============================] - 56s 135ms/step - loss: 0.0230 - accuracy: 0.9955 - val_loss: 0.0687 - val_accuracy: 0.9882\n",
      "Epoch 45/75\n",
      "415/415 [==============================] - 58s 141ms/step - loss: 0.0220 - accuracy: 0.9959 - val_loss: 0.0728 - val_accuracy: 0.9878\n",
      "Epoch 46/75\n",
      "415/415 [==============================] - 58s 141ms/step - loss: 0.0209 - accuracy: 0.9960 - val_loss: 0.0698 - val_accuracy: 0.9875\n",
      "Epoch 47/75\n",
      "415/415 [==============================] - 62s 150ms/step - loss: 0.0196 - accuracy: 0.9960 - val_loss: 0.0676 - val_accuracy: 0.9885\n",
      "Epoch 48/75\n",
      "415/415 [==============================] - 61s 147ms/step - loss: 0.0196 - accuracy: 0.9962 - val_loss: 0.0647 - val_accuracy: 0.9892\n",
      "Epoch 49/75\n",
      "415/415 [==============================] - 56s 136ms/step - loss: 0.0213 - accuracy: 0.9960 - val_loss: 0.0660 - val_accuracy: 0.9874\n",
      "Epoch 50/75\n",
      "415/415 [==============================] - 60s 144ms/step - loss: 0.0214 - accuracy: 0.9962 - val_loss: 0.0666 - val_accuracy: 0.9887\n",
      "Epoch 51/75\n",
      "415/415 [==============================] - 57s 137ms/step - loss: 0.0189 - accuracy: 0.9965 - val_loss: 0.0642 - val_accuracy: 0.9889\n",
      "Epoch 52/75\n",
      "415/415 [==============================] - 56s 135ms/step - loss: 0.0173 - accuracy: 0.9970 - val_loss: 0.0688 - val_accuracy: 0.9885\n",
      "Epoch 53/75\n",
      "415/415 [==============================] - 56s 135ms/step - loss: 0.0213 - accuracy: 0.9958 - val_loss: 0.0628 - val_accuracy: 0.9892\n",
      "Epoch 54/75\n",
      "415/415 [==============================] - 56s 134ms/step - loss: 0.0201 - accuracy: 0.9962 - val_loss: 0.0699 - val_accuracy: 0.9881\n",
      "Epoch 55/75\n",
      "415/415 [==============================] - 61s 147ms/step - loss: 0.0185 - accuracy: 0.9964 - val_loss: 0.0652 - val_accuracy: 0.9888\n",
      "Epoch 56/75\n",
      "415/415 [==============================] - 57s 136ms/step - loss: 0.0174 - accuracy: 0.9970 - val_loss: 0.0763 - val_accuracy: 0.9889\n",
      "Epoch 57/75\n",
      "415/415 [==============================] - 56s 136ms/step - loss: 0.0180 - accuracy: 0.9967 - val_loss: 0.0697 - val_accuracy: 0.9880\n",
      "Epoch 58/75\n",
      "415/415 [==============================] - 55s 134ms/step - loss: 0.0189 - accuracy: 0.9965 - val_loss: 0.0677 - val_accuracy: 0.9889\n",
      "Epoch 59/75\n",
      "415/415 [==============================] - 56s 134ms/step - loss: 0.0173 - accuracy: 0.9970 - val_loss: 0.0691 - val_accuracy: 0.9897\n",
      "Epoch 60/75\n",
      "415/415 [==============================] - 59s 143ms/step - loss: 0.0189 - accuracy: 0.9966 - val_loss: 0.0700 - val_accuracy: 0.9879\n",
      "Epoch 61/75\n",
      "415/415 [==============================] - 60s 145ms/step - loss: 0.0177 - accuracy: 0.9965 - val_loss: 0.0626 - val_accuracy: 0.9894\n",
      "Epoch 62/75\n",
      "415/415 [==============================] - 56s 135ms/step - loss: 0.0173 - accuracy: 0.9968 - val_loss: 0.0771 - val_accuracy: 0.9870\n",
      "Epoch 63/75\n",
      "415/415 [==============================] - 56s 134ms/step - loss: 0.0187 - accuracy: 0.9966 - val_loss: 0.0686 - val_accuracy: 0.9879\n",
      "Epoch 64/75\n",
      "415/415 [==============================] - 55s 134ms/step - loss: 0.0154 - accuracy: 0.9976 - val_loss: 0.0775 - val_accuracy: 0.9875\n",
      "Epoch 65/75\n",
      "415/415 [==============================] - 56s 134ms/step - loss: 0.0183 - accuracy: 0.9966 - val_loss: 0.0747 - val_accuracy: 0.9885\n",
      "Epoch 66/75\n",
      "415/415 [==============================] - 55s 133ms/step - loss: 0.0163 - accuracy: 0.9970 - val_loss: 0.0746 - val_accuracy: 0.9873\n",
      "Epoch 67/75\n",
      "415/415 [==============================] - 55s 133ms/step - loss: 0.0172 - accuracy: 0.9972 - val_loss: 0.0715 - val_accuracy: 0.9881\n",
      "Epoch 68/75\n",
      "415/415 [==============================] - 56s 134ms/step - loss: 0.0147 - accuracy: 0.9978 - val_loss: 0.0671 - val_accuracy: 0.9887\n",
      "Epoch 69/75\n",
      "415/415 [==============================] - 55s 134ms/step - loss: 0.0165 - accuracy: 0.9973 - val_loss: 0.0727 - val_accuracy: 0.9881\n",
      "Epoch 70/75\n",
      "415/415 [==============================] - 56s 135ms/step - loss: 0.0183 - accuracy: 0.9965 - val_loss: 0.0721 - val_accuracy: 0.9882\n",
      "Epoch 71/75\n",
      "415/415 [==============================] - 55s 133ms/step - loss: 0.0157 - accuracy: 0.9975 - val_loss: 0.0901 - val_accuracy: 0.9875\n",
      "Epoch 72/75\n",
      "415/415 [==============================] - 55s 132ms/step - loss: 0.0162 - accuracy: 0.9975 - val_loss: 0.0813 - val_accuracy: 0.9883\n",
      "Epoch 73/75\n",
      "415/415 [==============================] - 56s 136ms/step - loss: 0.0172 - accuracy: 0.9970 - val_loss: 0.0712 - val_accuracy: 0.9880\n",
      "Epoch 74/75\n",
      "415/415 [==============================] - 56s 135ms/step - loss: 0.0147 - accuracy: 0.9977 - val_loss: 0.0741 - val_accuracy: 0.9892\n",
      "Epoch 75/75\n",
      "415/415 [==============================] - 59s 142ms/step - loss: 0.0161 - accuracy: 0.9973 - val_loss: 0.0699 - val_accuracy: 0.9889\n"
     ]
    }
   ],
   "source": [
    "history = model.fit(train_x, train_y, batch_size=128, epochs=75, verbose=1, validation_data=(test_x, test_y))"
   ]
  },
  {
   "cell_type": "code",
   "execution_count": 9,
   "metadata": {},
   "outputs": [
    {
     "data": {
      "image/png": "[encoded data removed]",
      "text/plain": [
       "<Figure size 800x300 with 1 Axes>"
      ]
     },
     "metadata": {},
     "output_type": "display_data"
    },
    {
     "data": {
      "image/png": "[encoded data removed]",
      "text/plain": [
       "<Figure size 800x300 with 1 Axes>"
      ]
     },
     "metadata": {},
     "output_type": "display_data"
    }
   ],
   "source": [
    "# summarize history for loss\n",
    "plt.figure(figsize=(8,3))\n",
    "plt.plot(history.history['loss'])\n",
    "plt.plot(history.history['val_loss'])\n",
    "plt.title('model loss')\n",
    "plt.ylabel('loss')\n",
    "plt.xlabel('epoch')\n",
    "plt.legend(['train', 'test'], loc='best')\n",
    "plt.show()\n",
    "\n",
    "# summarize history for accuracy\n",
    "plt.figure(figsize=(8,3))\n",
    "plt.plot(history.history['accuracy'])\n",
    "plt.plot(history.history['val_accuracy'])\n",
    "plt.title('model accuracy')\n",
    "plt.ylabel('accuracy')\n",
    "plt.xlabel('epoch')\n",
    "plt.legend(['train', 'test'], loc='best')\n",
    "plt.show()"
   ]
  },
  {
   "cell_type": "code",
   "execution_count": 10,
   "metadata": {},
   "outputs": [
    {
     "name": "stdout",
     "output_type": "stream",
     "text": [
      "415/415 [==============================] - 4s 9ms/step - loss: 0.0699 - accuracy: 0.9889\n",
      "Test Loss: 0.0698743686079979\n",
      "Test accuracy: 0.9888520836830139\n"
     ]
    }
   ],
   "source": [
    "# finding the loss and acuracy of the model\n",
    "score = model.evaluate(test_x, test_y)\n",
    "\n",
    "print('Test Loss:', score[0])\n",
    "print('Test accuracy:', score[1])"
   ]
  },
  {
   "cell_type": "code",
   "execution_count": 11,
   "metadata": {},
   "outputs": [
    {
     "name": "stderr",
     "output_type": "stream",
     "text": [
      "WARNING:absl:Found untraced functions such as _jit_compiled_convolution_op, _jit_compiled_convolution_op, _jit_compiled_convolution_op, _jit_compiled_convolution_op while saving (showing 4 of 4). These functions will not be directly callable after loading.\n"
     ]
    },
    {
     "name": "stdout",
     "output_type": "stream",
     "text": [
      "INFO:tensorflow:Assets written to: CNN_model_17\\assets\n"
     ]
    },
    {
     "name": "stderr",
     "output_type": "stream",
     "text": [
      "INFO:tensorflow:Assets written to: CNN_model_17\\assets\n"
     ]
    }
   ],
   "source": [
    "# save model\n",
    "model.save('CNN_model_17')"
   ]
  },
  {
   "attachments": {},
   "cell_type": "markdown",
   "metadata": {},
   "source": [
    "# confusion matrix"
   ]
  },
  {
   "cell_type": "code",
   "execution_count": 12,
   "metadata": {},
   "outputs": [
    {
     "name": "stdout",
     "output_type": "stream",
     "text": [
      "415/415 [==============================] - 4s 9ms/step\n"
     ]
    },
    {
     "data": {
      "text/plain": [
       "array([3, 1, 2, ..., 0, 3, 0], dtype=int64)"
      ]
     },
     "execution_count": 12,
     "metadata": {},
     "output_type": "execute_result"
    }
   ],
   "source": [
    "y_pred = model.predict(test_x)\n",
    "y_pred = np.argmax(y_pred, axis=1)\n",
    "y_pred"
   ]
  },
  {
   "cell_type": "code",
   "execution_count": 13,
   "metadata": {},
   "outputs": [
    {
     "name": "stdout",
     "output_type": "stream",
     "text": [
      "confusion matrix\n",
      "[[3194    5   13   14   18]\n",
      " [   6 3188    0    5    1]\n",
      " [   7    3 2976    4    2]\n",
      " [  27    5    0 2796    7]\n",
      " [  21    0    2    8  974]]\n",
      "\n",
      "classification report\n",
      "              precision    recall  f1-score   support\n",
      "\n",
      "           N     0.9813    0.9846    0.9829      3244\n",
      "           L     0.9959    0.9962    0.9961      3200\n",
      "           R     0.9950    0.9947    0.9948      2992\n",
      "           V     0.9890    0.9862    0.9876      2835\n",
      "           A     0.9721    0.9692    0.9706      1005\n",
      "\n",
      "    accuracy                         0.9889     13276\n",
      "   macro avg     0.9867    0.9862    0.9864     13276\n",
      "weighted avg     0.9889    0.9889    0.9889     13276\n",
      "\n"
     ]
    }
   ],
   "source": [
    "y_true = test[440]\n",
    "\n",
    "from sklearn.metrics import confusion_matrix, classification_report\n",
    "\n",
    "cm = confusion_matrix(y_true, y_pred)\n",
    "print('confusion matrix')\n",
    "print(cm)\n",
    "print('\\nclassification report')\n",
    "report = classification_report(y_true, y_pred, target_names=['N', 'L', 'R', 'V', 'A'], digits=4)\n",
    "print(report )\n",
    "\n",
    "def report_to_df(report):\n",
    "    report = [x.split(' ') for x in report.split('\\n')]\n",
    "    header = ['Class Name']+[x for x in report[0] if x!='']\n",
    "    values = []\n",
    "    for row in report[1:-5]:\n",
    "        row = [value for value in row if value!='']\n",
    "        if row!=[]:\n",
    "            values.append(row)\n",
    "    df = pd.DataFrame(data = values, columns = header)\n",
    "    return df\n",
    "report = report_to_df(report)\n",
    "\n",
    "# report.to_csv('classification report.csv', index=True)"
   ]
  }
 ],
 "metadata": {
  "kernelspec": {
   "display_name": "cenv1",
   "language": "python",
   "name": "python3"
  },
  "language_info": {
   "codemirror_mode": {
    "name": "ipython",
    "version": 3
   },
   "file_extension": ".py",
   "mimetype": "text/x-python",
   "name": "python",
   "nbconvert_exporter": "python",
   "pygments_lexer": "ipython3",
   "version": "3.10.9"
  },
  "orig_nbformat": 4
 },
 "nbformat": 4,
 "nbformat_minor": 2
}
