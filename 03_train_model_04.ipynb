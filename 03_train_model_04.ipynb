{
 "cells": [
  {
   "attachments": {},
   "cell_type": "markdown",
   "metadata": {},
   "source": [
    "# Initialize"
   ]
  },
  {
   "cell_type": "code",
   "execution_count": 1,
   "metadata": {},
   "outputs": [],
   "source": [
    "import numpy as np\n",
    "import pandas as pd\n",
    "import matplotlib.pyplot as plt\n",
    "\n",
    "from keras.utils.np_utils import to_categorical\n",
    "from keras.models import Sequential\n",
    "from keras.layers import Conv1D, AvgPool1D, Flatten, Dense, Dropout, Softmax\n",
    "from keras import regularizers\n",
    "from keras.optimizers import Adam \n"
   ]
  },
  {
   "attachments": {},
   "cell_type": "markdown",
   "metadata": {},
   "source": [
    "# Load dataset"
   ]
  },
  {
   "cell_type": "code",
   "execution_count": 2,
   "metadata": {},
   "outputs": [
    {
     "name": "stdout",
     "output_type": "stream",
     "text": [
      "train_data :  (53102, 441)\n",
      "test_data  :  (13276, 441)\n"
     ]
    }
   ],
   "source": [
    "train = pd.read_csv('./data/0.8_train.csv', header=None)\n",
    "test = pd.read_csv('./data/0.2_test.csv', header=None)\n",
    "\n",
    "print(\"train_data : \", np.shape(train))\n",
    "print(\"test_data  : \", np.shape(test))"
   ]
  },
  {
   "cell_type": "code",
   "execution_count": 3,
   "metadata": {},
   "outputs": [
    {
     "name": "stdout",
     "output_type": "stream",
     "text": [
      "data train per class\n",
      "0.0    13152\n",
      "1.0    12938\n",
      "2.0    11508\n",
      "3.0    11421\n",
      "4.0     4083\n",
      "Name: 440, dtype: int64\n",
      "---------------------------------\n",
      "data test per class\n",
      "0.0    3244\n",
      "1.0    3200\n",
      "2.0    2992\n",
      "3.0    2835\n",
      "4.0    1005\n",
      "Name: 440, dtype: int64\n"
     ]
    }
   ],
   "source": [
    "# 0.0 Normal beat\n",
    "# 1.0 LBBB beat\n",
    "# 2.0 RBBB beat\n",
    "# 3.0 PVC beat\n",
    "# 4.0 PAC beat\n",
    "\n",
    "print('data train per class')\n",
    "print(train[440].value_counts())\n",
    "print('---------------------------------')\n",
    "print('data test per class')\n",
    "print(test[440].value_counts())"
   ]
  },
  {
   "cell_type": "code",
   "execution_count": 4,
   "metadata": {},
   "outputs": [
    {
     "name": "stdout",
     "output_type": "stream",
     "text": [
      "(53102, 5) (13276, 5)\n"
     ]
    }
   ],
   "source": [
    "target_train=train[train.shape[1]-1]\n",
    "target_test=test[test.shape[1]-1]\n",
    "train_y=to_categorical(target_train)\n",
    "test_y=to_categorical(target_test)\n",
    "print(np.shape(train_y), np.shape(test_y))"
   ]
  },
  {
   "cell_type": "code",
   "execution_count": 5,
   "metadata": {},
   "outputs": [
    {
     "name": "stdout",
     "output_type": "stream",
     "text": [
      "(53102, 440, 1) (13276, 440, 1)\n"
     ]
    }
   ],
   "source": [
    "train_x = train.iloc[:,:train.shape[1]-1].values\n",
    "test_x = test.iloc[:,:test.shape[1]-1].values\n",
    "train_x = train_x.reshape(len(train_x), train_x.shape[1],1)\n",
    "test_x = test_x.reshape(len(test_x), test_x.shape[1],1)\n",
    "print(np.shape(train_x), np.shape(test_x))"
   ]
  },
  {
   "attachments": {},
   "cell_type": "markdown",
   "metadata": {},
   "source": [
    "# Model architecture"
   ]
  },
  {
   "cell_type": "code",
   "execution_count": 6,
   "metadata": {},
   "outputs": [
    {
     "name": "stdout",
     "output_type": "stream",
     "text": [
      "Model: \"sequential\"\n",
      "_________________________________________________________________\n",
      " Layer (type)                Output Shape              Param #   \n",
      "=================================================================\n",
      " conv1d (Conv1D)             (None, 440, 16)           224       \n",
      "                                                                 \n",
      " average_pooling1d (AverageP  (None, 219, 16)          0         \n",
      " ooling1D)                                                       \n",
      "                                                                 \n",
      " conv1d_1 (Conv1D)           (None, 219, 32)           7712      \n",
      "                                                                 \n",
      " average_pooling1d_1 (Averag  (None, 109, 32)          0         \n",
      " ePooling1D)                                                     \n",
      "                                                                 \n",
      " conv1d_2 (Conv1D)           (None, 109, 64)           34880     \n",
      "                                                                 \n",
      " average_pooling1d_2 (Averag  (None, 54, 64)           0         \n",
      " ePooling1D)                                                     \n",
      "                                                                 \n",
      " conv1d_3 (Conv1D)           (None, 54, 128)           155776    \n",
      "                                                                 \n",
      " average_pooling1d_3 (Averag  (None, 26, 128)          0         \n",
      " ePooling1D)                                                     \n",
      "                                                                 \n",
      " flatten (Flatten)           (None, 3328)              0         \n",
      "                                                                 \n",
      " dropout (Dropout)           (None, 3328)              0         \n",
      "                                                                 \n",
      " dense (Dense)               (None, 35)                116515    \n",
      "                                                                 \n",
      " dense_1 (Dense)             (None, 5)                 180       \n",
      "                                                                 \n",
      " softmax (Softmax)           (None, 5)                 0         \n",
      "                                                                 \n",
      "=================================================================\n",
      "Total params: 315,287\n",
      "Trainable params: 315,287\n",
      "Non-trainable params: 0\n",
      "_________________________________________________________________\n"
     ]
    }
   ],
   "source": [
    "# Instanciate an empty model\n",
    "model = Sequential()\n",
    "\n",
    "model.add(Conv1D(filters=16, kernel_size=13, padding='same', activation='relu',input_shape=(440, 1)))\n",
    "model.add(AvgPool1D(pool_size=3, strides=2))\n",
    "model.add(Conv1D(filters=32, kernel_size=15, padding='same', activation='relu'))\n",
    "model.add(AvgPool1D(pool_size=3, strides=2))\n",
    "model.add(Conv1D(filters=64, kernel_size=17, padding='same', activation='relu'))\n",
    "model.add(AvgPool1D(pool_size=3, strides=2))\n",
    "model.add(Conv1D(filters=128, kernel_size=19, padding='same', activation='relu'))\n",
    "model.add(AvgPool1D(pool_size=3, strides=2))\n",
    "model.add(Flatten())\n",
    "model.add(Dropout(0.5))\n",
    "model.add(Dense(35,kernel_regularizer=regularizers.l2(0.0001), bias_regularizer=regularizers.l2(0.0001)))\n",
    "model.add(Dense(5,kernel_regularizer=regularizers.l2(0.0001), bias_regularizer=regularizers.l2(0.0001)))\n",
    "model.add(Softmax())\n",
    "\n",
    "model.summary()"
   ]
  },
  {
   "attachments": {},
   "cell_type": "markdown",
   "metadata": {},
   "source": [
    "# learning_rate 1e-3, batch_size 64, epoch 50"
   ]
  },
  {
   "cell_type": "code",
   "execution_count": 7,
   "metadata": {},
   "outputs": [],
   "source": [
    "model.compile(loss='categorical_crossentropy', optimizer=Adam(learning_rate=1e-3), metrics=['accuracy'])"
   ]
  },
  {
   "cell_type": "code",
   "execution_count": 8,
   "metadata": {},
   "outputs": [
    {
     "name": "stdout",
     "output_type": "stream",
     "text": [
      "Epoch 1/50\n",
      "830/830 [==============================] - 96s 113ms/step - loss: 0.4231 - accuracy: 0.8560 - val_loss: 0.1739 - val_accuracy: 0.9491\n",
      "Epoch 2/50\n",
      "830/830 [==============================] - 95s 114ms/step - loss: 0.1682 - accuracy: 0.9512 - val_loss: 0.1238 - val_accuracy: 0.9666\n",
      "Epoch 3/50\n",
      "830/830 [==============================] - 95s 115ms/step - loss: 0.1285 - accuracy: 0.9635 - val_loss: 0.1056 - val_accuracy: 0.9715\n",
      "Epoch 4/50\n",
      "830/830 [==============================] - 96s 116ms/step - loss: 0.1080 - accuracy: 0.9702 - val_loss: 0.0940 - val_accuracy: 0.9764\n",
      "Epoch 5/50\n",
      "830/830 [==============================] - 92s 111ms/step - loss: 0.0976 - accuracy: 0.9737 - val_loss: 0.0939 - val_accuracy: 0.9767\n",
      "Epoch 6/50\n",
      "830/830 [==============================] - 97s 116ms/step - loss: 0.0908 - accuracy: 0.9759 - val_loss: 0.0932 - val_accuracy: 0.9749\n",
      "Epoch 7/50\n",
      "830/830 [==============================] - 95s 114ms/step - loss: 0.0842 - accuracy: 0.9781 - val_loss: 0.0803 - val_accuracy: 0.9809\n",
      "Epoch 8/50\n",
      "830/830 [==============================] - 102s 123ms/step - loss: 0.0777 - accuracy: 0.9804 - val_loss: 0.0784 - val_accuracy: 0.9813\n",
      "Epoch 9/50\n",
      "830/830 [==============================] - 97s 117ms/step - loss: 0.0739 - accuracy: 0.9810 - val_loss: 0.0820 - val_accuracy: 0.9792\n",
      "Epoch 10/50\n",
      "830/830 [==============================] - 99s 119ms/step - loss: 0.0700 - accuracy: 0.9826 - val_loss: 0.0789 - val_accuracy: 0.9818\n",
      "Epoch 11/50\n",
      "830/830 [==============================] - 96s 115ms/step - loss: 0.0656 - accuracy: 0.9835 - val_loss: 0.0689 - val_accuracy: 0.9840\n",
      "Epoch 12/50\n",
      "830/830 [==============================] - 96s 115ms/step - loss: 0.0606 - accuracy: 0.9852 - val_loss: 0.0730 - val_accuracy: 0.9834\n",
      "Epoch 13/50\n",
      "830/830 [==============================] - 94s 113ms/step - loss: 0.0555 - accuracy: 0.9868 - val_loss: 0.0666 - val_accuracy: 0.9841\n",
      "Epoch 14/50\n",
      "830/830 [==============================] - 101s 122ms/step - loss: 0.0539 - accuracy: 0.9869 - val_loss: 0.0670 - val_accuracy: 0.9858\n",
      "Epoch 15/50\n",
      "830/830 [==============================] - 96s 115ms/step - loss: 0.0542 - accuracy: 0.9864 - val_loss: 0.0616 - val_accuracy: 0.9856\n",
      "Epoch 16/50\n",
      "830/830 [==============================] - 99s 119ms/step - loss: 0.0474 - accuracy: 0.9892 - val_loss: 0.0668 - val_accuracy: 0.9858\n",
      "Epoch 17/50\n",
      "830/830 [==============================] - 103s 125ms/step - loss: 0.0472 - accuracy: 0.9888 - val_loss: 0.0695 - val_accuracy: 0.9857\n",
      "Epoch 18/50\n",
      "830/830 [==============================] - 96s 116ms/step - loss: 0.0438 - accuracy: 0.9902 - val_loss: 0.0674 - val_accuracy: 0.9852\n",
      "Epoch 19/50\n",
      "830/830 [==============================] - 96s 116ms/step - loss: 0.0435 - accuracy: 0.9897 - val_loss: 0.0728 - val_accuracy: 0.9837\n",
      "Epoch 20/50\n",
      "830/830 [==============================] - 96s 116ms/step - loss: 0.0422 - accuracy: 0.9904 - val_loss: 0.0642 - val_accuracy: 0.9858\n",
      "Epoch 21/50\n",
      "830/830 [==============================] - 90s 109ms/step - loss: 0.0399 - accuracy: 0.9907 - val_loss: 0.0645 - val_accuracy: 0.9848\n",
      "Epoch 22/50\n",
      "830/830 [==============================] - 95s 115ms/step - loss: 0.0371 - accuracy: 0.9914 - val_loss: 0.0637 - val_accuracy: 0.9854\n",
      "Epoch 23/50\n",
      "830/830 [==============================] - 91s 110ms/step - loss: 0.0372 - accuracy: 0.9913 - val_loss: 0.0735 - val_accuracy: 0.9849\n",
      "Epoch 24/50\n",
      "830/830 [==============================] - 92s 111ms/step - loss: 0.0340 - accuracy: 0.9925 - val_loss: 0.0657 - val_accuracy: 0.9864\n",
      "Epoch 25/50\n",
      "830/830 [==============================] - 93s 111ms/step - loss: 0.0329 - accuracy: 0.9923 - val_loss: 0.0673 - val_accuracy: 0.9853\n",
      "Epoch 26/50\n",
      "830/830 [==============================] - 94s 113ms/step - loss: 0.0338 - accuracy: 0.9920 - val_loss: 0.0607 - val_accuracy: 0.9866\n",
      "Epoch 27/50\n",
      "830/830 [==============================] - 79s 95ms/step - loss: 0.0332 - accuracy: 0.9918 - val_loss: 0.0614 - val_accuracy: 0.9856\n",
      "Epoch 28/50\n",
      "830/830 [==============================] - 64s 77ms/step - loss: 0.0291 - accuracy: 0.9928 - val_loss: 0.0806 - val_accuracy: 0.9815\n",
      "Epoch 29/50\n",
      "830/830 [==============================] - 85s 103ms/step - loss: 0.0293 - accuracy: 0.9934 - val_loss: 0.0689 - val_accuracy: 0.9853\n",
      "Epoch 30/50\n",
      "830/830 [==============================] - 74s 89ms/step - loss: 0.0279 - accuracy: 0.9937 - val_loss: 0.0674 - val_accuracy: 0.9867\n",
      "Epoch 31/50\n",
      "830/830 [==============================] - 79s 96ms/step - loss: 0.0279 - accuracy: 0.9940 - val_loss: 0.0599 - val_accuracy: 0.9882\n",
      "Epoch 32/50\n",
      "830/830 [==============================] - 85s 102ms/step - loss: 0.0268 - accuracy: 0.9939 - val_loss: 0.0631 - val_accuracy: 0.9864\n",
      "Epoch 33/50\n",
      "830/830 [==============================] - 84s 102ms/step - loss: 0.0274 - accuracy: 0.9935 - val_loss: 0.0642 - val_accuracy: 0.9858\n",
      "Epoch 34/50\n",
      "830/830 [==============================] - 85s 102ms/step - loss: 0.0242 - accuracy: 0.9951 - val_loss: 0.0721 - val_accuracy: 0.9869\n",
      "Epoch 35/50\n",
      "830/830 [==============================] - 83s 100ms/step - loss: 0.0257 - accuracy: 0.9945 - val_loss: 0.0776 - val_accuracy: 0.9854\n",
      "Epoch 36/50\n",
      "830/830 [==============================] - 85s 102ms/step - loss: 0.0261 - accuracy: 0.9946 - val_loss: 0.0686 - val_accuracy: 0.9873\n",
      "Epoch 37/50\n",
      "830/830 [==============================] - 84s 101ms/step - loss: 0.0249 - accuracy: 0.9948 - val_loss: 0.0708 - val_accuracy: 0.9866\n",
      "Epoch 38/50\n",
      "830/830 [==============================] - 79s 95ms/step - loss: 0.0255 - accuracy: 0.9946 - val_loss: 0.0658 - val_accuracy: 0.9870\n",
      "Epoch 39/50\n",
      "830/830 [==============================] - 67s 81ms/step - loss: 0.0225 - accuracy: 0.9956 - val_loss: 0.0614 - val_accuracy: 0.9879\n",
      "Epoch 40/50\n",
      "830/830 [==============================] - 67s 80ms/step - loss: 0.0229 - accuracy: 0.9953 - val_loss: 0.0827 - val_accuracy: 0.9846\n",
      "Epoch 41/50\n",
      "830/830 [==============================] - 69s 83ms/step - loss: 0.0234 - accuracy: 0.9951 - val_loss: 0.0661 - val_accuracy: 0.9874\n",
      "Epoch 42/50\n",
      "830/830 [==============================] - 64s 77ms/step - loss: 0.0222 - accuracy: 0.9953 - val_loss: 0.0648 - val_accuracy: 0.9879\n",
      "Epoch 43/50\n",
      "830/830 [==============================] - 61s 73ms/step - loss: 0.0219 - accuracy: 0.9956 - val_loss: 0.0663 - val_accuracy: 0.9877\n",
      "Epoch 44/50\n",
      "830/830 [==============================] - 63s 76ms/step - loss: 0.0232 - accuracy: 0.9951 - val_loss: 0.0690 - val_accuracy: 0.9878\n",
      "Epoch 45/50\n",
      "830/830 [==============================] - 63s 76ms/step - loss: 0.0209 - accuracy: 0.9961 - val_loss: 0.0646 - val_accuracy: 0.9882\n",
      "Epoch 46/50\n",
      "830/830 [==============================] - 63s 76ms/step - loss: 0.0200 - accuracy: 0.9960 - val_loss: 0.0686 - val_accuracy: 0.9876\n",
      "Epoch 47/50\n",
      "830/830 [==============================] - 64s 77ms/step - loss: 0.0194 - accuracy: 0.9963 - val_loss: 0.0722 - val_accuracy: 0.9879\n",
      "Epoch 48/50\n",
      "830/830 [==============================] - 71s 86ms/step - loss: 0.0202 - accuracy: 0.9962 - val_loss: 0.0642 - val_accuracy: 0.9879\n",
      "Epoch 49/50\n",
      "830/830 [==============================] - 83s 100ms/step - loss: 0.0213 - accuracy: 0.9954 - val_loss: 0.0682 - val_accuracy: 0.9869\n",
      "Epoch 50/50\n",
      "830/830 [==============================] - 83s 100ms/step - loss: 0.0192 - accuracy: 0.9960 - val_loss: 0.0702 - val_accuracy: 0.9877\n"
     ]
    }
   ],
   "source": [
    "history = model.fit(train_x, train_y, batch_size=64, epochs=50, verbose=1, validation_data=(test_x, test_y))"
   ]
  },
  {
   "cell_type": "code",
   "execution_count": 9,
   "metadata": {},
   "outputs": [
    {
     "data": {
      "image/png": "[encoded data removed]",
      "text/plain": [
       "<Figure size 800x300 with 1 Axes>"
      ]
     },
     "metadata": {},
     "output_type": "display_data"
    },
    {
     "data": {
      "image/png": "[encoded data removed]",
      "text/plain": [
       "<Figure size 800x300 with 1 Axes>"
      ]
     },
     "metadata": {},
     "output_type": "display_data"
    }
   ],
   "source": [
    "# summarize history for loss\n",
    "plt.figure(figsize=(8,3))\n",
    "plt.plot(history.history['loss'])\n",
    "plt.plot(history.history['val_loss'])\n",
    "plt.title('model loss')\n",
    "plt.ylabel('loss')\n",
    "plt.xlabel('epoch')\n",
    "plt.legend(['train', 'test'], loc='best')\n",
    "plt.show()\n",
    "\n",
    "# summarize history for accuracy\n",
    "plt.figure(figsize=(8,3))\n",
    "plt.plot(history.history['accuracy'])\n",
    "plt.plot(history.history['val_accuracy'])\n",
    "plt.title('model accuracy')\n",
    "plt.ylabel('accuracy')\n",
    "plt.xlabel('epoch')\n",
    "plt.legend(['train', 'test'], loc='best')\n",
    "plt.show()"
   ]
  },
  {
   "cell_type": "code",
   "execution_count": 10,
   "metadata": {},
   "outputs": [
    {
     "name": "stdout",
     "output_type": "stream",
     "text": [
      "415/415 [==============================] - 6s 15ms/step - loss: 0.0702 - accuracy: 0.9877\n",
      "Test Loss: 0.0701712965965271\n",
      "Test accuracy: 0.9877222180366516\n"
     ]
    }
   ],
   "source": [
    "# finding the loss and acuracy of the model\n",
    "score = model.evaluate(test_x, test_y)\n",
    "\n",
    "print('Test Loss:', score[0])\n",
    "print('Test accuracy:', score[1])"
   ]
  },
  {
   "cell_type": "code",
   "execution_count": 11,
   "metadata": {},
   "outputs": [
    {
     "name": "stderr",
     "output_type": "stream",
     "text": [
      "WARNING:absl:Found untraced functions such as _jit_compiled_convolution_op, _jit_compiled_convolution_op, _jit_compiled_convolution_op, _jit_compiled_convolution_op while saving (showing 4 of 4). These functions will not be directly callable after loading.\n"
     ]
    },
    {
     "name": "stdout",
     "output_type": "stream",
     "text": [
      "INFO:tensorflow:Assets written to: CNN_model_4\\assets\n"
     ]
    },
    {
     "name": "stderr",
     "output_type": "stream",
     "text": [
      "INFO:tensorflow:Assets written to: CNN_model_4\\assets\n"
     ]
    }
   ],
   "source": [
    "# save model\n",
    "model.save('CNN_model_4')"
   ]
  },
  {
   "attachments": {},
   "cell_type": "markdown",
   "metadata": {},
   "source": [
    "# confusion matrix"
   ]
  },
  {
   "cell_type": "code",
   "execution_count": 12,
   "metadata": {},
   "outputs": [
    {
     "name": "stdout",
     "output_type": "stream",
     "text": [
      "415/415 [==============================] - 7s 15ms/step\n"
     ]
    },
    {
     "data": {
      "text/plain": [
       "array([3, 1, 2, ..., 0, 3, 0], dtype=int64)"
      ]
     },
     "execution_count": 12,
     "metadata": {},
     "output_type": "execute_result"
    }
   ],
   "source": [
    "y_pred = model.predict(test_x)\n",
    "y_pred = np.argmax(y_pred, axis=1)\n",
    "y_pred"
   ]
  },
  {
   "cell_type": "code",
   "execution_count": 13,
   "metadata": {},
   "outputs": [
    {
     "name": "stdout",
     "output_type": "stream",
     "text": [
      "confusion matrix\n",
      "[[3181    6   12   23   22]\n",
      " [   3 3189    0    8    0]\n",
      " [   9    2 2976    4    1]\n",
      " [  20    3    3 2799   10]\n",
      " [  18    0    2   17  968]]\n",
      "\n",
      "classification report\n",
      "              precision    recall  f1-score   support\n",
      "\n",
      "           N     0.9845    0.9806    0.9825      3244\n",
      "           L     0.9966    0.9966    0.9966      3200\n",
      "           R     0.9943    0.9947    0.9945      2992\n",
      "           V     0.9818    0.9873    0.9845      2835\n",
      "           A     0.9670    0.9632    0.9651      1005\n",
      "\n",
      "    accuracy                         0.9877     13276\n",
      "   macro avg     0.9848    0.9845    0.9846     13276\n",
      "weighted avg     0.9877    0.9877    0.9877     13276\n",
      "\n"
     ]
    }
   ],
   "source": [
    "y_true = test[440]\n",
    "\n",
    "from sklearn.metrics import confusion_matrix, classification_report\n",
    "\n",
    "cm = confusion_matrix(y_true, y_pred)\n",
    "print('confusion matrix')\n",
    "print(cm)\n",
    "print('\\nclassification report')\n",
    "report = classification_report(y_true, y_pred, target_names=['N', 'L', 'R', 'V', 'A'], digits=4)\n",
    "print(report )\n",
    "\n",
    "def report_to_df(report):\n",
    "    report = [x.split(' ') for x in report.split('\\n')]\n",
    "    header = ['Class Name']+[x for x in report[0] if x!='']\n",
    "    values = []\n",
    "    for row in report[1:-5]:\n",
    "        row = [value for value in row if value!='']\n",
    "        if row!=[]:\n",
    "            values.append(row)\n",
    "    df = pd.DataFrame(data = values, columns = header)\n",
    "    return df\n",
    "report = report_to_df(report)\n",
    "\n",
    "# report.to_csv('classification report.csv', index=True)"
   ]
  }
 ],
 "metadata": {
  "kernelspec": {
   "display_name": "cenv1",
   "language": "python",
   "name": "python3"
  },
  "language_info": {
   "codemirror_mode": {
    "name": "ipython",
    "version": 3
   },
   "file_extension": ".py",
   "mimetype": "text/x-python",
   "name": "python",
   "nbconvert_exporter": "python",
   "pygments_lexer": "ipython3",
   "version": "3.10.9"
  },
  "orig_nbformat": 4
 },
 "nbformat": 4,
 "nbformat_minor": 2
}
