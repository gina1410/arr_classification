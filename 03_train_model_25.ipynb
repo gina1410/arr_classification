{
 "cells": [
  {
   "attachments": {},
   "cell_type": "markdown",
   "metadata": {},
   "source": [
    "# Initialize"
   ]
  },
  {
   "cell_type": "code",
   "execution_count": 1,
   "metadata": {},
   "outputs": [],
   "source": [
    "import numpy as np\n",
    "import pandas as pd\n",
    "import matplotlib.pyplot as plt\n",
    "\n",
    "from keras.utils.np_utils import to_categorical\n",
    "from keras.models import Sequential\n",
    "from keras.layers import Conv1D, AvgPool1D, Flatten, Dense, Dropout, Softmax\n",
    "from keras import regularizers\n",
    "from keras.optimizers import Adam \n"
   ]
  },
  {
   "attachments": {},
   "cell_type": "markdown",
   "metadata": {},
   "source": [
    "# Load dataset"
   ]
  },
  {
   "cell_type": "code",
   "execution_count": 2,
   "metadata": {},
   "outputs": [
    {
     "name": "stdout",
     "output_type": "stream",
     "text": [
      "train_data :  (53102, 441)\n",
      "test_data  :  (13276, 441)\n"
     ]
    }
   ],
   "source": [
    "train = pd.read_csv('./data/0.8_train.csv', header=None)\n",
    "test = pd.read_csv('./data/0.2_test.csv', header=None)\n",
    "\n",
    "print(\"train_data : \", np.shape(train))\n",
    "print(\"test_data  : \", np.shape(test))"
   ]
  },
  {
   "cell_type": "code",
   "execution_count": 3,
   "metadata": {},
   "outputs": [
    {
     "name": "stdout",
     "output_type": "stream",
     "text": [
      "data train per class\n",
      "0.0    13152\n",
      "1.0    12938\n",
      "2.0    11508\n",
      "3.0    11421\n",
      "4.0     4083\n",
      "Name: 440, dtype: int64\n",
      "---------------------------------\n",
      "data test per class\n",
      "0.0    3244\n",
      "1.0    3200\n",
      "2.0    2992\n",
      "3.0    2835\n",
      "4.0    1005\n",
      "Name: 440, dtype: int64\n"
     ]
    }
   ],
   "source": [
    "# 0.0 Normal beat\n",
    "# 1.0 LBBB beat\n",
    "# 2.0 RBBB beat\n",
    "# 3.0 PVC beat\n",
    "# 4.0 PAC beat\n",
    "\n",
    "print('data train per class')\n",
    "print(train[440].value_counts())\n",
    "print('---------------------------------')\n",
    "print('data test per class')\n",
    "print(test[440].value_counts())"
   ]
  },
  {
   "cell_type": "code",
   "execution_count": 4,
   "metadata": {},
   "outputs": [
    {
     "name": "stdout",
     "output_type": "stream",
     "text": [
      "(53102, 5) (13276, 5)\n"
     ]
    }
   ],
   "source": [
    "target_train=train[train.shape[1]-1]\n",
    "target_test=test[test.shape[1]-1]\n",
    "train_y=to_categorical(target_train)\n",
    "test_y=to_categorical(target_test)\n",
    "print(np.shape(train_y), np.shape(test_y))"
   ]
  },
  {
   "cell_type": "code",
   "execution_count": 5,
   "metadata": {},
   "outputs": [
    {
     "name": "stdout",
     "output_type": "stream",
     "text": [
      "(53102, 440, 1) (13276, 440, 1)\n"
     ]
    }
   ],
   "source": [
    "train_x = train.iloc[:,:train.shape[1]-1].values\n",
    "test_x = test.iloc[:,:test.shape[1]-1].values\n",
    "train_x = train_x.reshape(len(train_x), train_x.shape[1],1)\n",
    "test_x = test_x.reshape(len(test_x), test_x.shape[1],1)\n",
    "print(np.shape(train_x), np.shape(test_x))"
   ]
  },
  {
   "attachments": {},
   "cell_type": "markdown",
   "metadata": {},
   "source": [
    "# Model architecture"
   ]
  },
  {
   "cell_type": "code",
   "execution_count": 6,
   "metadata": {},
   "outputs": [
    {
     "name": "stdout",
     "output_type": "stream",
     "text": [
      "Model: \"sequential\"\n",
      "_________________________________________________________________\n",
      " Layer (type)                Output Shape              Param #   \n",
      "=================================================================\n",
      " conv1d (Conv1D)             (None, 440, 16)           224       \n",
      "                                                                 \n",
      " average_pooling1d (AverageP  (None, 219, 16)          0         \n",
      " ooling1D)                                                       \n",
      "                                                                 \n",
      " conv1d_1 (Conv1D)           (None, 219, 32)           7712      \n",
      "                                                                 \n",
      " average_pooling1d_1 (Averag  (None, 109, 32)          0         \n",
      " ePooling1D)                                                     \n",
      "                                                                 \n",
      " conv1d_2 (Conv1D)           (None, 109, 64)           34880     \n",
      "                                                                 \n",
      " average_pooling1d_2 (Averag  (None, 54, 64)           0         \n",
      " ePooling1D)                                                     \n",
      "                                                                 \n",
      " conv1d_3 (Conv1D)           (None, 54, 128)           155776    \n",
      "                                                                 \n",
      " average_pooling1d_3 (Averag  (None, 26, 128)          0         \n",
      " ePooling1D)                                                     \n",
      "                                                                 \n",
      " flatten (Flatten)           (None, 3328)              0         \n",
      "                                                                 \n",
      " dropout (Dropout)           (None, 3328)              0         \n",
      "                                                                 \n",
      " dense (Dense)               (None, 35)                116515    \n",
      "                                                                 \n",
      " dense_1 (Dense)             (None, 5)                 180       \n",
      "                                                                 \n",
      " softmax (Softmax)           (None, 5)                 0         \n",
      "                                                                 \n",
      "=================================================================\n",
      "Total params: 315,287\n",
      "Trainable params: 315,287\n",
      "Non-trainable params: 0\n",
      "_________________________________________________________________\n"
     ]
    }
   ],
   "source": [
    "# Instanciate an empty model\n",
    "model = Sequential()\n",
    "\n",
    "model.add(Conv1D(filters=16, kernel_size=13, padding='same', activation='relu',input_shape=(440, 1)))\n",
    "model.add(AvgPool1D(pool_size=3, strides=2))\n",
    "model.add(Conv1D(filters=32, kernel_size=15, padding='same', activation='relu'))\n",
    "model.add(AvgPool1D(pool_size=3, strides=2))\n",
    "model.add(Conv1D(filters=64, kernel_size=17, padding='same', activation='relu'))\n",
    "model.add(AvgPool1D(pool_size=3, strides=2))\n",
    "model.add(Conv1D(filters=128, kernel_size=19, padding='same', activation='relu'))\n",
    "model.add(AvgPool1D(pool_size=3, strides=2))\n",
    "model.add(Flatten())\n",
    "model.add(Dropout(0.5))\n",
    "model.add(Dense(35,kernel_regularizer=regularizers.l2(0.0001), bias_regularizer=regularizers.l2(0.0001)))\n",
    "model.add(Dense(5,kernel_regularizer=regularizers.l2(0.0001), bias_regularizer=regularizers.l2(0.0001)))\n",
    "model.add(Softmax())\n",
    "\n",
    "model.summary()"
   ]
  },
  {
   "attachments": {},
   "cell_type": "markdown",
   "metadata": {},
   "source": [
    "# learning_rate 0.002, batch_size 128, epoch 50"
   ]
  },
  {
   "cell_type": "code",
   "execution_count": 7,
   "metadata": {},
   "outputs": [],
   "source": [
    "model.compile(loss='categorical_crossentropy', optimizer=Adam(learning_rate=0.002), metrics=['accuracy'])"
   ]
  },
  {
   "cell_type": "code",
   "execution_count": 8,
   "metadata": {},
   "outputs": [
    {
     "name": "stdout",
     "output_type": "stream",
     "text": [
      "Epoch 1/50\n",
      "415/415 [==============================] - 79s 188ms/step - loss: 0.4220 - accuracy: 0.8553 - val_loss: 0.1687 - val_accuracy: 0.9507\n",
      "Epoch 2/50\n",
      "415/415 [==============================] - 77s 186ms/step - loss: 0.1573 - accuracy: 0.9557 - val_loss: 0.1219 - val_accuracy: 0.9669\n",
      "Epoch 3/50\n",
      "415/415 [==============================] - 76s 184ms/step - loss: 0.1210 - accuracy: 0.9673 - val_loss: 0.0965 - val_accuracy: 0.9770\n",
      "Epoch 4/50\n",
      "415/415 [==============================] - 79s 190ms/step - loss: 0.1063 - accuracy: 0.9721 - val_loss: 0.0967 - val_accuracy: 0.9763\n",
      "Epoch 5/50\n",
      "415/415 [==============================] - 85s 205ms/step - loss: 0.0930 - accuracy: 0.9754 - val_loss: 0.0954 - val_accuracy: 0.9763\n",
      "Epoch 6/50\n",
      "415/415 [==============================] - 80s 193ms/step - loss: 0.0875 - accuracy: 0.9775 - val_loss: 0.0892 - val_accuracy: 0.9797\n",
      "Epoch 7/50\n",
      "415/415 [==============================] - 74s 179ms/step - loss: 0.0805 - accuracy: 0.9798 - val_loss: 0.0828 - val_accuracy: 0.9821\n",
      "Epoch 8/50\n",
      "415/415 [==============================] - 81s 194ms/step - loss: 0.0765 - accuracy: 0.9810 - val_loss: 0.0737 - val_accuracy: 0.9841\n",
      "Epoch 9/50\n",
      "415/415 [==============================] - 78s 188ms/step - loss: 0.0728 - accuracy: 0.9821 - val_loss: 0.0821 - val_accuracy: 0.9802\n",
      "Epoch 10/50\n",
      "415/415 [==============================] - 87s 209ms/step - loss: 0.0698 - accuracy: 0.9835 - val_loss: 0.0751 - val_accuracy: 0.9819\n",
      "Epoch 11/50\n",
      "415/415 [==============================] - 77s 186ms/step - loss: 0.0663 - accuracy: 0.9838 - val_loss: 0.0768 - val_accuracy: 0.9824\n",
      "Epoch 12/50\n",
      "415/415 [==============================] - 80s 193ms/step - loss: 0.0630 - accuracy: 0.9848 - val_loss: 0.0806 - val_accuracy: 0.9828\n",
      "Epoch 13/50\n",
      "415/415 [==============================] - 76s 184ms/step - loss: 0.0573 - accuracy: 0.9857 - val_loss: 0.0736 - val_accuracy: 0.9829\n",
      "Epoch 14/50\n",
      "415/415 [==============================] - 78s 189ms/step - loss: 0.0562 - accuracy: 0.9864 - val_loss: 0.0726 - val_accuracy: 0.9837\n",
      "Epoch 15/50\n",
      "415/415 [==============================] - 77s 185ms/step - loss: 0.0514 - accuracy: 0.9878 - val_loss: 0.0676 - val_accuracy: 0.9841\n",
      "Epoch 16/50\n",
      "415/415 [==============================] - 74s 179ms/step - loss: 0.0526 - accuracy: 0.9876 - val_loss: 0.0702 - val_accuracy: 0.9840\n",
      "Epoch 17/50\n",
      "415/415 [==============================] - 77s 185ms/step - loss: 0.0463 - accuracy: 0.9893 - val_loss: 0.0735 - val_accuracy: 0.9843\n",
      "Epoch 18/50\n",
      "415/415 [==============================] - 82s 197ms/step - loss: 0.0456 - accuracy: 0.9895 - val_loss: 0.0726 - val_accuracy: 0.9849\n",
      "Epoch 19/50\n",
      "415/415 [==============================] - 82s 197ms/step - loss: 0.0453 - accuracy: 0.9896 - val_loss: 0.0730 - val_accuracy: 0.9858\n",
      "Epoch 20/50\n",
      "415/415 [==============================] - 81s 194ms/step - loss: 0.0460 - accuracy: 0.9890 - val_loss: 0.0712 - val_accuracy: 0.9844\n",
      "Epoch 21/50\n",
      "415/415 [==============================] - 80s 193ms/step - loss: 0.0405 - accuracy: 0.9902 - val_loss: 0.0674 - val_accuracy: 0.9859\n",
      "Epoch 22/50\n",
      "415/415 [==============================] - 77s 186ms/step - loss: 0.0377 - accuracy: 0.9914 - val_loss: 0.0659 - val_accuracy: 0.9860\n",
      "Epoch 23/50\n",
      "415/415 [==============================] - 79s 190ms/step - loss: 0.0369 - accuracy: 0.9920 - val_loss: 0.0688 - val_accuracy: 0.9869\n",
      "Epoch 24/50\n",
      "415/415 [==============================] - 81s 194ms/step - loss: 0.0367 - accuracy: 0.9918 - val_loss: 0.0713 - val_accuracy: 0.9864\n",
      "Epoch 25/50\n",
      "415/415 [==============================] - 80s 194ms/step - loss: 0.0369 - accuracy: 0.9918 - val_loss: 0.0733 - val_accuracy: 0.9858\n",
      "Epoch 26/50\n",
      "415/415 [==============================] - 81s 196ms/step - loss: 0.0356 - accuracy: 0.9922 - val_loss: 0.0720 - val_accuracy: 0.9854\n",
      "Epoch 27/50\n",
      "415/415 [==============================] - 77s 185ms/step - loss: 0.0334 - accuracy: 0.9928 - val_loss: 0.0758 - val_accuracy: 0.9855\n",
      "Epoch 28/50\n",
      "415/415 [==============================] - 75s 182ms/step - loss: 0.0322 - accuracy: 0.9933 - val_loss: 0.0740 - val_accuracy: 0.9861\n",
      "Epoch 29/50\n",
      "415/415 [==============================] - 76s 184ms/step - loss: 0.0328 - accuracy: 0.9927 - val_loss: 0.0720 - val_accuracy: 0.9863\n",
      "Epoch 30/50\n",
      "415/415 [==============================] - 81s 196ms/step - loss: 0.0324 - accuracy: 0.9932 - val_loss: 0.0793 - val_accuracy: 0.9868\n",
      "Epoch 31/50\n",
      "415/415 [==============================] - 82s 197ms/step - loss: 0.0303 - accuracy: 0.9936 - val_loss: 0.0651 - val_accuracy: 0.9869\n",
      "Epoch 32/50\n",
      "415/415 [==============================] - 96s 230ms/step - loss: 0.0300 - accuracy: 0.9939 - val_loss: 0.0767 - val_accuracy: 0.9863\n",
      "Epoch 33/50\n",
      "415/415 [==============================] - 97s 233ms/step - loss: 0.0313 - accuracy: 0.9932 - val_loss: 0.0822 - val_accuracy: 0.9859\n",
      "Epoch 34/50\n",
      "415/415 [==============================] - 107s 257ms/step - loss: 0.0315 - accuracy: 0.9938 - val_loss: 0.0687 - val_accuracy: 0.9874\n",
      "Epoch 35/50\n",
      "415/415 [==============================] - 90s 217ms/step - loss: 0.0272 - accuracy: 0.9945 - val_loss: 0.0701 - val_accuracy: 0.9876\n",
      "Epoch 36/50\n",
      "415/415 [==============================] - 86s 207ms/step - loss: 0.0282 - accuracy: 0.9943 - val_loss: 0.0755 - val_accuracy: 0.9871\n",
      "Epoch 37/50\n",
      "415/415 [==============================] - 87s 210ms/step - loss: 0.0256 - accuracy: 0.9947 - val_loss: 0.0734 - val_accuracy: 0.9875\n",
      "Epoch 38/50\n",
      "415/415 [==============================] - 89s 215ms/step - loss: 0.0277 - accuracy: 0.9944 - val_loss: 0.0685 - val_accuracy: 0.9864\n",
      "Epoch 39/50\n",
      "415/415 [==============================] - 87s 210ms/step - loss: 0.0260 - accuracy: 0.9950 - val_loss: 0.0762 - val_accuracy: 0.9866\n",
      "Epoch 40/50\n",
      "415/415 [==============================] - 84s 204ms/step - loss: 0.0273 - accuracy: 0.9949 - val_loss: 0.0678 - val_accuracy: 0.9879\n",
      "Epoch 41/50\n",
      "415/415 [==============================] - 83s 201ms/step - loss: 0.0235 - accuracy: 0.9960 - val_loss: 0.0675 - val_accuracy: 0.9865\n",
      "Epoch 42/50\n",
      "415/415 [==============================] - 83s 200ms/step - loss: 0.0242 - accuracy: 0.9954 - val_loss: 0.0709 - val_accuracy: 0.9882\n",
      "Epoch 43/50\n",
      "415/415 [==============================] - 97s 234ms/step - loss: 0.0248 - accuracy: 0.9951 - val_loss: 0.0764 - val_accuracy: 0.9878\n",
      "Epoch 44/50\n",
      "415/415 [==============================] - 85s 205ms/step - loss: 0.0259 - accuracy: 0.9946 - val_loss: 0.0681 - val_accuracy: 0.9882\n",
      "Epoch 45/50\n",
      "415/415 [==============================] - 82s 199ms/step - loss: 0.0230 - accuracy: 0.9961 - val_loss: 0.0765 - val_accuracy: 0.9878\n",
      "Epoch 46/50\n",
      "415/415 [==============================] - 87s 209ms/step - loss: 0.0255 - accuracy: 0.9950 - val_loss: 0.0730 - val_accuracy: 0.9875\n",
      "Epoch 47/50\n",
      "415/415 [==============================] - 86s 207ms/step - loss: 0.0217 - accuracy: 0.9960 - val_loss: 0.0731 - val_accuracy: 0.9875\n",
      "Epoch 48/50\n",
      "415/415 [==============================] - 84s 202ms/step - loss: 0.0258 - accuracy: 0.9948 - val_loss: 0.0744 - val_accuracy: 0.9876\n",
      "Epoch 49/50\n",
      "415/415 [==============================] - 91s 218ms/step - loss: 0.0241 - accuracy: 0.9956 - val_loss: 0.0809 - val_accuracy: 0.9856\n",
      "Epoch 50/50\n",
      "415/415 [==============================] - 81s 195ms/step - loss: 0.0245 - accuracy: 0.9955 - val_loss: 0.0781 - val_accuracy: 0.9862\n"
     ]
    }
   ],
   "source": [
    "history = model.fit(train_x, train_y, batch_size=128, epochs=50, verbose=1, validation_data=(test_x, test_y))"
   ]
  },
  {
   "cell_type": "code",
   "execution_count": 9,
   "metadata": {},
   "outputs": [
    {
     "data": {
      "image/png": "[encoded data removed]",
      "text/plain": [
       "<Figure size 800x300 with 1 Axes>"
      ]
     },
     "metadata": {},
     "output_type": "display_data"
    },
    {
     "data": {
      "image/png": "[encoded data removed]",
      "text/plain": [
       "<Figure size 800x300 with 1 Axes>"
      ]
     },
     "metadata": {},
     "output_type": "display_data"
    }
   ],
   "source": [
    "# summarize history for loss\n",
    "plt.figure(figsize=(8,3))\n",
    "plt.plot(history.history['loss'])\n",
    "plt.plot(history.history['val_loss'])\n",
    "plt.title('model loss')\n",
    "plt.ylabel('loss')\n",
    "plt.xlabel('epoch')\n",
    "plt.legend(['train', 'test'], loc='best')\n",
    "plt.show()\n",
    "\n",
    "# summarize history for accuracy\n",
    "plt.figure(figsize=(8,3))\n",
    "plt.plot(history.history['accuracy'])\n",
    "plt.plot(history.history['val_accuracy'])\n",
    "plt.title('model accuracy')\n",
    "plt.ylabel('accuracy')\n",
    "plt.xlabel('epoch')\n",
    "plt.legend(['train', 'test'], loc='best')\n",
    "plt.show()"
   ]
  },
  {
   "cell_type": "code",
   "execution_count": 10,
   "metadata": {},
   "outputs": [
    {
     "name": "stdout",
     "output_type": "stream",
     "text": [
      "415/415 [==============================] - 6s 15ms/step - loss: 0.0781 - accuracy: 0.9862\n",
      "Test Loss: 0.07806257903575897\n",
      "Test accuracy: 0.9862157106399536\n"
     ]
    }
   ],
   "source": [
    "# finding the loss and acuracy of the model\n",
    "score = model.evaluate(test_x, test_y)\n",
    "\n",
    "print('Test Loss:', score[0])\n",
    "print('Test accuracy:', score[1])"
   ]
  },
  {
   "cell_type": "code",
   "execution_count": 11,
   "metadata": {},
   "outputs": [
    {
     "name": "stderr",
     "output_type": "stream",
     "text": [
      "WARNING:absl:Found untraced functions such as _jit_compiled_convolution_op, _jit_compiled_convolution_op, _jit_compiled_convolution_op, _jit_compiled_convolution_op while saving (showing 4 of 4). These functions will not be directly callable after loading.\n"
     ]
    },
    {
     "name": "stdout",
     "output_type": "stream",
     "text": [
      "INFO:tensorflow:Assets written to: CNN_model_25\\assets\n"
     ]
    },
    {
     "name": "stderr",
     "output_type": "stream",
     "text": [
      "INFO:tensorflow:Assets written to: CNN_model_25\\assets\n"
     ]
    }
   ],
   "source": [
    "# save model\n",
    "model.save('CNN_model_25')"
   ]
  },
  {
   "attachments": {},
   "cell_type": "markdown",
   "metadata": {},
   "source": [
    "# confusion matrix"
   ]
  },
  {
   "cell_type": "code",
   "execution_count": 12,
   "metadata": {},
   "outputs": [
    {
     "name": "stdout",
     "output_type": "stream",
     "text": [
      "415/415 [==============================] - 7s 16ms/step\n"
     ]
    },
    {
     "data": {
      "text/plain": [
       "array([3, 1, 2, ..., 0, 3, 0], dtype=int64)"
      ]
     },
     "execution_count": 12,
     "metadata": {},
     "output_type": "execute_result"
    }
   ],
   "source": [
    "y_pred = model.predict(test_x)\n",
    "y_pred = np.argmax(y_pred, axis=1)\n",
    "y_pred"
   ]
  },
  {
   "cell_type": "code",
   "execution_count": 13,
   "metadata": {},
   "outputs": [
    {
     "name": "stdout",
     "output_type": "stream",
     "text": [
      "confusion matrix\n",
      "[[3197    7   12   19    9]\n",
      " [   4 3185    2    8    1]\n",
      " [  12    5 2968    5    2]\n",
      " [  29    5    5 2791    5]\n",
      " [  34    0    3   16  952]]\n",
      "\n",
      "classification report\n",
      "              precision    recall  f1-score   support\n",
      "\n",
      "           N     0.9759    0.9855    0.9807      3244\n",
      "           L     0.9947    0.9953    0.9950      3200\n",
      "           R     0.9926    0.9920    0.9923      2992\n",
      "           V     0.9831    0.9845    0.9838      2835\n",
      "           A     0.9825    0.9473    0.9645      1005\n",
      "\n",
      "    accuracy                         0.9862     13276\n",
      "   macro avg     0.9858    0.9809    0.9833     13276\n",
      "weighted avg     0.9862    0.9862    0.9862     13276\n",
      "\n"
     ]
    }
   ],
   "source": [
    "y_true = test[440]\n",
    "\n",
    "from sklearn.metrics import confusion_matrix, classification_report\n",
    "\n",
    "cm = confusion_matrix(y_true, y_pred)\n",
    "print('confusion matrix')\n",
    "print(cm)\n",
    "print('\\nclassification report')\n",
    "report = classification_report(y_true, y_pred, target_names=['N', 'L', 'R', 'V', 'A'], digits=4)\n",
    "print(report )\n",
    "\n",
    "def report_to_df(report):\n",
    "    report = [x.split(' ') for x in report.split('\\n')]\n",
    "    header = ['Class Name']+[x for x in report[0] if x!='']\n",
    "    values = []\n",
    "    for row in report[1:-5]:\n",
    "        row = [value for value in row if value!='']\n",
    "        if row!=[]:\n",
    "            values.append(row)\n",
    "    df = pd.DataFrame(data = values, columns = header)\n",
    "    return df\n",
    "report = report_to_df(report)\n",
    "\n",
    "# report.to_csv('classification report.csv', index=True)"
   ]
  }
 ],
 "metadata": {
  "kernelspec": {
   "display_name": "cenv1",
   "language": "python",
   "name": "python3"
  },
  "language_info": {
   "codemirror_mode": {
    "name": "ipython",
    "version": 3
   },
   "file_extension": ".py",
   "mimetype": "text/x-python",
   "name": "python",
   "nbconvert_exporter": "python",
   "pygments_lexer": "ipython3",
   "version": "3.10.9"
  },
  "orig_nbformat": 4
 },
 "nbformat": 4,
 "nbformat_minor": 2
}
