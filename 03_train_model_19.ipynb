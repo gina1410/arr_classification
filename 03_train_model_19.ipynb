{
 "cells": [
  {
   "attachments": {},
   "cell_type": "markdown",
   "metadata": {},
   "source": [
    "# Initialize"
   ]
  },
  {
   "cell_type": "code",
   "execution_count": 1,
   "metadata": {},
   "outputs": [],
   "source": [
    "import numpy as np\n",
    "import pandas as pd\n",
    "import matplotlib.pyplot as plt\n",
    "\n",
    "from keras.utils.np_utils import to_categorical\n",
    "from keras.models import Sequential\n",
    "from keras.layers import Conv1D, AvgPool1D, Flatten, Dense, Dropout, Softmax\n",
    "from keras import regularizers\n",
    "from keras.optimizers import Adam \n"
   ]
  },
  {
   "attachments": {},
   "cell_type": "markdown",
   "metadata": {},
   "source": [
    "# Load dataset"
   ]
  },
  {
   "cell_type": "code",
   "execution_count": 2,
   "metadata": {},
   "outputs": [
    {
     "name": "stdout",
     "output_type": "stream",
     "text": [
      "train_data :  (53102, 441)\n",
      "test_data  :  (13276, 441)\n"
     ]
    }
   ],
   "source": [
    "train = pd.read_csv('./data/0.8_train.csv', header=None)\n",
    "test = pd.read_csv('./data/0.2_test.csv', header=None)\n",
    "\n",
    "print(\"train_data : \", np.shape(train))\n",
    "print(\"test_data  : \", np.shape(test))"
   ]
  },
  {
   "cell_type": "code",
   "execution_count": 3,
   "metadata": {},
   "outputs": [
    {
     "name": "stdout",
     "output_type": "stream",
     "text": [
      "data train per class\n",
      "0.0    13152\n",
      "1.0    12938\n",
      "2.0    11508\n",
      "3.0    11421\n",
      "4.0     4083\n",
      "Name: 440, dtype: int64\n",
      "---------------------------------\n",
      "data test per class\n",
      "0.0    3244\n",
      "1.0    3200\n",
      "2.0    2992\n",
      "3.0    2835\n",
      "4.0    1005\n",
      "Name: 440, dtype: int64\n"
     ]
    }
   ],
   "source": [
    "# 0.0 Normal beat\n",
    "# 1.0 LBBB beat\n",
    "# 2.0 RBBB beat\n",
    "# 3.0 PVC beat\n",
    "# 4.0 PAC beat\n",
    "\n",
    "print('data train per class')\n",
    "print(train[440].value_counts())\n",
    "print('---------------------------------')\n",
    "print('data test per class')\n",
    "print(test[440].value_counts())"
   ]
  },
  {
   "cell_type": "code",
   "execution_count": 4,
   "metadata": {},
   "outputs": [
    {
     "name": "stdout",
     "output_type": "stream",
     "text": [
      "(53102, 5) (13276, 5)\n"
     ]
    }
   ],
   "source": [
    "target_train=train[train.shape[1]-1]\n",
    "target_test=test[test.shape[1]-1]\n",
    "train_y=to_categorical(target_train)\n",
    "test_y=to_categorical(target_test)\n",
    "print(np.shape(train_y), np.shape(test_y))"
   ]
  },
  {
   "cell_type": "code",
   "execution_count": 5,
   "metadata": {},
   "outputs": [
    {
     "name": "stdout",
     "output_type": "stream",
     "text": [
      "(53102, 440, 1) (13276, 440, 1)\n"
     ]
    }
   ],
   "source": [
    "train_x = train.iloc[:,:train.shape[1]-1].values\n",
    "test_x = test.iloc[:,:test.shape[1]-1].values\n",
    "train_x = train_x.reshape(len(train_x), train_x.shape[1],1)\n",
    "test_x = test_x.reshape(len(test_x), test_x.shape[1],1)\n",
    "print(np.shape(train_x), np.shape(test_x))"
   ]
  },
  {
   "attachments": {},
   "cell_type": "markdown",
   "metadata": {},
   "source": [
    "# Model architecture"
   ]
  },
  {
   "cell_type": "code",
   "execution_count": 6,
   "metadata": {},
   "outputs": [
    {
     "name": "stdout",
     "output_type": "stream",
     "text": [
      "Model: \"sequential\"\n",
      "_________________________________________________________________\n",
      " Layer (type)                Output Shape              Param #   \n",
      "=================================================================\n",
      " conv1d (Conv1D)             (None, 440, 16)           224       \n",
      "                                                                 \n",
      " average_pooling1d (AverageP  (None, 219, 16)          0         \n",
      " ooling1D)                                                       \n",
      "                                                                 \n",
      " conv1d_1 (Conv1D)           (None, 219, 32)           7712      \n",
      "                                                                 \n",
      " average_pooling1d_1 (Averag  (None, 109, 32)          0         \n",
      " ePooling1D)                                                     \n",
      "                                                                 \n",
      " conv1d_2 (Conv1D)           (None, 109, 64)           34880     \n",
      "                                                                 \n",
      " average_pooling1d_2 (Averag  (None, 54, 64)           0         \n",
      " ePooling1D)                                                     \n",
      "                                                                 \n",
      " conv1d_3 (Conv1D)           (None, 54, 128)           155776    \n",
      "                                                                 \n",
      " average_pooling1d_3 (Averag  (None, 26, 128)          0         \n",
      " ePooling1D)                                                     \n",
      "                                                                 \n",
      " flatten (Flatten)           (None, 3328)              0         \n",
      "                                                                 \n",
      " dropout (Dropout)           (None, 3328)              0         \n",
      "                                                                 \n",
      " dense (Dense)               (None, 35)                116515    \n",
      "                                                                 \n",
      " dense_1 (Dense)             (None, 5)                 180       \n",
      "                                                                 \n",
      " softmax (Softmax)           (None, 5)                 0         \n",
      "                                                                 \n",
      "=================================================================\n",
      "Total params: 315,287\n",
      "Trainable params: 315,287\n",
      "Non-trainable params: 0\n",
      "_________________________________________________________________\n"
     ]
    }
   ],
   "source": [
    "# Instanciate an empty model\n",
    "model = Sequential()\n",
    "\n",
    "model.add(Conv1D(filters=16, kernel_size=13, padding='same', activation='relu',input_shape=(440, 1)))\n",
    "model.add(AvgPool1D(pool_size=3, strides=2))\n",
    "model.add(Conv1D(filters=32, kernel_size=15, padding='same', activation='relu'))\n",
    "model.add(AvgPool1D(pool_size=3, strides=2))\n",
    "model.add(Conv1D(filters=64, kernel_size=17, padding='same', activation='relu'))\n",
    "model.add(AvgPool1D(pool_size=3, strides=2))\n",
    "model.add(Conv1D(filters=128, kernel_size=19, padding='same', activation='relu'))\n",
    "model.add(AvgPool1D(pool_size=3, strides=2))\n",
    "model.add(Flatten())\n",
    "model.add(Dropout(0.5))\n",
    "model.add(Dense(35,kernel_regularizer=regularizers.l2(0.0001), bias_regularizer=regularizers.l2(0.0001)))\n",
    "model.add(Dense(5,kernel_regularizer=regularizers.l2(0.0001), bias_regularizer=regularizers.l2(0.0001)))\n",
    "model.add(Softmax())\n",
    "\n",
    "model.summary()"
   ]
  },
  {
   "attachments": {},
   "cell_type": "markdown",
   "metadata": {},
   "source": [
    "# learning_rate 0.002, batch_size 32, epoch 50"
   ]
  },
  {
   "cell_type": "code",
   "execution_count": 7,
   "metadata": {},
   "outputs": [],
   "source": [
    "model.compile(loss='categorical_crossentropy', optimizer=Adam(learning_rate=0.002), metrics=['accuracy'])"
   ]
  },
  {
   "cell_type": "code",
   "execution_count": 8,
   "metadata": {},
   "outputs": [
    {
     "name": "stdout",
     "output_type": "stream",
     "text": [
      "Epoch 1/50\n",
      "1660/1660 [==============================] - 118s 71ms/step - loss: 0.3293 - accuracy: 0.8938 - val_loss: 0.1386 - val_accuracy: 0.9629\n",
      "Epoch 2/50\n",
      "1660/1660 [==============================] - 115s 70ms/step - loss: 0.1560 - accuracy: 0.9583 - val_loss: 0.1226 - val_accuracy: 0.9736\n",
      "Epoch 3/50\n",
      "1660/1660 [==============================] - 103s 62ms/step - loss: 0.1295 - accuracy: 0.9674 - val_loss: 0.0996 - val_accuracy: 0.9767\n",
      "Epoch 4/50\n",
      "1660/1660 [==============================] - 109s 66ms/step - loss: 0.1128 - accuracy: 0.9710 - val_loss: 0.1105 - val_accuracy: 0.9737\n",
      "Epoch 5/50\n",
      "1660/1660 [==============================] - 106s 64ms/step - loss: 0.1037 - accuracy: 0.9746 - val_loss: 0.1019 - val_accuracy: 0.9755\n",
      "Epoch 6/50\n",
      "1660/1660 [==============================] - 103s 62ms/step - loss: 0.0940 - accuracy: 0.9771 - val_loss: 0.0833 - val_accuracy: 0.9818\n",
      "Epoch 7/50\n",
      "1660/1660 [==============================] - 112s 67ms/step - loss: 0.0850 - accuracy: 0.9791 - val_loss: 0.0889 - val_accuracy: 0.9785\n",
      "Epoch 8/50\n",
      "1660/1660 [==============================] - 103s 62ms/step - loss: 0.0806 - accuracy: 0.9806 - val_loss: 0.0812 - val_accuracy: 0.9819\n",
      "Epoch 9/50\n",
      "1660/1660 [==============================] - 110s 66ms/step - loss: 0.0727 - accuracy: 0.9829 - val_loss: 0.0948 - val_accuracy: 0.9790\n",
      "Epoch 10/50\n",
      "1660/1660 [==============================] - 107s 65ms/step - loss: 0.0699 - accuracy: 0.9839 - val_loss: 0.0787 - val_accuracy: 0.9836\n",
      "Epoch 11/50\n",
      "1660/1660 [==============================] - 104s 63ms/step - loss: 0.0666 - accuracy: 0.9852 - val_loss: 0.0855 - val_accuracy: 0.9825\n",
      "Epoch 12/50\n",
      "1660/1660 [==============================] - 90s 54ms/step - loss: 0.0626 - accuracy: 0.9862 - val_loss: 0.0716 - val_accuracy: 0.9840\n",
      "Epoch 13/50\n",
      "1660/1660 [==============================] - 68s 41ms/step - loss: 0.0598 - accuracy: 0.9867 - val_loss: 0.0764 - val_accuracy: 0.9846\n",
      "Epoch 14/50\n",
      "1660/1660 [==============================] - 71s 43ms/step - loss: 0.0576 - accuracy: 0.9873 - val_loss: 0.0815 - val_accuracy: 0.9821\n",
      "Epoch 15/50\n",
      "1660/1660 [==============================] - 71s 43ms/step - loss: 0.0567 - accuracy: 0.9874 - val_loss: 0.0788 - val_accuracy: 0.9855\n",
      "Epoch 16/50\n",
      "1660/1660 [==============================] - 71s 43ms/step - loss: 0.0532 - accuracy: 0.9889 - val_loss: 0.0742 - val_accuracy: 0.9855\n",
      "Epoch 17/50\n",
      "1660/1660 [==============================] - 67s 41ms/step - loss: 0.0510 - accuracy: 0.9893 - val_loss: 0.0734 - val_accuracy: 0.9866\n",
      "Epoch 18/50\n",
      "1660/1660 [==============================] - 70s 42ms/step - loss: 0.0495 - accuracy: 0.9902 - val_loss: 0.0802 - val_accuracy: 0.9845\n",
      "Epoch 19/50\n",
      "1660/1660 [==============================] - 69s 42ms/step - loss: 0.0532 - accuracy: 0.9895 - val_loss: 0.0762 - val_accuracy: 0.9855\n",
      "Epoch 20/50\n",
      "1660/1660 [==============================] - 64s 39ms/step - loss: 0.0510 - accuracy: 0.9901 - val_loss: 0.0772 - val_accuracy: 0.9855\n",
      "Epoch 21/50\n",
      "1660/1660 [==============================] - 66s 40ms/step - loss: 0.0477 - accuracy: 0.9913 - val_loss: 0.0878 - val_accuracy: 0.9843\n",
      "Epoch 22/50\n",
      "1660/1660 [==============================] - 65s 39ms/step - loss: 0.0500 - accuracy: 0.9903 - val_loss: 0.0828 - val_accuracy: 0.9846\n",
      "Epoch 23/50\n",
      "1660/1660 [==============================] - 65s 39ms/step - loss: 0.0489 - accuracy: 0.9908 - val_loss: 0.0757 - val_accuracy: 0.9856\n",
      "Epoch 24/50\n",
      "1660/1660 [==============================] - 64s 39ms/step - loss: 0.0455 - accuracy: 0.9913 - val_loss: 0.0793 - val_accuracy: 0.9865\n",
      "Epoch 25/50\n",
      "1660/1660 [==============================] - 71s 43ms/step - loss: 0.0461 - accuracy: 0.9914 - val_loss: 0.0808 - val_accuracy: 0.9861\n",
      "Epoch 26/50\n",
      "1660/1660 [==============================] - 65s 39ms/step - loss: 0.0454 - accuracy: 0.9919 - val_loss: 0.0808 - val_accuracy: 0.9847\n",
      "Epoch 27/50\n",
      "1660/1660 [==============================] - 63s 38ms/step - loss: 0.0460 - accuracy: 0.9922 - val_loss: 0.0840 - val_accuracy: 0.9834\n",
      "Epoch 28/50\n",
      "1660/1660 [==============================] - 73s 44ms/step - loss: 0.0453 - accuracy: 0.9918 - val_loss: 0.0868 - val_accuracy: 0.9855\n",
      "Epoch 29/50\n",
      "1660/1660 [==============================] - 64s 38ms/step - loss: 0.0447 - accuracy: 0.9923 - val_loss: 0.0998 - val_accuracy: 0.9831\n",
      "Epoch 30/50\n",
      "1660/1660 [==============================] - 68s 41ms/step - loss: 0.0412 - accuracy: 0.9929 - val_loss: 0.0963 - val_accuracy: 0.9845\n",
      "Epoch 31/50\n",
      "1660/1660 [==============================] - 72s 43ms/step - loss: 0.0458 - accuracy: 0.9919 - val_loss: 0.1211 - val_accuracy: 0.9818\n",
      "Epoch 32/50\n",
      "1660/1660 [==============================] - 65s 39ms/step - loss: 0.0437 - accuracy: 0.9923 - val_loss: 0.0899 - val_accuracy: 0.9855\n",
      "Epoch 33/50\n",
      "1660/1660 [==============================] - 65s 39ms/step - loss: 0.0413 - accuracy: 0.9931 - val_loss: 0.1023 - val_accuracy: 0.9836\n",
      "Epoch 34/50\n",
      "1660/1660 [==============================] - 68s 41ms/step - loss: 0.0417 - accuracy: 0.9931 - val_loss: 0.0868 - val_accuracy: 0.9857\n",
      "Epoch 35/50\n",
      "1660/1660 [==============================] - 72s 43ms/step - loss: 0.0391 - accuracy: 0.9933 - val_loss: 0.0889 - val_accuracy: 0.9847\n",
      "Epoch 36/50\n",
      "1660/1660 [==============================] - 65s 39ms/step - loss: 0.0423 - accuracy: 0.9931 - val_loss: 0.0821 - val_accuracy: 0.9866\n",
      "Epoch 37/50\n",
      "1660/1660 [==============================] - 73s 44ms/step - loss: 0.0408 - accuracy: 0.9938 - val_loss: 0.0893 - val_accuracy: 0.9855\n",
      "Epoch 38/50\n",
      "1660/1660 [==============================] - 68s 41ms/step - loss: 0.0406 - accuracy: 0.9931 - val_loss: 0.0876 - val_accuracy: 0.9870\n",
      "Epoch 39/50\n",
      "1660/1660 [==============================] - 66s 40ms/step - loss: 0.0411 - accuracy: 0.9934 - val_loss: 0.0991 - val_accuracy: 0.9854\n",
      "Epoch 40/50\n",
      "1660/1660 [==============================] - 72s 44ms/step - loss: 0.0411 - accuracy: 0.9937 - val_loss: 0.0881 - val_accuracy: 0.9861\n",
      "Epoch 41/50\n",
      "1660/1660 [==============================] - 80s 48ms/step - loss: 0.0412 - accuracy: 0.9937 - val_loss: 0.0908 - val_accuracy: 0.9854\n",
      "Epoch 42/50\n",
      "1660/1660 [==============================] - 73s 44ms/step - loss: 0.0413 - accuracy: 0.9936 - val_loss: 0.0905 - val_accuracy: 0.9864\n",
      "Epoch 43/50\n",
      "1660/1660 [==============================] - 74s 45ms/step - loss: 0.0417 - accuracy: 0.9937 - val_loss: 0.0929 - val_accuracy: 0.9866\n",
      "Epoch 44/50\n",
      "1660/1660 [==============================] - 76s 46ms/step - loss: 0.0392 - accuracy: 0.9944 - val_loss: 0.0987 - val_accuracy: 0.9834\n",
      "Epoch 45/50\n",
      "1660/1660 [==============================] - 72s 43ms/step - loss: 0.0408 - accuracy: 0.9940 - val_loss: 0.1016 - val_accuracy: 0.9857\n",
      "Epoch 46/50\n",
      "1660/1660 [==============================] - 74s 44ms/step - loss: 0.0386 - accuracy: 0.9943 - val_loss: 0.0919 - val_accuracy: 0.9846\n",
      "Epoch 47/50\n",
      "1660/1660 [==============================] - 73s 44ms/step - loss: 0.0411 - accuracy: 0.9940 - val_loss: 0.0916 - val_accuracy: 0.9848\n",
      "Epoch 48/50\n",
      "1660/1660 [==============================] - 65s 39ms/step - loss: 0.0417 - accuracy: 0.9938 - val_loss: 0.1077 - val_accuracy: 0.9849\n",
      "Epoch 49/50\n",
      "1660/1660 [==============================] - 66s 40ms/step - loss: 0.0402 - accuracy: 0.9938 - val_loss: 0.0988 - val_accuracy: 0.9867\n",
      "Epoch 50/50\n",
      "1660/1660 [==============================] - 74s 45ms/step - loss: 0.0390 - accuracy: 0.9946 - val_loss: 0.1134 - val_accuracy: 0.9841\n"
     ]
    }
   ],
   "source": [
    "history = model.fit(train_x, train_y, batch_size=32, epochs=50, verbose=1, validation_data=(test_x, test_y))"
   ]
  },
  {
   "cell_type": "code",
   "execution_count": 9,
   "metadata": {},
   "outputs": [
    {
     "data": {
      "image/png": "[encoded data removed]",
      "text/plain": [
       "<Figure size 800x300 with 1 Axes>"
      ]
     },
     "metadata": {},
     "output_type": "display_data"
    },
    {
     "data": {
      "image/png": "[encoded data removed]",
      "text/plain": [
       "<Figure size 800x300 with 1 Axes>"
      ]
     },
     "metadata": {},
     "output_type": "display_data"
    }
   ],
   "source": [
    "# summarize history for loss\n",
    "plt.figure(figsize=(8,3))\n",
    "plt.plot(history.history['loss'])\n",
    "plt.plot(history.history['val_loss'])\n",
    "plt.title('model loss')\n",
    "plt.ylabel('loss')\n",
    "plt.xlabel('epoch')\n",
    "plt.legend(['train', 'test'], loc='best')\n",
    "plt.show()\n",
    "\n",
    "# summarize history for accuracy\n",
    "plt.figure(figsize=(8,3))\n",
    "plt.plot(history.history['accuracy'])\n",
    "plt.plot(history.history['val_accuracy'])\n",
    "plt.title('model accuracy')\n",
    "plt.ylabel('accuracy')\n",
    "plt.xlabel('epoch')\n",
    "plt.legend(['train', 'test'], loc='best')\n",
    "plt.show()"
   ]
  },
  {
   "cell_type": "code",
   "execution_count": 10,
   "metadata": {},
   "outputs": [
    {
     "name": "stdout",
     "output_type": "stream",
     "text": [
      "415/415 [==============================] - 4s 8ms/step - loss: 0.1134 - accuracy: 0.9841\n",
      "Test Loss: 0.11340486258268356\n",
      "Test accuracy: 0.9841066598892212\n"
     ]
    }
   ],
   "source": [
    "# finding the loss and acuracy of the model\n",
    "score = model.evaluate(test_x, test_y)\n",
    "\n",
    "print('Test Loss:', score[0])\n",
    "print('Test accuracy:', score[1])"
   ]
  },
  {
   "cell_type": "code",
   "execution_count": 11,
   "metadata": {},
   "outputs": [
    {
     "name": "stderr",
     "output_type": "stream",
     "text": [
      "WARNING:absl:Found untraced functions such as _jit_compiled_convolution_op, _jit_compiled_convolution_op, _jit_compiled_convolution_op, _jit_compiled_convolution_op while saving (showing 4 of 4). These functions will not be directly callable after loading.\n"
     ]
    },
    {
     "name": "stdout",
     "output_type": "stream",
     "text": [
      "INFO:tensorflow:Assets written to: CNN_model_19\\assets\n"
     ]
    },
    {
     "name": "stderr",
     "output_type": "stream",
     "text": [
      "INFO:tensorflow:Assets written to: CNN_model_19\\assets\n"
     ]
    }
   ],
   "source": [
    "# save model\n",
    "model.save('CNN_model_19')"
   ]
  },
  {
   "attachments": {},
   "cell_type": "markdown",
   "metadata": {},
   "source": [
    "# confusion matrix"
   ]
  },
  {
   "cell_type": "code",
   "execution_count": 12,
   "metadata": {},
   "outputs": [
    {
     "name": "stdout",
     "output_type": "stream",
     "text": [
      "415/415 [==============================] - 3s 7ms/step\n"
     ]
    },
    {
     "data": {
      "text/plain": [
       "array([3, 1, 2, ..., 0, 3, 0], dtype=int64)"
      ]
     },
     "execution_count": 12,
     "metadata": {},
     "output_type": "execute_result"
    }
   ],
   "source": [
    "y_pred = model.predict(test_x)\n",
    "y_pred = np.argmax(y_pred, axis=1)\n",
    "y_pred"
   ]
  },
  {
   "cell_type": "code",
   "execution_count": 13,
   "metadata": {},
   "outputs": [
    {
     "name": "stdout",
     "output_type": "stream",
     "text": [
      "confusion matrix\n",
      "[[3205    6    8    6   19]\n",
      " [  13 3184    0    3    0]\n",
      " [  17    1 2972    1    1]\n",
      " [  64   20    3 2736   12]\n",
      " [  29    0    2    6  968]]\n",
      "\n",
      "classification report\n",
      "              precision    recall  f1-score   support\n",
      "\n",
      "           N     0.9630    0.9880    0.9753      3244\n",
      "           L     0.9916    0.9950    0.9933      3200\n",
      "           R     0.9956    0.9933    0.9945      2992\n",
      "           V     0.9942    0.9651    0.9794      2835\n",
      "           A     0.9680    0.9632    0.9656      1005\n",
      "\n",
      "    accuracy                         0.9841     13276\n",
      "   macro avg     0.9825    0.9809    0.9816     13276\n",
      "weighted avg     0.9843    0.9841    0.9841     13276\n",
      "\n"
     ]
    }
   ],
   "source": [
    "y_true = test[440]\n",
    "\n",
    "from sklearn.metrics import confusion_matrix, classification_report\n",
    "\n",
    "cm = confusion_matrix(y_true, y_pred)\n",
    "print('confusion matrix')\n",
    "print(cm)\n",
    "print('\\nclassification report')\n",
    "report = classification_report(y_true, y_pred, target_names=['N', 'L', 'R', 'V', 'A'], digits=4)\n",
    "print(report )\n",
    "\n",
    "def report_to_df(report):\n",
    "    report = [x.split(' ') for x in report.split('\\n')]\n",
    "    header = ['Class Name']+[x for x in report[0] if x!='']\n",
    "    values = []\n",
    "    for row in report[1:-5]:\n",
    "        row = [value for value in row if value!='']\n",
    "        if row!=[]:\n",
    "            values.append(row)\n",
    "    df = pd.DataFrame(data = values, columns = header)\n",
    "    return df\n",
    "report = report_to_df(report)\n",
    "\n",
    "# report.to_csv('classification report.csv', index=True)"
   ]
  }
 ],
 "metadata": {
  "kernelspec": {
   "display_name": "cenv1",
   "language": "python",
   "name": "python3"
  },
  "language_info": {
   "codemirror_mode": {
    "name": "ipython",
    "version": 3
   },
   "file_extension": ".py",
   "mimetype": "text/x-python",
   "name": "python",
   "nbconvert_exporter": "python",
   "pygments_lexer": "ipython3",
   "version": "3.10.9"
  },
  "orig_nbformat": 4
 },
 "nbformat": 4,
 "nbformat_minor": 2
}
