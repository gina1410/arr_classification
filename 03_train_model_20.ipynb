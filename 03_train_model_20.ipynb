{
 "cells": [
  {
   "attachments": {},
   "cell_type": "markdown",
   "metadata": {},
   "source": [
    "# Initialize"
   ]
  },
  {
   "cell_type": "code",
   "execution_count": 1,
   "metadata": {},
   "outputs": [],
   "source": [
    "import numpy as np\n",
    "import pandas as pd\n",
    "import matplotlib.pyplot as plt\n",
    "\n",
    "from keras.utils.np_utils import to_categorical\n",
    "from keras.models import Sequential\n",
    "from keras.layers import Conv1D, AvgPool1D, Flatten, Dense, Dropout, Softmax\n",
    "from keras import regularizers\n",
    "from keras.optimizers import Adam \n"
   ]
  },
  {
   "attachments": {},
   "cell_type": "markdown",
   "metadata": {},
   "source": [
    "# Load dataset"
   ]
  },
  {
   "cell_type": "code",
   "execution_count": 2,
   "metadata": {},
   "outputs": [
    {
     "name": "stdout",
     "output_type": "stream",
     "text": [
      "train_data :  (53102, 441)\n",
      "test_data  :  (13276, 441)\n"
     ]
    }
   ],
   "source": [
    "train = pd.read_csv('./data/0.8_train.csv', header=None)\n",
    "test = pd.read_csv('./data/0.2_test.csv', header=None)\n",
    "\n",
    "print(\"train_data : \", np.shape(train))\n",
    "print(\"test_data  : \", np.shape(test))"
   ]
  },
  {
   "cell_type": "code",
   "execution_count": 3,
   "metadata": {},
   "outputs": [
    {
     "name": "stdout",
     "output_type": "stream",
     "text": [
      "data train per class\n",
      "0.0    13152\n",
      "1.0    12938\n",
      "2.0    11508\n",
      "3.0    11421\n",
      "4.0     4083\n",
      "Name: 440, dtype: int64\n",
      "---------------------------------\n",
      "data test per class\n",
      "0.0    3244\n",
      "1.0    3200\n",
      "2.0    2992\n",
      "3.0    2835\n",
      "4.0    1005\n",
      "Name: 440, dtype: int64\n"
     ]
    }
   ],
   "source": [
    "# 0.0 Normal beat\n",
    "# 1.0 LBBB beat\n",
    "# 2.0 RBBB beat\n",
    "# 3.0 PVC beat\n",
    "# 4.0 PAC beat\n",
    "\n",
    "print('data train per class')\n",
    "print(train[440].value_counts())\n",
    "print('---------------------------------')\n",
    "print('data test per class')\n",
    "print(test[440].value_counts())"
   ]
  },
  {
   "cell_type": "code",
   "execution_count": 4,
   "metadata": {},
   "outputs": [
    {
     "name": "stdout",
     "output_type": "stream",
     "text": [
      "(53102, 5) (13276, 5)\n"
     ]
    }
   ],
   "source": [
    "target_train=train[train.shape[1]-1]\n",
    "target_test=test[test.shape[1]-1]\n",
    "train_y=to_categorical(target_train)\n",
    "test_y=to_categorical(target_test)\n",
    "print(np.shape(train_y), np.shape(test_y))"
   ]
  },
  {
   "cell_type": "code",
   "execution_count": 5,
   "metadata": {},
   "outputs": [
    {
     "name": "stdout",
     "output_type": "stream",
     "text": [
      "(53102, 440, 1) (13276, 440, 1)\n"
     ]
    }
   ],
   "source": [
    "train_x = train.iloc[:,:train.shape[1]-1].values\n",
    "test_x = test.iloc[:,:test.shape[1]-1].values\n",
    "train_x = train_x.reshape(len(train_x), train_x.shape[1],1)\n",
    "test_x = test_x.reshape(len(test_x), test_x.shape[1],1)\n",
    "print(np.shape(train_x), np.shape(test_x))"
   ]
  },
  {
   "attachments": {},
   "cell_type": "markdown",
   "metadata": {},
   "source": [
    "# Model architecture"
   ]
  },
  {
   "cell_type": "code",
   "execution_count": 6,
   "metadata": {},
   "outputs": [
    {
     "name": "stdout",
     "output_type": "stream",
     "text": [
      "Model: \"sequential\"\n",
      "_________________________________________________________________\n",
      " Layer (type)                Output Shape              Param #   \n",
      "=================================================================\n",
      " conv1d (Conv1D)             (None, 440, 16)           224       \n",
      "                                                                 \n",
      " average_pooling1d (AverageP  (None, 219, 16)          0         \n",
      " ooling1D)                                                       \n",
      "                                                                 \n",
      " conv1d_1 (Conv1D)           (None, 219, 32)           7712      \n",
      "                                                                 \n",
      " average_pooling1d_1 (Averag  (None, 109, 32)          0         \n",
      " ePooling1D)                                                     \n",
      "                                                                 \n",
      " conv1d_2 (Conv1D)           (None, 109, 64)           34880     \n",
      "                                                                 \n",
      " average_pooling1d_2 (Averag  (None, 54, 64)           0         \n",
      " ePooling1D)                                                     \n",
      "                                                                 \n",
      " conv1d_3 (Conv1D)           (None, 54, 128)           155776    \n",
      "                                                                 \n",
      " average_pooling1d_3 (Averag  (None, 26, 128)          0         \n",
      " ePooling1D)                                                     \n",
      "                                                                 \n",
      " flatten (Flatten)           (None, 3328)              0         \n",
      "                                                                 \n",
      " dropout (Dropout)           (None, 3328)              0         \n",
      "                                                                 \n",
      " dense (Dense)               (None, 35)                116515    \n",
      "                                                                 \n",
      " dense_1 (Dense)             (None, 5)                 180       \n",
      "                                                                 \n",
      " softmax (Softmax)           (None, 5)                 0         \n",
      "                                                                 \n",
      "=================================================================\n",
      "Total params: 315,287\n",
      "Trainable params: 315,287\n",
      "Non-trainable params: 0\n",
      "_________________________________________________________________\n"
     ]
    }
   ],
   "source": [
    "# Instanciate an empty model\n",
    "model = Sequential()\n",
    "\n",
    "model.add(Conv1D(filters=16, kernel_size=13, padding='same', activation='relu',input_shape=(440, 1)))\n",
    "model.add(AvgPool1D(pool_size=3, strides=2))\n",
    "model.add(Conv1D(filters=32, kernel_size=15, padding='same', activation='relu'))\n",
    "model.add(AvgPool1D(pool_size=3, strides=2))\n",
    "model.add(Conv1D(filters=64, kernel_size=17, padding='same', activation='relu'))\n",
    "model.add(AvgPool1D(pool_size=3, strides=2))\n",
    "model.add(Conv1D(filters=128, kernel_size=19, padding='same', activation='relu'))\n",
    "model.add(AvgPool1D(pool_size=3, strides=2))\n",
    "model.add(Flatten())\n",
    "model.add(Dropout(0.5))\n",
    "model.add(Dense(35,kernel_regularizer=regularizers.l2(0.0001), bias_regularizer=regularizers.l2(0.0001)))\n",
    "model.add(Dense(5,kernel_regularizer=regularizers.l2(0.0001), bias_regularizer=regularizers.l2(0.0001)))\n",
    "model.add(Softmax())\n",
    "\n",
    "model.summary()"
   ]
  },
  {
   "attachments": {},
   "cell_type": "markdown",
   "metadata": {},
   "source": [
    "# learning_rate 0.002, batch_size 32, epoch 75"
   ]
  },
  {
   "cell_type": "code",
   "execution_count": 7,
   "metadata": {},
   "outputs": [],
   "source": [
    "model.compile(loss='categorical_crossentropy', optimizer=Adam(learning_rate=0.002), metrics=['accuracy'])"
   ]
  },
  {
   "cell_type": "code",
   "execution_count": 8,
   "metadata": {},
   "outputs": [
    {
     "name": "stdout",
     "output_type": "stream",
     "text": [
      "Epoch 1/75\n",
      "1660/1660 [==============================] - 109s 64ms/step - loss: 0.3286 - accuracy: 0.8925 - val_loss: 0.1442 - val_accuracy: 0.9647\n",
      "Epoch 2/75\n",
      "1660/1660 [==============================] - 101s 61ms/step - loss: 0.1525 - accuracy: 0.9595 - val_loss: 0.1087 - val_accuracy: 0.9745\n",
      "Epoch 3/75\n",
      "1660/1660 [==============================] - 98s 59ms/step - loss: 0.1276 - accuracy: 0.9681 - val_loss: 0.1031 - val_accuracy: 0.9757\n",
      "Epoch 4/75\n",
      "1660/1660 [==============================] - 98s 59ms/step - loss: 0.1120 - accuracy: 0.9727 - val_loss: 0.1010 - val_accuracy: 0.9780\n",
      "Epoch 5/75\n",
      "1660/1660 [==============================] - 96s 58ms/step - loss: 0.0992 - accuracy: 0.9760 - val_loss: 0.0848 - val_accuracy: 0.9816\n",
      "Epoch 6/75\n",
      "1660/1660 [==============================] - 69s 42ms/step - loss: 0.0885 - accuracy: 0.9782 - val_loss: 0.0887 - val_accuracy: 0.9799\n",
      "Epoch 7/75\n",
      "1660/1660 [==============================] - 88s 53ms/step - loss: 0.0804 - accuracy: 0.9800 - val_loss: 0.0919 - val_accuracy: 0.9783\n",
      "Epoch 8/75\n",
      "1660/1660 [==============================] - 96s 58ms/step - loss: 0.0743 - accuracy: 0.9819 - val_loss: 0.0808 - val_accuracy: 0.9831\n",
      "Epoch 9/75\n",
      "1660/1660 [==============================] - 96s 58ms/step - loss: 0.0694 - accuracy: 0.9831 - val_loss: 0.0894 - val_accuracy: 0.9790\n",
      "Epoch 10/75\n",
      "1660/1660 [==============================] - 94s 56ms/step - loss: 0.0667 - accuracy: 0.9842 - val_loss: 0.0756 - val_accuracy: 0.9839\n",
      "Epoch 11/75\n",
      "1660/1660 [==============================] - 96s 58ms/step - loss: 0.0613 - accuracy: 0.9857 - val_loss: 0.0788 - val_accuracy: 0.9818\n",
      "Epoch 12/75\n",
      "1660/1660 [==============================] - 91s 55ms/step - loss: 0.0583 - accuracy: 0.9866 - val_loss: 0.0751 - val_accuracy: 0.9836\n",
      "Epoch 13/75\n",
      "1660/1660 [==============================] - 96s 58ms/step - loss: 0.0604 - accuracy: 0.9864 - val_loss: 0.0732 - val_accuracy: 0.9847\n",
      "Epoch 14/75\n",
      "1660/1660 [==============================] - 96s 58ms/step - loss: 0.0563 - accuracy: 0.9878 - val_loss: 0.0800 - val_accuracy: 0.9833\n",
      "Epoch 15/75\n",
      "1660/1660 [==============================] - 96s 58ms/step - loss: 0.0539 - accuracy: 0.9884 - val_loss: 0.0835 - val_accuracy: 0.9828\n",
      "Epoch 16/75\n",
      "1660/1660 [==============================] - 97s 59ms/step - loss: 0.0519 - accuracy: 0.9896 - val_loss: 0.0792 - val_accuracy: 0.9840\n",
      "Epoch 17/75\n",
      "1660/1660 [==============================] - 95s 57ms/step - loss: 0.0511 - accuracy: 0.9897 - val_loss: 0.0771 - val_accuracy: 0.9864\n",
      "Epoch 18/75\n",
      "1660/1660 [==============================] - 95s 57ms/step - loss: 0.0503 - accuracy: 0.9895 - val_loss: 0.0888 - val_accuracy: 0.9816\n",
      "Epoch 19/75\n",
      "1660/1660 [==============================] - 95s 57ms/step - loss: 0.0521 - accuracy: 0.9892 - val_loss: 0.0806 - val_accuracy: 0.9847\n",
      "Epoch 20/75\n",
      "1660/1660 [==============================] - 95s 57ms/step - loss: 0.0483 - accuracy: 0.9905 - val_loss: 0.0828 - val_accuracy: 0.9849\n",
      "Epoch 21/75\n",
      "1660/1660 [==============================] - 91s 55ms/step - loss: 0.0471 - accuracy: 0.9903 - val_loss: 0.0875 - val_accuracy: 0.9849\n",
      "Epoch 22/75\n",
      "1660/1660 [==============================] - 92s 55ms/step - loss: 0.0466 - accuracy: 0.9908 - val_loss: 0.0884 - val_accuracy: 0.9840\n",
      "Epoch 23/75\n",
      "1660/1660 [==============================] - 96s 58ms/step - loss: 0.0478 - accuracy: 0.9904 - val_loss: 0.0803 - val_accuracy: 0.9860\n",
      "Epoch 24/75\n",
      "1660/1660 [==============================] - 96s 58ms/step - loss: 0.0461 - accuracy: 0.9914 - val_loss: 0.0860 - val_accuracy: 0.9853\n",
      "Epoch 25/75\n",
      "1660/1660 [==============================] - 91s 55ms/step - loss: 0.0459 - accuracy: 0.9913 - val_loss: 0.0861 - val_accuracy: 0.9840\n",
      "Epoch 26/75\n",
      "1660/1660 [==============================] - 91s 55ms/step - loss: 0.0466 - accuracy: 0.9910 - val_loss: 0.0819 - val_accuracy: 0.9846\n",
      "Epoch 27/75\n",
      "1660/1660 [==============================] - 94s 56ms/step - loss: 0.0443 - accuracy: 0.9918 - val_loss: 0.0785 - val_accuracy: 0.9854\n",
      "Epoch 28/75\n",
      "1660/1660 [==============================] - 96s 58ms/step - loss: 0.0462 - accuracy: 0.9915 - val_loss: 0.0838 - val_accuracy: 0.9864\n",
      "Epoch 29/75\n",
      "1660/1660 [==============================] - 90s 54ms/step - loss: 0.0427 - accuracy: 0.9924 - val_loss: 0.0890 - val_accuracy: 0.9840\n",
      "Epoch 30/75\n",
      "1660/1660 [==============================] - 93s 56ms/step - loss: 0.0436 - accuracy: 0.9920 - val_loss: 0.0814 - val_accuracy: 0.9855\n",
      "Epoch 31/75\n",
      "1660/1660 [==============================] - 84s 50ms/step - loss: 0.0430 - accuracy: 0.9924 - val_loss: 0.0828 - val_accuracy: 0.9861\n",
      "Epoch 32/75\n",
      "1660/1660 [==============================] - 78s 47ms/step - loss: 0.0446 - accuracy: 0.9925 - val_loss: 0.0842 - val_accuracy: 0.9849\n",
      "Epoch 33/75\n",
      "1660/1660 [==============================] - 83s 50ms/step - loss: 0.0386 - accuracy: 0.9934 - val_loss: 0.0861 - val_accuracy: 0.9860\n",
      "Epoch 34/75\n",
      "1660/1660 [==============================] - 82s 49ms/step - loss: 0.0441 - accuracy: 0.9920 - val_loss: 0.0933 - val_accuracy: 0.9836\n",
      "Epoch 35/75\n",
      "1660/1660 [==============================] - 85s 51ms/step - loss: 0.0396 - accuracy: 0.9931 - val_loss: 0.0898 - val_accuracy: 0.9858\n",
      "Epoch 36/75\n",
      "1660/1660 [==============================] - 87s 53ms/step - loss: 0.0422 - accuracy: 0.9923 - val_loss: 0.0854 - val_accuracy: 0.9860\n",
      "Epoch 37/75\n",
      "1660/1660 [==============================] - 88s 53ms/step - loss: 0.0406 - accuracy: 0.9937 - val_loss: 0.0777 - val_accuracy: 0.9876\n",
      "Epoch 38/75\n",
      "1660/1660 [==============================] - 79s 48ms/step - loss: 0.0376 - accuracy: 0.9936 - val_loss: 0.0926 - val_accuracy: 0.9855\n",
      "Epoch 39/75\n",
      "1660/1660 [==============================] - 88s 53ms/step - loss: 0.0426 - accuracy: 0.9928 - val_loss: 0.0999 - val_accuracy: 0.9842\n",
      "Epoch 40/75\n",
      "1660/1660 [==============================] - 87s 52ms/step - loss: 0.0389 - accuracy: 0.9941 - val_loss: 0.0910 - val_accuracy: 0.9849\n",
      "Epoch 41/75\n",
      "1660/1660 [==============================] - 82s 49ms/step - loss: 0.0382 - accuracy: 0.9938 - val_loss: 0.1019 - val_accuracy: 0.9850\n",
      "Epoch 42/75\n",
      "1660/1660 [==============================] - 87s 53ms/step - loss: 0.0402 - accuracy: 0.9937 - val_loss: 0.0975 - val_accuracy: 0.9834\n",
      "Epoch 43/75\n",
      "1660/1660 [==============================] - 80s 48ms/step - loss: 0.0352 - accuracy: 0.9946 - val_loss: 0.1103 - val_accuracy: 0.9830\n",
      "Epoch 44/75\n",
      "1660/1660 [==============================] - 88s 53ms/step - loss: 0.0387 - accuracy: 0.9940 - val_loss: 0.1057 - val_accuracy: 0.9824\n",
      "Epoch 45/75\n",
      "1660/1660 [==============================] - 89s 53ms/step - loss: 0.0365 - accuracy: 0.9943 - val_loss: 0.1024 - val_accuracy: 0.9858\n",
      "Epoch 46/75\n",
      "1660/1660 [==============================] - 86s 52ms/step - loss: 0.0386 - accuracy: 0.9943 - val_loss: 0.0867 - val_accuracy: 0.9870\n",
      "Epoch 47/75\n",
      "1660/1660 [==============================] - 79s 48ms/step - loss: 0.0418 - accuracy: 0.9934 - val_loss: 0.0936 - val_accuracy: 0.9858\n",
      "Epoch 48/75\n",
      "1660/1660 [==============================] - 89s 54ms/step - loss: 0.0350 - accuracy: 0.9949 - val_loss: 0.0797 - val_accuracy: 0.9865\n",
      "Epoch 49/75\n",
      "1660/1660 [==============================] - 75s 45ms/step - loss: 0.0352 - accuracy: 0.9947 - val_loss: 0.1021 - val_accuracy: 0.9855\n",
      "Epoch 50/75\n",
      "1660/1660 [==============================] - 65s 39ms/step - loss: 0.0378 - accuracy: 0.9941 - val_loss: 0.0921 - val_accuracy: 0.9867\n",
      "Epoch 51/75\n",
      "1660/1660 [==============================] - 71s 43ms/step - loss: 0.0391 - accuracy: 0.9938 - val_loss: 0.0979 - val_accuracy: 0.9858\n",
      "Epoch 52/75\n",
      "1660/1660 [==============================] - 65s 39ms/step - loss: 0.0376 - accuracy: 0.9946 - val_loss: 0.0887 - val_accuracy: 0.9858\n",
      "Epoch 53/75\n",
      "1660/1660 [==============================] - 67s 40ms/step - loss: 0.0357 - accuracy: 0.9947 - val_loss: 0.1002 - val_accuracy: 0.9864\n",
      "Epoch 54/75\n",
      "1660/1660 [==============================] - 70s 42ms/step - loss: 0.0357 - accuracy: 0.9944 - val_loss: 0.0890 - val_accuracy: 0.9862\n",
      "Epoch 55/75\n",
      "1660/1660 [==============================] - 76s 46ms/step - loss: 0.0341 - accuracy: 0.9949 - val_loss: 0.1021 - val_accuracy: 0.9851\n",
      "Epoch 56/75\n",
      "1660/1660 [==============================] - 72s 43ms/step - loss: 0.0395 - accuracy: 0.9943 - val_loss: 0.0962 - val_accuracy: 0.9848\n",
      "Epoch 57/75\n",
      "1660/1660 [==============================] - 75s 45ms/step - loss: 0.0356 - accuracy: 0.9947 - val_loss: 0.0997 - val_accuracy: 0.9855\n",
      "Epoch 58/75\n",
      "1660/1660 [==============================] - 75s 45ms/step - loss: 0.0384 - accuracy: 0.9944 - val_loss: 0.1026 - val_accuracy: 0.9858\n",
      "Epoch 59/75\n",
      "1660/1660 [==============================] - 73s 44ms/step - loss: 0.0336 - accuracy: 0.9949 - val_loss: 0.1079 - val_accuracy: 0.9851\n",
      "Epoch 60/75\n",
      "1660/1660 [==============================] - 72s 43ms/step - loss: 0.0397 - accuracy: 0.9942 - val_loss: 0.1072 - val_accuracy: 0.9838\n",
      "Epoch 61/75\n",
      "1660/1660 [==============================] - 78s 47ms/step - loss: 0.0379 - accuracy: 0.9942 - val_loss: 0.1147 - val_accuracy: 0.9848\n",
      "Epoch 62/75\n",
      "1660/1660 [==============================] - 71s 43ms/step - loss: 0.0371 - accuracy: 0.9951 - val_loss: 0.1041 - val_accuracy: 0.9856\n",
      "Epoch 63/75\n",
      "1660/1660 [==============================] - 75s 45ms/step - loss: 0.0335 - accuracy: 0.9955 - val_loss: 0.0993 - val_accuracy: 0.9856\n",
      "Epoch 64/75\n",
      "1660/1660 [==============================] - 72s 44ms/step - loss: 0.0364 - accuracy: 0.9948 - val_loss: 0.1152 - val_accuracy: 0.9840\n",
      "Epoch 65/75\n",
      "1660/1660 [==============================] - 64s 39ms/step - loss: 0.0364 - accuracy: 0.9950 - val_loss: 0.0910 - val_accuracy: 0.9865\n",
      "Epoch 66/75\n",
      "1660/1660 [==============================] - 67s 40ms/step - loss: 0.0349 - accuracy: 0.9954 - val_loss: 0.1025 - val_accuracy: 0.9860\n",
      "Epoch 67/75\n",
      "1660/1660 [==============================] - 66s 40ms/step - loss: 0.0342 - accuracy: 0.9953 - val_loss: 0.1022 - val_accuracy: 0.9861\n",
      "Epoch 68/75\n",
      "1660/1660 [==============================] - 70s 42ms/step - loss: 0.0351 - accuracy: 0.9953 - val_loss: 0.1101 - val_accuracy: 0.9855\n",
      "Epoch 69/75\n",
      "1660/1660 [==============================] - 71s 43ms/step - loss: 0.0392 - accuracy: 0.9944 - val_loss: 0.1022 - val_accuracy: 0.9859\n",
      "Epoch 70/75\n",
      "1660/1660 [==============================] - 64s 39ms/step - loss: 0.0341 - accuracy: 0.9955 - val_loss: 0.1106 - val_accuracy: 0.9839\n",
      "Epoch 71/75\n",
      "1660/1660 [==============================] - 69s 41ms/step - loss: 0.0356 - accuracy: 0.9955 - val_loss: 0.1187 - val_accuracy: 0.9847\n",
      "Epoch 72/75\n",
      "1660/1660 [==============================] - 75s 45ms/step - loss: 0.0370 - accuracy: 0.9945 - val_loss: 0.1139 - val_accuracy: 0.9861\n",
      "Epoch 73/75\n",
      "1660/1660 [==============================] - 70s 42ms/step - loss: 0.0376 - accuracy: 0.9950 - val_loss: 0.0958 - val_accuracy: 0.9871\n",
      "Epoch 74/75\n",
      "1660/1660 [==============================] - 69s 41ms/step - loss: 0.0337 - accuracy: 0.9954 - val_loss: 0.1026 - val_accuracy: 0.9858\n",
      "Epoch 75/75\n",
      "1660/1660 [==============================] - 70s 42ms/step - loss: 0.0357 - accuracy: 0.9955 - val_loss: 0.1049 - val_accuracy: 0.9858\n"
     ]
    }
   ],
   "source": [
    "history = model.fit(train_x, train_y, batch_size=32, epochs=75, verbose=1, validation_data=(test_x, test_y))"
   ]
  },
  {
   "cell_type": "code",
   "execution_count": 9,
   "metadata": {},
   "outputs": [
    {
     "data": {
      "image/png": "[encoded data removed]",
      "text/plain": [
       "<Figure size 800x300 with 1 Axes>"
      ]
     },
     "metadata": {},
     "output_type": "display_data"
    },
    {
     "data": {
      "image/png": "[encoded data removed]",
      "text/plain": [
       "<Figure size 800x300 with 1 Axes>"
      ]
     },
     "metadata": {},
     "output_type": "display_data"
    }
   ],
   "source": [
    "# summarize history for loss\n",
    "plt.figure(figsize=(8,3))\n",
    "plt.plot(history.history['loss'])\n",
    "plt.plot(history.history['val_loss'])\n",
    "plt.title('model loss')\n",
    "plt.ylabel('loss')\n",
    "plt.xlabel('epoch')\n",
    "plt.legend(['train', 'test'], loc='best')\n",
    "plt.show()\n",
    "\n",
    "# summarize history for accuracy\n",
    "plt.figure(figsize=(8,3))\n",
    "plt.plot(history.history['accuracy'])\n",
    "plt.plot(history.history['val_accuracy'])\n",
    "plt.title('model accuracy')\n",
    "plt.ylabel('accuracy')\n",
    "plt.xlabel('epoch')\n",
    "plt.legend(['train', 'test'], loc='best')\n",
    "plt.show()"
   ]
  },
  {
   "cell_type": "code",
   "execution_count": 10,
   "metadata": {},
   "outputs": [
    {
     "name": "stdout",
     "output_type": "stream",
     "text": [
      "415/415 [==============================] - 4s 10ms/step - loss: 0.1049 - accuracy: 0.9858\n",
      "Test Loss: 0.10490068793296814\n",
      "Test accuracy: 0.9857637882232666\n"
     ]
    }
   ],
   "source": [
    "# finding the loss and acuracy of the model\n",
    "score = model.evaluate(test_x, test_y)\n",
    "\n",
    "print('Test Loss:', score[0])\n",
    "print('Test accuracy:', score[1])"
   ]
  },
  {
   "cell_type": "code",
   "execution_count": 11,
   "metadata": {},
   "outputs": [
    {
     "name": "stderr",
     "output_type": "stream",
     "text": [
      "WARNING:absl:Found untraced functions such as _jit_compiled_convolution_op, _jit_compiled_convolution_op, _jit_compiled_convolution_op, _jit_compiled_convolution_op while saving (showing 4 of 4). These functions will not be directly callable after loading.\n"
     ]
    },
    {
     "name": "stdout",
     "output_type": "stream",
     "text": [
      "INFO:tensorflow:Assets written to: CNN_model_20\\assets\n"
     ]
    },
    {
     "name": "stderr",
     "output_type": "stream",
     "text": [
      "INFO:tensorflow:Assets written to: CNN_model_20\\assets\n"
     ]
    }
   ],
   "source": [
    "# save model\n",
    "model.save('CNN_model_20')"
   ]
  },
  {
   "attachments": {},
   "cell_type": "markdown",
   "metadata": {},
   "source": [
    "# confusion matrix"
   ]
  },
  {
   "cell_type": "code",
   "execution_count": 12,
   "metadata": {},
   "outputs": [
    {
     "name": "stdout",
     "output_type": "stream",
     "text": [
      "415/415 [==============================] - 4s 9ms/step\n"
     ]
    },
    {
     "data": {
      "text/plain": [
       "array([3, 1, 2, ..., 0, 3, 0], dtype=int64)"
      ]
     },
     "execution_count": 12,
     "metadata": {},
     "output_type": "execute_result"
    }
   ],
   "source": [
    "y_pred = model.predict(test_x)\n",
    "y_pred = np.argmax(y_pred, axis=1)\n",
    "y_pred"
   ]
  },
  {
   "cell_type": "code",
   "execution_count": 13,
   "metadata": {},
   "outputs": [
    {
     "name": "stdout",
     "output_type": "stream",
     "text": [
      "confusion matrix\n",
      "[[3180    9    9   22   24]\n",
      " [   3 3182    2   12    1]\n",
      " [   8    1 2970   11    2]\n",
      " [  23    6    3 2794    9]\n",
      " [  29    0    3   12  961]]\n",
      "\n",
      "classification report\n",
      "              precision    recall  f1-score   support\n",
      "\n",
      "           N     0.9806    0.9803    0.9804      3244\n",
      "           L     0.9950    0.9944    0.9947      3200\n",
      "           R     0.9943    0.9926    0.9935      2992\n",
      "           V     0.9800    0.9855    0.9828      2835\n",
      "           A     0.9639    0.9562    0.9600      1005\n",
      "\n",
      "    accuracy                         0.9858     13276\n",
      "   macro avg     0.9828    0.9818    0.9823     13276\n",
      "weighted avg     0.9858    0.9858    0.9858     13276\n",
      "\n"
     ]
    }
   ],
   "source": [
    "y_true = test[440]\n",
    "\n",
    "from sklearn.metrics import confusion_matrix, classification_report\n",
    "\n",
    "cm = confusion_matrix(y_true, y_pred)\n",
    "print('confusion matrix')\n",
    "print(cm)\n",
    "print('\\nclassification report')\n",
    "report = classification_report(y_true, y_pred, target_names=['N', 'L', 'R', 'V', 'A'], digits=4)\n",
    "print(report )\n",
    "\n",
    "def report_to_df(report):\n",
    "    report = [x.split(' ') for x in report.split('\\n')]\n",
    "    header = ['Class Name']+[x for x in report[0] if x!='']\n",
    "    values = []\n",
    "    for row in report[1:-5]:\n",
    "        row = [value for value in row if value!='']\n",
    "        if row!=[]:\n",
    "            values.append(row)\n",
    "    df = pd.DataFrame(data = values, columns = header)\n",
    "    return df\n",
    "report = report_to_df(report)\n",
    "\n",
    "# report.to_csv('classification report.csv', index=True)"
   ]
  }
 ],
 "metadata": {
  "kernelspec": {
   "display_name": "cenv1",
   "language": "python",
   "name": "python3"
  },
  "language_info": {
   "codemirror_mode": {
    "name": "ipython",
    "version": 3
   },
   "file_extension": ".py",
   "mimetype": "text/x-python",
   "name": "python",
   "nbconvert_exporter": "python",
   "pygments_lexer": "ipython3",
   "version": "3.10.9"
  },
  "orig_nbformat": 4
 },
 "nbformat": 4,
 "nbformat_minor": 2
}
