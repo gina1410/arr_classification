{
 "cells": [
  {
   "attachments": {},
   "cell_type": "markdown",
   "metadata": {},
   "source": [
    "# Initialize"
   ]
  },
  {
   "cell_type": "code",
   "execution_count": 1,
   "metadata": {},
   "outputs": [],
   "source": [
    "import numpy as np\n",
    "import pandas as pd\n",
    "import matplotlib.pyplot as plt\n",
    "\n",
    "from keras.utils.np_utils import to_categorical\n",
    "from keras.models import Sequential\n",
    "from keras.layers import Conv1D, AvgPool1D, Flatten, Dense, Dropout, Softmax\n",
    "from keras import regularizers\n",
    "from keras.optimizers import Adam \n"
   ]
  },
  {
   "attachments": {},
   "cell_type": "markdown",
   "metadata": {},
   "source": [
    "# Load dataset"
   ]
  },
  {
   "cell_type": "code",
   "execution_count": 2,
   "metadata": {},
   "outputs": [
    {
     "name": "stdout",
     "output_type": "stream",
     "text": [
      "train_data :  (53102, 441)\n",
      "test_data  :  (13276, 441)\n"
     ]
    }
   ],
   "source": [
    "train = pd.read_csv('./data/0.8_train.csv', header=None)\n",
    "test = pd.read_csv('./data/0.2_test.csv', header=None)\n",
    "\n",
    "print(\"train_data : \", np.shape(train))\n",
    "print(\"test_data  : \", np.shape(test))"
   ]
  },
  {
   "cell_type": "code",
   "execution_count": 3,
   "metadata": {},
   "outputs": [
    {
     "name": "stdout",
     "output_type": "stream",
     "text": [
      "data train per class\n",
      "0.0    13152\n",
      "1.0    12938\n",
      "2.0    11508\n",
      "3.0    11421\n",
      "4.0     4083\n",
      "Name: 440, dtype: int64\n",
      "---------------------------------\n",
      "data test per class\n",
      "0.0    3244\n",
      "1.0    3200\n",
      "2.0    2992\n",
      "3.0    2835\n",
      "4.0    1005\n",
      "Name: 440, dtype: int64\n"
     ]
    }
   ],
   "source": [
    "# 0.0 Normal beat\n",
    "# 1.0 LBBB beat\n",
    "# 2.0 RBBB beat\n",
    "# 3.0 PVC beat\n",
    "# 4.0 PAC beat\n",
    "\n",
    "print('data train per class')\n",
    "print(train[440].value_counts())\n",
    "print('---------------------------------')\n",
    "print('data test per class')\n",
    "print(test[440].value_counts())"
   ]
  },
  {
   "cell_type": "code",
   "execution_count": 4,
   "metadata": {},
   "outputs": [
    {
     "name": "stdout",
     "output_type": "stream",
     "text": [
      "(53102, 5) (13276, 5)\n"
     ]
    }
   ],
   "source": [
    "target_train=train[train.shape[1]-1]\n",
    "target_test=test[test.shape[1]-1]\n",
    "train_y=to_categorical(target_train)\n",
    "test_y=to_categorical(target_test)\n",
    "print(np.shape(train_y), np.shape(test_y))"
   ]
  },
  {
   "cell_type": "code",
   "execution_count": 5,
   "metadata": {},
   "outputs": [
    {
     "name": "stdout",
     "output_type": "stream",
     "text": [
      "(53102, 440, 1) (13276, 440, 1)\n"
     ]
    }
   ],
   "source": [
    "train_x = train.iloc[:,:train.shape[1]-1].values\n",
    "test_x = test.iloc[:,:test.shape[1]-1].values\n",
    "train_x = train_x.reshape(len(train_x), train_x.shape[1],1)\n",
    "test_x = test_x.reshape(len(test_x), test_x.shape[1],1)\n",
    "print(np.shape(train_x), np.shape(test_x))"
   ]
  },
  {
   "attachments": {},
   "cell_type": "markdown",
   "metadata": {},
   "source": [
    "# Model architecture"
   ]
  },
  {
   "cell_type": "code",
   "execution_count": 6,
   "metadata": {},
   "outputs": [
    {
     "name": "stdout",
     "output_type": "stream",
     "text": [
      "Model: \"sequential\"\n",
      "_________________________________________________________________\n",
      " Layer (type)                Output Shape              Param #   \n",
      "=================================================================\n",
      " conv1d (Conv1D)             (None, 440, 16)           224       \n",
      "                                                                 \n",
      " average_pooling1d (AverageP  (None, 219, 16)          0         \n",
      " ooling1D)                                                       \n",
      "                                                                 \n",
      " conv1d_1 (Conv1D)           (None, 219, 32)           7712      \n",
      "                                                                 \n",
      " average_pooling1d_1 (Averag  (None, 109, 32)          0         \n",
      " ePooling1D)                                                     \n",
      "                                                                 \n",
      " conv1d_2 (Conv1D)           (None, 109, 64)           34880     \n",
      "                                                                 \n",
      " average_pooling1d_2 (Averag  (None, 54, 64)           0         \n",
      " ePooling1D)                                                     \n",
      "                                                                 \n",
      " conv1d_3 (Conv1D)           (None, 54, 128)           155776    \n",
      "                                                                 \n",
      " average_pooling1d_3 (Averag  (None, 26, 128)          0         \n",
      " ePooling1D)                                                     \n",
      "                                                                 \n",
      " flatten (Flatten)           (None, 3328)              0         \n",
      "                                                                 \n",
      " dropout (Dropout)           (None, 3328)              0         \n",
      "                                                                 \n",
      " dense (Dense)               (None, 35)                116515    \n",
      "                                                                 \n",
      " dense_1 (Dense)             (None, 5)                 180       \n",
      "                                                                 \n",
      " softmax (Softmax)           (None, 5)                 0         \n",
      "                                                                 \n",
      "=================================================================\n",
      "Total params: 315,287\n",
      "Trainable params: 315,287\n",
      "Non-trainable params: 0\n",
      "_________________________________________________________________\n"
     ]
    }
   ],
   "source": [
    "# Instanciate an empty model\n",
    "model = Sequential()\n",
    "\n",
    "model.add(Conv1D(filters=16, kernel_size=13, padding='same', activation='relu',input_shape=(440, 1)))\n",
    "model.add(AvgPool1D(pool_size=3, strides=2))\n",
    "model.add(Conv1D(filters=32, kernel_size=15, padding='same', activation='relu'))\n",
    "model.add(AvgPool1D(pool_size=3, strides=2))\n",
    "model.add(Conv1D(filters=64, kernel_size=17, padding='same', activation='relu'))\n",
    "model.add(AvgPool1D(pool_size=3, strides=2))\n",
    "model.add(Conv1D(filters=128, kernel_size=19, padding='same', activation='relu'))\n",
    "model.add(AvgPool1D(pool_size=3, strides=2))\n",
    "model.add(Flatten())\n",
    "model.add(Dropout(0.5))\n",
    "model.add(Dense(35,kernel_regularizer=regularizers.l2(0.0001), bias_regularizer=regularizers.l2(0.0001)))\n",
    "model.add(Dense(5,kernel_regularizer=regularizers.l2(0.0001), bias_regularizer=regularizers.l2(0.0001)))\n",
    "model.add(Softmax())\n",
    "\n",
    "model.summary()"
   ]
  },
  {
   "attachments": {},
   "cell_type": "markdown",
   "metadata": {},
   "source": [
    "# learning_rate 1e-3, batch_size 32, epoch 75"
   ]
  },
  {
   "cell_type": "code",
   "execution_count": 7,
   "metadata": {},
   "outputs": [],
   "source": [
    "model.compile(loss='categorical_crossentropy', optimizer=Adam(learning_rate=1e-3), metrics=['accuracy'])"
   ]
  },
  {
   "cell_type": "code",
   "execution_count": 8,
   "metadata": {},
   "outputs": [
    {
     "name": "stdout",
     "output_type": "stream",
     "text": [
      "Epoch 1/75\n",
      "1660/1660 [==============================] - 105s 63ms/step - loss: 0.3481 - accuracy: 0.8846 - val_loss: 0.1502 - val_accuracy: 0.9586\n",
      "Epoch 2/75\n",
      "1660/1660 [==============================] - 109s 66ms/step - loss: 0.1479 - accuracy: 0.9594 - val_loss: 0.1083 - val_accuracy: 0.9715\n",
      "Epoch 3/75\n",
      "1660/1660 [==============================] - 104s 63ms/step - loss: 0.1198 - accuracy: 0.9682 - val_loss: 0.1008 - val_accuracy: 0.9751\n",
      "Epoch 4/75\n",
      "1660/1660 [==============================] - 99s 60ms/step - loss: 0.1035 - accuracy: 0.9734 - val_loss: 0.0879 - val_accuracy: 0.9796\n",
      "Epoch 5/75\n",
      "1660/1660 [==============================] - 104s 63ms/step - loss: 0.0926 - accuracy: 0.9765 - val_loss: 0.0912 - val_accuracy: 0.9785\n",
      "Epoch 6/75\n",
      "1660/1660 [==============================] - 103s 62ms/step - loss: 0.0849 - accuracy: 0.9794 - val_loss: 0.0908 - val_accuracy: 0.9782\n",
      "Epoch 7/75\n",
      "1660/1660 [==============================] - 102s 61ms/step - loss: 0.0780 - accuracy: 0.9801 - val_loss: 0.0763 - val_accuracy: 0.9846\n",
      "Epoch 8/75\n",
      "1660/1660 [==============================] - 107s 65ms/step - loss: 0.0747 - accuracy: 0.9815 - val_loss: 0.0797 - val_accuracy: 0.9831\n",
      "Epoch 9/75\n",
      "1660/1660 [==============================] - 103s 62ms/step - loss: 0.0666 - accuracy: 0.9833 - val_loss: 0.0797 - val_accuracy: 0.9824\n",
      "Epoch 10/75\n",
      "1660/1660 [==============================] - 102s 61ms/step - loss: 0.0637 - accuracy: 0.9844 - val_loss: 0.0727 - val_accuracy: 0.9824\n",
      "Epoch 11/75\n",
      "1660/1660 [==============================] - 103s 62ms/step - loss: 0.0591 - accuracy: 0.9855 - val_loss: 0.0778 - val_accuracy: 0.9826\n",
      "Epoch 12/75\n",
      "1660/1660 [==============================] - 105s 63ms/step - loss: 0.0551 - accuracy: 0.9868 - val_loss: 0.0827 - val_accuracy: 0.9813\n",
      "Epoch 13/75\n",
      "1660/1660 [==============================] - 104s 63ms/step - loss: 0.0538 - accuracy: 0.9873 - val_loss: 0.0655 - val_accuracy: 0.9862\n",
      "Epoch 14/75\n",
      "1660/1660 [==============================] - 110s 66ms/step - loss: 0.0498 - accuracy: 0.9881 - val_loss: 0.0734 - val_accuracy: 0.9853\n",
      "Epoch 15/75\n",
      "1660/1660 [==============================] - 106s 64ms/step - loss: 0.0466 - accuracy: 0.9896 - val_loss: 0.0690 - val_accuracy: 0.9849\n",
      "Epoch 16/75\n",
      "1660/1660 [==============================] - 101s 61ms/step - loss: 0.0435 - accuracy: 0.9899 - val_loss: 0.0733 - val_accuracy: 0.9863\n",
      "Epoch 17/75\n",
      "1660/1660 [==============================] - 102s 62ms/step - loss: 0.0461 - accuracy: 0.9898 - val_loss: 0.0754 - val_accuracy: 0.9852\n",
      "Epoch 18/75\n",
      "1660/1660 [==============================] - 97s 58ms/step - loss: 0.0407 - accuracy: 0.9911 - val_loss: 0.0909 - val_accuracy: 0.9789\n",
      "Epoch 19/75\n",
      "1660/1660 [==============================] - 97s 59ms/step - loss: 0.0396 - accuracy: 0.9910 - val_loss: 0.0694 - val_accuracy: 0.9855\n",
      "Epoch 20/75\n",
      "1660/1660 [==============================] - 96s 58ms/step - loss: 0.0380 - accuracy: 0.9916 - val_loss: 0.0801 - val_accuracy: 0.9846\n",
      "Epoch 21/75\n",
      "1660/1660 [==============================] - 96s 58ms/step - loss: 0.0364 - accuracy: 0.9922 - val_loss: 0.0793 - val_accuracy: 0.9830\n",
      "Epoch 22/75\n",
      "1660/1660 [==============================] - 96s 58ms/step - loss: 0.0341 - accuracy: 0.9925 - val_loss: 0.0736 - val_accuracy: 0.9839\n",
      "Epoch 23/75\n",
      "1660/1660 [==============================] - 96s 58ms/step - loss: 0.0347 - accuracy: 0.9920 - val_loss: 0.0741 - val_accuracy: 0.9861\n",
      "Epoch 24/75\n",
      "1660/1660 [==============================] - 95s 58ms/step - loss: 0.0312 - accuracy: 0.9935 - val_loss: 0.0795 - val_accuracy: 0.9863\n",
      "Epoch 25/75\n",
      "1660/1660 [==============================] - 96s 58ms/step - loss: 0.0336 - accuracy: 0.9925 - val_loss: 0.0808 - val_accuracy: 0.9863\n",
      "Epoch 26/75\n",
      "1660/1660 [==============================] - 99s 59ms/step - loss: 0.0305 - accuracy: 0.9937 - val_loss: 0.0705 - val_accuracy: 0.9863\n",
      "Epoch 27/75\n",
      "1660/1660 [==============================] - 1283s 774ms/step - loss: 0.0302 - accuracy: 0.9935 - val_loss: 0.0672 - val_accuracy: 0.9864\n",
      "Epoch 28/75\n",
      "1660/1660 [==============================] - 101s 61ms/step - loss: 0.0270 - accuracy: 0.9941 - val_loss: 0.0693 - val_accuracy: 0.9863\n",
      "Epoch 29/75\n",
      "1660/1660 [==============================] - 131s 79ms/step - loss: 0.0292 - accuracy: 0.9939 - val_loss: 0.0693 - val_accuracy: 0.9873\n",
      "Epoch 30/75\n",
      "1660/1660 [==============================] - 124s 74ms/step - loss: 0.0261 - accuracy: 0.9948 - val_loss: 0.0669 - val_accuracy: 0.9865\n",
      "Epoch 31/75\n",
      "1660/1660 [==============================] - 119s 72ms/step - loss: 0.0266 - accuracy: 0.9944 - val_loss: 0.0674 - val_accuracy: 0.9871\n",
      "Epoch 32/75\n",
      "1660/1660 [==============================] - 109s 66ms/step - loss: 0.0261 - accuracy: 0.9945 - val_loss: 0.0712 - val_accuracy: 0.9871\n",
      "Epoch 33/75\n",
      "1660/1660 [==============================] - 113s 68ms/step - loss: 0.0253 - accuracy: 0.9947 - val_loss: 0.0692 - val_accuracy: 0.9879\n",
      "Epoch 34/75\n",
      "1660/1660 [==============================] - 114s 69ms/step - loss: 0.0239 - accuracy: 0.9956 - val_loss: 0.0711 - val_accuracy: 0.9875\n",
      "Epoch 35/75\n",
      "1660/1660 [==============================] - 118s 71ms/step - loss: 0.0244 - accuracy: 0.9949 - val_loss: 0.0743 - val_accuracy: 0.9869\n",
      "Epoch 36/75\n",
      "1660/1660 [==============================] - 129s 77ms/step - loss: 0.0239 - accuracy: 0.9950 - val_loss: 0.0696 - val_accuracy: 0.9876\n",
      "Epoch 37/75\n",
      "1660/1660 [==============================] - 114s 69ms/step - loss: 0.0239 - accuracy: 0.9952 - val_loss: 0.0750 - val_accuracy: 0.9866\n",
      "Epoch 38/75\n",
      "1660/1660 [==============================] - 109s 65ms/step - loss: 0.0226 - accuracy: 0.9960 - val_loss: 0.0773 - val_accuracy: 0.9882\n",
      "Epoch 39/75\n",
      "1660/1660 [==============================] - 106s 64ms/step - loss: 0.0235 - accuracy: 0.9952 - val_loss: 0.0747 - val_accuracy: 0.9861\n",
      "Epoch 40/75\n",
      "1660/1660 [==============================] - 116s 70ms/step - loss: 0.0241 - accuracy: 0.9955 - val_loss: 0.0710 - val_accuracy: 0.9883\n",
      "Epoch 41/75\n",
      "1660/1660 [==============================] - 126s 76ms/step - loss: 0.0215 - accuracy: 0.9959 - val_loss: 0.0737 - val_accuracy: 0.9885\n",
      "Epoch 42/75\n",
      "1660/1660 [==============================] - 139s 84ms/step - loss: 0.0223 - accuracy: 0.9953 - val_loss: 0.0792 - val_accuracy: 0.9867\n",
      "Epoch 43/75\n",
      "1660/1660 [==============================] - 136s 82ms/step - loss: 0.0216 - accuracy: 0.9962 - val_loss: 0.0825 - val_accuracy: 0.9869\n",
      "Epoch 44/75\n",
      "1660/1660 [==============================] - 117s 71ms/step - loss: 0.0212 - accuracy: 0.9962 - val_loss: 0.0725 - val_accuracy: 0.9879\n",
      "Epoch 45/75\n",
      "1660/1660 [==============================] - 124s 75ms/step - loss: 0.0208 - accuracy: 0.9963 - val_loss: 0.0752 - val_accuracy: 0.9880\n",
      "Epoch 46/75\n",
      "1660/1660 [==============================] - 113s 68ms/step - loss: 0.0214 - accuracy: 0.9960 - val_loss: 0.0735 - val_accuracy: 0.9882\n",
      "Epoch 47/75\n",
      "1660/1660 [==============================] - 116s 70ms/step - loss: 0.0204 - accuracy: 0.9961 - val_loss: 0.0805 - val_accuracy: 0.9852\n",
      "Epoch 48/75\n",
      "1660/1660 [==============================] - 119s 72ms/step - loss: 0.0222 - accuracy: 0.9958 - val_loss: 0.0807 - val_accuracy: 0.9866\n",
      "Epoch 49/75\n",
      "1660/1660 [==============================] - 115s 69ms/step - loss: 0.0207 - accuracy: 0.9959 - val_loss: 0.0695 - val_accuracy: 0.9883\n",
      "Epoch 50/75\n",
      "1660/1660 [==============================] - 118s 71ms/step - loss: 0.0188 - accuracy: 0.9968 - val_loss: 0.0737 - val_accuracy: 0.9883\n",
      "Epoch 51/75\n",
      "1660/1660 [==============================] - 119s 72ms/step - loss: 0.0216 - accuracy: 0.9962 - val_loss: 0.0766 - val_accuracy: 0.9864\n",
      "Epoch 52/75\n",
      "1660/1660 [==============================] - 116s 70ms/step - loss: 0.0181 - accuracy: 0.9969 - val_loss: 0.0824 - val_accuracy: 0.9880\n",
      "Epoch 53/75\n",
      "1660/1660 [==============================] - 116s 70ms/step - loss: 0.0177 - accuracy: 0.9972 - val_loss: 0.0785 - val_accuracy: 0.9887\n",
      "Epoch 54/75\n",
      "1660/1660 [==============================] - 118s 71ms/step - loss: 0.0201 - accuracy: 0.9962 - val_loss: 0.0872 - val_accuracy: 0.9856\n",
      "Epoch 55/75\n",
      "1660/1660 [==============================] - 115s 69ms/step - loss: 0.0182 - accuracy: 0.9966 - val_loss: 0.0786 - val_accuracy: 0.9872\n",
      "Epoch 56/75\n",
      "1660/1660 [==============================] - 130s 78ms/step - loss: 0.0179 - accuracy: 0.9972 - val_loss: 0.0850 - val_accuracy: 0.9870\n",
      "Epoch 57/75\n",
      "1660/1660 [==============================] - 129s 78ms/step - loss: 0.0204 - accuracy: 0.9963 - val_loss: 0.0860 - val_accuracy: 0.9866\n",
      "Epoch 58/75\n",
      "1660/1660 [==============================] - 125s 76ms/step - loss: 0.0190 - accuracy: 0.9967 - val_loss: 0.0961 - val_accuracy: 0.9858\n",
      "Epoch 59/75\n",
      "1660/1660 [==============================] - 129s 78ms/step - loss: 0.0172 - accuracy: 0.9973 - val_loss: 0.0885 - val_accuracy: 0.9873\n",
      "Epoch 60/75\n",
      "1660/1660 [==============================] - 126s 76ms/step - loss: 0.0192 - accuracy: 0.9967 - val_loss: 0.0824 - val_accuracy: 0.9869\n",
      "Epoch 61/75\n",
      "1660/1660 [==============================] - 121s 73ms/step - loss: 0.0175 - accuracy: 0.9973 - val_loss: 0.0776 - val_accuracy: 0.9874\n",
      "Epoch 62/75\n",
      "1660/1660 [==============================] - 123s 74ms/step - loss: 0.0183 - accuracy: 0.9972 - val_loss: 0.0942 - val_accuracy: 0.9878\n",
      "Epoch 63/75\n",
      "1660/1660 [==============================] - 118s 71ms/step - loss: 0.0183 - accuracy: 0.9969 - val_loss: 0.0723 - val_accuracy: 0.9871\n",
      "Epoch 64/75\n",
      "1660/1660 [==============================] - 122s 73ms/step - loss: 0.0182 - accuracy: 0.9968 - val_loss: 0.0758 - val_accuracy: 0.9875\n",
      "Epoch 65/75\n",
      "1660/1660 [==============================] - 117s 70ms/step - loss: 0.0164 - accuracy: 0.9972 - val_loss: 0.0761 - val_accuracy: 0.9879\n",
      "Epoch 66/75\n",
      "1660/1660 [==============================] - 120s 72ms/step - loss: 0.0198 - accuracy: 0.9966 - val_loss: 0.0842 - val_accuracy: 0.9876\n",
      "Epoch 67/75\n",
      "1660/1660 [==============================] - 119s 72ms/step - loss: 0.0178 - accuracy: 0.9968 - val_loss: 0.0825 - val_accuracy: 0.9873\n",
      "Epoch 68/75\n",
      "1660/1660 [==============================] - 128s 77ms/step - loss: 0.0169 - accuracy: 0.9971 - val_loss: 0.0825 - val_accuracy: 0.9882\n",
      "Epoch 69/75\n",
      "1660/1660 [==============================] - 123s 74ms/step - loss: 0.0163 - accuracy: 0.9972 - val_loss: 0.0838 - val_accuracy: 0.9879\n",
      "Epoch 70/75\n",
      "1660/1660 [==============================] - 122s 74ms/step - loss: 0.0172 - accuracy: 0.9972 - val_loss: 0.0803 - val_accuracy: 0.9881\n",
      "Epoch 71/75\n",
      "1660/1660 [==============================] - 121s 73ms/step - loss: 0.0194 - accuracy: 0.9967 - val_loss: 0.0802 - val_accuracy: 0.9883\n",
      "Epoch 72/75\n",
      "1660/1660 [==============================] - 122s 74ms/step - loss: 0.0156 - accuracy: 0.9974 - val_loss: 0.0899 - val_accuracy: 0.9873\n",
      "Epoch 73/75\n",
      "1660/1660 [==============================] - 113s 68ms/step - loss: 0.0180 - accuracy: 0.9967 - val_loss: 0.0895 - val_accuracy: 0.9873\n",
      "Epoch 74/75\n",
      "1660/1660 [==============================] - 115s 69ms/step - loss: 0.0162 - accuracy: 0.9976 - val_loss: 0.0789 - val_accuracy: 0.9886\n",
      "Epoch 75/75\n",
      "1660/1660 [==============================] - 120s 72ms/step - loss: 0.0164 - accuracy: 0.9975 - val_loss: 0.0891 - val_accuracy: 0.9882\n"
     ]
    }
   ],
   "source": [
    "history = model.fit(train_x, train_y, batch_size=32, epochs=75, verbose=1, validation_data=(test_x, test_y))"
   ]
  },
  {
   "cell_type": "code",
   "execution_count": 9,
   "metadata": {},
   "outputs": [
    {
     "data": {
      "image/png": "[encoded data removed]",
      "text/plain": [
       "<Figure size 800x300 with 1 Axes>"
      ]
     },
     "metadata": {},
     "output_type": "display_data"
    },
    {
     "data": {
      "image/png": "[encoded data removed]",
      "text/plain": [
       "<Figure size 800x300 with 1 Axes>"
      ]
     },
     "metadata": {},
     "output_type": "display_data"
    }
   ],
   "source": [
    "# summarize history for loss\n",
    "plt.figure(figsize=(8,3))\n",
    "plt.plot(history.history['loss'])\n",
    "plt.plot(history.history['val_loss'])\n",
    "plt.title('model loss')\n",
    "plt.ylabel('loss')\n",
    "plt.xlabel('epoch')\n",
    "plt.legend(['train', 'test'], loc='best')\n",
    "plt.show()\n",
    "\n",
    "# summarize history for accuracy\n",
    "plt.figure(figsize=(8,3))\n",
    "plt.plot(history.history['accuracy'])\n",
    "plt.plot(history.history['val_accuracy'])\n",
    "plt.title('model accuracy')\n",
    "plt.ylabel('accuracy')\n",
    "plt.xlabel('epoch')\n",
    "plt.legend(['train', 'test'], loc='best')\n",
    "plt.show()"
   ]
  },
  {
   "cell_type": "code",
   "execution_count": 10,
   "metadata": {},
   "outputs": [
    {
     "name": "stdout",
     "output_type": "stream",
     "text": [
      "415/415 [==============================] - 7s 16ms/step - loss: 0.0891 - accuracy: 0.9882\n",
      "Test Loss: 0.0891202911734581\n",
      "Test accuracy: 0.9882494807243347\n"
     ]
    }
   ],
   "source": [
    "# finding the loss and acuracy of the model\n",
    "score = model.evaluate(test_x, test_y)\n",
    "\n",
    "print('Test Loss:', score[0])\n",
    "print('Test accuracy:', score[1])"
   ]
  },
  {
   "cell_type": "code",
   "execution_count": 11,
   "metadata": {},
   "outputs": [
    {
     "name": "stderr",
     "output_type": "stream",
     "text": [
      "WARNING:absl:Found untraced functions such as _jit_compiled_convolution_op, _jit_compiled_convolution_op, _jit_compiled_convolution_op, _jit_compiled_convolution_op while saving (showing 4 of 4). These functions will not be directly callable after loading.\n"
     ]
    },
    {
     "name": "stdout",
     "output_type": "stream",
     "text": [
      "INFO:tensorflow:Assets written to: CNN_model_2\\assets\n"
     ]
    },
    {
     "name": "stderr",
     "output_type": "stream",
     "text": [
      "INFO:tensorflow:Assets written to: CNN_model_2\\assets\n"
     ]
    }
   ],
   "source": [
    "# save model\n",
    "model.save('CNN_model_2')"
   ]
  },
  {
   "attachments": {},
   "cell_type": "markdown",
   "metadata": {},
   "source": [
    "# confusion matrix"
   ]
  },
  {
   "cell_type": "code",
   "execution_count": 12,
   "metadata": {},
   "outputs": [
    {
     "name": "stdout",
     "output_type": "stream",
     "text": [
      "415/415 [==============================] - 7s 15ms/step\n"
     ]
    },
    {
     "data": {
      "text/plain": [
       "array([3, 1, 2, ..., 0, 3, 0], dtype=int64)"
      ]
     },
     "execution_count": 12,
     "metadata": {},
     "output_type": "execute_result"
    }
   ],
   "source": [
    "y_pred = model.predict(test_x)\n",
    "y_pred = np.argmax(y_pred, axis=1)\n",
    "y_pred"
   ]
  },
  {
   "cell_type": "code",
   "execution_count": 13,
   "metadata": {},
   "outputs": [
    {
     "name": "stdout",
     "output_type": "stream",
     "text": [
      "confusion matrix\n",
      "[[3197   14   11   12   10]\n",
      " [   6 3187    2    5    0]\n",
      " [   6    2 2979    4    1]\n",
      " [  30    4    0 2795    6]\n",
      " [  30    0    2   11  962]]\n",
      "\n",
      "classification report\n",
      "              precision    recall  f1-score   support\n",
      "\n",
      "           N     0.9780    0.9855    0.9817      3244\n",
      "           L     0.9938    0.9959    0.9948      3200\n",
      "           R     0.9950    0.9957    0.9953      2992\n",
      "           V     0.9887    0.9859    0.9873      2835\n",
      "           A     0.9826    0.9572    0.9698      1005\n",
      "\n",
      "    accuracy                         0.9882     13276\n",
      "   macro avg     0.9876    0.9840    0.9858     13276\n",
      "weighted avg     0.9883    0.9882    0.9882     13276\n",
      "\n"
     ]
    }
   ],
   "source": [
    "y_true = test[440]\n",
    "\n",
    "from sklearn.metrics import confusion_matrix, classification_report\n",
    "\n",
    "cm = confusion_matrix(y_true, y_pred)\n",
    "print('confusion matrix')\n",
    "print(cm)\n",
    "print('\\nclassification report')\n",
    "report = classification_report(y_true, y_pred, target_names=['N', 'L', 'R', 'V', 'A'], digits=4)\n",
    "print(report )\n",
    "\n",
    "def report_to_df(report):\n",
    "    report = [x.split(' ') for x in report.split('\\n')]\n",
    "    header = ['Class Name']+[x for x in report[0] if x!='']\n",
    "    values = []\n",
    "    for row in report[1:-5]:\n",
    "        row = [value for value in row if value!='']\n",
    "        if row!=[]:\n",
    "            values.append(row)\n",
    "    df = pd.DataFrame(data = values, columns = header)\n",
    "    return df\n",
    "report = report_to_df(report)\n",
    "\n",
    "# report.to_csv('classification report.csv', index=True)"
   ]
  }
 ],
 "metadata": {
  "kernelspec": {
   "display_name": "cenv1",
   "language": "python",
   "name": "python3"
  },
  "language_info": {
   "codemirror_mode": {
    "name": "ipython",
    "version": 3
   },
   "file_extension": ".py",
   "mimetype": "text/x-python",
   "name": "python",
   "nbconvert_exporter": "python",
   "pygments_lexer": "ipython3",
   "version": "3.10.9"
  },
  "orig_nbformat": 4
 },
 "nbformat": 4,
 "nbformat_minor": 2
}
