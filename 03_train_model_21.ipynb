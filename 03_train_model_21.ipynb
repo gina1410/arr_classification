{
 "cells": [
  {
   "attachments": {},
   "cell_type": "markdown",
   "metadata": {},
   "source": [
    "# Initialize"
   ]
  },
  {
   "cell_type": "code",
   "execution_count": 1,
   "metadata": {},
   "outputs": [],
   "source": [
    "import numpy as np\n",
    "import pandas as pd\n",
    "import matplotlib.pyplot as plt\n",
    "\n",
    "from keras.utils.np_utils import to_categorical\n",
    "from keras.models import Sequential\n",
    "from keras.layers import Conv1D, AvgPool1D, Flatten, Dense, Dropout, Softmax\n",
    "from keras import regularizers\n",
    "from keras.optimizers import Adam \n"
   ]
  },
  {
   "attachments": {},
   "cell_type": "markdown",
   "metadata": {},
   "source": [
    "# Load dataset"
   ]
  },
  {
   "cell_type": "code",
   "execution_count": 2,
   "metadata": {},
   "outputs": [
    {
     "name": "stdout",
     "output_type": "stream",
     "text": [
      "train_data :  (53102, 441)\n",
      "test_data  :  (13276, 441)\n"
     ]
    }
   ],
   "source": [
    "train = pd.read_csv('./data/0.8_train.csv', header=None)\n",
    "test = pd.read_csv('./data/0.2_test.csv', header=None)\n",
    "\n",
    "print(\"train_data : \", np.shape(train))\n",
    "print(\"test_data  : \", np.shape(test))"
   ]
  },
  {
   "cell_type": "code",
   "execution_count": 3,
   "metadata": {},
   "outputs": [
    {
     "name": "stdout",
     "output_type": "stream",
     "text": [
      "data train per class\n",
      "0.0    13152\n",
      "1.0    12938\n",
      "2.0    11508\n",
      "3.0    11421\n",
      "4.0     4083\n",
      "Name: 440, dtype: int64\n",
      "---------------------------------\n",
      "data test per class\n",
      "0.0    3244\n",
      "1.0    3200\n",
      "2.0    2992\n",
      "3.0    2835\n",
      "4.0    1005\n",
      "Name: 440, dtype: int64\n"
     ]
    }
   ],
   "source": [
    "# 0.0 Normal beat\n",
    "# 1.0 LBBB beat\n",
    "# 2.0 RBBB beat\n",
    "# 3.0 PVC beat\n",
    "# 4.0 PAC beat\n",
    "\n",
    "print('data train per class')\n",
    "print(train[440].value_counts())\n",
    "print('---------------------------------')\n",
    "print('data test per class')\n",
    "print(test[440].value_counts())"
   ]
  },
  {
   "cell_type": "code",
   "execution_count": 4,
   "metadata": {},
   "outputs": [
    {
     "name": "stdout",
     "output_type": "stream",
     "text": [
      "(53102, 5) (13276, 5)\n"
     ]
    }
   ],
   "source": [
    "target_train=train[train.shape[1]-1]\n",
    "target_test=test[test.shape[1]-1]\n",
    "train_y=to_categorical(target_train)\n",
    "test_y=to_categorical(target_test)\n",
    "print(np.shape(train_y), np.shape(test_y))"
   ]
  },
  {
   "cell_type": "code",
   "execution_count": 5,
   "metadata": {},
   "outputs": [
    {
     "name": "stdout",
     "output_type": "stream",
     "text": [
      "(53102, 440, 1) (13276, 440, 1)\n"
     ]
    }
   ],
   "source": [
    "train_x = train.iloc[:,:train.shape[1]-1].values\n",
    "test_x = test.iloc[:,:test.shape[1]-1].values\n",
    "train_x = train_x.reshape(len(train_x), train_x.shape[1],1)\n",
    "test_x = test_x.reshape(len(test_x), test_x.shape[1],1)\n",
    "print(np.shape(train_x), np.shape(test_x))"
   ]
  },
  {
   "attachments": {},
   "cell_type": "markdown",
   "metadata": {},
   "source": [
    "# Model architecture"
   ]
  },
  {
   "cell_type": "code",
   "execution_count": 6,
   "metadata": {},
   "outputs": [
    {
     "name": "stdout",
     "output_type": "stream",
     "text": [
      "Model: \"sequential\"\n",
      "_________________________________________________________________\n",
      " Layer (type)                Output Shape              Param #   \n",
      "=================================================================\n",
      " conv1d (Conv1D)             (None, 440, 16)           224       \n",
      "                                                                 \n",
      " average_pooling1d (AverageP  (None, 219, 16)          0         \n",
      " ooling1D)                                                       \n",
      "                                                                 \n",
      " conv1d_1 (Conv1D)           (None, 219, 32)           7712      \n",
      "                                                                 \n",
      " average_pooling1d_1 (Averag  (None, 109, 32)          0         \n",
      " ePooling1D)                                                     \n",
      "                                                                 \n",
      " conv1d_2 (Conv1D)           (None, 109, 64)           34880     \n",
      "                                                                 \n",
      " average_pooling1d_2 (Averag  (None, 54, 64)           0         \n",
      " ePooling1D)                                                     \n",
      "                                                                 \n",
      " conv1d_3 (Conv1D)           (None, 54, 128)           155776    \n",
      "                                                                 \n",
      " average_pooling1d_3 (Averag  (None, 26, 128)          0         \n",
      " ePooling1D)                                                     \n",
      "                                                                 \n",
      " flatten (Flatten)           (None, 3328)              0         \n",
      "                                                                 \n",
      " dropout (Dropout)           (None, 3328)              0         \n",
      "                                                                 \n",
      " dense (Dense)               (None, 35)                116515    \n",
      "                                                                 \n",
      " dense_1 (Dense)             (None, 5)                 180       \n",
      "                                                                 \n",
      " softmax (Softmax)           (None, 5)                 0         \n",
      "                                                                 \n",
      "=================================================================\n",
      "Total params: 315,287\n",
      "Trainable params: 315,287\n",
      "Non-trainable params: 0\n",
      "_________________________________________________________________\n"
     ]
    }
   ],
   "source": [
    "# Instanciate an empty model\n",
    "model = Sequential()\n",
    "\n",
    "model.add(Conv1D(filters=16, kernel_size=13, padding='same', activation='relu',input_shape=(440, 1)))\n",
    "model.add(AvgPool1D(pool_size=3, strides=2))\n",
    "model.add(Conv1D(filters=32, kernel_size=15, padding='same', activation='relu'))\n",
    "model.add(AvgPool1D(pool_size=3, strides=2))\n",
    "model.add(Conv1D(filters=64, kernel_size=17, padding='same', activation='relu'))\n",
    "model.add(AvgPool1D(pool_size=3, strides=2))\n",
    "model.add(Conv1D(filters=128, kernel_size=19, padding='same', activation='relu'))\n",
    "model.add(AvgPool1D(pool_size=3, strides=2))\n",
    "model.add(Flatten())\n",
    "model.add(Dropout(0.5))\n",
    "model.add(Dense(35,kernel_regularizer=regularizers.l2(0.0001), bias_regularizer=regularizers.l2(0.0001)))\n",
    "model.add(Dense(5,kernel_regularizer=regularizers.l2(0.0001), bias_regularizer=regularizers.l2(0.0001)))\n",
    "model.add(Softmax())\n",
    "\n",
    "model.summary()"
   ]
  },
  {
   "attachments": {},
   "cell_type": "markdown",
   "metadata": {},
   "source": [
    "# learning_rate 0.002, batch_size 32, epoch 100"
   ]
  },
  {
   "cell_type": "code",
   "execution_count": 7,
   "metadata": {},
   "outputs": [],
   "source": [
    "model.compile(loss='categorical_crossentropy', optimizer=Adam(learning_rate=0.002), metrics=['accuracy'])"
   ]
  },
  {
   "cell_type": "code",
   "execution_count": 8,
   "metadata": {},
   "outputs": [
    {
     "name": "stdout",
     "output_type": "stream",
     "text": [
      "Epoch 1/100\n",
      "1660/1660 [==============================] - 104s 60ms/step - loss: 0.3338 - accuracy: 0.8944 - val_loss: 0.1549 - val_accuracy: 0.9620\n",
      "Epoch 2/100\n",
      "1660/1660 [==============================] - 95s 57ms/step - loss: 0.1623 - accuracy: 0.9593 - val_loss: 0.1328 - val_accuracy: 0.9671\n",
      "Epoch 3/100\n",
      "1660/1660 [==============================] - 100s 60ms/step - loss: 0.1343 - accuracy: 0.9663 - val_loss: 0.1107 - val_accuracy: 0.9739\n",
      "Epoch 4/100\n",
      "1660/1660 [==============================] - 103s 62ms/step - loss: 0.1161 - accuracy: 0.9719 - val_loss: 0.0968 - val_accuracy: 0.9796\n",
      "Epoch 5/100\n",
      "1660/1660 [==============================] - 95s 57ms/step - loss: 0.1028 - accuracy: 0.9754 - val_loss: 0.0859 - val_accuracy: 0.9813\n",
      "Epoch 6/100\n",
      "1660/1660 [==============================] - 96s 58ms/step - loss: 0.0924 - accuracy: 0.9769 - val_loss: 0.0858 - val_accuracy: 0.9802\n",
      "Epoch 7/100\n",
      "1660/1660 [==============================] - 93s 56ms/step - loss: 0.0840 - accuracy: 0.9795 - val_loss: 0.0848 - val_accuracy: 0.9814\n",
      "Epoch 8/100\n",
      "1660/1660 [==============================] - 92s 55ms/step - loss: 0.0768 - accuracy: 0.9818 - val_loss: 0.0786 - val_accuracy: 0.9824\n",
      "Epoch 9/100\n",
      "1660/1660 [==============================] - 97s 59ms/step - loss: 0.0703 - accuracy: 0.9840 - val_loss: 0.0825 - val_accuracy: 0.9840\n",
      "Epoch 10/100\n",
      "1660/1660 [==============================] - 92s 55ms/step - loss: 0.0698 - accuracy: 0.9837 - val_loss: 0.0747 - val_accuracy: 0.9846\n",
      "Epoch 11/100\n",
      "1660/1660 [==============================] - 96s 58ms/step - loss: 0.0654 - accuracy: 0.9850 - val_loss: 0.0781 - val_accuracy: 0.9825\n",
      "Epoch 12/100\n",
      "1660/1660 [==============================] - 99s 60ms/step - loss: 0.0626 - accuracy: 0.9857 - val_loss: 0.0809 - val_accuracy: 0.9840\n",
      "Epoch 13/100\n",
      "1660/1660 [==============================] - 96s 58ms/step - loss: 0.0584 - accuracy: 0.9865 - val_loss: 0.0714 - val_accuracy: 0.9853\n",
      "Epoch 14/100\n",
      "1660/1660 [==============================] - 99s 60ms/step - loss: 0.0614 - accuracy: 0.9869 - val_loss: 0.0726 - val_accuracy: 0.9858\n",
      "Epoch 15/100\n",
      "1660/1660 [==============================] - 95s 57ms/step - loss: 0.0543 - accuracy: 0.9880 - val_loss: 0.0759 - val_accuracy: 0.9847\n",
      "Epoch 16/100\n",
      "1660/1660 [==============================] - 98s 59ms/step - loss: 0.0546 - accuracy: 0.9891 - val_loss: 0.0825 - val_accuracy: 0.9850\n",
      "Epoch 17/100\n",
      "1660/1660 [==============================] - 94s 57ms/step - loss: 0.0544 - accuracy: 0.9886 - val_loss: 0.0744 - val_accuracy: 0.9852\n",
      "Epoch 18/100\n",
      "1660/1660 [==============================] - 98s 59ms/step - loss: 0.0502 - accuracy: 0.9896 - val_loss: 0.0795 - val_accuracy: 0.9834\n",
      "Epoch 19/100\n",
      "1660/1660 [==============================] - 95s 57ms/step - loss: 0.0520 - accuracy: 0.9895 - val_loss: 0.0766 - val_accuracy: 0.9856\n",
      "Epoch 20/100\n",
      "1660/1660 [==============================] - 95s 57ms/step - loss: 0.0522 - accuracy: 0.9895 - val_loss: 0.0784 - val_accuracy: 0.9865\n",
      "Epoch 21/100\n",
      "1660/1660 [==============================] - 94s 57ms/step - loss: 0.0496 - accuracy: 0.9903 - val_loss: 0.0785 - val_accuracy: 0.9849\n",
      "Epoch 22/100\n",
      "1660/1660 [==============================] - 90s 54ms/step - loss: 0.0508 - accuracy: 0.9901 - val_loss: 0.0910 - val_accuracy: 0.9846\n",
      "Epoch 23/100\n",
      "1660/1660 [==============================] - 90s 54ms/step - loss: 0.0489 - accuracy: 0.9903 - val_loss: 0.0851 - val_accuracy: 0.9836\n",
      "Epoch 24/100\n",
      "1660/1660 [==============================] - 92s 55ms/step - loss: 0.0491 - accuracy: 0.9909 - val_loss: 0.0781 - val_accuracy: 0.9859\n",
      "Epoch 25/100\n",
      "1660/1660 [==============================] - 90s 54ms/step - loss: 0.0456 - accuracy: 0.9914 - val_loss: 0.0820 - val_accuracy: 0.9861\n",
      "Epoch 26/100\n",
      "1660/1660 [==============================] - 91s 55ms/step - loss: 0.0447 - accuracy: 0.9922 - val_loss: 0.0775 - val_accuracy: 0.9851\n",
      "Epoch 27/100\n",
      "1660/1660 [==============================] - 91s 55ms/step - loss: 0.0473 - accuracy: 0.9915 - val_loss: 0.0808 - val_accuracy: 0.9861\n",
      "Epoch 28/100\n",
      "1660/1660 [==============================] - 90s 54ms/step - loss: 0.0432 - accuracy: 0.9923 - val_loss: 0.0877 - val_accuracy: 0.9824\n",
      "Epoch 29/100\n",
      "1660/1660 [==============================] - 92s 55ms/step - loss: 0.0460 - accuracy: 0.9918 - val_loss: 0.0902 - val_accuracy: 0.9852\n",
      "Epoch 30/100\n",
      "1660/1660 [==============================] - 90s 54ms/step - loss: 0.0459 - accuracy: 0.9918 - val_loss: 0.0827 - val_accuracy: 0.9846\n",
      "Epoch 31/100\n",
      "1660/1660 [==============================] - 91s 55ms/step - loss: 0.0409 - accuracy: 0.9930 - val_loss: 0.0793 - val_accuracy: 0.9859\n",
      "Epoch 32/100\n",
      "1660/1660 [==============================] - 90s 54ms/step - loss: 0.0432 - accuracy: 0.9926 - val_loss: 0.0837 - val_accuracy: 0.9866\n",
      "Epoch 33/100\n",
      "1660/1660 [==============================] - 90s 54ms/step - loss: 0.0425 - accuracy: 0.9924 - val_loss: 0.0798 - val_accuracy: 0.9855\n",
      "Epoch 34/100\n",
      "1660/1660 [==============================] - 91s 55ms/step - loss: 0.0431 - accuracy: 0.9924 - val_loss: 0.0871 - val_accuracy: 0.9858\n",
      "Epoch 35/100\n",
      "1660/1660 [==============================] - 114s 69ms/step - loss: 0.0419 - accuracy: 0.9930 - val_loss: 0.0846 - val_accuracy: 0.9842\n",
      "Epoch 36/100\n",
      "1660/1660 [==============================] - 100s 60ms/step - loss: 0.0418 - accuracy: 0.9926 - val_loss: 0.0807 - val_accuracy: 0.9862\n",
      "Epoch 37/100\n",
      "1660/1660 [==============================] - 99s 60ms/step - loss: 0.0404 - accuracy: 0.9935 - val_loss: 0.0845 - val_accuracy: 0.9849\n",
      "Epoch 38/100\n",
      "1660/1660 [==============================] - 99s 60ms/step - loss: 0.0415 - accuracy: 0.9928 - val_loss: 0.0925 - val_accuracy: 0.9852\n",
      "Epoch 39/100\n",
      "1660/1660 [==============================] - 100s 60ms/step - loss: 0.0415 - accuracy: 0.9932 - val_loss: 0.0849 - val_accuracy: 0.9862\n",
      "Epoch 40/100\n",
      "1660/1660 [==============================] - 97s 59ms/step - loss: 0.0386 - accuracy: 0.9940 - val_loss: 0.0939 - val_accuracy: 0.9860\n",
      "Epoch 41/100\n",
      "1660/1660 [==============================] - 96s 58ms/step - loss: 0.0396 - accuracy: 0.9937 - val_loss: 0.0882 - val_accuracy: 0.9870\n",
      "Epoch 42/100\n",
      "1660/1660 [==============================] - 97s 58ms/step - loss: 0.0410 - accuracy: 0.9938 - val_loss: 0.0996 - val_accuracy: 0.9855\n",
      "Epoch 43/100\n",
      "1660/1660 [==============================] - 96s 58ms/step - loss: 0.0426 - accuracy: 0.9934 - val_loss: 0.1048 - val_accuracy: 0.9857\n",
      "Epoch 44/100\n",
      "1660/1660 [==============================] - 95s 57ms/step - loss: 0.0381 - accuracy: 0.9938 - val_loss: 0.1011 - val_accuracy: 0.9853\n",
      "Epoch 45/100\n",
      "1660/1660 [==============================] - 96s 58ms/step - loss: 0.0391 - accuracy: 0.9943 - val_loss: 0.1068 - val_accuracy: 0.9855\n",
      "Epoch 46/100\n",
      "1660/1660 [==============================] - 100s 60ms/step - loss: 0.0398 - accuracy: 0.9938 - val_loss: 0.0859 - val_accuracy: 0.9858\n",
      "Epoch 47/100\n",
      "1660/1660 [==============================] - 101s 61ms/step - loss: 0.0400 - accuracy: 0.9938 - val_loss: 0.0826 - val_accuracy: 0.9865\n",
      "Epoch 48/100\n",
      "1660/1660 [==============================] - 95s 57ms/step - loss: 0.0354 - accuracy: 0.9944 - val_loss: 0.1127 - val_accuracy: 0.9851\n",
      "Epoch 49/100\n",
      "1660/1660 [==============================] - 91s 55ms/step - loss: 0.0384 - accuracy: 0.9944 - val_loss: 0.0967 - val_accuracy: 0.9849\n",
      "Epoch 50/100\n",
      "1660/1660 [==============================] - 96s 58ms/step - loss: 0.0406 - accuracy: 0.9941 - val_loss: 0.0912 - val_accuracy: 0.9852\n",
      "Epoch 51/100\n",
      "1660/1660 [==============================] - 93s 56ms/step - loss: 0.0403 - accuracy: 0.9938 - val_loss: 0.0959 - val_accuracy: 0.9869\n",
      "Epoch 52/100\n",
      "1660/1660 [==============================] - 92s 55ms/step - loss: 0.0377 - accuracy: 0.9944 - val_loss: 0.1119 - val_accuracy: 0.9830\n",
      "Epoch 53/100\n",
      "1660/1660 [==============================] - 90s 54ms/step - loss: 0.0408 - accuracy: 0.9938 - val_loss: 0.1028 - val_accuracy: 0.9857\n",
      "Epoch 54/100\n",
      "1660/1660 [==============================] - 91s 55ms/step - loss: 0.0364 - accuracy: 0.9948 - val_loss: 0.0914 - val_accuracy: 0.9852\n",
      "Epoch 55/100\n",
      "1660/1660 [==============================] - 92s 55ms/step - loss: 0.0402 - accuracy: 0.9940 - val_loss: 0.1097 - val_accuracy: 0.9851\n",
      "Epoch 56/100\n",
      "1660/1660 [==============================] - 91s 55ms/step - loss: 0.0367 - accuracy: 0.9950 - val_loss: 0.0905 - val_accuracy: 0.9861\n",
      "Epoch 57/100\n",
      "1660/1660 [==============================] - 90s 54ms/step - loss: 0.0407 - accuracy: 0.9942 - val_loss: 0.0930 - val_accuracy: 0.9855\n",
      "Epoch 58/100\n",
      "1660/1660 [==============================] - 90s 54ms/step - loss: 0.0360 - accuracy: 0.9948 - val_loss: 0.0991 - val_accuracy: 0.9856\n",
      "Epoch 59/100\n",
      "1660/1660 [==============================] - 90s 54ms/step - loss: 0.0391 - accuracy: 0.9942 - val_loss: 0.0844 - val_accuracy: 0.9854\n",
      "Epoch 60/100\n",
      "1660/1660 [==============================] - 91s 55ms/step - loss: 0.0391 - accuracy: 0.9944 - val_loss: 0.0981 - val_accuracy: 0.9840\n",
      "Epoch 61/100\n",
      "1660/1660 [==============================] - 91s 55ms/step - loss: 0.0348 - accuracy: 0.9951 - val_loss: 0.1099 - val_accuracy: 0.9858\n",
      "Epoch 62/100\n",
      "1660/1660 [==============================] - 70s 42ms/step - loss: 0.0379 - accuracy: 0.9947 - val_loss: 0.0952 - val_accuracy: 0.9862\n",
      "Epoch 63/100\n",
      "1660/1660 [==============================] - 71s 43ms/step - loss: 0.0372 - accuracy: 0.9949 - val_loss: 0.1043 - val_accuracy: 0.9863\n",
      "Epoch 64/100\n",
      "1660/1660 [==============================] - 69s 42ms/step - loss: 0.0379 - accuracy: 0.9945 - val_loss: 0.1021 - val_accuracy: 0.9856\n",
      "Epoch 65/100\n",
      "1660/1660 [==============================] - 72s 43ms/step - loss: 0.0371 - accuracy: 0.9951 - val_loss: 0.0890 - val_accuracy: 0.9861\n",
      "Epoch 66/100\n",
      "1660/1660 [==============================] - 74s 45ms/step - loss: 0.0336 - accuracy: 0.9954 - val_loss: 0.1053 - val_accuracy: 0.9842\n",
      "Epoch 67/100\n",
      "1660/1660 [==============================] - 73s 44ms/step - loss: 0.0353 - accuracy: 0.9951 - val_loss: 0.1113 - val_accuracy: 0.9831\n",
      "Epoch 68/100\n",
      "1660/1660 [==============================] - 74s 45ms/step - loss: 0.0393 - accuracy: 0.9943 - val_loss: 0.1090 - val_accuracy: 0.9864\n",
      "Epoch 69/100\n",
      "1660/1660 [==============================] - 72s 43ms/step - loss: 0.0350 - accuracy: 0.9953 - val_loss: 0.1093 - val_accuracy: 0.9844\n",
      "Epoch 70/100\n",
      "1660/1660 [==============================] - 68s 41ms/step - loss: 0.0344 - accuracy: 0.9951 - val_loss: 0.1131 - val_accuracy: 0.9867\n",
      "Epoch 71/100\n",
      "1660/1660 [==============================] - 72s 43ms/step - loss: 0.0380 - accuracy: 0.9944 - val_loss: 0.0921 - val_accuracy: 0.9873\n",
      "Epoch 72/100\n",
      "1660/1660 [==============================] - 71s 43ms/step - loss: 0.0372 - accuracy: 0.9948 - val_loss: 0.1046 - val_accuracy: 0.9857\n",
      "Epoch 73/100\n",
      "1660/1660 [==============================] - 69s 42ms/step - loss: 0.0360 - accuracy: 0.9955 - val_loss: 0.1095 - val_accuracy: 0.9855\n",
      "Epoch 74/100\n",
      "1660/1660 [==============================] - 72s 44ms/step - loss: 0.0356 - accuracy: 0.9951 - val_loss: 0.1108 - val_accuracy: 0.9852\n",
      "Epoch 75/100\n",
      "1660/1660 [==============================] - 72s 43ms/step - loss: 0.0368 - accuracy: 0.9954 - val_loss: 0.1116 - val_accuracy: 0.9852\n",
      "Epoch 76/100\n",
      "1660/1660 [==============================] - 68s 41ms/step - loss: 0.0353 - accuracy: 0.9953 - val_loss: 0.1006 - val_accuracy: 0.9851\n",
      "Epoch 77/100\n",
      "1660/1660 [==============================] - 67s 41ms/step - loss: 0.0358 - accuracy: 0.9955 - val_loss: 0.0990 - val_accuracy: 0.9864\n",
      "Epoch 78/100\n",
      "1660/1660 [==============================] - 65s 39ms/step - loss: 0.0368 - accuracy: 0.9950 - val_loss: 0.1152 - val_accuracy: 0.9849\n",
      "Epoch 79/100\n",
      "1660/1660 [==============================] - 67s 41ms/step - loss: 0.0360 - accuracy: 0.9955 - val_loss: 0.0955 - val_accuracy: 0.9844\n",
      "Epoch 80/100\n",
      "1660/1660 [==============================] - 68s 41ms/step - loss: 0.0347 - accuracy: 0.9952 - val_loss: 0.1081 - val_accuracy: 0.9858\n",
      "Epoch 81/100\n",
      "1660/1660 [==============================] - 69s 42ms/step - loss: 0.0353 - accuracy: 0.9953 - val_loss: 0.1098 - val_accuracy: 0.9858\n",
      "Epoch 82/100\n",
      "1660/1660 [==============================] - 65s 39ms/step - loss: 0.0379 - accuracy: 0.9951 - val_loss: 0.1185 - val_accuracy: 0.9870\n",
      "Epoch 83/100\n",
      "1660/1660 [==============================] - 72s 44ms/step - loss: 0.0360 - accuracy: 0.9953 - val_loss: 0.1070 - val_accuracy: 0.9861\n",
      "Epoch 84/100\n",
      "1660/1660 [==============================] - 72s 43ms/step - loss: 0.0324 - accuracy: 0.9960 - val_loss: 0.1102 - val_accuracy: 0.9855\n",
      "Epoch 85/100\n",
      "1660/1660 [==============================] - 69s 42ms/step - loss: 0.0384 - accuracy: 0.9953 - val_loss: 0.1172 - val_accuracy: 0.9857\n",
      "Epoch 86/100\n",
      "1660/1660 [==============================] - 71s 43ms/step - loss: 0.0308 - accuracy: 0.9961 - val_loss: 0.1044 - val_accuracy: 0.9846\n",
      "Epoch 87/100\n",
      "1660/1660 [==============================] - 68s 41ms/step - loss: 0.0336 - accuracy: 0.9959 - val_loss: 0.0970 - val_accuracy: 0.9864\n",
      "Epoch 88/100\n",
      "1660/1660 [==============================] - 68s 41ms/step - loss: 0.0380 - accuracy: 0.9952 - val_loss: 0.1100 - val_accuracy: 0.9855\n",
      "Epoch 89/100\n",
      "1660/1660 [==============================] - 67s 40ms/step - loss: 0.0395 - accuracy: 0.9949 - val_loss: 0.1155 - val_accuracy: 0.9854\n",
      "Epoch 90/100\n",
      "1660/1660 [==============================] - 68s 41ms/step - loss: 0.0320 - accuracy: 0.9959 - val_loss: 0.1268 - val_accuracy: 0.9852\n",
      "Epoch 91/100\n",
      "1660/1660 [==============================] - 70s 42ms/step - loss: 0.0332 - accuracy: 0.9964 - val_loss: 0.1226 - val_accuracy: 0.9849\n",
      "Epoch 92/100\n",
      "1660/1660 [==============================] - 74s 45ms/step - loss: 0.0366 - accuracy: 0.9952 - val_loss: 0.1024 - val_accuracy: 0.9862\n",
      "Epoch 93/100\n",
      "1660/1660 [==============================] - 80s 48ms/step - loss: 0.0335 - accuracy: 0.9959 - val_loss: 0.1475 - val_accuracy: 0.9832\n",
      "Epoch 94/100\n",
      "1660/1660 [==============================] - 85s 51ms/step - loss: 0.0374 - accuracy: 0.9955 - val_loss: 0.1281 - val_accuracy: 0.9846\n",
      "Epoch 95/100\n",
      "1660/1660 [==============================] - 73s 44ms/step - loss: 0.0361 - accuracy: 0.9959 - val_loss: 0.1034 - val_accuracy: 0.9859\n",
      "Epoch 96/100\n",
      "1660/1660 [==============================] - 74s 45ms/step - loss: 0.0375 - accuracy: 0.9952 - val_loss: 0.1041 - val_accuracy: 0.9863\n",
      "Epoch 97/100\n",
      "1660/1660 [==============================] - 77s 46ms/step - loss: 0.0305 - accuracy: 0.9967 - val_loss: 0.1094 - val_accuracy: 0.9870\n",
      "Epoch 98/100\n",
      "1660/1660 [==============================] - 71s 43ms/step - loss: 0.0348 - accuracy: 0.9955 - val_loss: 0.1306 - val_accuracy: 0.9855\n",
      "Epoch 99/100\n",
      "1660/1660 [==============================] - 74s 45ms/step - loss: 0.0324 - accuracy: 0.9962 - val_loss: 0.1113 - val_accuracy: 0.9842\n",
      "Epoch 100/100\n",
      "1660/1660 [==============================] - 70s 42ms/step - loss: 0.0335 - accuracy: 0.9958 - val_loss: 0.1104 - val_accuracy: 0.9853\n"
     ]
    }
   ],
   "source": [
    "history = model.fit(train_x, train_y, batch_size=32, epochs=100, verbose=1, validation_data=(test_x, test_y))"
   ]
  },
  {
   "cell_type": "code",
   "execution_count": 9,
   "metadata": {},
   "outputs": [
    {
     "data": {
      "image/png": "[encoded data removed]",
      "text/plain": [
       "<Figure size 800x300 with 1 Axes>"
      ]
     },
     "metadata": {},
     "output_type": "display_data"
    },
    {
     "data": {
      "image/png": "[encoded data removed]",
      "text/plain": [
       "<Figure size 800x300 with 1 Axes>"
      ]
     },
     "metadata": {},
     "output_type": "display_data"
    }
   ],
   "source": [
    "# summarize history for loss\n",
    "plt.figure(figsize=(8,3))\n",
    "plt.plot(history.history['loss'])\n",
    "plt.plot(history.history['val_loss'])\n",
    "plt.title('model loss')\n",
    "plt.ylabel('loss')\n",
    "plt.xlabel('epoch')\n",
    "plt.legend(['train', 'test'], loc='best')\n",
    "plt.show()\n",
    "\n",
    "# summarize history for accuracy\n",
    "plt.figure(figsize=(8,3))\n",
    "plt.plot(history.history['accuracy'])\n",
    "plt.plot(history.history['val_accuracy'])\n",
    "plt.title('model accuracy')\n",
    "plt.ylabel('accuracy')\n",
    "plt.xlabel('epoch')\n",
    "plt.legend(['train', 'test'], loc='best')\n",
    "plt.show()"
   ]
  },
  {
   "cell_type": "code",
   "execution_count": 10,
   "metadata": {},
   "outputs": [
    {
     "name": "stdout",
     "output_type": "stream",
     "text": [
      "415/415 [==============================] - 4s 9ms/step - loss: 0.1104 - accuracy: 0.9853\n",
      "Test Loss: 0.11037839949131012\n",
      "Test accuracy: 0.9853118658065796\n"
     ]
    }
   ],
   "source": [
    "# finding the loss and acuracy of the model\n",
    "score = model.evaluate(test_x, test_y)\n",
    "\n",
    "print('Test Loss:', score[0])\n",
    "print('Test accuracy:', score[1])"
   ]
  },
  {
   "cell_type": "code",
   "execution_count": 11,
   "metadata": {},
   "outputs": [
    {
     "name": "stderr",
     "output_type": "stream",
     "text": [
      "WARNING:absl:Found untraced functions such as _jit_compiled_convolution_op, _jit_compiled_convolution_op, _jit_compiled_convolution_op, _jit_compiled_convolution_op while saving (showing 4 of 4). These functions will not be directly callable after loading.\n"
     ]
    },
    {
     "name": "stdout",
     "output_type": "stream",
     "text": [
      "INFO:tensorflow:Assets written to: CNN_model_21\\assets\n"
     ]
    },
    {
     "name": "stderr",
     "output_type": "stream",
     "text": [
      "INFO:tensorflow:Assets written to: CNN_model_21\\assets\n"
     ]
    }
   ],
   "source": [
    "# save model\n",
    "model.save('CNN_model_21')"
   ]
  },
  {
   "attachments": {},
   "cell_type": "markdown",
   "metadata": {},
   "source": [
    "# confusion matrix"
   ]
  },
  {
   "cell_type": "code",
   "execution_count": 12,
   "metadata": {},
   "outputs": [
    {
     "name": "stdout",
     "output_type": "stream",
     "text": [
      "415/415 [==============================] - 4s 10ms/step\n"
     ]
    },
    {
     "data": {
      "text/plain": [
       "array([3, 1, 2, ..., 0, 3, 0], dtype=int64)"
      ]
     },
     "execution_count": 12,
     "metadata": {},
     "output_type": "execute_result"
    }
   ],
   "source": [
    "y_pred = model.predict(test_x)\n",
    "y_pred = np.argmax(y_pred, axis=1)\n",
    "y_pred"
   ]
  },
  {
   "cell_type": "code",
   "execution_count": 13,
   "metadata": {},
   "outputs": [
    {
     "name": "stdout",
     "output_type": "stream",
     "text": [
      "confusion matrix\n",
      "[[3190    9   13   13   19]\n",
      " [   9 3187    0    3    1]\n",
      " [  14    3 2972    2    1]\n",
      " [  52    7    7 2761    8]\n",
      " [  24    2    2    6  971]]\n",
      "\n",
      "classification report\n",
      "              precision    recall  f1-score   support\n",
      "\n",
      "           N     0.9699    0.9834    0.9766      3244\n",
      "           L     0.9935    0.9959    0.9947      3200\n",
      "           R     0.9927    0.9933    0.9930      2992\n",
      "           V     0.9914    0.9739    0.9826      2835\n",
      "           A     0.9710    0.9662    0.9686      1005\n",
      "\n",
      "    accuracy                         0.9853     13276\n",
      "   macro avg     0.9837    0.9825    0.9831     13276\n",
      "weighted avg     0.9854    0.9853    0.9853     13276\n",
      "\n"
     ]
    }
   ],
   "source": [
    "y_true = test[440]\n",
    "\n",
    "from sklearn.metrics import confusion_matrix, classification_report\n",
    "\n",
    "cm = confusion_matrix(y_true, y_pred)\n",
    "print('confusion matrix')\n",
    "print(cm)\n",
    "print('\\nclassification report')\n",
    "report = classification_report(y_true, y_pred, target_names=['N', 'L', 'R', 'V', 'A'], digits=4)\n",
    "print(report )\n",
    "\n",
    "def report_to_df(report):\n",
    "    report = [x.split(' ') for x in report.split('\\n')]\n",
    "    header = ['Class Name']+[x for x in report[0] if x!='']\n",
    "    values = []\n",
    "    for row in report[1:-5]:\n",
    "        row = [value for value in row if value!='']\n",
    "        if row!=[]:\n",
    "            values.append(row)\n",
    "    df = pd.DataFrame(data = values, columns = header)\n",
    "    return df\n",
    "report = report_to_df(report)\n",
    "\n",
    "# report.to_csv('classification report.csv', index=True)"
   ]
  }
 ],
 "metadata": {
  "kernelspec": {
   "display_name": "cenv1",
   "language": "python",
   "name": "python3"
  },
  "language_info": {
   "codemirror_mode": {
    "name": "ipython",
    "version": 3
   },
   "file_extension": ".py",
   "mimetype": "text/x-python",
   "name": "python",
   "nbconvert_exporter": "python",
   "pygments_lexer": "ipython3",
   "version": "3.10.9"
  },
  "orig_nbformat": 4
 },
 "nbformat": 4,
 "nbformat_minor": 2
}
