{
 "cells": [
  {
   "attachments": {},
   "cell_type": "markdown",
   "metadata": {},
   "source": [
    "# Initialize"
   ]
  },
  {
   "cell_type": "code",
   "execution_count": 1,
   "metadata": {},
   "outputs": [],
   "source": [
    "import numpy as np\n",
    "import pandas as pd\n",
    "import matplotlib.pyplot as plt\n",
    "\n",
    "from keras.utils.np_utils import to_categorical\n",
    "from keras.models import Sequential\n",
    "from keras.layers import Conv1D, AvgPool1D, Flatten, Dense, Dropout, Softmax\n",
    "from keras import regularizers\n",
    "from keras.optimizers import Adam \n"
   ]
  },
  {
   "attachments": {},
   "cell_type": "markdown",
   "metadata": {},
   "source": [
    "# Load dataset"
   ]
  },
  {
   "cell_type": "code",
   "execution_count": 2,
   "metadata": {},
   "outputs": [
    {
     "name": "stdout",
     "output_type": "stream",
     "text": [
      "train_data :  (53102, 441)\n",
      "test_data  :  (13276, 441)\n"
     ]
    }
   ],
   "source": [
    "train = pd.read_csv('./data/0.8_train.csv', header=None)\n",
    "test = pd.read_csv('./data/0.2_test.csv', header=None)\n",
    "\n",
    "print(\"train_data : \", np.shape(train))\n",
    "print(\"test_data  : \", np.shape(test))"
   ]
  },
  {
   "cell_type": "code",
   "execution_count": 3,
   "metadata": {},
   "outputs": [
    {
     "name": "stdout",
     "output_type": "stream",
     "text": [
      "data train per class\n",
      "0.0    13152\n",
      "1.0    12938\n",
      "2.0    11508\n",
      "3.0    11421\n",
      "4.0     4083\n",
      "Name: 440, dtype: int64\n",
      "---------------------------------\n",
      "data test per class\n",
      "0.0    3244\n",
      "1.0    3200\n",
      "2.0    2992\n",
      "3.0    2835\n",
      "4.0    1005\n",
      "Name: 440, dtype: int64\n"
     ]
    }
   ],
   "source": [
    "# 0.0 Normal beat\n",
    "# 1.0 LBBB beat\n",
    "# 2.0 RBBB beat\n",
    "# 3.0 PVC beat\n",
    "# 4.0 PAC beat\n",
    "\n",
    "print('data train per class')\n",
    "print(train[440].value_counts())\n",
    "print('---------------------------------')\n",
    "print('data test per class')\n",
    "print(test[440].value_counts())"
   ]
  },
  {
   "cell_type": "code",
   "execution_count": 4,
   "metadata": {},
   "outputs": [
    {
     "name": "stdout",
     "output_type": "stream",
     "text": [
      "(53102, 5) (13276, 5)\n"
     ]
    }
   ],
   "source": [
    "target_train=train[train.shape[1]-1]\n",
    "target_test=test[test.shape[1]-1]\n",
    "train_y=to_categorical(target_train)\n",
    "test_y=to_categorical(target_test)\n",
    "print(np.shape(train_y), np.shape(test_y))"
   ]
  },
  {
   "cell_type": "code",
   "execution_count": 5,
   "metadata": {},
   "outputs": [
    {
     "name": "stdout",
     "output_type": "stream",
     "text": [
      "(53102, 440, 1) (13276, 440, 1)\n"
     ]
    }
   ],
   "source": [
    "train_x = train.iloc[:,:train.shape[1]-1].values\n",
    "test_x = test.iloc[:,:test.shape[1]-1].values\n",
    "train_x = train_x.reshape(len(train_x), train_x.shape[1],1)\n",
    "test_x = test_x.reshape(len(test_x), test_x.shape[1],1)\n",
    "print(np.shape(train_x), np.shape(test_x))"
   ]
  },
  {
   "attachments": {},
   "cell_type": "markdown",
   "metadata": {},
   "source": [
    "# Model architecture"
   ]
  },
  {
   "cell_type": "code",
   "execution_count": 6,
   "metadata": {},
   "outputs": [
    {
     "name": "stdout",
     "output_type": "stream",
     "text": [
      "Model: \"sequential\"\n",
      "_________________________________________________________________\n",
      " Layer (type)                Output Shape              Param #   \n",
      "=================================================================\n",
      " conv1d (Conv1D)             (None, 440, 16)           224       \n",
      "                                                                 \n",
      " average_pooling1d (AverageP  (None, 219, 16)          0         \n",
      " ooling1D)                                                       \n",
      "                                                                 \n",
      " conv1d_1 (Conv1D)           (None, 219, 32)           7712      \n",
      "                                                                 \n",
      " average_pooling1d_1 (Averag  (None, 109, 32)          0         \n",
      " ePooling1D)                                                     \n",
      "                                                                 \n",
      " conv1d_2 (Conv1D)           (None, 109, 64)           34880     \n",
      "                                                                 \n",
      " average_pooling1d_2 (Averag  (None, 54, 64)           0         \n",
      " ePooling1D)                                                     \n",
      "                                                                 \n",
      " conv1d_3 (Conv1D)           (None, 54, 128)           155776    \n",
      "                                                                 \n",
      " average_pooling1d_3 (Averag  (None, 26, 128)          0         \n",
      " ePooling1D)                                                     \n",
      "                                                                 \n",
      " flatten (Flatten)           (None, 3328)              0         \n",
      "                                                                 \n",
      " dropout (Dropout)           (None, 3328)              0         \n",
      "                                                                 \n",
      " dense (Dense)               (None, 35)                116515    \n",
      "                                                                 \n",
      " dense_1 (Dense)             (None, 5)                 180       \n",
      "                                                                 \n",
      " softmax (Softmax)           (None, 5)                 0         \n",
      "                                                                 \n",
      "=================================================================\n",
      "Total params: 315,287\n",
      "Trainable params: 315,287\n",
      "Non-trainable params: 0\n",
      "_________________________________________________________________\n"
     ]
    }
   ],
   "source": [
    "# Instanciate an empty model\n",
    "model = Sequential()\n",
    "\n",
    "model.add(Conv1D(filters=16, kernel_size=13, padding='same', activation='relu',input_shape=(440, 1)))\n",
    "model.add(AvgPool1D(pool_size=3, strides=2))\n",
    "model.add(Conv1D(filters=32, kernel_size=15, padding='same', activation='relu'))\n",
    "model.add(AvgPool1D(pool_size=3, strides=2))\n",
    "model.add(Conv1D(filters=64, kernel_size=17, padding='same', activation='relu'))\n",
    "model.add(AvgPool1D(pool_size=3, strides=2))\n",
    "model.add(Conv1D(filters=128, kernel_size=19, padding='same', activation='relu'))\n",
    "model.add(AvgPool1D(pool_size=3, strides=2))\n",
    "model.add(Flatten())\n",
    "model.add(Dropout(0.5))\n",
    "model.add(Dense(35,kernel_regularizer=regularizers.l2(0.0001), bias_regularizer=regularizers.l2(0.0001)))\n",
    "model.add(Dense(5,kernel_regularizer=regularizers.l2(0.0001), bias_regularizer=regularizers.l2(0.0001)))\n",
    "model.add(Softmax())\n",
    "\n",
    "model.summary()"
   ]
  },
  {
   "attachments": {},
   "cell_type": "markdown",
   "metadata": {},
   "source": [
    "# learning_rate 1e-3, batch_size 64, epoch 100"
   ]
  },
  {
   "cell_type": "code",
   "execution_count": 7,
   "metadata": {},
   "outputs": [],
   "source": [
    "model.compile(loss='categorical_crossentropy', optimizer=Adam(learning_rate=1e-3), metrics=['accuracy'])"
   ]
  },
  {
   "cell_type": "code",
   "execution_count": 8,
   "metadata": {},
   "outputs": [
    {
     "name": "stdout",
     "output_type": "stream",
     "text": [
      "Epoch 1/100\n",
      "830/830 [==============================] - 95s 111ms/step - loss: 0.3995 - accuracy: 0.8633 - val_loss: 0.1722 - val_accuracy: 0.9519\n",
      "Epoch 2/100\n",
      "830/830 [==============================] - 95s 115ms/step - loss: 0.1571 - accuracy: 0.9552 - val_loss: 0.1197 - val_accuracy: 0.9657\n",
      "Epoch 3/100\n",
      "830/830 [==============================] - 113s 136ms/step - loss: 0.1193 - accuracy: 0.9674 - val_loss: 0.1067 - val_accuracy: 0.9719\n",
      "Epoch 4/100\n",
      "830/830 [==============================] - 113s 136ms/step - loss: 0.1038 - accuracy: 0.9720 - val_loss: 0.0910 - val_accuracy: 0.9774\n",
      "Epoch 5/100\n",
      "830/830 [==============================] - 114s 137ms/step - loss: 0.0941 - accuracy: 0.9751 - val_loss: 0.0769 - val_accuracy: 0.9818\n",
      "Epoch 6/100\n",
      "830/830 [==============================] - 112s 134ms/step - loss: 0.0857 - accuracy: 0.9773 - val_loss: 0.0802 - val_accuracy: 0.9794\n",
      "Epoch 7/100\n",
      "830/830 [==============================] - 95s 114ms/step - loss: 0.0800 - accuracy: 0.9792 - val_loss: 0.0830 - val_accuracy: 0.9792\n",
      "Epoch 8/100\n",
      "830/830 [==============================] - 94s 113ms/step - loss: 0.0738 - accuracy: 0.9809 - val_loss: 0.0732 - val_accuracy: 0.9829\n",
      "Epoch 9/100\n",
      "830/830 [==============================] - 100s 120ms/step - loss: 0.0680 - accuracy: 0.9824 - val_loss: 0.0768 - val_accuracy: 0.9825\n",
      "Epoch 10/100\n",
      "830/830 [==============================] - 97s 117ms/step - loss: 0.0661 - accuracy: 0.9835 - val_loss: 0.0666 - val_accuracy: 0.9849\n",
      "Epoch 11/100\n",
      "830/830 [==============================] - 103s 124ms/step - loss: 0.0622 - accuracy: 0.9840 - val_loss: 0.0711 - val_accuracy: 0.9829\n",
      "Epoch 12/100\n",
      "830/830 [==============================] - 99s 119ms/step - loss: 0.0585 - accuracy: 0.9855 - val_loss: 0.0650 - val_accuracy: 0.9861\n",
      "Epoch 13/100\n",
      "830/830 [==============================] - 94s 114ms/step - loss: 0.0530 - accuracy: 0.9872 - val_loss: 0.0665 - val_accuracy: 0.9864\n",
      "Epoch 14/100\n",
      "830/830 [==============================] - 99s 119ms/step - loss: 0.0502 - accuracy: 0.9882 - val_loss: 0.0646 - val_accuracy: 0.9863\n",
      "Epoch 15/100\n",
      "830/830 [==============================] - 91s 109ms/step - loss: 0.0488 - accuracy: 0.9882 - val_loss: 0.0695 - val_accuracy: 0.9845\n",
      "Epoch 16/100\n",
      "830/830 [==============================] - 96s 116ms/step - loss: 0.0465 - accuracy: 0.9890 - val_loss: 0.0651 - val_accuracy: 0.9865\n",
      "Epoch 17/100\n",
      "830/830 [==============================] - 92s 111ms/step - loss: 0.0447 - accuracy: 0.9895 - val_loss: 0.0609 - val_accuracy: 0.9864\n",
      "Epoch 18/100\n",
      "830/830 [==============================] - 93s 112ms/step - loss: 0.0432 - accuracy: 0.9896 - val_loss: 0.0673 - val_accuracy: 0.9855\n",
      "Epoch 19/100\n",
      "830/830 [==============================] - 92s 111ms/step - loss: 0.0414 - accuracy: 0.9906 - val_loss: 0.0624 - val_accuracy: 0.9871\n",
      "Epoch 20/100\n",
      "830/830 [==============================] - 95s 114ms/step - loss: 0.0382 - accuracy: 0.9916 - val_loss: 0.0609 - val_accuracy: 0.9873\n",
      "Epoch 21/100\n",
      "830/830 [==============================] - 94s 113ms/step - loss: 0.0374 - accuracy: 0.9920 - val_loss: 0.0678 - val_accuracy: 0.9867\n",
      "Epoch 22/100\n",
      "830/830 [==============================] - 90s 109ms/step - loss: 0.0354 - accuracy: 0.9922 - val_loss: 0.0629 - val_accuracy: 0.9876\n",
      "Epoch 23/100\n",
      "830/830 [==============================] - 94s 113ms/step - loss: 0.0352 - accuracy: 0.9919 - val_loss: 0.0673 - val_accuracy: 0.9873\n",
      "Epoch 24/100\n",
      "830/830 [==============================] - 93s 112ms/step - loss: 0.0328 - accuracy: 0.9928 - val_loss: 0.0654 - val_accuracy: 0.9869\n",
      "Epoch 25/100\n",
      "830/830 [==============================] - 95s 114ms/step - loss: 0.0323 - accuracy: 0.9929 - val_loss: 0.0706 - val_accuracy: 0.9874\n",
      "Epoch 26/100\n",
      "830/830 [==============================] - 96s 116ms/step - loss: 0.0320 - accuracy: 0.9926 - val_loss: 0.0631 - val_accuracy: 0.9878\n",
      "Epoch 27/100\n",
      "830/830 [==============================] - 94s 113ms/step - loss: 0.0301 - accuracy: 0.9935 - val_loss: 0.0638 - val_accuracy: 0.9886\n",
      "Epoch 28/100\n",
      "830/830 [==============================] - 94s 113ms/step - loss: 0.0292 - accuracy: 0.9937 - val_loss: 0.0605 - val_accuracy: 0.9876\n",
      "Epoch 29/100\n",
      "830/830 [==============================] - 94s 114ms/step - loss: 0.0289 - accuracy: 0.9935 - val_loss: 0.0624 - val_accuracy: 0.9880\n",
      "Epoch 30/100\n",
      "830/830 [==============================] - 94s 114ms/step - loss: 0.0279 - accuracy: 0.9939 - val_loss: 0.0642 - val_accuracy: 0.9876\n",
      "Epoch 31/100\n",
      "830/830 [==============================] - 95s 115ms/step - loss: 0.0271 - accuracy: 0.9943 - val_loss: 0.0685 - val_accuracy: 0.9862\n",
      "Epoch 32/100\n",
      "830/830 [==============================] - 95s 115ms/step - loss: 0.0252 - accuracy: 0.9951 - val_loss: 0.0680 - val_accuracy: 0.9882\n",
      "Epoch 33/100\n",
      "830/830 [==============================] - 94s 114ms/step - loss: 0.0262 - accuracy: 0.9945 - val_loss: 0.0621 - val_accuracy: 0.9882\n",
      "Epoch 34/100\n",
      "830/830 [==============================] - 96s 115ms/step - loss: 0.0258 - accuracy: 0.9943 - val_loss: 0.0611 - val_accuracy: 0.9883\n",
      "Epoch 35/100\n",
      "830/830 [==============================] - 95s 115ms/step - loss: 0.0248 - accuracy: 0.9950 - val_loss: 0.0630 - val_accuracy: 0.9861\n",
      "Epoch 36/100\n",
      "830/830 [==============================] - 94s 114ms/step - loss: 0.0235 - accuracy: 0.9952 - val_loss: 0.0666 - val_accuracy: 0.9882\n",
      "Epoch 37/100\n",
      "830/830 [==============================] - 91s 110ms/step - loss: 0.0242 - accuracy: 0.9950 - val_loss: 0.0650 - val_accuracy: 0.9886\n",
      "Epoch 38/100\n",
      "830/830 [==============================] - 91s 109ms/step - loss: 0.0227 - accuracy: 0.9955 - val_loss: 0.0626 - val_accuracy: 0.9882\n",
      "Epoch 39/100\n",
      "830/830 [==============================] - 91s 110ms/step - loss: 0.0216 - accuracy: 0.9957 - val_loss: 0.0640 - val_accuracy: 0.9879\n",
      "Epoch 40/100\n",
      "830/830 [==============================] - 92s 110ms/step - loss: 0.0215 - accuracy: 0.9956 - val_loss: 0.0660 - val_accuracy: 0.9890\n",
      "Epoch 41/100\n",
      "830/830 [==============================] - 92s 110ms/step - loss: 0.0240 - accuracy: 0.9947 - val_loss: 0.0664 - val_accuracy: 0.9878\n",
      "Epoch 42/100\n",
      "830/830 [==============================] - 91s 110ms/step - loss: 0.0211 - accuracy: 0.9963 - val_loss: 0.0678 - val_accuracy: 0.9886\n",
      "Epoch 43/100\n",
      "830/830 [==============================] - 93s 112ms/step - loss: 0.0198 - accuracy: 0.9957 - val_loss: 0.0617 - val_accuracy: 0.9886\n",
      "Epoch 44/100\n",
      "830/830 [==============================] - 291s 351ms/step - loss: 0.0198 - accuracy: 0.9964 - val_loss: 0.0715 - val_accuracy: 0.9882\n",
      "Epoch 45/100\n",
      "830/830 [==============================] - 66s 79ms/step - loss: 0.0202 - accuracy: 0.9962 - val_loss: 0.0739 - val_accuracy: 0.9888\n",
      "Epoch 46/100\n",
      "830/830 [==============================] - 65s 78ms/step - loss: 0.0205 - accuracy: 0.9959 - val_loss: 0.0696 - val_accuracy: 0.9882\n",
      "Epoch 47/100\n",
      "830/830 [==============================] - 68s 82ms/step - loss: 0.0199 - accuracy: 0.9961 - val_loss: 0.0673 - val_accuracy: 0.9876\n",
      "Epoch 48/100\n",
      "830/830 [==============================] - 66s 80ms/step - loss: 0.0193 - accuracy: 0.9965 - val_loss: 0.0689 - val_accuracy: 0.9886\n",
      "Epoch 49/100\n",
      "830/830 [==============================] - 69s 84ms/step - loss: 0.0194 - accuracy: 0.9962 - val_loss: 0.0671 - val_accuracy: 0.9895\n",
      "Epoch 50/100\n",
      "830/830 [==============================] - 68s 82ms/step - loss: 0.0183 - accuracy: 0.9966 - val_loss: 0.0658 - val_accuracy: 0.9882\n",
      "Epoch 51/100\n",
      "830/830 [==============================] - 64s 77ms/step - loss: 0.0183 - accuracy: 0.9965 - val_loss: 0.0621 - val_accuracy: 0.9889\n",
      "Epoch 52/100\n",
      "830/830 [==============================] - 64s 77ms/step - loss: 0.0195 - accuracy: 0.9962 - val_loss: 0.0728 - val_accuracy: 0.9879\n",
      "Epoch 53/100\n",
      "830/830 [==============================] - 64s 77ms/step - loss: 0.0185 - accuracy: 0.9966 - val_loss: 0.0705 - val_accuracy: 0.9888\n",
      "Epoch 54/100\n",
      "830/830 [==============================] - 64s 77ms/step - loss: 0.0181 - accuracy: 0.9969 - val_loss: 0.0689 - val_accuracy: 0.9877\n",
      "Epoch 55/100\n",
      "830/830 [==============================] - 73s 88ms/step - loss: 0.0183 - accuracy: 0.9965 - val_loss: 0.0673 - val_accuracy: 0.9882\n",
      "Epoch 56/100\n",
      "830/830 [==============================] - 74s 89ms/step - loss: 0.0179 - accuracy: 0.9967 - val_loss: 0.0649 - val_accuracy: 0.9886\n",
      "Epoch 57/100\n",
      "830/830 [==============================] - 72s 87ms/step - loss: 0.0177 - accuracy: 0.9966 - val_loss: 0.0640 - val_accuracy: 0.9890\n",
      "Epoch 58/100\n",
      "830/830 [==============================] - 73s 88ms/step - loss: 0.0164 - accuracy: 0.9972 - val_loss: 0.0721 - val_accuracy: 0.9883\n",
      "Epoch 59/100\n",
      "830/830 [==============================] - 73s 88ms/step - loss: 0.0199 - accuracy: 0.9960 - val_loss: 0.0653 - val_accuracy: 0.9894\n",
      "Epoch 60/100\n",
      "830/830 [==============================] - 70s 85ms/step - loss: 0.0168 - accuracy: 0.9969 - val_loss: 0.0708 - val_accuracy: 0.9883\n",
      "Epoch 61/100\n",
      "830/830 [==============================] - 70s 85ms/step - loss: 0.0162 - accuracy: 0.9972 - val_loss: 0.0792 - val_accuracy: 0.9885\n",
      "Epoch 62/100\n",
      "830/830 [==============================] - 71s 86ms/step - loss: 0.0171 - accuracy: 0.9968 - val_loss: 0.0740 - val_accuracy: 0.9888\n",
      "Epoch 63/100\n",
      "830/830 [==============================] - 67s 80ms/step - loss: 0.0162 - accuracy: 0.9972 - val_loss: 0.0669 - val_accuracy: 0.9893\n",
      "Epoch 64/100\n",
      "830/830 [==============================] - 70s 85ms/step - loss: 0.0191 - accuracy: 0.9962 - val_loss: 0.0663 - val_accuracy: 0.9890\n",
      "Epoch 65/100\n",
      "830/830 [==============================] - 70s 84ms/step - loss: 0.0156 - accuracy: 0.9973 - val_loss: 0.0757 - val_accuracy: 0.9877\n",
      "Epoch 66/100\n",
      "830/830 [==============================] - 71s 85ms/step - loss: 0.0158 - accuracy: 0.9971 - val_loss: 0.0660 - val_accuracy: 0.9888\n",
      "Epoch 67/100\n",
      "830/830 [==============================] - 70s 85ms/step - loss: 0.0154 - accuracy: 0.9977 - val_loss: 0.0654 - val_accuracy: 0.9886\n",
      "Epoch 68/100\n",
      "830/830 [==============================] - 68s 81ms/step - loss: 0.0167 - accuracy: 0.9966 - val_loss: 0.0725 - val_accuracy: 0.9889\n",
      "Epoch 69/100\n",
      "830/830 [==============================] - 70s 84ms/step - loss: 0.0157 - accuracy: 0.9972 - val_loss: 0.0690 - val_accuracy: 0.9888\n",
      "Epoch 70/100\n",
      "830/830 [==============================] - 72s 86ms/step - loss: 0.0158 - accuracy: 0.9970 - val_loss: 0.0720 - val_accuracy: 0.9873\n",
      "Epoch 71/100\n",
      "830/830 [==============================] - 73s 88ms/step - loss: 0.0155 - accuracy: 0.9973 - val_loss: 0.0707 - val_accuracy: 0.9890\n",
      "Epoch 72/100\n",
      "830/830 [==============================] - 72s 87ms/step - loss: 0.0158 - accuracy: 0.9971 - val_loss: 0.0740 - val_accuracy: 0.9882\n",
      "Epoch 73/100\n",
      "830/830 [==============================] - 73s 88ms/step - loss: 0.0138 - accuracy: 0.9977 - val_loss: 0.0726 - val_accuracy: 0.9871\n",
      "Epoch 74/100\n",
      "830/830 [==============================] - 73s 88ms/step - loss: 0.0147 - accuracy: 0.9976 - val_loss: 0.0690 - val_accuracy: 0.9886\n",
      "Epoch 75/100\n",
      "830/830 [==============================] - 73s 88ms/step - loss: 0.0148 - accuracy: 0.9976 - val_loss: 0.0701 - val_accuracy: 0.9889\n",
      "Epoch 76/100\n",
      "830/830 [==============================] - 74s 89ms/step - loss: 0.0171 - accuracy: 0.9967 - val_loss: 0.0726 - val_accuracy: 0.9879\n",
      "Epoch 77/100\n",
      "830/830 [==============================] - 71s 86ms/step - loss: 0.0141 - accuracy: 0.9976 - val_loss: 0.0792 - val_accuracy: 0.9883\n",
      "Epoch 78/100\n",
      "830/830 [==============================] - 67s 81ms/step - loss: 0.0142 - accuracy: 0.9976 - val_loss: 0.0713 - val_accuracy: 0.9886\n",
      "Epoch 79/100\n",
      "830/830 [==============================] - 70s 84ms/step - loss: 0.0157 - accuracy: 0.9972 - val_loss: 0.0733 - val_accuracy: 0.9886\n",
      "Epoch 80/100\n",
      "830/830 [==============================] - 72s 87ms/step - loss: 0.0140 - accuracy: 0.9977 - val_loss: 0.0711 - val_accuracy: 0.9888\n",
      "Epoch 81/100\n",
      "830/830 [==============================] - 71s 86ms/step - loss: 0.0124 - accuracy: 0.9980 - val_loss: 0.0674 - val_accuracy: 0.9885\n",
      "Epoch 82/100\n",
      "830/830 [==============================] - 67s 80ms/step - loss: 0.0118 - accuracy: 0.9981 - val_loss: 0.0731 - val_accuracy: 0.9893\n",
      "Epoch 83/100\n",
      "830/830 [==============================] - 71s 85ms/step - loss: 0.0148 - accuracy: 0.9975 - val_loss: 0.0736 - val_accuracy: 0.9886\n",
      "Epoch 84/100\n",
      "830/830 [==============================] - 70s 84ms/step - loss: 0.0145 - accuracy: 0.9976 - val_loss: 0.0771 - val_accuracy: 0.9872\n",
      "Epoch 85/100\n",
      "830/830 [==============================] - 1989s 2s/step - loss: 0.0137 - accuracy: 0.9976 - val_loss: 0.0797 - val_accuracy: 0.9880\n",
      "Epoch 86/100\n",
      "830/830 [==============================] - 86s 103ms/step - loss: 0.0122 - accuracy: 0.9982 - val_loss: 0.0754 - val_accuracy: 0.9893\n",
      "Epoch 87/100\n",
      "830/830 [==============================] - 97s 117ms/step - loss: 0.0136 - accuracy: 0.9974 - val_loss: 0.0780 - val_accuracy: 0.9881\n",
      "Epoch 88/100\n",
      "830/830 [==============================] - 98s 118ms/step - loss: 0.0136 - accuracy: 0.9976 - val_loss: 0.0731 - val_accuracy: 0.9890\n",
      "Epoch 89/100\n",
      "830/830 [==============================] - 95s 114ms/step - loss: 0.0121 - accuracy: 0.9981 - val_loss: 0.0719 - val_accuracy: 0.9882\n",
      "Epoch 90/100\n",
      "830/830 [==============================] - 94s 113ms/step - loss: 0.0118 - accuracy: 0.9982 - val_loss: 0.0815 - val_accuracy: 0.9892\n",
      "Epoch 91/100\n",
      "830/830 [==============================] - 94s 113ms/step - loss: 0.0111 - accuracy: 0.9980 - val_loss: 0.0856 - val_accuracy: 0.9885\n",
      "Epoch 92/100\n",
      "830/830 [==============================] - 93s 112ms/step - loss: 0.0133 - accuracy: 0.9976 - val_loss: 0.0723 - val_accuracy: 0.9892\n",
      "Epoch 93/100\n",
      "830/830 [==============================] - 93s 112ms/step - loss: 0.0110 - accuracy: 0.9984 - val_loss: 0.0816 - val_accuracy: 0.9894\n",
      "Epoch 94/100\n",
      "830/830 [==============================] - 93s 112ms/step - loss: 0.0130 - accuracy: 0.9976 - val_loss: 0.0824 - val_accuracy: 0.9881\n",
      "Epoch 95/100\n",
      "830/830 [==============================] - 2640s 3s/step - loss: 0.0113 - accuracy: 0.9981 - val_loss: 0.0829 - val_accuracy: 0.9873\n",
      "Epoch 96/100\n",
      "830/830 [==============================] - 75s 90ms/step - loss: 0.0165 - accuracy: 0.9968 - val_loss: 0.0659 - val_accuracy: 0.9895\n",
      "Epoch 97/100\n",
      "830/830 [==============================] - 96s 116ms/step - loss: 0.0129 - accuracy: 0.9979 - val_loss: 0.0842 - val_accuracy: 0.9877\n",
      "Epoch 98/100\n",
      "830/830 [==============================] - 97s 116ms/step - loss: 0.0103 - accuracy: 0.9984 - val_loss: 0.0765 - val_accuracy: 0.9882\n",
      "Epoch 99/100\n",
      "830/830 [==============================] - 101s 121ms/step - loss: 0.0111 - accuracy: 0.9981 - val_loss: 0.0844 - val_accuracy: 0.9892\n",
      "Epoch 100/100\n",
      "830/830 [==============================] - 97s 116ms/step - loss: 0.0132 - accuracy: 0.9977 - val_loss: 0.0840 - val_accuracy: 0.9878\n"
     ]
    }
   ],
   "source": [
    "history = model.fit(train_x, train_y, batch_size=64, epochs=100, verbose=1, validation_data=(test_x, test_y))"
   ]
  },
  {
   "cell_type": "code",
   "execution_count": 9,
   "metadata": {},
   "outputs": [
    {
     "data": {
      "image/png": "[encoded data removed]",
      "text/plain": [
       "<Figure size 800x300 with 1 Axes>"
      ]
     },
     "metadata": {},
     "output_type": "display_data"
    },
    {
     "data": {
      "image/png": "[encoded data removed]",
      "text/plain": [
       "<Figure size 800x300 with 1 Axes>"
      ]
     },
     "metadata": {},
     "output_type": "display_data"
    }
   ],
   "source": [
    "# summarize history for loss\n",
    "plt.figure(figsize=(8,3))\n",
    "plt.plot(history.history['loss'])\n",
    "plt.plot(history.history['val_loss'])\n",
    "plt.title('model loss')\n",
    "plt.ylabel('loss')\n",
    "plt.xlabel('epoch')\n",
    "plt.legend(['train', 'test'], loc='best')\n",
    "plt.show()\n",
    "\n",
    "# summarize history for accuracy\n",
    "plt.figure(figsize=(8,3))\n",
    "plt.plot(history.history['accuracy'])\n",
    "plt.plot(history.history['val_accuracy'])\n",
    "plt.title('model accuracy')\n",
    "plt.ylabel('accuracy')\n",
    "plt.xlabel('epoch')\n",
    "plt.legend(['train', 'test'], loc='best')\n",
    "plt.show()"
   ]
  },
  {
   "cell_type": "code",
   "execution_count": 10,
   "metadata": {},
   "outputs": [
    {
     "name": "stdout",
     "output_type": "stream",
     "text": [
      "415/415 [==============================] - 6s 15ms/step - loss: 0.0840 - accuracy: 0.9878\n",
      "Test Loss: 0.08403982222080231\n",
      "Test accuracy: 0.9877975583076477\n"
     ]
    }
   ],
   "source": [
    "# finding the loss and acuracy of the model\n",
    "score = model.evaluate(test_x, test_y)\n",
    "\n",
    "print('Test Loss:', score[0])\n",
    "print('Test accuracy:', score[1])"
   ]
  },
  {
   "cell_type": "code",
   "execution_count": 11,
   "metadata": {},
   "outputs": [
    {
     "name": "stderr",
     "output_type": "stream",
     "text": [
      "WARNING:absl:Found untraced functions such as _jit_compiled_convolution_op, _jit_compiled_convolution_op, _jit_compiled_convolution_op, _jit_compiled_convolution_op while saving (showing 4 of 4). These functions will not be directly callable after loading.\n"
     ]
    },
    {
     "name": "stdout",
     "output_type": "stream",
     "text": [
      "INFO:tensorflow:Assets written to: CNN_model_6\\assets\n"
     ]
    },
    {
     "name": "stderr",
     "output_type": "stream",
     "text": [
      "INFO:tensorflow:Assets written to: CNN_model_6\\assets\n"
     ]
    }
   ],
   "source": [
    "# save model\n",
    "model.save('CNN_model_6')"
   ]
  },
  {
   "attachments": {},
   "cell_type": "markdown",
   "metadata": {},
   "source": [
    "# confusion matrix"
   ]
  },
  {
   "cell_type": "code",
   "execution_count": 12,
   "metadata": {},
   "outputs": [
    {
     "name": "stdout",
     "output_type": "stream",
     "text": [
      "415/415 [==============================] - 7s 16ms/step\n"
     ]
    },
    {
     "data": {
      "text/plain": [
       "array([3, 1, 2, ..., 0, 3, 0], dtype=int64)"
      ]
     },
     "execution_count": 12,
     "metadata": {},
     "output_type": "execute_result"
    }
   ],
   "source": [
    "y_pred = model.predict(test_x)\n",
    "y_pred = np.argmax(y_pred, axis=1)\n",
    "y_pred"
   ]
  },
  {
   "cell_type": "code",
   "execution_count": 13,
   "metadata": {},
   "outputs": [
    {
     "name": "stdout",
     "output_type": "stream",
     "text": [
      "confusion matrix\n",
      "[[3202    5    9   12   16]\n",
      " [   9 3187    0    3    1]\n",
      " [  11    2 2974    4    1]\n",
      " [  39    7    2 2778    9]\n",
      " [  22    0    3    7  973]]\n",
      "\n",
      "classification report\n",
      "              precision    recall  f1-score   support\n",
      "\n",
      "           N     0.9753    0.9871    0.9812      3244\n",
      "           L     0.9956    0.9959    0.9958      3200\n",
      "           R     0.9953    0.9940    0.9946      2992\n",
      "           V     0.9907    0.9799    0.9853      2835\n",
      "           A     0.9730    0.9682    0.9706      1005\n",
      "\n",
      "    accuracy                         0.9878     13276\n",
      "   macro avg     0.9860    0.9850    0.9855     13276\n",
      "weighted avg     0.9878    0.9878    0.9878     13276\n",
      "\n"
     ]
    }
   ],
   "source": [
    "y_true = test[440]\n",
    "\n",
    "from sklearn.metrics import confusion_matrix, classification_report\n",
    "\n",
    "cm = confusion_matrix(y_true, y_pred)\n",
    "print('confusion matrix')\n",
    "print(cm)\n",
    "print('\\nclassification report')\n",
    "report = classification_report(y_true, y_pred, target_names=['N', 'L', 'R', 'V', 'A'], digits=4)\n",
    "print(report )\n",
    "\n",
    "def report_to_df(report):\n",
    "    report = [x.split(' ') for x in report.split('\\n')]\n",
    "    header = ['Class Name']+[x for x in report[0] if x!='']\n",
    "    values = []\n",
    "    for row in report[1:-5]:\n",
    "        row = [value for value in row if value!='']\n",
    "        if row!=[]:\n",
    "            values.append(row)\n",
    "    df = pd.DataFrame(data = values, columns = header)\n",
    "    return df\n",
    "report = report_to_df(report)\n",
    "\n",
    "# report.to_csv('classification report.csv', index=True)"
   ]
  }
 ],
 "metadata": {
  "kernelspec": {
   "display_name": "cenv1",
   "language": "python",
   "name": "python3"
  },
  "language_info": {
   "codemirror_mode": {
    "name": "ipython",
    "version": 3
   },
   "file_extension": ".py",
   "mimetype": "text/x-python",
   "name": "python",
   "nbconvert_exporter": "python",
   "pygments_lexer": "ipython3",
   "version": "3.10.9"
  },
  "orig_nbformat": 4
 },
 "nbformat": 4,
 "nbformat_minor": 2
}
