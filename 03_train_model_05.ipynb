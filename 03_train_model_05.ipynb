{
 "cells": [
  {
   "attachments": {},
   "cell_type": "markdown",
   "metadata": {},
   "source": [
    "# Initialize"
   ]
  },
  {
   "cell_type": "code",
   "execution_count": 1,
   "metadata": {},
   "outputs": [],
   "source": [
    "import numpy as np\n",
    "import pandas as pd\n",
    "import matplotlib.pyplot as plt\n",
    "\n",
    "from keras.utils.np_utils import to_categorical\n",
    "from keras.models import Sequential\n",
    "from keras.layers import Conv1D, AvgPool1D, Flatten, Dense, Dropout, Softmax\n",
    "from keras import regularizers\n",
    "from keras.optimizers import Adam \n"
   ]
  },
  {
   "attachments": {},
   "cell_type": "markdown",
   "metadata": {},
   "source": [
    "# Load dataset"
   ]
  },
  {
   "cell_type": "code",
   "execution_count": 2,
   "metadata": {},
   "outputs": [
    {
     "name": "stdout",
     "output_type": "stream",
     "text": [
      "train_data :  (53102, 441)\n",
      "test_data  :  (13276, 441)\n"
     ]
    }
   ],
   "source": [
    "train = pd.read_csv('./data/0.8_train.csv', header=None)\n",
    "test = pd.read_csv('./data/0.2_test.csv', header=None)\n",
    "\n",
    "print(\"train_data : \", np.shape(train))\n",
    "print(\"test_data  : \", np.shape(test))"
   ]
  },
  {
   "cell_type": "code",
   "execution_count": 3,
   "metadata": {},
   "outputs": [
    {
     "name": "stdout",
     "output_type": "stream",
     "text": [
      "data train per class\n",
      "0.0    13152\n",
      "1.0    12938\n",
      "2.0    11508\n",
      "3.0    11421\n",
      "4.0     4083\n",
      "Name: 440, dtype: int64\n",
      "---------------------------------\n",
      "data test per class\n",
      "0.0    3244\n",
      "1.0    3200\n",
      "2.0    2992\n",
      "3.0    2835\n",
      "4.0    1005\n",
      "Name: 440, dtype: int64\n"
     ]
    }
   ],
   "source": [
    "# 0.0 Normal beat\n",
    "# 1.0 LBBB beat\n",
    "# 2.0 RBBB beat\n",
    "# 3.0 PVC beat\n",
    "# 4.0 PAC beat\n",
    "\n",
    "print('data train per class')\n",
    "print(train[440].value_counts())\n",
    "print('---------------------------------')\n",
    "print('data test per class')\n",
    "print(test[440].value_counts())"
   ]
  },
  {
   "cell_type": "code",
   "execution_count": 4,
   "metadata": {},
   "outputs": [
    {
     "name": "stdout",
     "output_type": "stream",
     "text": [
      "(53102, 5) (13276, 5)\n"
     ]
    }
   ],
   "source": [
    "target_train=train[train.shape[1]-1]\n",
    "target_test=test[test.shape[1]-1]\n",
    "train_y=to_categorical(target_train)\n",
    "test_y=to_categorical(target_test)\n",
    "print(np.shape(train_y), np.shape(test_y))"
   ]
  },
  {
   "cell_type": "code",
   "execution_count": 5,
   "metadata": {},
   "outputs": [
    {
     "name": "stdout",
     "output_type": "stream",
     "text": [
      "(53102, 440, 1) (13276, 440, 1)\n"
     ]
    }
   ],
   "source": [
    "train_x = train.iloc[:,:train.shape[1]-1].values\n",
    "test_x = test.iloc[:,:test.shape[1]-1].values\n",
    "train_x = train_x.reshape(len(train_x), train_x.shape[1],1)\n",
    "test_x = test_x.reshape(len(test_x), test_x.shape[1],1)\n",
    "print(np.shape(train_x), np.shape(test_x))"
   ]
  },
  {
   "attachments": {},
   "cell_type": "markdown",
   "metadata": {},
   "source": [
    "# Model architecture"
   ]
  },
  {
   "cell_type": "code",
   "execution_count": 6,
   "metadata": {},
   "outputs": [
    {
     "name": "stdout",
     "output_type": "stream",
     "text": [
      "Model: \"sequential\"\n",
      "_________________________________________________________________\n",
      " Layer (type)                Output Shape              Param #   \n",
      "=================================================================\n",
      " conv1d (Conv1D)             (None, 440, 16)           224       \n",
      "                                                                 \n",
      " average_pooling1d (AverageP  (None, 219, 16)          0         \n",
      " ooling1D)                                                       \n",
      "                                                                 \n",
      " conv1d_1 (Conv1D)           (None, 219, 32)           7712      \n",
      "                                                                 \n",
      " average_pooling1d_1 (Averag  (None, 109, 32)          0         \n",
      " ePooling1D)                                                     \n",
      "                                                                 \n",
      " conv1d_2 (Conv1D)           (None, 109, 64)           34880     \n",
      "                                                                 \n",
      " average_pooling1d_2 (Averag  (None, 54, 64)           0         \n",
      " ePooling1D)                                                     \n",
      "                                                                 \n",
      " conv1d_3 (Conv1D)           (None, 54, 128)           155776    \n",
      "                                                                 \n",
      " average_pooling1d_3 (Averag  (None, 26, 128)          0         \n",
      " ePooling1D)                                                     \n",
      "                                                                 \n",
      " flatten (Flatten)           (None, 3328)              0         \n",
      "                                                                 \n",
      " dropout (Dropout)           (None, 3328)              0         \n",
      "                                                                 \n",
      " dense (Dense)               (None, 35)                116515    \n",
      "                                                                 \n",
      " dense_1 (Dense)             (None, 5)                 180       \n",
      "                                                                 \n",
      " softmax (Softmax)           (None, 5)                 0         \n",
      "                                                                 \n",
      "=================================================================\n",
      "Total params: 315,287\n",
      "Trainable params: 315,287\n",
      "Non-trainable params: 0\n",
      "_________________________________________________________________\n"
     ]
    }
   ],
   "source": [
    "# Instanciate an empty model\n",
    "model = Sequential()\n",
    "\n",
    "model.add(Conv1D(filters=16, kernel_size=13, padding='same', activation='relu',input_shape=(440, 1)))\n",
    "model.add(AvgPool1D(pool_size=3, strides=2))\n",
    "model.add(Conv1D(filters=32, kernel_size=15, padding='same', activation='relu'))\n",
    "model.add(AvgPool1D(pool_size=3, strides=2))\n",
    "model.add(Conv1D(filters=64, kernel_size=17, padding='same', activation='relu'))\n",
    "model.add(AvgPool1D(pool_size=3, strides=2))\n",
    "model.add(Conv1D(filters=128, kernel_size=19, padding='same', activation='relu'))\n",
    "model.add(AvgPool1D(pool_size=3, strides=2))\n",
    "model.add(Flatten())\n",
    "model.add(Dropout(0.5))\n",
    "model.add(Dense(35,kernel_regularizer=regularizers.l2(0.0001), bias_regularizer=regularizers.l2(0.0001)))\n",
    "model.add(Dense(5,kernel_regularizer=regularizers.l2(0.0001), bias_regularizer=regularizers.l2(0.0001)))\n",
    "model.add(Softmax())\n",
    "\n",
    "model.summary()"
   ]
  },
  {
   "attachments": {},
   "cell_type": "markdown",
   "metadata": {},
   "source": [
    "# learning_rate 1e-3, batch_size 64, epoch 75"
   ]
  },
  {
   "cell_type": "code",
   "execution_count": 7,
   "metadata": {},
   "outputs": [],
   "source": [
    "model.compile(loss='categorical_crossentropy', optimizer=Adam(learning_rate=1e-3), metrics=['accuracy'])"
   ]
  },
  {
   "cell_type": "code",
   "execution_count": 8,
   "metadata": {},
   "outputs": [
    {
     "name": "stdout",
     "output_type": "stream",
     "text": [
      "Epoch 1/75\n",
      "830/830 [==============================] - 90s 106ms/step - loss: 0.3987 - accuracy: 0.8638 - val_loss: 0.1640 - val_accuracy: 0.9562\n",
      "Epoch 2/75\n",
      "830/830 [==============================] - 93s 112ms/step - loss: 0.1601 - accuracy: 0.9553 - val_loss: 0.1258 - val_accuracy: 0.9656\n",
      "Epoch 3/75\n",
      "830/830 [==============================] - 89s 107ms/step - loss: 0.1241 - accuracy: 0.9656 - val_loss: 0.0952 - val_accuracy: 0.9748\n",
      "Epoch 4/75\n",
      "830/830 [==============================] - 87s 104ms/step - loss: 0.1063 - accuracy: 0.9717 - val_loss: 0.0859 - val_accuracy: 0.9788\n",
      "Epoch 5/75\n",
      "830/830 [==============================] - 88s 106ms/step - loss: 0.0933 - accuracy: 0.9750 - val_loss: 0.0953 - val_accuracy: 0.9753\n",
      "Epoch 6/75\n",
      "830/830 [==============================] - 88s 106ms/step - loss: 0.0874 - accuracy: 0.9768 - val_loss: 0.0807 - val_accuracy: 0.9804\n",
      "Epoch 7/75\n",
      "830/830 [==============================] - 86s 104ms/step - loss: 0.0800 - accuracy: 0.9795 - val_loss: 0.0803 - val_accuracy: 0.9807\n",
      "Epoch 8/75\n",
      "830/830 [==============================] - 84s 101ms/step - loss: 0.0747 - accuracy: 0.9808 - val_loss: 0.0720 - val_accuracy: 0.9839\n",
      "Epoch 9/75\n",
      "830/830 [==============================] - 89s 107ms/step - loss: 0.0698 - accuracy: 0.9828 - val_loss: 0.0721 - val_accuracy: 0.9834\n",
      "Epoch 10/75\n",
      "830/830 [==============================] - 89s 107ms/step - loss: 0.0661 - accuracy: 0.9843 - val_loss: 0.0707 - val_accuracy: 0.9838\n",
      "Epoch 11/75\n",
      "830/830 [==============================] - 88s 106ms/step - loss: 0.0619 - accuracy: 0.9854 - val_loss: 0.0743 - val_accuracy: 0.9815\n",
      "Epoch 12/75\n",
      "830/830 [==============================] - 88s 106ms/step - loss: 0.0593 - accuracy: 0.9857 - val_loss: 0.0739 - val_accuracy: 0.9834\n",
      "Epoch 13/75\n",
      "830/830 [==============================] - 83s 100ms/step - loss: 0.0550 - accuracy: 0.9867 - val_loss: 0.0735 - val_accuracy: 0.9827\n",
      "Epoch 14/75\n",
      "830/830 [==============================] - 87s 105ms/step - loss: 0.0512 - accuracy: 0.9881 - val_loss: 0.0679 - val_accuracy: 0.9853\n",
      "Epoch 15/75\n",
      "830/830 [==============================] - 86s 104ms/step - loss: 0.0505 - accuracy: 0.9885 - val_loss: 0.0703 - val_accuracy: 0.9846\n",
      "Epoch 16/75\n",
      "830/830 [==============================] - 84s 101ms/step - loss: 0.0474 - accuracy: 0.9898 - val_loss: 0.0633 - val_accuracy: 0.9853\n",
      "Epoch 17/75\n",
      "830/830 [==============================] - 84s 101ms/step - loss: 0.0452 - accuracy: 0.9898 - val_loss: 0.0760 - val_accuracy: 0.9838\n",
      "Epoch 18/75\n",
      "830/830 [==============================] - 88s 105ms/step - loss: 0.0442 - accuracy: 0.9901 - val_loss: 0.0682 - val_accuracy: 0.9845\n",
      "Epoch 19/75\n",
      "830/830 [==============================] - 85s 102ms/step - loss: 0.0427 - accuracy: 0.9903 - val_loss: 0.0657 - val_accuracy: 0.9856\n",
      "Epoch 20/75\n",
      "830/830 [==============================] - 88s 106ms/step - loss: 0.0409 - accuracy: 0.9914 - val_loss: 0.0659 - val_accuracy: 0.9861\n",
      "Epoch 21/75\n",
      "830/830 [==============================] - 89s 107ms/step - loss: 0.0406 - accuracy: 0.9909 - val_loss: 0.0638 - val_accuracy: 0.9864\n",
      "Epoch 22/75\n",
      "830/830 [==============================] - 87s 105ms/step - loss: 0.0384 - accuracy: 0.9914 - val_loss: 0.0672 - val_accuracy: 0.9858\n",
      "Epoch 23/75\n",
      "830/830 [==============================] - 87s 105ms/step - loss: 0.0356 - accuracy: 0.9926 - val_loss: 0.0709 - val_accuracy: 0.9857\n",
      "Epoch 24/75\n",
      "830/830 [==============================] - 85s 103ms/step - loss: 0.0346 - accuracy: 0.9924 - val_loss: 0.0674 - val_accuracy: 0.9853\n",
      "Epoch 25/75\n",
      "830/830 [==============================] - 88s 106ms/step - loss: 0.0342 - accuracy: 0.9928 - val_loss: 0.0615 - val_accuracy: 0.9882\n",
      "Epoch 26/75\n",
      "830/830 [==============================] - 90s 108ms/step - loss: 0.0325 - accuracy: 0.9936 - val_loss: 0.0680 - val_accuracy: 0.9855\n",
      "Epoch 27/75\n",
      "830/830 [==============================] - 86s 103ms/step - loss: 0.0333 - accuracy: 0.9933 - val_loss: 0.0645 - val_accuracy: 0.9857\n",
      "Epoch 28/75\n",
      "830/830 [==============================] - 86s 103ms/step - loss: 0.0305 - accuracy: 0.9938 - val_loss: 0.0666 - val_accuracy: 0.9870\n",
      "Epoch 29/75\n",
      "830/830 [==============================] - 85s 103ms/step - loss: 0.0299 - accuracy: 0.9939 - val_loss: 0.0731 - val_accuracy: 0.9852\n",
      "Epoch 30/75\n",
      "830/830 [==============================] - 99s 119ms/step - loss: 0.0296 - accuracy: 0.9940 - val_loss: 0.0625 - val_accuracy: 0.9881\n",
      "Epoch 31/75\n",
      "830/830 [==============================] - 94s 114ms/step - loss: 0.0279 - accuracy: 0.9944 - val_loss: 0.0600 - val_accuracy: 0.9876\n",
      "Epoch 32/75\n",
      "830/830 [==============================] - 95s 115ms/step - loss: 0.0279 - accuracy: 0.9946 - val_loss: 0.0617 - val_accuracy: 0.9886\n",
      "Epoch 33/75\n",
      "830/830 [==============================] - 95s 115ms/step - loss: 0.0275 - accuracy: 0.9947 - val_loss: 0.0778 - val_accuracy: 0.9846\n",
      "Epoch 34/75\n",
      "830/830 [==============================] - 98s 118ms/step - loss: 0.0280 - accuracy: 0.9946 - val_loss: 0.0642 - val_accuracy: 0.9876\n",
      "Epoch 35/75\n",
      "830/830 [==============================] - 93s 112ms/step - loss: 0.0252 - accuracy: 0.9946 - val_loss: 0.0677 - val_accuracy: 0.9858\n",
      "Epoch 36/75\n",
      "830/830 [==============================] - 94s 114ms/step - loss: 0.0246 - accuracy: 0.9956 - val_loss: 0.0649 - val_accuracy: 0.9874\n",
      "Epoch 37/75\n",
      "830/830 [==============================] - 99s 120ms/step - loss: 0.0240 - accuracy: 0.9953 - val_loss: 0.0688 - val_accuracy: 0.9868\n",
      "Epoch 38/75\n",
      "830/830 [==============================] - 97s 117ms/step - loss: 0.0233 - accuracy: 0.9954 - val_loss: 0.0646 - val_accuracy: 0.9867\n",
      "Epoch 39/75\n",
      "830/830 [==============================] - 94s 114ms/step - loss: 0.0225 - accuracy: 0.9955 - val_loss: 0.0653 - val_accuracy: 0.9870\n",
      "Epoch 40/75\n",
      "830/830 [==============================] - 88s 106ms/step - loss: 0.0214 - accuracy: 0.9958 - val_loss: 0.0661 - val_accuracy: 0.9872\n",
      "Epoch 41/75\n",
      "830/830 [==============================] - 65s 78ms/step - loss: 0.0184 - accuracy: 0.9970 - val_loss: 0.0729 - val_accuracy: 0.9870\n",
      "Epoch 42/75\n",
      "830/830 [==============================] - 61s 74ms/step - loss: 0.0228 - accuracy: 0.9953 - val_loss: 0.0630 - val_accuracy: 0.9873\n",
      "Epoch 43/75\n",
      "830/830 [==============================] - 66s 79ms/step - loss: 0.0217 - accuracy: 0.9955 - val_loss: 0.0633 - val_accuracy: 0.9872\n",
      "Epoch 44/75\n",
      "830/830 [==============================] - 64s 77ms/step - loss: 0.0185 - accuracy: 0.9967 - val_loss: 0.0653 - val_accuracy: 0.9888\n",
      "Epoch 45/75\n",
      "830/830 [==============================] - 63s 76ms/step - loss: 0.0208 - accuracy: 0.9958 - val_loss: 0.0785 - val_accuracy: 0.9870\n",
      "Epoch 46/75\n",
      "830/830 [==============================] - 63s 76ms/step - loss: 0.0188 - accuracy: 0.9966 - val_loss: 0.0653 - val_accuracy: 0.9876\n",
      "Epoch 47/75\n",
      "830/830 [==============================] - 62s 75ms/step - loss: 0.0186 - accuracy: 0.9965 - val_loss: 0.0716 - val_accuracy: 0.9873\n",
      "Epoch 48/75\n",
      "830/830 [==============================] - 62s 75ms/step - loss: 0.0186 - accuracy: 0.9967 - val_loss: 0.0759 - val_accuracy: 0.9873\n",
      "Epoch 49/75\n",
      "830/830 [==============================] - 65s 78ms/step - loss: 0.0174 - accuracy: 0.9969 - val_loss: 0.0724 - val_accuracy: 0.9869\n",
      "Epoch 50/75\n",
      "830/830 [==============================] - 62s 75ms/step - loss: 0.0194 - accuracy: 0.9963 - val_loss: 0.0667 - val_accuracy: 0.9874\n",
      "Epoch 51/75\n",
      "830/830 [==============================] - 63s 76ms/step - loss: 0.0166 - accuracy: 0.9970 - val_loss: 0.0664 - val_accuracy: 0.9877\n",
      "Epoch 52/75\n",
      "830/830 [==============================] - 63s 76ms/step - loss: 0.0167 - accuracy: 0.9969 - val_loss: 0.0701 - val_accuracy: 0.9878\n",
      "Epoch 53/75\n",
      "830/830 [==============================] - 62s 75ms/step - loss: 0.0179 - accuracy: 0.9969 - val_loss: 0.0704 - val_accuracy: 0.9882\n",
      "Epoch 54/75\n",
      "830/830 [==============================] - 63s 75ms/step - loss: 0.0165 - accuracy: 0.9968 - val_loss: 0.0687 - val_accuracy: 0.9879\n",
      "Epoch 55/75\n",
      "830/830 [==============================] - 64s 77ms/step - loss: 0.0159 - accuracy: 0.9971 - val_loss: 0.0700 - val_accuracy: 0.9885\n",
      "Epoch 56/75\n",
      "830/830 [==============================] - 65s 78ms/step - loss: 0.0192 - accuracy: 0.9963 - val_loss: 0.0745 - val_accuracy: 0.9876\n",
      "Epoch 57/75\n",
      "830/830 [==============================] - 64s 78ms/step - loss: 0.0145 - accuracy: 0.9976 - val_loss: 0.0718 - val_accuracy: 0.9868\n",
      "Epoch 58/75\n",
      "830/830 [==============================] - 62s 75ms/step - loss: 0.0175 - accuracy: 0.9962 - val_loss: 0.0772 - val_accuracy: 0.9872\n",
      "Epoch 59/75\n",
      "830/830 [==============================] - 63s 75ms/step - loss: 0.0163 - accuracy: 0.9973 - val_loss: 0.0740 - val_accuracy: 0.9884\n",
      "Epoch 60/75\n",
      "830/830 [==============================] - 63s 75ms/step - loss: 0.0149 - accuracy: 0.9975 - val_loss: 0.0772 - val_accuracy: 0.9878\n",
      "Epoch 61/75\n",
      "830/830 [==============================] - 65s 79ms/step - loss: 0.0162 - accuracy: 0.9972 - val_loss: 0.0744 - val_accuracy: 0.9875\n",
      "Epoch 62/75\n",
      "830/830 [==============================] - 64s 77ms/step - loss: 0.0179 - accuracy: 0.9967 - val_loss: 0.0686 - val_accuracy: 0.9872\n",
      "Epoch 63/75\n",
      "830/830 [==============================] - 65s 79ms/step - loss: 0.0156 - accuracy: 0.9971 - val_loss: 0.0781 - val_accuracy: 0.9887\n",
      "Epoch 64/75\n",
      "830/830 [==============================] - 64s 77ms/step - loss: 0.0166 - accuracy: 0.9969 - val_loss: 0.0684 - val_accuracy: 0.9886\n",
      "Epoch 65/75\n",
      "830/830 [==============================] - 64s 77ms/step - loss: 0.0148 - accuracy: 0.9976 - val_loss: 0.0700 - val_accuracy: 0.9888\n",
      "Epoch 66/75\n",
      "830/830 [==============================] - 67s 81ms/step - loss: 0.0144 - accuracy: 0.9976 - val_loss: 0.0722 - val_accuracy: 0.9892\n",
      "Epoch 67/75\n",
      "830/830 [==============================] - 65s 78ms/step - loss: 0.0159 - accuracy: 0.9970 - val_loss: 0.0868 - val_accuracy: 0.9879\n",
      "Epoch 68/75\n",
      "830/830 [==============================] - 62s 74ms/step - loss: 0.0157 - accuracy: 0.9973 - val_loss: 0.0744 - val_accuracy: 0.9886\n",
      "Epoch 69/75\n",
      "830/830 [==============================] - 62s 74ms/step - loss: 0.0158 - accuracy: 0.9974 - val_loss: 0.0734 - val_accuracy: 0.9875\n",
      "Epoch 70/75\n",
      "830/830 [==============================] - 70s 84ms/step - loss: 0.0150 - accuracy: 0.9974 - val_loss: 0.0719 - val_accuracy: 0.9873\n",
      "Epoch 71/75\n",
      "830/830 [==============================] - 66s 79ms/step - loss: 0.0154 - accuracy: 0.9972 - val_loss: 0.0770 - val_accuracy: 0.9867\n",
      "Epoch 72/75\n",
      "830/830 [==============================] - 68s 82ms/step - loss: 0.0149 - accuracy: 0.9974 - val_loss: 0.0760 - val_accuracy: 0.9879\n",
      "Epoch 73/75\n",
      "830/830 [==============================] - 65s 78ms/step - loss: 0.0142 - accuracy: 0.9975 - val_loss: 0.0744 - val_accuracy: 0.9882\n",
      "Epoch 74/75\n",
      "830/830 [==============================] - 65s 79ms/step - loss: 0.0165 - accuracy: 0.9969 - val_loss: 0.0729 - val_accuracy: 0.9879\n",
      "Epoch 75/75\n",
      "830/830 [==============================] - 66s 79ms/step - loss: 0.0141 - accuracy: 0.9978 - val_loss: 0.0745 - val_accuracy: 0.9875\n"
     ]
    }
   ],
   "source": [
    "history = model.fit(train_x, train_y, batch_size=64, epochs=75, verbose=1, validation_data=(test_x, test_y))"
   ]
  },
  {
   "cell_type": "code",
   "execution_count": 9,
   "metadata": {},
   "outputs": [
    {
     "data": {
      "image/png": "[encoded data removed]",
      "text/plain": [
       "<Figure size 800x300 with 1 Axes>"
      ]
     },
     "metadata": {},
     "output_type": "display_data"
    },
    {
     "data": {
      "image/png": "[encoded data removed]",
      "text/plain": [
       "<Figure size 800x300 with 1 Axes>"
      ]
     },
     "metadata": {},
     "output_type": "display_data"
    }
   ],
   "source": [
    "# summarize history for loss\n",
    "plt.figure(figsize=(8,3))\n",
    "plt.plot(history.history['loss'])\n",
    "plt.plot(history.history['val_loss'])\n",
    "plt.title('model loss')\n",
    "plt.ylabel('loss')\n",
    "plt.xlabel('epoch')\n",
    "plt.legend(['train', 'test'], loc='best')\n",
    "plt.show()\n",
    "\n",
    "# summarize history for accuracy\n",
    "plt.figure(figsize=(8,3))\n",
    "plt.plot(history.history['accuracy'])\n",
    "plt.plot(history.history['val_accuracy'])\n",
    "plt.title('model accuracy')\n",
    "plt.ylabel('accuracy')\n",
    "plt.xlabel('epoch')\n",
    "plt.legend(['train', 'test'], loc='best')\n",
    "plt.show()"
   ]
  },
  {
   "cell_type": "code",
   "execution_count": 10,
   "metadata": {},
   "outputs": [
    {
     "name": "stdout",
     "output_type": "stream",
     "text": [
      "415/415 [==============================] - 4s 10ms/step - loss: 0.0745 - accuracy: 0.9875\n",
      "Test Loss: 0.07449119538068771\n",
      "Test accuracy: 0.9874962568283081\n"
     ]
    }
   ],
   "source": [
    "# finding the loss and acuracy of the model\n",
    "score = model.evaluate(test_x, test_y)\n",
    "\n",
    "print('Test Loss:', score[0])\n",
    "print('Test accuracy:', score[1])"
   ]
  },
  {
   "cell_type": "code",
   "execution_count": 11,
   "metadata": {},
   "outputs": [
    {
     "name": "stderr",
     "output_type": "stream",
     "text": [
      "WARNING:absl:Found untraced functions such as _jit_compiled_convolution_op, _jit_compiled_convolution_op, _jit_compiled_convolution_op, _jit_compiled_convolution_op while saving (showing 4 of 4). These functions will not be directly callable after loading.\n"
     ]
    },
    {
     "name": "stdout",
     "output_type": "stream",
     "text": [
      "INFO:tensorflow:Assets written to: CNN_model_5\\assets\n"
     ]
    },
    {
     "name": "stderr",
     "output_type": "stream",
     "text": [
      "INFO:tensorflow:Assets written to: CNN_model_5\\assets\n"
     ]
    }
   ],
   "source": [
    "# save model\n",
    "model.save('CNN_model_5')"
   ]
  },
  {
   "attachments": {},
   "cell_type": "markdown",
   "metadata": {},
   "source": [
    "# confusion matrix"
   ]
  },
  {
   "cell_type": "code",
   "execution_count": 12,
   "metadata": {},
   "outputs": [
    {
     "name": "stdout",
     "output_type": "stream",
     "text": [
      "415/415 [==============================] - 4s 10ms/step\n"
     ]
    },
    {
     "data": {
      "text/plain": [
       "array([3, 1, 2, ..., 0, 3, 0], dtype=int64)"
      ]
     },
     "execution_count": 12,
     "metadata": {},
     "output_type": "execute_result"
    }
   ],
   "source": [
    "y_pred = model.predict(test_x)\n",
    "y_pred = np.argmax(y_pred, axis=1)\n",
    "y_pred"
   ]
  },
  {
   "cell_type": "code",
   "execution_count": 13,
   "metadata": {},
   "outputs": [
    {
     "name": "stdout",
     "output_type": "stream",
     "text": [
      "confusion matrix\n",
      "[[3203    4   11   20    6]\n",
      " [   5 3188    0    5    2]\n",
      " [  17    4 2964    5    2]\n",
      " [  40    4    1 2786    4]\n",
      " [  25    0    2    9  969]]\n",
      "\n",
      "classification report\n",
      "              precision    recall  f1-score   support\n",
      "\n",
      "           N     0.9736    0.9874    0.9804      3244\n",
      "           L     0.9962    0.9962    0.9962      3200\n",
      "           R     0.9953    0.9906    0.9930      2992\n",
      "           V     0.9862    0.9827    0.9845      2835\n",
      "           A     0.9858    0.9642    0.9748      1005\n",
      "\n",
      "    accuracy                         0.9875     13276\n",
      "   macro avg     0.9874    0.9842    0.9858     13276\n",
      "weighted avg     0.9875    0.9875    0.9875     13276\n",
      "\n"
     ]
    }
   ],
   "source": [
    "y_true = test[440]\n",
    "\n",
    "from sklearn.metrics import confusion_matrix, classification_report\n",
    "\n",
    "cm = confusion_matrix(y_true, y_pred)\n",
    "print('confusion matrix')\n",
    "print(cm)\n",
    "print('\\nclassification report')\n",
    "report = classification_report(y_true, y_pred, target_names=['N', 'L', 'R', 'V', 'A'], digits=4)\n",
    "print(report )\n",
    "\n",
    "def report_to_df(report):\n",
    "    report = [x.split(' ') for x in report.split('\\n')]\n",
    "    header = ['Class Name']+[x for x in report[0] if x!='']\n",
    "    values = []\n",
    "    for row in report[1:-5]:\n",
    "        row = [value for value in row if value!='']\n",
    "        if row!=[]:\n",
    "            values.append(row)\n",
    "    df = pd.DataFrame(data = values, columns = header)\n",
    "    return df\n",
    "report = report_to_df(report)\n",
    "\n",
    "# report.to_csv('classification report.csv', index=True)"
   ]
  }
 ],
 "metadata": {
  "kernelspec": {
   "display_name": "cenv1",
   "language": "python",
   "name": "python3"
  },
  "language_info": {
   "codemirror_mode": {
    "name": "ipython",
    "version": 3
   },
   "file_extension": ".py",
   "mimetype": "text/x-python",
   "name": "python",
   "nbconvert_exporter": "python",
   "pygments_lexer": "ipython3",
   "version": "3.10.9"
  },
  "orig_nbformat": 4
 },
 "nbformat": 4,
 "nbformat_minor": 2
}
