{
 "cells": [
  {
   "attachments": {},
   "cell_type": "markdown",
   "metadata": {},
   "source": [
    "# Initialize"
   ]
  },
  {
   "cell_type": "code",
   "execution_count": 1,
   "metadata": {},
   "outputs": [],
   "source": [
    "import numpy as np\n",
    "import pandas as pd\n",
    "import matplotlib.pyplot as plt\n",
    "\n",
    "from keras.utils.np_utils import to_categorical\n",
    "from keras.models import Sequential\n",
    "from keras.layers import Conv1D, AvgPool1D, Flatten, Dense, Dropout, Softmax\n",
    "from keras import regularizers\n",
    "from keras.optimizers import Adam \n"
   ]
  },
  {
   "attachments": {},
   "cell_type": "markdown",
   "metadata": {},
   "source": [
    "# Load dataset"
   ]
  },
  {
   "cell_type": "code",
   "execution_count": 2,
   "metadata": {},
   "outputs": [
    {
     "name": "stdout",
     "output_type": "stream",
     "text": [
      "train_data :  (53102, 441)\n",
      "test_data  :  (13276, 441)\n"
     ]
    }
   ],
   "source": [
    "train = pd.read_csv('./data/0.8_train.csv', header=None)\n",
    "test = pd.read_csv('./data/0.2_test.csv', header=None)\n",
    "\n",
    "print(\"train_data : \", np.shape(train))\n",
    "print(\"test_data  : \", np.shape(test))"
   ]
  },
  {
   "cell_type": "code",
   "execution_count": 3,
   "metadata": {},
   "outputs": [
    {
     "name": "stdout",
     "output_type": "stream",
     "text": [
      "data train per class\n",
      "0.0    13152\n",
      "1.0    12938\n",
      "2.0    11508\n",
      "3.0    11421\n",
      "4.0     4083\n",
      "Name: 440, dtype: int64\n",
      "---------------------------------\n",
      "data test per class\n",
      "0.0    3244\n",
      "1.0    3200\n",
      "2.0    2992\n",
      "3.0    2835\n",
      "4.0    1005\n",
      "Name: 440, dtype: int64\n"
     ]
    }
   ],
   "source": [
    "# 0.0 Normal beat\n",
    "# 1.0 LBBB beat\n",
    "# 2.0 RBBB beat\n",
    "# 3.0 PVC beat\n",
    "# 4.0 PAC beat\n",
    "\n",
    "print('data train per class')\n",
    "print(train[440].value_counts())\n",
    "print('---------------------------------')\n",
    "print('data test per class')\n",
    "print(test[440].value_counts())"
   ]
  },
  {
   "cell_type": "code",
   "execution_count": 4,
   "metadata": {},
   "outputs": [
    {
     "name": "stdout",
     "output_type": "stream",
     "text": [
      "(53102, 5) (13276, 5)\n"
     ]
    }
   ],
   "source": [
    "target_train=train[train.shape[1]-1]\n",
    "target_test=test[test.shape[1]-1]\n",
    "train_y=to_categorical(target_train)\n",
    "test_y=to_categorical(target_test)\n",
    "print(np.shape(train_y), np.shape(test_y))"
   ]
  },
  {
   "cell_type": "code",
   "execution_count": 5,
   "metadata": {},
   "outputs": [
    {
     "name": "stdout",
     "output_type": "stream",
     "text": [
      "(53102, 440, 1) (13276, 440, 1)\n"
     ]
    }
   ],
   "source": [
    "train_x = train.iloc[:,:train.shape[1]-1].values\n",
    "test_x = test.iloc[:,:test.shape[1]-1].values\n",
    "train_x = train_x.reshape(len(train_x), train_x.shape[1],1)\n",
    "test_x = test_x.reshape(len(test_x), test_x.shape[1],1)\n",
    "print(np.shape(train_x), np.shape(test_x))"
   ]
  },
  {
   "attachments": {},
   "cell_type": "markdown",
   "metadata": {},
   "source": [
    "# Model architecture"
   ]
  },
  {
   "cell_type": "code",
   "execution_count": 6,
   "metadata": {},
   "outputs": [
    {
     "name": "stdout",
     "output_type": "stream",
     "text": [
      "Model: \"sequential\"\n",
      "_________________________________________________________________\n",
      " Layer (type)                Output Shape              Param #   \n",
      "=================================================================\n",
      " conv1d (Conv1D)             (None, 440, 16)           224       \n",
      "                                                                 \n",
      " average_pooling1d (AverageP  (None, 219, 16)          0         \n",
      " ooling1D)                                                       \n",
      "                                                                 \n",
      " conv1d_1 (Conv1D)           (None, 219, 32)           7712      \n",
      "                                                                 \n",
      " average_pooling1d_1 (Averag  (None, 109, 32)          0         \n",
      " ePooling1D)                                                     \n",
      "                                                                 \n",
      " conv1d_2 (Conv1D)           (None, 109, 64)           34880     \n",
      "                                                                 \n",
      " average_pooling1d_2 (Averag  (None, 54, 64)           0         \n",
      " ePooling1D)                                                     \n",
      "                                                                 \n",
      " conv1d_3 (Conv1D)           (None, 54, 128)           155776    \n",
      "                                                                 \n",
      " average_pooling1d_3 (Averag  (None, 26, 128)          0         \n",
      " ePooling1D)                                                     \n",
      "                                                                 \n",
      " flatten (Flatten)           (None, 3328)              0         \n",
      "                                                                 \n",
      " dropout (Dropout)           (None, 3328)              0         \n",
      "                                                                 \n",
      " dense (Dense)               (None, 35)                116515    \n",
      "                                                                 \n",
      " dense_1 (Dense)             (None, 5)                 180       \n",
      "                                                                 \n",
      " softmax (Softmax)           (None, 5)                 0         \n",
      "                                                                 \n",
      "=================================================================\n",
      "Total params: 315,287\n",
      "Trainable params: 315,287\n",
      "Non-trainable params: 0\n",
      "_________________________________________________________________\n"
     ]
    }
   ],
   "source": [
    "# Instanciate an empty model\n",
    "model = Sequential()\n",
    "\n",
    "model.add(Conv1D(filters=16, kernel_size=13, padding='same', activation='relu',input_shape=(440, 1)))\n",
    "model.add(AvgPool1D(pool_size=3, strides=2))\n",
    "model.add(Conv1D(filters=32, kernel_size=15, padding='same', activation='relu'))\n",
    "model.add(AvgPool1D(pool_size=3, strides=2))\n",
    "model.add(Conv1D(filters=64, kernel_size=17, padding='same', activation='relu'))\n",
    "model.add(AvgPool1D(pool_size=3, strides=2))\n",
    "model.add(Conv1D(filters=128, kernel_size=19, padding='same', activation='relu'))\n",
    "model.add(AvgPool1D(pool_size=3, strides=2))\n",
    "model.add(Flatten())\n",
    "model.add(Dropout(0.5))\n",
    "model.add(Dense(35,kernel_regularizer=regularizers.l2(0.0001), bias_regularizer=regularizers.l2(0.0001)))\n",
    "model.add(Dense(5,kernel_regularizer=regularizers.l2(0.0001), bias_regularizer=regularizers.l2(0.0001)))\n",
    "model.add(Softmax())\n",
    "\n",
    "model.summary()"
   ]
  },
  {
   "attachments": {},
   "cell_type": "markdown",
   "metadata": {},
   "source": [
    "# learning_rate 1e-3, batch_size 128, epoch 50"
   ]
  },
  {
   "cell_type": "code",
   "execution_count": 7,
   "metadata": {},
   "outputs": [],
   "source": [
    "model.compile(loss='categorical_crossentropy', optimizer=Adam(learning_rate=1e-3), metrics=['accuracy'])"
   ]
  },
  {
   "cell_type": "code",
   "execution_count": 8,
   "metadata": {},
   "outputs": [
    {
     "name": "stdout",
     "output_type": "stream",
     "text": [
      "Epoch 1/50\n",
      "415/415 [==============================] - 92s 220ms/step - loss: 0.4749 - accuracy: 0.8307 - val_loss: 0.2176 - val_accuracy: 0.9325\n",
      "Epoch 2/50\n",
      "415/415 [==============================] - 84s 202ms/step - loss: 0.1936 - accuracy: 0.9424 - val_loss: 0.1562 - val_accuracy: 0.9534\n",
      "Epoch 3/50\n",
      "415/415 [==============================] - 66s 158ms/step - loss: 0.1433 - accuracy: 0.9591 - val_loss: 0.1297 - val_accuracy: 0.9635\n",
      "Epoch 4/50\n",
      "415/415 [==============================] - 55s 131ms/step - loss: 0.1206 - accuracy: 0.9666 - val_loss: 0.0984 - val_accuracy: 0.9741\n",
      "Epoch 5/50\n",
      "415/415 [==============================] - 58s 139ms/step - loss: 0.1044 - accuracy: 0.9713 - val_loss: 0.0920 - val_accuracy: 0.9770\n",
      "Epoch 6/50\n",
      "415/415 [==============================] - 58s 139ms/step - loss: 0.0962 - accuracy: 0.9743 - val_loss: 0.0946 - val_accuracy: 0.9770\n",
      "Epoch 7/50\n",
      "415/415 [==============================] - 59s 141ms/step - loss: 0.0873 - accuracy: 0.9770 - val_loss: 0.0869 - val_accuracy: 0.9757\n",
      "Epoch 8/50\n",
      "415/415 [==============================] - 56s 136ms/step - loss: 0.0823 - accuracy: 0.9774 - val_loss: 0.0802 - val_accuracy: 0.9816\n",
      "Epoch 9/50\n",
      "415/415 [==============================] - 58s 140ms/step - loss: 0.0766 - accuracy: 0.9799 - val_loss: 0.0754 - val_accuracy: 0.9818\n",
      "Epoch 10/50\n",
      "415/415 [==============================] - 56s 136ms/step - loss: 0.0720 - accuracy: 0.9812 - val_loss: 0.0726 - val_accuracy: 0.9825\n",
      "Epoch 11/50\n",
      "415/415 [==============================] - 56s 135ms/step - loss: 0.0672 - accuracy: 0.9829 - val_loss: 0.0733 - val_accuracy: 0.9831\n",
      "Epoch 12/50\n",
      "415/415 [==============================] - 56s 135ms/step - loss: 0.0617 - accuracy: 0.9843 - val_loss: 0.0722 - val_accuracy: 0.9834\n",
      "Epoch 13/50\n",
      "415/415 [==============================] - 56s 136ms/step - loss: 0.0631 - accuracy: 0.9838 - val_loss: 0.0737 - val_accuracy: 0.9818\n",
      "Epoch 14/50\n",
      "415/415 [==============================] - 55s 132ms/step - loss: 0.0574 - accuracy: 0.9855 - val_loss: 0.0732 - val_accuracy: 0.9828\n",
      "Epoch 15/50\n",
      "415/415 [==============================] - 55s 134ms/step - loss: 0.0583 - accuracy: 0.9854 - val_loss: 0.0650 - val_accuracy: 0.9855\n",
      "Epoch 16/50\n",
      "415/415 [==============================] - 68s 164ms/step - loss: 0.0534 - accuracy: 0.9865 - val_loss: 0.0662 - val_accuracy: 0.9848\n",
      "Epoch 17/50\n",
      "415/415 [==============================] - 73s 176ms/step - loss: 0.0504 - accuracy: 0.9878 - val_loss: 0.0710 - val_accuracy: 0.9840\n",
      "Epoch 18/50\n",
      "415/415 [==============================] - 68s 165ms/step - loss: 0.0491 - accuracy: 0.9884 - val_loss: 0.0658 - val_accuracy: 0.9853\n",
      "Epoch 19/50\n",
      "415/415 [==============================] - 69s 165ms/step - loss: 0.0480 - accuracy: 0.9887 - val_loss: 0.0643 - val_accuracy: 0.9861\n",
      "Epoch 20/50\n",
      "415/415 [==============================] - 70s 169ms/step - loss: 0.0447 - accuracy: 0.9900 - val_loss: 0.0683 - val_accuracy: 0.9860\n",
      "Epoch 21/50\n",
      "415/415 [==============================] - 71s 171ms/step - loss: 0.0455 - accuracy: 0.9890 - val_loss: 0.0651 - val_accuracy: 0.9858\n",
      "Epoch 22/50\n",
      "415/415 [==============================] - 71s 172ms/step - loss: 0.0425 - accuracy: 0.9899 - val_loss: 0.0648 - val_accuracy: 0.9861\n",
      "Epoch 23/50\n",
      "415/415 [==============================] - 71s 171ms/step - loss: 0.0412 - accuracy: 0.9907 - val_loss: 0.0677 - val_accuracy: 0.9855\n",
      "Epoch 24/50\n",
      "415/415 [==============================] - 74s 178ms/step - loss: 0.0393 - accuracy: 0.9910 - val_loss: 0.0658 - val_accuracy: 0.9855\n",
      "Epoch 25/50\n",
      "415/415 [==============================] - 73s 176ms/step - loss: 0.0381 - accuracy: 0.9911 - val_loss: 0.0659 - val_accuracy: 0.9860\n",
      "Epoch 26/50\n",
      "415/415 [==============================] - 72s 175ms/step - loss: 0.0381 - accuracy: 0.9917 - val_loss: 0.0656 - val_accuracy: 0.9858\n",
      "Epoch 27/50\n",
      "415/415 [==============================] - 72s 175ms/step - loss: 0.0337 - accuracy: 0.9931 - val_loss: 0.0686 - val_accuracy: 0.9852\n",
      "Epoch 28/50\n",
      "415/415 [==============================] - 71s 171ms/step - loss: 0.0356 - accuracy: 0.9919 - val_loss: 0.0651 - val_accuracy: 0.9869\n",
      "Epoch 29/50\n",
      "415/415 [==============================] - 71s 171ms/step - loss: 0.0336 - accuracy: 0.9925 - val_loss: 0.0650 - val_accuracy: 0.9872\n",
      "Epoch 30/50\n",
      "415/415 [==============================] - 72s 173ms/step - loss: 0.0319 - accuracy: 0.9935 - val_loss: 0.0651 - val_accuracy: 0.9867\n",
      "Epoch 31/50\n",
      "415/415 [==============================] - 71s 171ms/step - loss: 0.0313 - accuracy: 0.9934 - val_loss: 0.0643 - val_accuracy: 0.9864\n",
      "Epoch 32/50\n",
      "415/415 [==============================] - 71s 171ms/step - loss: 0.0306 - accuracy: 0.9934 - val_loss: 0.0702 - val_accuracy: 0.9857\n",
      "Epoch 33/50\n",
      "415/415 [==============================] - 71s 171ms/step - loss: 0.0315 - accuracy: 0.9934 - val_loss: 0.0635 - val_accuracy: 0.9866\n",
      "Epoch 34/50\n",
      "415/415 [==============================] - 73s 176ms/step - loss: 0.0292 - accuracy: 0.9940 - val_loss: 0.0606 - val_accuracy: 0.9871\n",
      "Epoch 35/50\n",
      "415/415 [==============================] - 70s 168ms/step - loss: 0.0254 - accuracy: 0.9949 - val_loss: 0.0714 - val_accuracy: 0.9857\n",
      "Epoch 36/50\n",
      "415/415 [==============================] - 71s 171ms/step - loss: 0.0292 - accuracy: 0.9938 - val_loss: 0.0647 - val_accuracy: 0.9878\n",
      "Epoch 37/50\n",
      "415/415 [==============================] - 71s 172ms/step - loss: 0.0279 - accuracy: 0.9944 - val_loss: 0.0669 - val_accuracy: 0.9872\n",
      "Epoch 38/50\n",
      "415/415 [==============================] - 68s 164ms/step - loss: 0.0253 - accuracy: 0.9947 - val_loss: 0.0694 - val_accuracy: 0.9858\n",
      "Epoch 39/50\n",
      "415/415 [==============================] - 70s 169ms/step - loss: 0.0243 - accuracy: 0.9949 - val_loss: 0.0587 - val_accuracy: 0.9881\n",
      "Epoch 40/50\n",
      "415/415 [==============================] - 69s 167ms/step - loss: 0.0255 - accuracy: 0.9948 - val_loss: 0.0691 - val_accuracy: 0.9855\n",
      "Epoch 41/50\n",
      "415/415 [==============================] - 67s 162ms/step - loss: 0.0239 - accuracy: 0.9950 - val_loss: 0.0721 - val_accuracy: 0.9862\n",
      "Epoch 42/50\n",
      "415/415 [==============================] - 68s 165ms/step - loss: 0.0249 - accuracy: 0.9950 - val_loss: 0.0649 - val_accuracy: 0.9870\n",
      "Epoch 43/50\n",
      "415/415 [==============================] - 69s 165ms/step - loss: 0.0254 - accuracy: 0.9949 - val_loss: 0.0609 - val_accuracy: 0.9870\n",
      "Epoch 44/50\n",
      "415/415 [==============================] - 68s 165ms/step - loss: 0.0231 - accuracy: 0.9955 - val_loss: 0.0662 - val_accuracy: 0.9874\n",
      "Epoch 45/50\n",
      "415/415 [==============================] - 68s 163ms/step - loss: 0.0222 - accuracy: 0.9955 - val_loss: 0.0658 - val_accuracy: 0.9870\n",
      "Epoch 46/50\n",
      "415/415 [==============================] - 68s 163ms/step - loss: 0.0212 - accuracy: 0.9962 - val_loss: 0.0696 - val_accuracy: 0.9873\n",
      "Epoch 47/50\n",
      "415/415 [==============================] - 68s 163ms/step - loss: 0.0214 - accuracy: 0.9956 - val_loss: 0.0629 - val_accuracy: 0.9870\n",
      "Epoch 48/50\n",
      "415/415 [==============================] - 68s 164ms/step - loss: 0.0204 - accuracy: 0.9958 - val_loss: 0.0746 - val_accuracy: 0.9859\n",
      "Epoch 49/50\n",
      "415/415 [==============================] - 65s 158ms/step - loss: 0.0213 - accuracy: 0.9958 - val_loss: 0.0720 - val_accuracy: 0.9867\n",
      "Epoch 50/50\n",
      "415/415 [==============================] - 67s 162ms/step - loss: 0.0205 - accuracy: 0.9957 - val_loss: 0.0698 - val_accuracy: 0.9863\n"
     ]
    }
   ],
   "source": [
    "history = model.fit(train_x, train_y, batch_size=128, epochs=50, verbose=1, validation_data=(test_x, test_y))"
   ]
  },
  {
   "cell_type": "code",
   "execution_count": 9,
   "metadata": {},
   "outputs": [
    {
     "data": {
      "image/png": "[encoded data removed]",
      "text/plain": [
       "<Figure size 800x300 with 1 Axes>"
      ]
     },
     "metadata": {},
     "output_type": "display_data"
    },
    {
     "data": {
      "image/png": "[encoded data removed]",
      "text/plain": [
       "<Figure size 800x300 with 1 Axes>"
      ]
     },
     "metadata": {},
     "output_type": "display_data"
    }
   ],
   "source": [
    "# summarize history for loss\n",
    "plt.figure(figsize=(8,3))\n",
    "plt.plot(history.history['loss'])\n",
    "plt.plot(history.history['val_loss'])\n",
    "plt.title('model loss')\n",
    "plt.ylabel('loss')\n",
    "plt.xlabel('epoch')\n",
    "plt.legend(['train', 'test'], loc='best')\n",
    "plt.show()\n",
    "\n",
    "# summarize history for accuracy\n",
    "plt.figure(figsize=(8,3))\n",
    "plt.plot(history.history['accuracy'])\n",
    "plt.plot(history.history['val_accuracy'])\n",
    "plt.title('model accuracy')\n",
    "plt.ylabel('accuracy')\n",
    "plt.xlabel('epoch')\n",
    "plt.legend(['train', 'test'], loc='best')\n",
    "plt.show()"
   ]
  },
  {
   "cell_type": "code",
   "execution_count": 10,
   "metadata": {},
   "outputs": [
    {
     "name": "stdout",
     "output_type": "stream",
     "text": [
      "415/415 [==============================] - 5s 13ms/step - loss: 0.0698 - accuracy: 0.9863\n",
      "Test Loss: 0.0698084831237793\n",
      "Test accuracy: 0.9862910509109497\n"
     ]
    }
   ],
   "source": [
    "# finding the loss and acuracy of the model\n",
    "score = model.evaluate(test_x, test_y)\n",
    "\n",
    "print('Test Loss:', score[0])\n",
    "print('Test accuracy:', score[1])"
   ]
  },
  {
   "cell_type": "code",
   "execution_count": 11,
   "metadata": {},
   "outputs": [
    {
     "name": "stderr",
     "output_type": "stream",
     "text": [
      "WARNING:absl:Found untraced functions such as _jit_compiled_convolution_op, _jit_compiled_convolution_op, _jit_compiled_convolution_op, _jit_compiled_convolution_op while saving (showing 4 of 4). These functions will not be directly callable after loading.\n"
     ]
    },
    {
     "name": "stdout",
     "output_type": "stream",
     "text": [
      "INFO:tensorflow:Assets written to: CNN_model_7\\assets\n"
     ]
    },
    {
     "name": "stderr",
     "output_type": "stream",
     "text": [
      "INFO:tensorflow:Assets written to: CNN_model_7\\assets\n"
     ]
    }
   ],
   "source": [
    "# save model\n",
    "model.save('CNN_model_7')"
   ]
  },
  {
   "attachments": {},
   "cell_type": "markdown",
   "metadata": {},
   "source": [
    "# confusion matrix"
   ]
  },
  {
   "cell_type": "code",
   "execution_count": 12,
   "metadata": {},
   "outputs": [
    {
     "name": "stdout",
     "output_type": "stream",
     "text": [
      "415/415 [==============================] - 6s 13ms/step\n"
     ]
    },
    {
     "data": {
      "text/plain": [
       "array([3, 1, 2, ..., 0, 3, 0], dtype=int64)"
      ]
     },
     "execution_count": 12,
     "metadata": {},
     "output_type": "execute_result"
    }
   ],
   "source": [
    "y_pred = model.predict(test_x)\n",
    "y_pred = np.argmax(y_pred, axis=1)\n",
    "y_pred"
   ]
  },
  {
   "cell_type": "code",
   "execution_count": 13,
   "metadata": {},
   "outputs": [
    {
     "name": "stdout",
     "output_type": "stream",
     "text": [
      "confusion matrix\n",
      "[[3176    6   16   23   23]\n",
      " [   8 3186    1    4    1]\n",
      " [   5    2 2980    4    1]\n",
      " [  33    7    3 2781   11]\n",
      " [  20    1    2   11  971]]\n",
      "\n",
      "classification report\n",
      "              precision    recall  f1-score   support\n",
      "\n",
      "           N     0.9796    0.9790    0.9793      3244\n",
      "           L     0.9950    0.9956    0.9953      3200\n",
      "           R     0.9927    0.9960    0.9943      2992\n",
      "           V     0.9851    0.9810    0.9830      2835\n",
      "           A     0.9643    0.9662    0.9652      1005\n",
      "\n",
      "    accuracy                         0.9863     13276\n",
      "   macro avg     0.9833    0.9836    0.9834     13276\n",
      "weighted avg     0.9863    0.9863    0.9863     13276\n",
      "\n"
     ]
    }
   ],
   "source": [
    "y_true = test[440]\n",
    "\n",
    "from sklearn.metrics import confusion_matrix, classification_report\n",
    "\n",
    "cm = confusion_matrix(y_true, y_pred)\n",
    "print('confusion matrix')\n",
    "print(cm)\n",
    "print('\\nclassification report')\n",
    "report = classification_report(y_true, y_pred, target_names=['N', 'L', 'R', 'V', 'A'], digits=4)\n",
    "print(report )\n",
    "\n",
    "def report_to_df(report):\n",
    "    report = [x.split(' ') for x in report.split('\\n')]\n",
    "    header = ['Class Name']+[x for x in report[0] if x!='']\n",
    "    values = []\n",
    "    for row in report[1:-5]:\n",
    "        row = [value for value in row if value!='']\n",
    "        if row!=[]:\n",
    "            values.append(row)\n",
    "    df = pd.DataFrame(data = values, columns = header)\n",
    "    return df\n",
    "report = report_to_df(report)\n",
    "\n",
    "# report.to_csv('classification report.csv', index=True)"
   ]
  }
 ],
 "metadata": {
  "kernelspec": {
   "display_name": "cenv1",
   "language": "python",
   "name": "python3"
  },
  "language_info": {
   "codemirror_mode": {
    "name": "ipython",
    "version": 3
   },
   "file_extension": ".py",
   "mimetype": "text/x-python",
   "name": "python",
   "nbconvert_exporter": "python",
   "pygments_lexer": "ipython3",
   "version": "3.10.9"
  },
  "orig_nbformat": 4
 },
 "nbformat": 4,
 "nbformat_minor": 2
}
