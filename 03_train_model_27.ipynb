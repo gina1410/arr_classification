{
 "cells": [
  {
   "attachments": {},
   "cell_type": "markdown",
   "metadata": {},
   "source": [
    "# Initialize"
   ]
  },
  {
   "cell_type": "code",
   "execution_count": 1,
   "metadata": {},
   "outputs": [],
   "source": [
    "import numpy as np\n",
    "import pandas as pd\n",
    "import matplotlib.pyplot as plt\n",
    "\n",
    "from keras.utils.np_utils import to_categorical\n",
    "from keras.models import Sequential\n",
    "from keras.layers import Conv1D, AvgPool1D, Flatten, Dense, Dropout, Softmax\n",
    "from keras import regularizers\n",
    "from keras.optimizers import Adam \n"
   ]
  },
  {
   "attachments": {},
   "cell_type": "markdown",
   "metadata": {},
   "source": [
    "# Load dataset"
   ]
  },
  {
   "cell_type": "code",
   "execution_count": 2,
   "metadata": {},
   "outputs": [
    {
     "name": "stdout",
     "output_type": "stream",
     "text": [
      "train_data :  (53102, 441)\n",
      "test_data  :  (13276, 441)\n"
     ]
    }
   ],
   "source": [
    "train = pd.read_csv('./data/0.8_train.csv', header=None)\n",
    "test = pd.read_csv('./data/0.2_test.csv', header=None)\n",
    "\n",
    "print(\"train_data : \", np.shape(train))\n",
    "print(\"test_data  : \", np.shape(test))"
   ]
  },
  {
   "cell_type": "code",
   "execution_count": 3,
   "metadata": {},
   "outputs": [
    {
     "name": "stdout",
     "output_type": "stream",
     "text": [
      "data train per class\n",
      "0.0    13152\n",
      "1.0    12938\n",
      "2.0    11508\n",
      "3.0    11421\n",
      "4.0     4083\n",
      "Name: 440, dtype: int64\n",
      "---------------------------------\n",
      "data test per class\n",
      "0.0    3244\n",
      "1.0    3200\n",
      "2.0    2992\n",
      "3.0    2835\n",
      "4.0    1005\n",
      "Name: 440, dtype: int64\n"
     ]
    }
   ],
   "source": [
    "# 0.0 Normal beat\n",
    "# 1.0 LBBB beat\n",
    "# 2.0 RBBB beat\n",
    "# 3.0 PVC beat\n",
    "# 4.0 PAC beat\n",
    "\n",
    "print('data train per class')\n",
    "print(train[440].value_counts())\n",
    "print('---------------------------------')\n",
    "print('data test per class')\n",
    "print(test[440].value_counts())"
   ]
  },
  {
   "cell_type": "code",
   "execution_count": 4,
   "metadata": {},
   "outputs": [
    {
     "name": "stdout",
     "output_type": "stream",
     "text": [
      "(53102, 5) (13276, 5)\n"
     ]
    }
   ],
   "source": [
    "target_train=train[train.shape[1]-1]\n",
    "target_test=test[test.shape[1]-1]\n",
    "train_y=to_categorical(target_train)\n",
    "test_y=to_categorical(target_test)\n",
    "print(np.shape(train_y), np.shape(test_y))"
   ]
  },
  {
   "cell_type": "code",
   "execution_count": 5,
   "metadata": {},
   "outputs": [
    {
     "name": "stdout",
     "output_type": "stream",
     "text": [
      "(53102, 440, 1) (13276, 440, 1)\n"
     ]
    }
   ],
   "source": [
    "train_x = train.iloc[:,:train.shape[1]-1].values\n",
    "test_x = test.iloc[:,:test.shape[1]-1].values\n",
    "train_x = train_x.reshape(len(train_x), train_x.shape[1],1)\n",
    "test_x = test_x.reshape(len(test_x), test_x.shape[1],1)\n",
    "print(np.shape(train_x), np.shape(test_x))"
   ]
  },
  {
   "attachments": {},
   "cell_type": "markdown",
   "metadata": {},
   "source": [
    "# Model architecture"
   ]
  },
  {
   "cell_type": "code",
   "execution_count": 6,
   "metadata": {},
   "outputs": [
    {
     "name": "stdout",
     "output_type": "stream",
     "text": [
      "Model: \"sequential\"\n",
      "_________________________________________________________________\n",
      " Layer (type)                Output Shape              Param #   \n",
      "=================================================================\n",
      " conv1d (Conv1D)             (None, 440, 16)           224       \n",
      "                                                                 \n",
      " average_pooling1d (AverageP  (None, 219, 16)          0         \n",
      " ooling1D)                                                       \n",
      "                                                                 \n",
      " conv1d_1 (Conv1D)           (None, 219, 32)           7712      \n",
      "                                                                 \n",
      " average_pooling1d_1 (Averag  (None, 109, 32)          0         \n",
      " ePooling1D)                                                     \n",
      "                                                                 \n",
      " conv1d_2 (Conv1D)           (None, 109, 64)           34880     \n",
      "                                                                 \n",
      " average_pooling1d_2 (Averag  (None, 54, 64)           0         \n",
      " ePooling1D)                                                     \n",
      "                                                                 \n",
      " conv1d_3 (Conv1D)           (None, 54, 128)           155776    \n",
      "                                                                 \n",
      " average_pooling1d_3 (Averag  (None, 26, 128)          0         \n",
      " ePooling1D)                                                     \n",
      "                                                                 \n",
      " flatten (Flatten)           (None, 3328)              0         \n",
      "                                                                 \n",
      " dropout (Dropout)           (None, 3328)              0         \n",
      "                                                                 \n",
      " dense (Dense)               (None, 35)                116515    \n",
      "                                                                 \n",
      " dense_1 (Dense)             (None, 5)                 180       \n",
      "                                                                 \n",
      " softmax (Softmax)           (None, 5)                 0         \n",
      "                                                                 \n",
      "=================================================================\n",
      "Total params: 315,287\n",
      "Trainable params: 315,287\n",
      "Non-trainable params: 0\n",
      "_________________________________________________________________\n"
     ]
    }
   ],
   "source": [
    "# Instanciate an empty model\n",
    "model = Sequential()\n",
    "\n",
    "model.add(Conv1D(filters=16, kernel_size=13, padding='same', activation='relu',input_shape=(440, 1)))\n",
    "model.add(AvgPool1D(pool_size=3, strides=2))\n",
    "model.add(Conv1D(filters=32, kernel_size=15, padding='same', activation='relu'))\n",
    "model.add(AvgPool1D(pool_size=3, strides=2))\n",
    "model.add(Conv1D(filters=64, kernel_size=17, padding='same', activation='relu'))\n",
    "model.add(AvgPool1D(pool_size=3, strides=2))\n",
    "model.add(Conv1D(filters=128, kernel_size=19, padding='same', activation='relu'))\n",
    "model.add(AvgPool1D(pool_size=3, strides=2))\n",
    "model.add(Flatten())\n",
    "model.add(Dropout(0.5))\n",
    "model.add(Dense(35,kernel_regularizer=regularizers.l2(0.0001), bias_regularizer=regularizers.l2(0.0001)))\n",
    "model.add(Dense(5,kernel_regularizer=regularizers.l2(0.0001), bias_regularizer=regularizers.l2(0.0001)))\n",
    "model.add(Softmax())\n",
    "\n",
    "model.summary()"
   ]
  },
  {
   "attachments": {},
   "cell_type": "markdown",
   "metadata": {},
   "source": [
    "# learning_rate 0.002, batch_size 128, epoch 100"
   ]
  },
  {
   "cell_type": "code",
   "execution_count": 7,
   "metadata": {},
   "outputs": [],
   "source": [
    "model.compile(loss='categorical_crossentropy', optimizer=Adam(learning_rate=0.002), metrics=['accuracy'])"
   ]
  },
  {
   "cell_type": "code",
   "execution_count": 8,
   "metadata": {},
   "outputs": [
    {
     "name": "stdout",
     "output_type": "stream",
     "text": [
      "Epoch 1/100\n",
      "415/415 [==============================] - 82s 192ms/step - loss: 0.4216 - accuracy: 0.8523 - val_loss: 0.1744 - val_accuracy: 0.9500\n",
      "Epoch 2/100\n",
      "415/415 [==============================] - 75s 181ms/step - loss: 0.1611 - accuracy: 0.9557 - val_loss: 0.1232 - val_accuracy: 0.9676\n",
      "Epoch 3/100\n",
      "415/415 [==============================] - 75s 180ms/step - loss: 0.1258 - accuracy: 0.9663 - val_loss: 0.1134 - val_accuracy: 0.9696\n",
      "Epoch 4/100\n",
      "415/415 [==============================] - 74s 179ms/step - loss: 0.1110 - accuracy: 0.9707 - val_loss: 0.0930 - val_accuracy: 0.9787\n",
      "Epoch 5/100\n",
      "415/415 [==============================] - 77s 184ms/step - loss: 0.1003 - accuracy: 0.9741 - val_loss: 0.0875 - val_accuracy: 0.9786\n",
      "Epoch 6/100\n",
      "415/415 [==============================] - 84s 204ms/step - loss: 0.0902 - accuracy: 0.9769 - val_loss: 0.0982 - val_accuracy: 0.9764\n",
      "Epoch 7/100\n",
      "415/415 [==============================] - 82s 197ms/step - loss: 0.0850 - accuracy: 0.9786 - val_loss: 0.0766 - val_accuracy: 0.9827\n",
      "Epoch 8/100\n",
      "415/415 [==============================] - 79s 190ms/step - loss: 0.0819 - accuracy: 0.9794 - val_loss: 0.0799 - val_accuracy: 0.9820\n",
      "Epoch 9/100\n",
      "415/415 [==============================] - 78s 188ms/step - loss: 0.0767 - accuracy: 0.9806 - val_loss: 0.0823 - val_accuracy: 0.9805\n",
      "Epoch 10/100\n",
      "415/415 [==============================] - 85s 205ms/step - loss: 0.0712 - accuracy: 0.9827 - val_loss: 0.0736 - val_accuracy: 0.9843\n",
      "Epoch 11/100\n",
      "415/415 [==============================] - 83s 200ms/step - loss: 0.0664 - accuracy: 0.9842 - val_loss: 0.0750 - val_accuracy: 0.9835\n",
      "Epoch 12/100\n",
      "415/415 [==============================] - 90s 217ms/step - loss: 0.0636 - accuracy: 0.9844 - val_loss: 0.0701 - val_accuracy: 0.9850\n",
      "Epoch 13/100\n",
      "415/415 [==============================] - 79s 191ms/step - loss: 0.0602 - accuracy: 0.9861 - val_loss: 0.0720 - val_accuracy: 0.9840\n",
      "Epoch 14/100\n",
      "415/415 [==============================] - 92s 221ms/step - loss: 0.0583 - accuracy: 0.9868 - val_loss: 0.0759 - val_accuracy: 0.9843\n",
      "Epoch 15/100\n",
      "415/415 [==============================] - 89s 213ms/step - loss: 0.0554 - accuracy: 0.9866 - val_loss: 0.0717 - val_accuracy: 0.9843\n",
      "Epoch 16/100\n",
      "415/415 [==============================] - 85s 205ms/step - loss: 0.0530 - accuracy: 0.9874 - val_loss: 0.0769 - val_accuracy: 0.9838\n",
      "Epoch 17/100\n",
      "415/415 [==============================] - 83s 200ms/step - loss: 0.0473 - accuracy: 0.9896 - val_loss: 0.0717 - val_accuracy: 0.9848\n",
      "Epoch 18/100\n",
      "415/415 [==============================] - 80s 193ms/step - loss: 0.0495 - accuracy: 0.9884 - val_loss: 0.0692 - val_accuracy: 0.9852\n",
      "Epoch 19/100\n",
      "415/415 [==============================] - 92s 222ms/step - loss: 0.0457 - accuracy: 0.9894 - val_loss: 0.0699 - val_accuracy: 0.9854\n",
      "Epoch 20/100\n",
      "415/415 [==============================] - 90s 218ms/step - loss: 0.0420 - accuracy: 0.9908 - val_loss: 0.0672 - val_accuracy: 0.9858\n",
      "Epoch 21/100\n",
      "415/415 [==============================] - 88s 211ms/step - loss: 0.0420 - accuracy: 0.9903 - val_loss: 0.0694 - val_accuracy: 0.9858\n",
      "Epoch 22/100\n",
      "415/415 [==============================] - 92s 221ms/step - loss: 0.0379 - accuracy: 0.9919 - val_loss: 0.0659 - val_accuracy: 0.9867\n",
      "Epoch 23/100\n",
      "415/415 [==============================] - 84s 202ms/step - loss: 0.0392 - accuracy: 0.9915 - val_loss: 0.0696 - val_accuracy: 0.9856\n",
      "Epoch 24/100\n",
      "415/415 [==============================] - 84s 202ms/step - loss: 0.0372 - accuracy: 0.9920 - val_loss: 0.0734 - val_accuracy: 0.9857\n",
      "Epoch 25/100\n",
      "415/415 [==============================] - 84s 202ms/step - loss: 0.0358 - accuracy: 0.9924 - val_loss: 0.0657 - val_accuracy: 0.9854\n",
      "Epoch 26/100\n",
      "415/415 [==============================] - 81s 195ms/step - loss: 0.0379 - accuracy: 0.9918 - val_loss: 0.0682 - val_accuracy: 0.9867\n",
      "Epoch 27/100\n",
      "415/415 [==============================] - 79s 191ms/step - loss: 0.0334 - accuracy: 0.9935 - val_loss: 0.0701 - val_accuracy: 0.9852\n",
      "Epoch 28/100\n",
      "415/415 [==============================] - 77s 187ms/step - loss: 0.0347 - accuracy: 0.9923 - val_loss: 0.0713 - val_accuracy: 0.9858\n",
      "Epoch 29/100\n",
      "415/415 [==============================] - 81s 196ms/step - loss: 0.0334 - accuracy: 0.9929 - val_loss: 0.0665 - val_accuracy: 0.9874\n",
      "Epoch 30/100\n",
      "415/415 [==============================] - 76s 184ms/step - loss: 0.0313 - accuracy: 0.9935 - val_loss: 0.0642 - val_accuracy: 0.9860\n",
      "Epoch 31/100\n",
      "415/415 [==============================] - 76s 183ms/step - loss: 0.0294 - accuracy: 0.9941 - val_loss: 0.0670 - val_accuracy: 0.9877\n",
      "Epoch 32/100\n",
      "415/415 [==============================] - 78s 188ms/step - loss: 0.0300 - accuracy: 0.9941 - val_loss: 0.0633 - val_accuracy: 0.9876\n",
      "Epoch 33/100\n",
      "415/415 [==============================] - 78s 187ms/step - loss: 0.0318 - accuracy: 0.9932 - val_loss: 0.0727 - val_accuracy: 0.9859\n",
      "Epoch 34/100\n",
      "415/415 [==============================] - 57s 137ms/step - loss: 0.0284 - accuracy: 0.9942 - val_loss: 0.0709 - val_accuracy: 0.9863\n",
      "Epoch 35/100\n",
      "415/415 [==============================] - 60s 144ms/step - loss: 0.0282 - accuracy: 0.9940 - val_loss: 0.0737 - val_accuracy: 0.9873\n",
      "Epoch 36/100\n",
      "415/415 [==============================] - 62s 149ms/step - loss: 0.0261 - accuracy: 0.9951 - val_loss: 0.0683 - val_accuracy: 0.9877\n",
      "Epoch 37/100\n",
      "415/415 [==============================] - 56s 135ms/step - loss: 0.0248 - accuracy: 0.9952 - val_loss: 0.0833 - val_accuracy: 0.9854\n",
      "Epoch 38/100\n",
      "415/415 [==============================] - 58s 140ms/step - loss: 0.0283 - accuracy: 0.9942 - val_loss: 0.0808 - val_accuracy: 0.9861\n",
      "Epoch 39/100\n",
      "415/415 [==============================] - 59s 143ms/step - loss: 0.0260 - accuracy: 0.9945 - val_loss: 0.0766 - val_accuracy: 0.9867\n",
      "Epoch 40/100\n",
      "415/415 [==============================] - 57s 136ms/step - loss: 0.0249 - accuracy: 0.9949 - val_loss: 0.0741 - val_accuracy: 0.9856\n",
      "Epoch 41/100\n",
      "415/415 [==============================] - 56s 134ms/step - loss: 0.0233 - accuracy: 0.9956 - val_loss: 0.0760 - val_accuracy: 0.9865\n",
      "Epoch 42/100\n",
      "415/415 [==============================] - 55s 133ms/step - loss: 0.0255 - accuracy: 0.9948 - val_loss: 0.0823 - val_accuracy: 0.9854\n",
      "Epoch 43/100\n",
      "415/415 [==============================] - 57s 138ms/step - loss: 0.0272 - accuracy: 0.9944 - val_loss: 0.0750 - val_accuracy: 0.9873\n",
      "Epoch 44/100\n",
      "415/415 [==============================] - 56s 135ms/step - loss: 0.0254 - accuracy: 0.9950 - val_loss: 0.0819 - val_accuracy: 0.9872\n",
      "Epoch 45/100\n",
      "415/415 [==============================] - 58s 139ms/step - loss: 0.0226 - accuracy: 0.9960 - val_loss: 0.0685 - val_accuracy: 0.9872\n",
      "Epoch 46/100\n",
      "415/415 [==============================] - 58s 139ms/step - loss: 0.0211 - accuracy: 0.9955 - val_loss: 0.0703 - val_accuracy: 0.9873\n",
      "Epoch 47/100\n",
      "415/415 [==============================] - 61s 148ms/step - loss: 0.0233 - accuracy: 0.9957 - val_loss: 0.0730 - val_accuracy: 0.9873\n",
      "Epoch 48/100\n",
      "415/415 [==============================] - 56s 136ms/step - loss: 0.0222 - accuracy: 0.9959 - val_loss: 0.0735 - val_accuracy: 0.9873\n",
      "Epoch 49/100\n",
      "415/415 [==============================] - 56s 134ms/step - loss: 0.0273 - accuracy: 0.9944 - val_loss: 0.0784 - val_accuracy: 0.9852\n",
      "Epoch 50/100\n",
      "415/415 [==============================] - 58s 141ms/step - loss: 0.0231 - accuracy: 0.9955 - val_loss: 0.0719 - val_accuracy: 0.9878\n",
      "Epoch 51/100\n",
      "415/415 [==============================] - 56s 135ms/step - loss: 0.0221 - accuracy: 0.9962 - val_loss: 0.0759 - val_accuracy: 0.9867\n",
      "Epoch 52/100\n",
      "415/415 [==============================] - 59s 141ms/step - loss: 0.0213 - accuracy: 0.9965 - val_loss: 0.0750 - val_accuracy: 0.9880\n",
      "Epoch 53/100\n",
      "415/415 [==============================] - 59s 142ms/step - loss: 0.0215 - accuracy: 0.9962 - val_loss: 0.0791 - val_accuracy: 0.9856\n",
      "Epoch 54/100\n",
      "415/415 [==============================] - 59s 143ms/step - loss: 0.0229 - accuracy: 0.9962 - val_loss: 0.0703 - val_accuracy: 0.9887\n",
      "Epoch 55/100\n",
      "415/415 [==============================] - 58s 139ms/step - loss: 0.0199 - accuracy: 0.9962 - val_loss: 0.0814 - val_accuracy: 0.9883\n",
      "Epoch 56/100\n",
      "415/415 [==============================] - 60s 144ms/step - loss: 0.0199 - accuracy: 0.9967 - val_loss: 0.0701 - val_accuracy: 0.9882\n",
      "Epoch 57/100\n",
      "415/415 [==============================] - 60s 144ms/step - loss: 0.0218 - accuracy: 0.9957 - val_loss: 0.0780 - val_accuracy: 0.9862\n",
      "Epoch 58/100\n",
      "415/415 [==============================] - 58s 141ms/step - loss: 0.0238 - accuracy: 0.9956 - val_loss: 0.0848 - val_accuracy: 0.9858\n",
      "Epoch 59/100\n",
      "415/415 [==============================] - 57s 137ms/step - loss: 0.0228 - accuracy: 0.9964 - val_loss: 0.0810 - val_accuracy: 0.9867\n",
      "Epoch 60/100\n",
      "415/415 [==============================] - 58s 140ms/step - loss: 0.0197 - accuracy: 0.9969 - val_loss: 0.0723 - val_accuracy: 0.9876\n",
      "Epoch 61/100\n",
      "415/415 [==============================] - 58s 139ms/step - loss: 0.0217 - accuracy: 0.9957 - val_loss: 0.0735 - val_accuracy: 0.9888\n",
      "Epoch 62/100\n",
      "415/415 [==============================] - 56s 135ms/step - loss: 0.0202 - accuracy: 0.9968 - val_loss: 0.0821 - val_accuracy: 0.9869\n",
      "Epoch 63/100\n",
      "415/415 [==============================] - 57s 139ms/step - loss: 0.0220 - accuracy: 0.9960 - val_loss: 0.0796 - val_accuracy: 0.9868\n",
      "Epoch 64/100\n",
      "415/415 [==============================] - 59s 142ms/step - loss: 0.0210 - accuracy: 0.9968 - val_loss: 0.0722 - val_accuracy: 0.9877\n",
      "Epoch 65/100\n",
      "415/415 [==============================] - 62s 149ms/step - loss: 0.0203 - accuracy: 0.9962 - val_loss: 0.0695 - val_accuracy: 0.9870\n",
      "Epoch 66/100\n",
      "415/415 [==============================] - 57s 137ms/step - loss: 0.0202 - accuracy: 0.9970 - val_loss: 0.0746 - val_accuracy: 0.9882\n",
      "Epoch 67/100\n",
      "415/415 [==============================] - 54s 129ms/step - loss: 0.0204 - accuracy: 0.9967 - val_loss: 0.0743 - val_accuracy: 0.9869\n",
      "Epoch 68/100\n",
      "415/415 [==============================] - 57s 138ms/step - loss: 0.0198 - accuracy: 0.9967 - val_loss: 0.0744 - val_accuracy: 0.9883\n",
      "Epoch 69/100\n",
      "415/415 [==============================] - 60s 145ms/step - loss: 0.0192 - accuracy: 0.9967 - val_loss: 0.0782 - val_accuracy: 0.9882\n",
      "Epoch 70/100\n",
      "415/415 [==============================] - 61s 148ms/step - loss: 0.0185 - accuracy: 0.9966 - val_loss: 0.0766 - val_accuracy: 0.9881\n",
      "Epoch 71/100\n",
      "415/415 [==============================] - 61s 148ms/step - loss: 0.0220 - accuracy: 0.9962 - val_loss: 0.0796 - val_accuracy: 0.9889\n",
      "Epoch 72/100\n",
      "415/415 [==============================] - 62s 150ms/step - loss: 0.0212 - accuracy: 0.9965 - val_loss: 0.0685 - val_accuracy: 0.9889\n",
      "Epoch 73/100\n",
      "415/415 [==============================] - 62s 151ms/step - loss: 0.0195 - accuracy: 0.9969 - val_loss: 0.0761 - val_accuracy: 0.9880\n",
      "Epoch 74/100\n",
      "415/415 [==============================] - 59s 142ms/step - loss: 0.0190 - accuracy: 0.9969 - val_loss: 0.0811 - val_accuracy: 0.9878\n",
      "Epoch 75/100\n",
      "415/415 [==============================] - 61s 147ms/step - loss: 0.0177 - accuracy: 0.9972 - val_loss: 0.0773 - val_accuracy: 0.9876\n",
      "Epoch 76/100\n",
      "415/415 [==============================] - 58s 140ms/step - loss: 0.0207 - accuracy: 0.9967 - val_loss: 0.0747 - val_accuracy: 0.9880\n",
      "Epoch 77/100\n",
      "415/415 [==============================] - 57s 137ms/step - loss: 0.0197 - accuracy: 0.9970 - val_loss: 0.0849 - val_accuracy: 0.9886\n",
      "Epoch 78/100\n",
      "415/415 [==============================] - 60s 146ms/step - loss: 0.0180 - accuracy: 0.9972 - val_loss: 0.0941 - val_accuracy: 0.9867\n",
      "Epoch 79/100\n",
      "415/415 [==============================] - 56s 134ms/step - loss: 0.0198 - accuracy: 0.9971 - val_loss: 0.0786 - val_accuracy: 0.9879\n",
      "Epoch 80/100\n",
      "415/415 [==============================] - 53s 128ms/step - loss: 0.0172 - accuracy: 0.9972 - val_loss: 0.0787 - val_accuracy: 0.9878\n",
      "Epoch 81/100\n",
      "415/415 [==============================] - 54s 129ms/step - loss: 0.0197 - accuracy: 0.9970 - val_loss: 0.0856 - val_accuracy: 0.9889\n",
      "Epoch 82/100\n",
      "415/415 [==============================] - 61s 147ms/step - loss: 0.0174 - accuracy: 0.9972 - val_loss: 0.0852 - val_accuracy: 0.9881\n",
      "Epoch 83/100\n",
      "415/415 [==============================] - 61s 146ms/step - loss: 0.0214 - accuracy: 0.9964 - val_loss: 0.0942 - val_accuracy: 0.9873\n",
      "Epoch 84/100\n",
      "415/415 [==============================] - 60s 145ms/step - loss: 0.0212 - accuracy: 0.9965 - val_loss: 0.0779 - val_accuracy: 0.9878\n",
      "Epoch 85/100\n",
      "415/415 [==============================] - 56s 134ms/step - loss: 0.0190 - accuracy: 0.9970 - val_loss: 0.0844 - val_accuracy: 0.9882\n",
      "Epoch 86/100\n",
      "415/415 [==============================] - 58s 141ms/step - loss: 0.0179 - accuracy: 0.9974 - val_loss: 0.0868 - val_accuracy: 0.9892\n",
      "Epoch 87/100\n",
      "415/415 [==============================] - 60s 145ms/step - loss: 0.0151 - accuracy: 0.9981 - val_loss: 0.0857 - val_accuracy: 0.9882\n",
      "Epoch 88/100\n",
      "415/415 [==============================] - 60s 144ms/step - loss: 0.0171 - accuracy: 0.9972 - val_loss: 0.0909 - val_accuracy: 0.9880\n",
      "Epoch 89/100\n",
      "415/415 [==============================] - 56s 135ms/step - loss: 0.0198 - accuracy: 0.9972 - val_loss: 0.0915 - val_accuracy: 0.9875\n",
      "Epoch 90/100\n",
      "415/415 [==============================] - 59s 143ms/step - loss: 0.0194 - accuracy: 0.9971 - val_loss: 0.0829 - val_accuracy: 0.9879\n",
      "Epoch 91/100\n",
      "415/415 [==============================] - 60s 145ms/step - loss: 0.0205 - accuracy: 0.9969 - val_loss: 0.0812 - val_accuracy: 0.9877\n",
      "Epoch 92/100\n",
      "415/415 [==============================] - 57s 138ms/step - loss: 0.0161 - accuracy: 0.9979 - val_loss: 0.0850 - val_accuracy: 0.9876\n",
      "Epoch 93/100\n",
      "415/415 [==============================] - 56s 136ms/step - loss: 0.0155 - accuracy: 0.9976 - val_loss: 0.0851 - val_accuracy: 0.9877\n",
      "Epoch 94/100\n",
      "415/415 [==============================] - 60s 143ms/step - loss: 0.0188 - accuracy: 0.9974 - val_loss: 0.0869 - val_accuracy: 0.9870\n",
      "Epoch 95/100\n",
      "415/415 [==============================] - 60s 143ms/step - loss: 0.0175 - accuracy: 0.9977 - val_loss: 0.0823 - val_accuracy: 0.9882\n",
      "Epoch 96/100\n",
      "415/415 [==============================] - 60s 145ms/step - loss: 0.0187 - accuracy: 0.9974 - val_loss: 0.0859 - val_accuracy: 0.9879\n",
      "Epoch 97/100\n",
      "415/415 [==============================] - 61s 146ms/step - loss: 0.0200 - accuracy: 0.9972 - val_loss: 0.0899 - val_accuracy: 0.9880\n",
      "Epoch 98/100\n",
      "415/415 [==============================] - 59s 142ms/step - loss: 0.0179 - accuracy: 0.9975 - val_loss: 0.0864 - val_accuracy: 0.9873\n",
      "Epoch 99/100\n",
      "415/415 [==============================] - 59s 142ms/step - loss: 0.0181 - accuracy: 0.9974 - val_loss: 0.0792 - val_accuracy: 0.9885\n",
      "Epoch 100/100\n",
      "415/415 [==============================] - 58s 140ms/step - loss: 0.0202 - accuracy: 0.9968 - val_loss: 0.0863 - val_accuracy: 0.9881\n"
     ]
    }
   ],
   "source": [
    "history = model.fit(train_x, train_y, batch_size=128, epochs=100, verbose=1, validation_data=(test_x, test_y))"
   ]
  },
  {
   "cell_type": "code",
   "execution_count": 9,
   "metadata": {},
   "outputs": [
    {
     "data": {
      "image/png": "[encoded data removed]",
      "text/plain": [
       "<Figure size 800x300 with 1 Axes>"
      ]
     },
     "metadata": {},
     "output_type": "display_data"
    },
    {
     "data": {
      "image/png": "[encoded data removed]",
      "text/plain": [
       "<Figure size 800x300 with 1 Axes>"
      ]
     },
     "metadata": {},
     "output_type": "display_data"
    }
   ],
   "source": [
    "# summarize history for loss\n",
    "plt.figure(figsize=(8,3))\n",
    "plt.plot(history.history['loss'])\n",
    "plt.plot(history.history['val_loss'])\n",
    "plt.title('model loss')\n",
    "plt.ylabel('loss')\n",
    "plt.xlabel('epoch')\n",
    "plt.legend(['train', 'test'], loc='best')\n",
    "plt.show()\n",
    "\n",
    "# summarize history for accuracy\n",
    "plt.figure(figsize=(8,3))\n",
    "plt.plot(history.history['accuracy'])\n",
    "plt.plot(history.history['val_accuracy'])\n",
    "plt.title('model accuracy')\n",
    "plt.ylabel('accuracy')\n",
    "plt.xlabel('epoch')\n",
    "plt.legend(['train', 'test'], loc='best')\n",
    "plt.show()"
   ]
  },
  {
   "cell_type": "code",
   "execution_count": 10,
   "metadata": {},
   "outputs": [
    {
     "name": "stdout",
     "output_type": "stream",
     "text": [
      "415/415 [==============================] - 4s 10ms/step - loss: 0.0863 - accuracy: 0.9881\n",
      "Test Loss: 0.08630627393722534\n",
      "Test accuracy: 0.9880988001823425\n"
     ]
    }
   ],
   "source": [
    "# finding the loss and acuracy of the model\n",
    "score = model.evaluate(test_x, test_y)\n",
    "\n",
    "print('Test Loss:', score[0])\n",
    "print('Test accuracy:', score[1])"
   ]
  },
  {
   "cell_type": "code",
   "execution_count": 11,
   "metadata": {},
   "outputs": [
    {
     "name": "stderr",
     "output_type": "stream",
     "text": [
      "WARNING:absl:Found untraced functions such as _jit_compiled_convolution_op, _jit_compiled_convolution_op, _jit_compiled_convolution_op, _jit_compiled_convolution_op while saving (showing 4 of 4). These functions will not be directly callable after loading.\n"
     ]
    },
    {
     "name": "stdout",
     "output_type": "stream",
     "text": [
      "INFO:tensorflow:Assets written to: CNN_model_27\\assets\n"
     ]
    },
    {
     "name": "stderr",
     "output_type": "stream",
     "text": [
      "INFO:tensorflow:Assets written to: CNN_model_27\\assets\n"
     ]
    }
   ],
   "source": [
    "# save model\n",
    "model.save('CNN_model_27')"
   ]
  },
  {
   "attachments": {},
   "cell_type": "markdown",
   "metadata": {},
   "source": [
    "# confusion matrix"
   ]
  },
  {
   "cell_type": "code",
   "execution_count": 12,
   "metadata": {},
   "outputs": [
    {
     "name": "stdout",
     "output_type": "stream",
     "text": [
      "415/415 [==============================] - 4s 9ms/step\n"
     ]
    },
    {
     "data": {
      "text/plain": [
       "array([3, 1, 2, ..., 0, 3, 0], dtype=int64)"
      ]
     },
     "execution_count": 12,
     "metadata": {},
     "output_type": "execute_result"
    }
   ],
   "source": [
    "y_pred = model.predict(test_x)\n",
    "y_pred = np.argmax(y_pred, axis=1)\n",
    "y_pred"
   ]
  },
  {
   "cell_type": "code",
   "execution_count": 13,
   "metadata": {},
   "outputs": [
    {
     "name": "stdout",
     "output_type": "stream",
     "text": [
      "confusion matrix\n",
      "[[3206    7    6    7   18]\n",
      " [   5 3188    0    5    2]\n",
      " [   6    2 2981    1    2]\n",
      " [  38    9    2 2774   12]\n",
      " [  27    0    2    7  969]]\n",
      "\n",
      "classification report\n",
      "              precision    recall  f1-score   support\n",
      "\n",
      "           N     0.9768    0.9883    0.9825      3244\n",
      "           L     0.9944    0.9962    0.9953      3200\n",
      "           R     0.9967    0.9963    0.9965      2992\n",
      "           V     0.9928    0.9785    0.9856      2835\n",
      "           A     0.9661    0.9642    0.9651      1005\n",
      "\n",
      "    accuracy                         0.9881     13276\n",
      "   macro avg     0.9854    0.9847    0.9850     13276\n",
      "weighted avg     0.9881    0.9881    0.9881     13276\n",
      "\n"
     ]
    }
   ],
   "source": [
    "y_true = test[440]\n",
    "\n",
    "from sklearn.metrics import confusion_matrix, classification_report\n",
    "\n",
    "cm = confusion_matrix(y_true, y_pred)\n",
    "print('confusion matrix')\n",
    "print(cm)\n",
    "print('\\nclassification report')\n",
    "report = classification_report(y_true, y_pred, target_names=['N', 'L', 'R', 'V', 'A'], digits=4)\n",
    "print(report )\n",
    "\n",
    "def report_to_df(report):\n",
    "    report = [x.split(' ') for x in report.split('\\n')]\n",
    "    header = ['Class Name']+[x for x in report[0] if x!='']\n",
    "    values = []\n",
    "    for row in report[1:-5]:\n",
    "        row = [value for value in row if value!='']\n",
    "        if row!=[]:\n",
    "            values.append(row)\n",
    "    df = pd.DataFrame(data = values, columns = header)\n",
    "    return df\n",
    "report = report_to_df(report)\n",
    "\n",
    "# report.to_csv('classification report.csv', index=True)"
   ]
  }
 ],
 "metadata": {
  "kernelspec": {
   "display_name": "cenv1",
   "language": "python",
   "name": "python3"
  },
  "language_info": {
   "codemirror_mode": {
    "name": "ipython",
    "version": 3
   },
   "file_extension": ".py",
   "mimetype": "text/x-python",
   "name": "python",
   "nbconvert_exporter": "python",
   "pygments_lexer": "ipython3",
   "version": "3.10.9"
  },
  "orig_nbformat": 4
 },
 "nbformat": 4,
 "nbformat_minor": 2
}
