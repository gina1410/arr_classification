{
 "cells": [
  {
   "attachments": {},
   "cell_type": "markdown",
   "metadata": {},
   "source": [
    "# Initialize"
   ]
  },
  {
   "cell_type": "code",
   "execution_count": 1,
   "metadata": {},
   "outputs": [],
   "source": [
    "import numpy as np\n",
    "import pandas as pd\n",
    "import matplotlib.pyplot as plt\n",
    "\n",
    "from keras.utils.np_utils import to_categorical\n",
    "from keras.models import Sequential\n",
    "from keras.layers import Conv1D, AvgPool1D, Flatten, Dense, Dropout, Softmax\n",
    "from keras import regularizers\n",
    "from keras.optimizers import Adam \n"
   ]
  },
  {
   "attachments": {},
   "cell_type": "markdown",
   "metadata": {},
   "source": [
    "# Load dataset"
   ]
  },
  {
   "cell_type": "code",
   "execution_count": 2,
   "metadata": {},
   "outputs": [
    {
     "name": "stdout",
     "output_type": "stream",
     "text": [
      "train_data :  (53102, 441)\n",
      "test_data  :  (13276, 441)\n"
     ]
    }
   ],
   "source": [
    "train = pd.read_csv('./data/0.8_train.csv', header=None)\n",
    "test = pd.read_csv('./data/0.2_test.csv', header=None)\n",
    "\n",
    "print(\"train_data : \", np.shape(train))\n",
    "print(\"test_data  : \", np.shape(test))"
   ]
  },
  {
   "cell_type": "code",
   "execution_count": 3,
   "metadata": {},
   "outputs": [
    {
     "name": "stdout",
     "output_type": "stream",
     "text": [
      "data train per class\n",
      "0.0    13152\n",
      "1.0    12938\n",
      "2.0    11508\n",
      "3.0    11421\n",
      "4.0     4083\n",
      "Name: 440, dtype: int64\n",
      "---------------------------------\n",
      "data test per class\n",
      "0.0    3244\n",
      "1.0    3200\n",
      "2.0    2992\n",
      "3.0    2835\n",
      "4.0    1005\n",
      "Name: 440, dtype: int64\n"
     ]
    }
   ],
   "source": [
    "# 0.0 Normal beat\n",
    "# 1.0 LBBB beat\n",
    "# 2.0 RBBB beat\n",
    "# 3.0 PVC beat\n",
    "# 4.0 PAC beat\n",
    "\n",
    "print('data train per class')\n",
    "print(train[440].value_counts())\n",
    "print('---------------------------------')\n",
    "print('data test per class')\n",
    "print(test[440].value_counts())"
   ]
  },
  {
   "cell_type": "code",
   "execution_count": 4,
   "metadata": {},
   "outputs": [
    {
     "name": "stdout",
     "output_type": "stream",
     "text": [
      "(53102, 5) (13276, 5)\n"
     ]
    }
   ],
   "source": [
    "target_train=train[train.shape[1]-1]\n",
    "target_test=test[test.shape[1]-1]\n",
    "train_y=to_categorical(target_train)\n",
    "test_y=to_categorical(target_test)\n",
    "print(np.shape(train_y), np.shape(test_y))"
   ]
  },
  {
   "cell_type": "code",
   "execution_count": 5,
   "metadata": {},
   "outputs": [
    {
     "name": "stdout",
     "output_type": "stream",
     "text": [
      "(53102, 440, 1) (13276, 440, 1)\n"
     ]
    }
   ],
   "source": [
    "train_x = train.iloc[:,:train.shape[1]-1].values\n",
    "test_x = test.iloc[:,:test.shape[1]-1].values\n",
    "train_x = train_x.reshape(len(train_x), train_x.shape[1],1)\n",
    "test_x = test_x.reshape(len(test_x), test_x.shape[1],1)\n",
    "print(np.shape(train_x), np.shape(test_x))"
   ]
  },
  {
   "attachments": {},
   "cell_type": "markdown",
   "metadata": {},
   "source": [
    "# Model architecture"
   ]
  },
  {
   "cell_type": "code",
   "execution_count": 6,
   "metadata": {},
   "outputs": [
    {
     "name": "stdout",
     "output_type": "stream",
     "text": [
      "Model: \"sequential\"\n",
      "_________________________________________________________________\n",
      " Layer (type)                Output Shape              Param #   \n",
      "=================================================================\n",
      " conv1d (Conv1D)             (None, 440, 16)           224       \n",
      "                                                                 \n",
      " average_pooling1d (AverageP  (None, 219, 16)          0         \n",
      " ooling1D)                                                       \n",
      "                                                                 \n",
      " conv1d_1 (Conv1D)           (None, 219, 32)           7712      \n",
      "                                                                 \n",
      " average_pooling1d_1 (Averag  (None, 109, 32)          0         \n",
      " ePooling1D)                                                     \n",
      "                                                                 \n",
      " conv1d_2 (Conv1D)           (None, 109, 64)           34880     \n",
      "                                                                 \n",
      " average_pooling1d_2 (Averag  (None, 54, 64)           0         \n",
      " ePooling1D)                                                     \n",
      "                                                                 \n",
      " conv1d_3 (Conv1D)           (None, 54, 128)           155776    \n",
      "                                                                 \n",
      " average_pooling1d_3 (Averag  (None, 26, 128)          0         \n",
      " ePooling1D)                                                     \n",
      "                                                                 \n",
      " flatten (Flatten)           (None, 3328)              0         \n",
      "                                                                 \n",
      " dropout (Dropout)           (None, 3328)              0         \n",
      "                                                                 \n",
      " dense (Dense)               (None, 35)                116515    \n",
      "                                                                 \n",
      " dense_1 (Dense)             (None, 5)                 180       \n",
      "                                                                 \n",
      " softmax (Softmax)           (None, 5)                 0         \n",
      "                                                                 \n",
      "=================================================================\n",
      "Total params: 315,287\n",
      "Trainable params: 315,287\n",
      "Non-trainable params: 0\n",
      "_________________________________________________________________\n"
     ]
    }
   ],
   "source": [
    "# Instanciate an empty model\n",
    "model = Sequential()\n",
    "\n",
    "model.add(Conv1D(filters=16, kernel_size=13, padding='same', activation='relu',input_shape=(440, 1)))\n",
    "model.add(AvgPool1D(pool_size=3, strides=2))\n",
    "model.add(Conv1D(filters=32, kernel_size=15, padding='same', activation='relu'))\n",
    "model.add(AvgPool1D(pool_size=3, strides=2))\n",
    "model.add(Conv1D(filters=64, kernel_size=17, padding='same', activation='relu'))\n",
    "model.add(AvgPool1D(pool_size=3, strides=2))\n",
    "model.add(Conv1D(filters=128, kernel_size=19, padding='same', activation='relu'))\n",
    "model.add(AvgPool1D(pool_size=3, strides=2))\n",
    "model.add(Flatten())\n",
    "model.add(Dropout(0.5))\n",
    "model.add(Dense(35,kernel_regularizer=regularizers.l2(0.0001), bias_regularizer=regularizers.l2(0.0001)))\n",
    "model.add(Dense(5,kernel_regularizer=regularizers.l2(0.0001), bias_regularizer=regularizers.l2(0.0001)))\n",
    "model.add(Softmax())\n",
    "\n",
    "model.summary()"
   ]
  },
  {
   "attachments": {},
   "cell_type": "markdown",
   "metadata": {},
   "source": [
    "# learning_rate 1e-3, batch_size 128, epoch 75"
   ]
  },
  {
   "cell_type": "code",
   "execution_count": 7,
   "metadata": {},
   "outputs": [],
   "source": [
    "model.compile(loss='categorical_crossentropy', optimizer=Adam(learning_rate=1e-3), metrics=['accuracy'])"
   ]
  },
  {
   "cell_type": "code",
   "execution_count": 8,
   "metadata": {},
   "outputs": [
    {
     "name": "stdout",
     "output_type": "stream",
     "text": [
      "Epoch 1/75\n",
      "415/415 [==============================] - 91s 213ms/step - loss: 0.4864 - accuracy: 0.8290 - val_loss: 0.2077 - val_accuracy: 0.9363\n",
      "Epoch 2/75\n",
      "415/415 [==============================] - 83s 200ms/step - loss: 0.2007 - accuracy: 0.9401 - val_loss: 0.1654 - val_accuracy: 0.9513\n",
      "Epoch 3/75\n",
      "415/415 [==============================] - 76s 183ms/step - loss: 0.1450 - accuracy: 0.9582 - val_loss: 0.1196 - val_accuracy: 0.9671\n",
      "Epoch 4/75\n",
      "415/415 [==============================] - 78s 187ms/step - loss: 0.1214 - accuracy: 0.9660 - val_loss: 0.1019 - val_accuracy: 0.9726\n",
      "Epoch 5/75\n",
      "415/415 [==============================] - 83s 199ms/step - loss: 0.1075 - accuracy: 0.9705 - val_loss: 0.0940 - val_accuracy: 0.9754\n",
      "Epoch 6/75\n",
      "415/415 [==============================] - 81s 196ms/step - loss: 0.0962 - accuracy: 0.9738 - val_loss: 0.0905 - val_accuracy: 0.9762\n",
      "Epoch 7/75\n",
      "415/415 [==============================] - 79s 191ms/step - loss: 0.0879 - accuracy: 0.9765 - val_loss: 0.0839 - val_accuracy: 0.9792\n",
      "Epoch 8/75\n",
      "415/415 [==============================] - 81s 196ms/step - loss: 0.0822 - accuracy: 0.9785 - val_loss: 0.0806 - val_accuracy: 0.9809\n",
      "Epoch 9/75\n",
      "415/415 [==============================] - 82s 199ms/step - loss: 0.0764 - accuracy: 0.9805 - val_loss: 0.0755 - val_accuracy: 0.9816\n",
      "Epoch 10/75\n",
      "415/415 [==============================] - 67s 162ms/step - loss: 0.0726 - accuracy: 0.9808 - val_loss: 0.0826 - val_accuracy: 0.9793\n",
      "Epoch 11/75\n",
      "415/415 [==============================] - 57s 138ms/step - loss: 0.0689 - accuracy: 0.9826 - val_loss: 0.0776 - val_accuracy: 0.9817\n",
      "Epoch 12/75\n",
      "415/415 [==============================] - 61s 147ms/step - loss: 0.0645 - accuracy: 0.9831 - val_loss: 0.0775 - val_accuracy: 0.9809\n",
      "Epoch 13/75\n",
      "415/415 [==============================] - 59s 141ms/step - loss: 0.0628 - accuracy: 0.9839 - val_loss: 0.0784 - val_accuracy: 0.9821\n",
      "Epoch 14/75\n",
      "415/415 [==============================] - 59s 143ms/step - loss: 0.0579 - accuracy: 0.9855 - val_loss: 0.0708 - val_accuracy: 0.9840\n",
      "Epoch 15/75\n",
      "415/415 [==============================] - 58s 139ms/step - loss: 0.0574 - accuracy: 0.9862 - val_loss: 0.0643 - val_accuracy: 0.9849\n",
      "Epoch 16/75\n",
      "415/415 [==============================] - 58s 140ms/step - loss: 0.0546 - accuracy: 0.9864 - val_loss: 0.0719 - val_accuracy: 0.9830\n",
      "Epoch 17/75\n",
      "415/415 [==============================] - 58s 141ms/step - loss: 0.0523 - accuracy: 0.9870 - val_loss: 0.0695 - val_accuracy: 0.9837\n",
      "Epoch 18/75\n",
      "415/415 [==============================] - 58s 140ms/step - loss: 0.0516 - accuracy: 0.9871 - val_loss: 0.0646 - val_accuracy: 0.9845\n",
      "Epoch 19/75\n",
      "415/415 [==============================] - 56s 136ms/step - loss: 0.0485 - accuracy: 0.9883 - val_loss: 0.0670 - val_accuracy: 0.9852\n",
      "Epoch 20/75\n",
      "415/415 [==============================] - 55s 132ms/step - loss: 0.0463 - accuracy: 0.9891 - val_loss: 0.0660 - val_accuracy: 0.9855\n",
      "Epoch 21/75\n",
      "415/415 [==============================] - 54s 130ms/step - loss: 0.0432 - accuracy: 0.9895 - val_loss: 0.0680 - val_accuracy: 0.9856\n",
      "Epoch 22/75\n",
      "415/415 [==============================] - 55s 133ms/step - loss: 0.0436 - accuracy: 0.9896 - val_loss: 0.0697 - val_accuracy: 0.9858\n",
      "Epoch 23/75\n",
      "415/415 [==============================] - 53s 129ms/step - loss: 0.0419 - accuracy: 0.9899 - val_loss: 0.0635 - val_accuracy: 0.9856\n",
      "Epoch 24/75\n",
      "415/415 [==============================] - 56s 134ms/step - loss: 0.0399 - accuracy: 0.9912 - val_loss: 0.0701 - val_accuracy: 0.9843\n",
      "Epoch 25/75\n",
      "415/415 [==============================] - 54s 129ms/step - loss: 0.0397 - accuracy: 0.9906 - val_loss: 0.0652 - val_accuracy: 0.9862\n",
      "Epoch 26/75\n",
      "415/415 [==============================] - 55s 132ms/step - loss: 0.0360 - accuracy: 0.9922 - val_loss: 0.0700 - val_accuracy: 0.9865\n",
      "Epoch 27/75\n",
      "415/415 [==============================] - 53s 128ms/step - loss: 0.0361 - accuracy: 0.9915 - val_loss: 0.0691 - val_accuracy: 0.9856\n",
      "Epoch 28/75\n",
      "415/415 [==============================] - 53s 128ms/step - loss: 0.0347 - accuracy: 0.9921 - val_loss: 0.0683 - val_accuracy: 0.9853\n",
      "Epoch 29/75\n",
      "415/415 [==============================] - 53s 129ms/step - loss: 0.0339 - accuracy: 0.9929 - val_loss: 0.0703 - val_accuracy: 0.9856\n",
      "Epoch 30/75\n",
      "415/415 [==============================] - 53s 127ms/step - loss: 0.0344 - accuracy: 0.9922 - val_loss: 0.0668 - val_accuracy: 0.9854\n",
      "Epoch 31/75\n",
      "415/415 [==============================] - 470s 1s/step - loss: 0.0327 - accuracy: 0.9929 - val_loss: 0.0618 - val_accuracy: 0.9871\n",
      "Epoch 32/75\n",
      "415/415 [==============================] - 84s 202ms/step - loss: 0.0303 - accuracy: 0.9935 - val_loss: 0.0697 - val_accuracy: 0.9853\n",
      "Epoch 33/75\n",
      "415/415 [==============================] - 82s 198ms/step - loss: 0.0313 - accuracy: 0.9929 - val_loss: 0.0660 - val_accuracy: 0.9858\n",
      "Epoch 34/75\n",
      "415/415 [==============================] - 85s 205ms/step - loss: 0.0281 - accuracy: 0.9941 - val_loss: 0.0662 - val_accuracy: 0.9872\n",
      "Epoch 35/75\n",
      "415/415 [==============================] - 81s 196ms/step - loss: 0.0291 - accuracy: 0.9936 - val_loss: 0.0660 - val_accuracy: 0.9863\n",
      "Epoch 36/75\n",
      "415/415 [==============================] - 77s 185ms/step - loss: 0.0278 - accuracy: 0.9939 - val_loss: 0.0648 - val_accuracy: 0.9867\n",
      "Epoch 37/75\n",
      "415/415 [==============================] - 71s 170ms/step - loss: 0.0273 - accuracy: 0.9941 - val_loss: 0.0661 - val_accuracy: 0.9870\n",
      "Epoch 38/75\n",
      "415/415 [==============================] - 72s 173ms/step - loss: 0.0267 - accuracy: 0.9941 - val_loss: 0.0638 - val_accuracy: 0.9873\n",
      "Epoch 39/75\n",
      "415/415 [==============================] - 72s 173ms/step - loss: 0.0287 - accuracy: 0.9935 - val_loss: 0.0675 - val_accuracy: 0.9864\n",
      "Epoch 40/75\n",
      "415/415 [==============================] - 71s 171ms/step - loss: 0.0249 - accuracy: 0.9951 - val_loss: 0.0640 - val_accuracy: 0.9869\n",
      "Epoch 41/75\n",
      "415/415 [==============================] - 72s 175ms/step - loss: 0.0238 - accuracy: 0.9953 - val_loss: 0.0654 - val_accuracy: 0.9871\n",
      "Epoch 42/75\n",
      "415/415 [==============================] - 72s 175ms/step - loss: 0.0223 - accuracy: 0.9955 - val_loss: 0.0649 - val_accuracy: 0.9870\n",
      "Epoch 43/75\n",
      "415/415 [==============================] - 74s 177ms/step - loss: 0.0239 - accuracy: 0.9951 - val_loss: 0.0663 - val_accuracy: 0.9866\n",
      "Epoch 44/75\n",
      "415/415 [==============================] - 71s 171ms/step - loss: 0.0236 - accuracy: 0.9954 - val_loss: 0.0640 - val_accuracy: 0.9876\n",
      "Epoch 45/75\n",
      "415/415 [==============================] - 72s 172ms/step - loss: 0.0230 - accuracy: 0.9952 - val_loss: 0.0652 - val_accuracy: 0.9879\n",
      "Epoch 46/75\n",
      "415/415 [==============================] - 72s 173ms/step - loss: 0.0225 - accuracy: 0.9955 - val_loss: 0.0615 - val_accuracy: 0.9869\n",
      "Epoch 47/75\n",
      "415/415 [==============================] - 71s 171ms/step - loss: 0.0211 - accuracy: 0.9959 - val_loss: 0.0672 - val_accuracy: 0.9864\n",
      "Epoch 48/75\n",
      "415/415 [==============================] - 70s 169ms/step - loss: 0.0219 - accuracy: 0.9958 - val_loss: 0.0657 - val_accuracy: 0.9864\n",
      "Epoch 49/75\n",
      "415/415 [==============================] - 601s 1s/step - loss: 0.0224 - accuracy: 0.9955 - val_loss: 0.0656 - val_accuracy: 0.9869\n",
      "Epoch 50/75\n",
      "415/415 [==============================] - 59s 143ms/step - loss: 0.0217 - accuracy: 0.9957 - val_loss: 0.0663 - val_accuracy: 0.9870\n",
      "Epoch 51/75\n",
      "415/415 [==============================] - 66s 160ms/step - loss: 0.0187 - accuracy: 0.9966 - val_loss: 0.0657 - val_accuracy: 0.9886\n",
      "Epoch 52/75\n",
      "415/415 [==============================] - 66s 160ms/step - loss: 0.0205 - accuracy: 0.9961 - val_loss: 0.0685 - val_accuracy: 0.9879\n",
      "Epoch 53/75\n",
      "415/415 [==============================] - 69s 165ms/step - loss: 0.0200 - accuracy: 0.9964 - val_loss: 0.0719 - val_accuracy: 0.9865\n",
      "Epoch 54/75\n",
      "415/415 [==============================] - 69s 165ms/step - loss: 0.0196 - accuracy: 0.9964 - val_loss: 0.0731 - val_accuracy: 0.9872\n",
      "Epoch 55/75\n",
      "415/415 [==============================] - 67s 162ms/step - loss: 0.0195 - accuracy: 0.9964 - val_loss: 0.0631 - val_accuracy: 0.9876\n",
      "Epoch 56/75\n",
      "415/415 [==============================] - 68s 163ms/step - loss: 0.0186 - accuracy: 0.9964 - val_loss: 0.0752 - val_accuracy: 0.9857\n",
      "Epoch 57/75\n",
      "415/415 [==============================] - 68s 164ms/step - loss: 0.0194 - accuracy: 0.9962 - val_loss: 0.0679 - val_accuracy: 0.9869\n",
      "Epoch 58/75\n",
      "415/415 [==============================] - 66s 160ms/step - loss: 0.0191 - accuracy: 0.9963 - val_loss: 0.0718 - val_accuracy: 0.9875\n",
      "Epoch 59/75\n",
      "415/415 [==============================] - 68s 163ms/step - loss: 0.0195 - accuracy: 0.9959 - val_loss: 0.0661 - val_accuracy: 0.9870\n",
      "Epoch 60/75\n",
      "415/415 [==============================] - 66s 160ms/step - loss: 0.0180 - accuracy: 0.9967 - val_loss: 0.0747 - val_accuracy: 0.9876\n",
      "Epoch 61/75\n",
      "415/415 [==============================] - 68s 164ms/step - loss: 0.0164 - accuracy: 0.9971 - val_loss: 0.0763 - val_accuracy: 0.9864\n",
      "Epoch 62/75\n",
      "415/415 [==============================] - 67s 161ms/step - loss: 0.0177 - accuracy: 0.9965 - val_loss: 0.0709 - val_accuracy: 0.9876\n",
      "Epoch 63/75\n",
      "415/415 [==============================] - 68s 163ms/step - loss: 0.0150 - accuracy: 0.9974 - val_loss: 0.0760 - val_accuracy: 0.9873\n",
      "Epoch 64/75\n",
      "415/415 [==============================] - 69s 166ms/step - loss: 0.0165 - accuracy: 0.9970 - val_loss: 0.0708 - val_accuracy: 0.9876\n",
      "Epoch 65/75\n",
      "415/415 [==============================] - 66s 159ms/step - loss: 0.0171 - accuracy: 0.9969 - val_loss: 0.0725 - val_accuracy: 0.9873\n",
      "Epoch 66/75\n",
      "415/415 [==============================] - 66s 160ms/step - loss: 0.0167 - accuracy: 0.9969 - val_loss: 0.0660 - val_accuracy: 0.9881\n",
      "Epoch 67/75\n",
      "415/415 [==============================] - 63s 151ms/step - loss: 0.0157 - accuracy: 0.9973 - val_loss: 0.0671 - val_accuracy: 0.9885\n",
      "Epoch 68/75\n",
      "415/415 [==============================] - 65s 156ms/step - loss: 0.0150 - accuracy: 0.9974 - val_loss: 0.0717 - val_accuracy: 0.9873\n",
      "Epoch 69/75\n",
      "415/415 [==============================] - 60s 145ms/step - loss: 0.0150 - accuracy: 0.9973 - val_loss: 0.0707 - val_accuracy: 0.9872\n",
      "Epoch 70/75\n",
      "415/415 [==============================] - 59s 143ms/step - loss: 0.0171 - accuracy: 0.9965 - val_loss: 0.0740 - val_accuracy: 0.9876\n",
      "Epoch 71/75\n",
      "415/415 [==============================] - 61s 148ms/step - loss: 0.0166 - accuracy: 0.9971 - val_loss: 0.0795 - val_accuracy: 0.9859\n",
      "Epoch 72/75\n",
      "415/415 [==============================] - 59s 142ms/step - loss: 0.0166 - accuracy: 0.9966 - val_loss: 0.0703 - val_accuracy: 0.9870\n",
      "Epoch 73/75\n",
      "415/415 [==============================] - 59s 142ms/step - loss: 0.0147 - accuracy: 0.9977 - val_loss: 0.0704 - val_accuracy: 0.9876\n",
      "Epoch 74/75\n",
      "415/415 [==============================] - 59s 141ms/step - loss: 0.0147 - accuracy: 0.9971 - val_loss: 0.0714 - val_accuracy: 0.9873\n",
      "Epoch 75/75\n",
      "415/415 [==============================] - 62s 150ms/step - loss: 0.0148 - accuracy: 0.9972 - val_loss: 0.0732 - val_accuracy: 0.9864\n"
     ]
    }
   ],
   "source": [
    "history = model.fit(train_x, train_y, batch_size=128, epochs=75, verbose=1, validation_data=(test_x, test_y))"
   ]
  },
  {
   "cell_type": "code",
   "execution_count": 9,
   "metadata": {},
   "outputs": [
    {
     "data": {
      "image/png": "[encoded data removed]",
      "text/plain": [
       "<Figure size 800x300 with 1 Axes>"
      ]
     },
     "metadata": {},
     "output_type": "display_data"
    },
    {
     "data": {
      "image/png": "[encoded data removed]",
      "text/plain": [
       "<Figure size 800x300 with 1 Axes>"
      ]
     },
     "metadata": {},
     "output_type": "display_data"
    }
   ],
   "source": [
    "# summarize history for loss\n",
    "plt.figure(figsize=(8,3))\n",
    "plt.plot(history.history['loss'])\n",
    "plt.plot(history.history['val_loss'])\n",
    "plt.title('model loss')\n",
    "plt.ylabel('loss')\n",
    "plt.xlabel('epoch')\n",
    "plt.legend(['train', 'test'], loc='best')\n",
    "plt.show()\n",
    "\n",
    "# summarize history for accuracy\n",
    "plt.figure(figsize=(8,3))\n",
    "plt.plot(history.history['accuracy'])\n",
    "plt.plot(history.history['val_accuracy'])\n",
    "plt.title('model accuracy')\n",
    "plt.ylabel('accuracy')\n",
    "plt.xlabel('epoch')\n",
    "plt.legend(['train', 'test'], loc='best')\n",
    "plt.show()"
   ]
  },
  {
   "cell_type": "code",
   "execution_count": 10,
   "metadata": {},
   "outputs": [
    {
     "name": "stdout",
     "output_type": "stream",
     "text": [
      "415/415 [==============================] - 4s 10ms/step - loss: 0.0732 - accuracy: 0.9864\n",
      "Test Loss: 0.07315107434988022\n",
      "Test accuracy: 0.9864416718482971\n"
     ]
    }
   ],
   "source": [
    "# finding the loss and acuracy of the model\n",
    "score = model.evaluate(test_x, test_y)\n",
    "\n",
    "print('Test Loss:', score[0])\n",
    "print('Test accuracy:', score[1])"
   ]
  },
  {
   "cell_type": "code",
   "execution_count": 11,
   "metadata": {},
   "outputs": [
    {
     "name": "stderr",
     "output_type": "stream",
     "text": [
      "WARNING:absl:Found untraced functions such as _jit_compiled_convolution_op, _jit_compiled_convolution_op, _jit_compiled_convolution_op, _jit_compiled_convolution_op while saving (showing 4 of 4). These functions will not be directly callable after loading.\n"
     ]
    },
    {
     "name": "stdout",
     "output_type": "stream",
     "text": [
      "INFO:tensorflow:Assets written to: CNN_model_8\\assets\n"
     ]
    },
    {
     "name": "stderr",
     "output_type": "stream",
     "text": [
      "INFO:tensorflow:Assets written to: CNN_model_8\\assets\n"
     ]
    }
   ],
   "source": [
    "# save model\n",
    "model.save('CNN_model_8')"
   ]
  },
  {
   "attachments": {},
   "cell_type": "markdown",
   "metadata": {},
   "source": [
    "# confusion matrix"
   ]
  },
  {
   "cell_type": "code",
   "execution_count": 12,
   "metadata": {},
   "outputs": [
    {
     "name": "stdout",
     "output_type": "stream",
     "text": [
      "415/415 [==============================] - 4s 10ms/step\n"
     ]
    },
    {
     "data": {
      "text/plain": [
       "array([3, 1, 2, ..., 0, 3, 0], dtype=int64)"
      ]
     },
     "execution_count": 12,
     "metadata": {},
     "output_type": "execute_result"
    }
   ],
   "source": [
    "y_pred = model.predict(test_x)\n",
    "y_pred = np.argmax(y_pred, axis=1)\n",
    "y_pred"
   ]
  },
  {
   "cell_type": "code",
   "execution_count": 13,
   "metadata": {},
   "outputs": [
    {
     "name": "stdout",
     "output_type": "stream",
     "text": [
      "confusion matrix\n",
      "[[3191    8    8   21   16]\n",
      " [  11 3182    2    4    1]\n",
      " [  17    3 2965    4    3]\n",
      " [  26    8    3 2790    8]\n",
      " [  26    0    2    9  968]]\n",
      "\n",
      "classification report\n",
      "              precision    recall  f1-score   support\n",
      "\n",
      "           N     0.9755    0.9837    0.9796      3244\n",
      "           L     0.9941    0.9944    0.9942      3200\n",
      "           R     0.9950    0.9910    0.9930      2992\n",
      "           V     0.9866    0.9841    0.9853      2835\n",
      "           A     0.9719    0.9632    0.9675      1005\n",
      "\n",
      "    accuracy                         0.9864     13276\n",
      "   macro avg     0.9846    0.9833    0.9839     13276\n",
      "weighted avg     0.9865    0.9864    0.9864     13276\n",
      "\n"
     ]
    }
   ],
   "source": [
    "y_true = test[440]\n",
    "\n",
    "from sklearn.metrics import confusion_matrix, classification_report\n",
    "\n",
    "cm = confusion_matrix(y_true, y_pred)\n",
    "print('confusion matrix')\n",
    "print(cm)\n",
    "print('\\nclassification report')\n",
    "report = classification_report(y_true, y_pred, target_names=['N', 'L', 'R', 'V', 'A'], digits=4)\n",
    "print(report )\n",
    "\n",
    "def report_to_df(report):\n",
    "    report = [x.split(' ') for x in report.split('\\n')]\n",
    "    header = ['Class Name']+[x for x in report[0] if x!='']\n",
    "    values = []\n",
    "    for row in report[1:-5]:\n",
    "        row = [value for value in row if value!='']\n",
    "        if row!=[]:\n",
    "            values.append(row)\n",
    "    df = pd.DataFrame(data = values, columns = header)\n",
    "    return df\n",
    "report = report_to_df(report)\n",
    "\n",
    "# report.to_csv('classification report.csv', index=True)"
   ]
  }
 ],
 "metadata": {
  "kernelspec": {
   "display_name": "cenv1",
   "language": "python",
   "name": "python3"
  },
  "language_info": {
   "codemirror_mode": {
    "name": "ipython",
    "version": 3
   },
   "file_extension": ".py",
   "mimetype": "text/x-python",
   "name": "python",
   "nbconvert_exporter": "python",
   "pygments_lexer": "ipython3",
   "version": "3.10.9"
  },
  "orig_nbformat": 4
 },
 "nbformat": 4,
 "nbformat_minor": 2
}
