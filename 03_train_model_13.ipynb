{
 "cells": [
  {
   "attachments": {},
   "cell_type": "markdown",
   "metadata": {},
   "source": [
    "# Initialize"
   ]
  },
  {
   "cell_type": "code",
   "execution_count": 1,
   "metadata": {},
   "outputs": [],
   "source": [
    "import numpy as np\n",
    "import pandas as pd\n",
    "import matplotlib.pyplot as plt\n",
    "\n",
    "from keras.utils.np_utils import to_categorical\n",
    "from keras.models import Sequential\n",
    "from keras.layers import Conv1D, AvgPool1D, Flatten, Dense, Dropout, Softmax\n",
    "from keras import regularizers\n",
    "from keras.optimizers import Adam \n"
   ]
  },
  {
   "attachments": {},
   "cell_type": "markdown",
   "metadata": {},
   "source": [
    "# Load dataset"
   ]
  },
  {
   "cell_type": "code",
   "execution_count": 2,
   "metadata": {},
   "outputs": [
    {
     "name": "stdout",
     "output_type": "stream",
     "text": [
      "train_data :  (53102, 441)\n",
      "test_data  :  (13276, 441)\n"
     ]
    }
   ],
   "source": [
    "train = pd.read_csv('./data/0.8_train.csv', header=None)\n",
    "test = pd.read_csv('./data/0.2_test.csv', header=None)\n",
    "\n",
    "print(\"train_data : \", np.shape(train))\n",
    "print(\"test_data  : \", np.shape(test))"
   ]
  },
  {
   "cell_type": "code",
   "execution_count": 3,
   "metadata": {},
   "outputs": [
    {
     "name": "stdout",
     "output_type": "stream",
     "text": [
      "data train per class\n",
      "0.0    13152\n",
      "1.0    12938\n",
      "2.0    11508\n",
      "3.0    11421\n",
      "4.0     4083\n",
      "Name: 440, dtype: int64\n",
      "---------------------------------\n",
      "data test per class\n",
      "0.0    3244\n",
      "1.0    3200\n",
      "2.0    2992\n",
      "3.0    2835\n",
      "4.0    1005\n",
      "Name: 440, dtype: int64\n"
     ]
    }
   ],
   "source": [
    "# 0.0 Normal beat\n",
    "# 1.0 LBBB beat\n",
    "# 2.0 RBBB beat\n",
    "# 3.0 PVC beat\n",
    "# 4.0 PAC beat\n",
    "\n",
    "print('data train per class')\n",
    "print(train[440].value_counts())\n",
    "print('---------------------------------')\n",
    "print('data test per class')\n",
    "print(test[440].value_counts())"
   ]
  },
  {
   "cell_type": "code",
   "execution_count": 4,
   "metadata": {},
   "outputs": [
    {
     "name": "stdout",
     "output_type": "stream",
     "text": [
      "(53102, 5) (13276, 5)\n"
     ]
    }
   ],
   "source": [
    "target_train=train[train.shape[1]-1]\n",
    "target_test=test[test.shape[1]-1]\n",
    "train_y=to_categorical(target_train)\n",
    "test_y=to_categorical(target_test)\n",
    "print(np.shape(train_y), np.shape(test_y))"
   ]
  },
  {
   "cell_type": "code",
   "execution_count": 5,
   "metadata": {},
   "outputs": [
    {
     "name": "stdout",
     "output_type": "stream",
     "text": [
      "(53102, 440, 1) (13276, 440, 1)\n"
     ]
    }
   ],
   "source": [
    "train_x = train.iloc[:,:train.shape[1]-1].values\n",
    "test_x = test.iloc[:,:test.shape[1]-1].values\n",
    "train_x = train_x.reshape(len(train_x), train_x.shape[1],1)\n",
    "test_x = test_x.reshape(len(test_x), test_x.shape[1],1)\n",
    "print(np.shape(train_x), np.shape(test_x))"
   ]
  },
  {
   "attachments": {},
   "cell_type": "markdown",
   "metadata": {},
   "source": [
    "# Model architecture"
   ]
  },
  {
   "cell_type": "code",
   "execution_count": 6,
   "metadata": {},
   "outputs": [
    {
     "name": "stdout",
     "output_type": "stream",
     "text": [
      "Model: \"sequential\"\n",
      "_________________________________________________________________\n",
      " Layer (type)                Output Shape              Param #   \n",
      "=================================================================\n",
      " conv1d (Conv1D)             (None, 440, 16)           224       \n",
      "                                                                 \n",
      " average_pooling1d (AverageP  (None, 219, 16)          0         \n",
      " ooling1D)                                                       \n",
      "                                                                 \n",
      " conv1d_1 (Conv1D)           (None, 219, 32)           7712      \n",
      "                                                                 \n",
      " average_pooling1d_1 (Averag  (None, 109, 32)          0         \n",
      " ePooling1D)                                                     \n",
      "                                                                 \n",
      " conv1d_2 (Conv1D)           (None, 109, 64)           34880     \n",
      "                                                                 \n",
      " average_pooling1d_2 (Averag  (None, 54, 64)           0         \n",
      " ePooling1D)                                                     \n",
      "                                                                 \n",
      " conv1d_3 (Conv1D)           (None, 54, 128)           155776    \n",
      "                                                                 \n",
      " average_pooling1d_3 (Averag  (None, 26, 128)          0         \n",
      " ePooling1D)                                                     \n",
      "                                                                 \n",
      " flatten (Flatten)           (None, 3328)              0         \n",
      "                                                                 \n",
      " dropout (Dropout)           (None, 3328)              0         \n",
      "                                                                 \n",
      " dense (Dense)               (None, 35)                116515    \n",
      "                                                                 \n",
      " dense_1 (Dense)             (None, 5)                 180       \n",
      "                                                                 \n",
      " softmax (Softmax)           (None, 5)                 0         \n",
      "                                                                 \n",
      "=================================================================\n",
      "Total params: 315,287\n",
      "Trainable params: 315,287\n",
      "Non-trainable params: 0\n",
      "_________________________________________________________________\n"
     ]
    }
   ],
   "source": [
    "# Instanciate an empty model\n",
    "model = Sequential()\n",
    "\n",
    "model.add(Conv1D(filters=16, kernel_size=13, padding='same', activation='relu',input_shape=(440, 1)))\n",
    "model.add(AvgPool1D(pool_size=3, strides=2))\n",
    "model.add(Conv1D(filters=32, kernel_size=15, padding='same', activation='relu'))\n",
    "model.add(AvgPool1D(pool_size=3, strides=2))\n",
    "model.add(Conv1D(filters=64, kernel_size=17, padding='same', activation='relu'))\n",
    "model.add(AvgPool1D(pool_size=3, strides=2))\n",
    "model.add(Conv1D(filters=128, kernel_size=19, padding='same', activation='relu'))\n",
    "model.add(AvgPool1D(pool_size=3, strides=2))\n",
    "model.add(Flatten())\n",
    "model.add(Dropout(0.5))\n",
    "model.add(Dense(35,kernel_regularizer=regularizers.l2(0.0001), bias_regularizer=regularizers.l2(0.0001)))\n",
    "model.add(Dense(5,kernel_regularizer=regularizers.l2(0.0001), bias_regularizer=regularizers.l2(0.0001)))\n",
    "model.add(Softmax())\n",
    "\n",
    "model.summary()"
   ]
  },
  {
   "attachments": {},
   "cell_type": "markdown",
   "metadata": {},
   "source": [
    "# learning_rate 0.0015, batch_size 64, epoch 50"
   ]
  },
  {
   "cell_type": "code",
   "execution_count": 7,
   "metadata": {},
   "outputs": [],
   "source": [
    "model.compile(loss='categorical_crossentropy', optimizer=Adam(learning_rate=0.0015), metrics=['accuracy'])"
   ]
  },
  {
   "cell_type": "code",
   "execution_count": 8,
   "metadata": {},
   "outputs": [
    {
     "name": "stdout",
     "output_type": "stream",
     "text": [
      "Epoch 1/50\n",
      "830/830 [==============================] - 109s 129ms/step - loss: 0.3624 - accuracy: 0.8797 - val_loss: 0.1459 - val_accuracy: 0.9603\n",
      "Epoch 2/50\n",
      "830/830 [==============================] - 95s 114ms/step - loss: 0.1486 - accuracy: 0.9590 - val_loss: 0.1046 - val_accuracy: 0.9752\n",
      "Epoch 3/50\n",
      "830/830 [==============================] - 93s 112ms/step - loss: 0.1188 - accuracy: 0.9684 - val_loss: 0.1033 - val_accuracy: 0.9737\n",
      "Epoch 4/50\n",
      "830/830 [==============================] - 89s 107ms/step - loss: 0.1058 - accuracy: 0.9724 - val_loss: 0.0889 - val_accuracy: 0.9786\n",
      "Epoch 5/50\n",
      "830/830 [==============================] - 92s 111ms/step - loss: 0.0975 - accuracy: 0.9750 - val_loss: 0.0849 - val_accuracy: 0.9818\n",
      "Epoch 6/50\n",
      "830/830 [==============================] - 95s 115ms/step - loss: 0.0872 - accuracy: 0.9784 - val_loss: 0.0932 - val_accuracy: 0.9774\n",
      "Epoch 7/50\n",
      "830/830 [==============================] - 91s 110ms/step - loss: 0.0825 - accuracy: 0.9799 - val_loss: 0.0888 - val_accuracy: 0.9813\n",
      "Epoch 8/50\n",
      "830/830 [==============================] - 90s 109ms/step - loss: 0.0762 - accuracy: 0.9818 - val_loss: 0.0786 - val_accuracy: 0.9815\n",
      "Epoch 9/50\n",
      "830/830 [==============================] - 89s 107ms/step - loss: 0.0699 - accuracy: 0.9835 - val_loss: 0.0713 - val_accuracy: 0.9851\n",
      "Epoch 10/50\n",
      "830/830 [==============================] - 89s 108ms/step - loss: 0.0670 - accuracy: 0.9843 - val_loss: 0.0768 - val_accuracy: 0.9834\n",
      "Epoch 11/50\n",
      "830/830 [==============================] - 90s 108ms/step - loss: 0.0634 - accuracy: 0.9857 - val_loss: 0.0742 - val_accuracy: 0.9843\n",
      "Epoch 12/50\n",
      "830/830 [==============================] - 89s 108ms/step - loss: 0.0583 - accuracy: 0.9870 - val_loss: 0.0739 - val_accuracy: 0.9827\n",
      "Epoch 13/50\n",
      "830/830 [==============================] - 92s 110ms/step - loss: 0.0562 - accuracy: 0.9871 - val_loss: 0.0702 - val_accuracy: 0.9851\n",
      "Epoch 14/50\n",
      "830/830 [==============================] - 95s 115ms/step - loss: 0.0538 - accuracy: 0.9880 - val_loss: 0.0740 - val_accuracy: 0.9850\n",
      "Epoch 15/50\n",
      "830/830 [==============================] - 89s 107ms/step - loss: 0.0470 - accuracy: 0.9892 - val_loss: 0.0658 - val_accuracy: 0.9867\n",
      "Epoch 16/50\n",
      "830/830 [==============================] - 90s 108ms/step - loss: 0.0475 - accuracy: 0.9897 - val_loss: 0.0668 - val_accuracy: 0.9870\n",
      "Epoch 17/50\n",
      "830/830 [==============================] - 92s 111ms/step - loss: 0.0414 - accuracy: 0.9907 - val_loss: 0.0723 - val_accuracy: 0.9850\n",
      "Epoch 18/50\n",
      "830/830 [==============================] - 90s 109ms/step - loss: 0.0432 - accuracy: 0.9898 - val_loss: 0.0728 - val_accuracy: 0.9852\n",
      "Epoch 19/50\n",
      "830/830 [==============================] - 91s 109ms/step - loss: 0.0420 - accuracy: 0.9903 - val_loss: 0.0648 - val_accuracy: 0.9858\n",
      "Epoch 20/50\n",
      "830/830 [==============================] - 91s 110ms/step - loss: 0.0378 - accuracy: 0.9917 - val_loss: 0.0760 - val_accuracy: 0.9853\n",
      "Epoch 21/50\n",
      "830/830 [==============================] - 94s 114ms/step - loss: 0.0343 - accuracy: 0.9926 - val_loss: 0.0622 - val_accuracy: 0.9866\n",
      "Epoch 22/50\n",
      "830/830 [==============================] - 98s 118ms/step - loss: 0.0360 - accuracy: 0.9924 - val_loss: 0.0593 - val_accuracy: 0.9884\n",
      "Epoch 23/50\n",
      "830/830 [==============================] - 96s 116ms/step - loss: 0.0323 - accuracy: 0.9929 - val_loss: 0.0672 - val_accuracy: 0.9862\n",
      "Epoch 24/50\n",
      "830/830 [==============================] - 92s 110ms/step - loss: 0.0348 - accuracy: 0.9924 - val_loss: 0.0630 - val_accuracy: 0.9860\n",
      "Epoch 25/50\n",
      "830/830 [==============================] - 92s 111ms/step - loss: 0.0302 - accuracy: 0.9943 - val_loss: 0.0644 - val_accuracy: 0.9870\n",
      "Epoch 26/50\n",
      "830/830 [==============================] - 91s 109ms/step - loss: 0.0335 - accuracy: 0.9926 - val_loss: 0.0660 - val_accuracy: 0.9866\n",
      "Epoch 27/50\n",
      "830/830 [==============================] - 94s 114ms/step - loss: 0.0308 - accuracy: 0.9938 - val_loss: 0.0678 - val_accuracy: 0.9874\n",
      "Epoch 28/50\n",
      "830/830 [==============================] - 91s 110ms/step - loss: 0.0296 - accuracy: 0.9942 - val_loss: 0.0660 - val_accuracy: 0.9873\n",
      "Epoch 29/50\n",
      "830/830 [==============================] - 91s 110ms/step - loss: 0.0293 - accuracy: 0.9943 - val_loss: 0.0642 - val_accuracy: 0.9870\n",
      "Epoch 30/50\n",
      "830/830 [==============================] - 90s 108ms/step - loss: 0.0280 - accuracy: 0.9944 - val_loss: 0.0669 - val_accuracy: 0.9874\n",
      "Epoch 31/50\n",
      "830/830 [==============================] - 92s 111ms/step - loss: 0.0264 - accuracy: 0.9949 - val_loss: 0.0683 - val_accuracy: 0.9870\n",
      "Epoch 32/50\n",
      "830/830 [==============================] - 88s 107ms/step - loss: 0.0280 - accuracy: 0.9944 - val_loss: 0.0631 - val_accuracy: 0.9872\n",
      "Epoch 33/50\n",
      "830/830 [==============================] - 88s 106ms/step - loss: 0.0266 - accuracy: 0.9952 - val_loss: 0.0677 - val_accuracy: 0.9873\n",
      "Epoch 34/50\n",
      "830/830 [==============================] - 87s 105ms/step - loss: 0.0288 - accuracy: 0.9943 - val_loss: 0.0731 - val_accuracy: 0.9866\n",
      "Epoch 35/50\n",
      "830/830 [==============================] - 87s 105ms/step - loss: 0.0264 - accuracy: 0.9950 - val_loss: 0.0664 - val_accuracy: 0.9876\n",
      "Epoch 36/50\n",
      "830/830 [==============================] - 90s 109ms/step - loss: 0.0254 - accuracy: 0.9953 - val_loss: 0.0746 - val_accuracy: 0.9877\n",
      "Epoch 37/50\n",
      "830/830 [==============================] - 90s 108ms/step - loss: 0.0260 - accuracy: 0.9950 - val_loss: 0.0625 - val_accuracy: 0.9879\n",
      "Epoch 38/50\n",
      "830/830 [==============================] - 86s 104ms/step - loss: 0.0227 - accuracy: 0.9961 - val_loss: 0.0673 - val_accuracy: 0.9876\n",
      "Epoch 39/50\n",
      "830/830 [==============================] - 87s 105ms/step - loss: 0.0237 - accuracy: 0.9956 - val_loss: 0.0708 - val_accuracy: 0.9874\n",
      "Epoch 40/50\n",
      "830/830 [==============================] - 87s 105ms/step - loss: 0.0275 - accuracy: 0.9947 - val_loss: 0.0719 - val_accuracy: 0.9876\n",
      "Epoch 41/50\n",
      "830/830 [==============================] - 87s 105ms/step - loss: 0.0225 - accuracy: 0.9960 - val_loss: 0.0701 - val_accuracy: 0.9879\n",
      "Epoch 42/50\n",
      "830/830 [==============================] - 87s 105ms/step - loss: 0.0246 - accuracy: 0.9953 - val_loss: 0.0761 - val_accuracy: 0.9864\n",
      "Epoch 43/50\n",
      "830/830 [==============================] - 89s 107ms/step - loss: 0.0229 - accuracy: 0.9963 - val_loss: 0.0716 - val_accuracy: 0.9883\n",
      "Epoch 44/50\n",
      "830/830 [==============================] - 87s 105ms/step - loss: 0.0221 - accuracy: 0.9961 - val_loss: 0.0779 - val_accuracy: 0.9886\n",
      "Epoch 45/50\n",
      "830/830 [==============================] - 87s 105ms/step - loss: 0.0234 - accuracy: 0.9959 - val_loss: 0.0769 - val_accuracy: 0.9871\n",
      "Epoch 46/50\n",
      "830/830 [==============================] - 87s 105ms/step - loss: 0.0235 - accuracy: 0.9959 - val_loss: 0.0828 - val_accuracy: 0.9875\n",
      "Epoch 47/50\n",
      "830/830 [==============================] - 88s 105ms/step - loss: 0.0221 - accuracy: 0.9961 - val_loss: 0.0778 - val_accuracy: 0.9878\n",
      "Epoch 48/50\n",
      "830/830 [==============================] - 87s 105ms/step - loss: 0.0221 - accuracy: 0.9961 - val_loss: 0.0861 - val_accuracy: 0.9843\n",
      "Epoch 49/50\n",
      "830/830 [==============================] - 87s 105ms/step - loss: 0.0206 - accuracy: 0.9967 - val_loss: 0.0775 - val_accuracy: 0.9877\n",
      "Epoch 50/50\n",
      "830/830 [==============================] - 88s 106ms/step - loss: 0.0202 - accuracy: 0.9967 - val_loss: 0.0743 - val_accuracy: 0.9866\n"
     ]
    }
   ],
   "source": [
    "history = model.fit(train_x, train_y, batch_size=64, epochs=50, verbose=1, validation_data=(test_x, test_y))"
   ]
  },
  {
   "cell_type": "code",
   "execution_count": 9,
   "metadata": {},
   "outputs": [
    {
     "data": {
      "image/png": "[encoded data removed]",
      "text/plain": [
       "<Figure size 800x300 with 1 Axes>"
      ]
     },
     "metadata": {},
     "output_type": "display_data"
    },
    {
     "data": {
      "image/png": "[encoded data removed]",
      "text/plain": [
       "<Figure size 800x300 with 1 Axes>"
      ]
     },
     "metadata": {},
     "output_type": "display_data"
    }
   ],
   "source": [
    "# summarize history for loss\n",
    "plt.figure(figsize=(8,3))\n",
    "plt.plot(history.history['loss'])\n",
    "plt.plot(history.history['val_loss'])\n",
    "plt.title('model loss')\n",
    "plt.ylabel('loss')\n",
    "plt.xlabel('epoch')\n",
    "plt.legend(['train', 'test'], loc='best')\n",
    "plt.show()\n",
    "\n",
    "# summarize history for accuracy\n",
    "plt.figure(figsize=(8,3))\n",
    "plt.plot(history.history['accuracy'])\n",
    "plt.plot(history.history['val_accuracy'])\n",
    "plt.title('model accuracy')\n",
    "plt.ylabel('accuracy')\n",
    "plt.xlabel('epoch')\n",
    "plt.legend(['train', 'test'], loc='best')\n",
    "plt.show()"
   ]
  },
  {
   "cell_type": "code",
   "execution_count": 10,
   "metadata": {},
   "outputs": [
    {
     "name": "stdout",
     "output_type": "stream",
     "text": [
      "415/415 [==============================] - 6s 15ms/step - loss: 0.0743 - accuracy: 0.9866\n",
      "Test Loss: 0.07429026067256927\n",
      "Test accuracy: 0.9865923523902893\n"
     ]
    }
   ],
   "source": [
    "# finding the loss and acuracy of the model\n",
    "score = model.evaluate(test_x, test_y)\n",
    "\n",
    "print('Test Loss:', score[0])\n",
    "print('Test accuracy:', score[1])"
   ]
  },
  {
   "cell_type": "code",
   "execution_count": 11,
   "metadata": {},
   "outputs": [
    {
     "name": "stderr",
     "output_type": "stream",
     "text": [
      "WARNING:absl:Found untraced functions such as _jit_compiled_convolution_op, _jit_compiled_convolution_op, _jit_compiled_convolution_op, _jit_compiled_convolution_op while saving (showing 4 of 4). These functions will not be directly callable after loading.\n"
     ]
    },
    {
     "name": "stdout",
     "output_type": "stream",
     "text": [
      "INFO:tensorflow:Assets written to: CNN_model_13\\assets\n"
     ]
    },
    {
     "name": "stderr",
     "output_type": "stream",
     "text": [
      "INFO:tensorflow:Assets written to: CNN_model_13\\assets\n"
     ]
    }
   ],
   "source": [
    "# save model\n",
    "model.save('CNN_model_13')"
   ]
  },
  {
   "attachments": {},
   "cell_type": "markdown",
   "metadata": {},
   "source": [
    "# confusion matrix"
   ]
  },
  {
   "cell_type": "code",
   "execution_count": 12,
   "metadata": {},
   "outputs": [
    {
     "name": "stdout",
     "output_type": "stream",
     "text": [
      "415/415 [==============================] - 6s 15ms/step\n"
     ]
    },
    {
     "data": {
      "text/plain": [
       "array([3, 1, 2, ..., 0, 3, 0], dtype=int64)"
      ]
     },
     "execution_count": 12,
     "metadata": {},
     "output_type": "execute_result"
    }
   ],
   "source": [
    "y_pred = model.predict(test_x)\n",
    "y_pred = np.argmax(y_pred, axis=1)\n",
    "y_pred"
   ]
  },
  {
   "cell_type": "code",
   "execution_count": 13,
   "metadata": {},
   "outputs": [
    {
     "name": "stdout",
     "output_type": "stream",
     "text": [
      "confusion matrix\n",
      "[[3194    5   10   18   17]\n",
      " [   8 3185    0    6    1]\n",
      " [  12    1 2974    4    1]\n",
      " [  40    6    0 2781    8]\n",
      " [  28    0    2   11  964]]\n",
      "\n",
      "classification report\n",
      "              precision    recall  f1-score   support\n",
      "\n",
      "           N     0.9732    0.9846    0.9789      3244\n",
      "           L     0.9962    0.9953    0.9958      3200\n",
      "           R     0.9960    0.9940    0.9950      2992\n",
      "           V     0.9862    0.9810    0.9836      2835\n",
      "           A     0.9728    0.9592    0.9659      1005\n",
      "\n",
      "    accuracy                         0.9866     13276\n",
      "   macro avg     0.9849    0.9828    0.9838     13276\n",
      "weighted avg     0.9866    0.9866    0.9866     13276\n",
      "\n"
     ]
    }
   ],
   "source": [
    "y_true = test[440]\n",
    "\n",
    "from sklearn.metrics import confusion_matrix, classification_report\n",
    "\n",
    "cm = confusion_matrix(y_true, y_pred)\n",
    "print('confusion matrix')\n",
    "print(cm)\n",
    "print('\\nclassification report')\n",
    "report = classification_report(y_true, y_pred, target_names=['N', 'L', 'R', 'V', 'A'], digits=4)\n",
    "print(report )\n",
    "\n",
    "def report_to_df(report):\n",
    "    report = [x.split(' ') for x in report.split('\\n')]\n",
    "    header = ['Class Name']+[x for x in report[0] if x!='']\n",
    "    values = []\n",
    "    for row in report[1:-5]:\n",
    "        row = [value for value in row if value!='']\n",
    "        if row!=[]:\n",
    "            values.append(row)\n",
    "    df = pd.DataFrame(data = values, columns = header)\n",
    "    return df\n",
    "report = report_to_df(report)\n",
    "\n",
    "# report.to_csv('classification report.csv', index=True)"
   ]
  }
 ],
 "metadata": {
  "kernelspec": {
   "display_name": "cenv1",
   "language": "python",
   "name": "python3"
  },
  "language_info": {
   "codemirror_mode": {
    "name": "ipython",
    "version": 3
   },
   "file_extension": ".py",
   "mimetype": "text/x-python",
   "name": "python",
   "nbconvert_exporter": "python",
   "pygments_lexer": "ipython3",
   "version": "3.10.9"
  },
  "orig_nbformat": 4
 },
 "nbformat": 4,
 "nbformat_minor": 2
}
