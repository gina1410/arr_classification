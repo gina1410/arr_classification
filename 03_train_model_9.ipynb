{
 "cells": [
  {
   "attachments": {},
   "cell_type": "markdown",
   "metadata": {},
   "source": [
    "# Initialize"
   ]
  },
  {
   "cell_type": "code",
   "execution_count": 1,
   "metadata": {},
   "outputs": [],
   "source": [
    "import numpy as np\n",
    "import pandas as pd\n",
    "import matplotlib.pyplot as plt\n",
    "\n",
    "from keras.utils.np_utils import to_categorical\n",
    "from keras.models import Sequential\n",
    "from keras.layers import Conv1D, AvgPool1D, Flatten, Dense, Dropout, Softmax\n",
    "from keras import regularizers\n",
    "from keras.optimizers import Adam \n"
   ]
  },
  {
   "attachments": {},
   "cell_type": "markdown",
   "metadata": {},
   "source": [
    "# Load dataset"
   ]
  },
  {
   "cell_type": "code",
   "execution_count": 2,
   "metadata": {},
   "outputs": [
    {
     "name": "stdout",
     "output_type": "stream",
     "text": [
      "train_data :  (53102, 441)\n",
      "test_data  :  (13276, 441)\n"
     ]
    }
   ],
   "source": [
    "train = pd.read_csv('./data/0.8_train.csv', header=None)\n",
    "test = pd.read_csv('./data/0.2_test.csv', header=None)\n",
    "\n",
    "print(\"train_data : \", np.shape(train))\n",
    "print(\"test_data  : \", np.shape(test))"
   ]
  },
  {
   "cell_type": "code",
   "execution_count": 3,
   "metadata": {},
   "outputs": [
    {
     "name": "stdout",
     "output_type": "stream",
     "text": [
      "data train per class\n",
      "0.0    13152\n",
      "1.0    12938\n",
      "2.0    11508\n",
      "3.0    11421\n",
      "4.0     4083\n",
      "Name: 440, dtype: int64\n",
      "---------------------------------\n",
      "data test per class\n",
      "0.0    3244\n",
      "1.0    3200\n",
      "2.0    2992\n",
      "3.0    2835\n",
      "4.0    1005\n",
      "Name: 440, dtype: int64\n"
     ]
    }
   ],
   "source": [
    "# 0.0 Normal beat\n",
    "# 1.0 LBBB beat\n",
    "# 2.0 RBBB beat\n",
    "# 3.0 PVC beat\n",
    "# 4.0 PAC beat\n",
    "\n",
    "print('data train per class')\n",
    "print(train[440].value_counts())\n",
    "print('---------------------------------')\n",
    "print('data test per class')\n",
    "print(test[440].value_counts())"
   ]
  },
  {
   "cell_type": "code",
   "execution_count": 4,
   "metadata": {},
   "outputs": [
    {
     "name": "stdout",
     "output_type": "stream",
     "text": [
      "(53102, 5) (13276, 5)\n"
     ]
    }
   ],
   "source": [
    "target_train=train[train.shape[1]-1]\n",
    "target_test=test[test.shape[1]-1]\n",
    "train_y=to_categorical(target_train)\n",
    "test_y=to_categorical(target_test)\n",
    "print(np.shape(train_y), np.shape(test_y))"
   ]
  },
  {
   "cell_type": "code",
   "execution_count": 5,
   "metadata": {},
   "outputs": [
    {
     "name": "stdout",
     "output_type": "stream",
     "text": [
      "(53102, 440, 1) (13276, 440, 1)\n"
     ]
    }
   ],
   "source": [
    "train_x = train.iloc[:,:train.shape[1]-1].values\n",
    "test_x = test.iloc[:,:test.shape[1]-1].values\n",
    "train_x = train_x.reshape(len(train_x), train_x.shape[1],1)\n",
    "test_x = test_x.reshape(len(test_x), test_x.shape[1],1)\n",
    "print(np.shape(train_x), np.shape(test_x))"
   ]
  },
  {
   "attachments": {},
   "cell_type": "markdown",
   "metadata": {},
   "source": [
    "# Model architecture"
   ]
  },
  {
   "cell_type": "code",
   "execution_count": 6,
   "metadata": {},
   "outputs": [
    {
     "name": "stdout",
     "output_type": "stream",
     "text": [
      "Model: \"sequential\"\n",
      "_________________________________________________________________\n",
      " Layer (type)                Output Shape              Param #   \n",
      "=================================================================\n",
      " conv1d (Conv1D)             (None, 440, 16)           224       \n",
      "                                                                 \n",
      " average_pooling1d (AverageP  (None, 219, 16)          0         \n",
      " ooling1D)                                                       \n",
      "                                                                 \n",
      " conv1d_1 (Conv1D)           (None, 219, 32)           7712      \n",
      "                                                                 \n",
      " average_pooling1d_1 (Averag  (None, 109, 32)          0         \n",
      " ePooling1D)                                                     \n",
      "                                                                 \n",
      " conv1d_2 (Conv1D)           (None, 109, 64)           34880     \n",
      "                                                                 \n",
      " average_pooling1d_2 (Averag  (None, 54, 64)           0         \n",
      " ePooling1D)                                                     \n",
      "                                                                 \n",
      " conv1d_3 (Conv1D)           (None, 54, 128)           155776    \n",
      "                                                                 \n",
      " average_pooling1d_3 (Averag  (None, 26, 128)          0         \n",
      " ePooling1D)                                                     \n",
      "                                                                 \n",
      " flatten (Flatten)           (None, 3328)              0         \n",
      "                                                                 \n",
      " dropout (Dropout)           (None, 3328)              0         \n",
      "                                                                 \n",
      " dense (Dense)               (None, 35)                116515    \n",
      "                                                                 \n",
      " dense_1 (Dense)             (None, 5)                 180       \n",
      "                                                                 \n",
      " softmax (Softmax)           (None, 5)                 0         \n",
      "                                                                 \n",
      "=================================================================\n",
      "Total params: 315,287\n",
      "Trainable params: 315,287\n",
      "Non-trainable params: 0\n",
      "_________________________________________________________________\n"
     ]
    }
   ],
   "source": [
    "# Instanciate an empty model\n",
    "model = Sequential()\n",
    "\n",
    "model.add(Conv1D(filters=16, kernel_size=13, padding='same', activation='relu',input_shape=(440, 1)))\n",
    "model.add(AvgPool1D(pool_size=3, strides=2))\n",
    "model.add(Conv1D(filters=32, kernel_size=15, padding='same', activation='relu'))\n",
    "model.add(AvgPool1D(pool_size=3, strides=2))\n",
    "model.add(Conv1D(filters=64, kernel_size=17, padding='same', activation='relu'))\n",
    "model.add(AvgPool1D(pool_size=3, strides=2))\n",
    "model.add(Conv1D(filters=128, kernel_size=19, padding='same', activation='relu'))\n",
    "model.add(AvgPool1D(pool_size=3, strides=2))\n",
    "model.add(Flatten())\n",
    "model.add(Dropout(0.5))\n",
    "model.add(Dense(35,kernel_regularizer=regularizers.l2(0.0001), bias_regularizer=regularizers.l2(0.0001)))\n",
    "model.add(Dense(5,kernel_regularizer=regularizers.l2(0.0001), bias_regularizer=regularizers.l2(0.0001)))\n",
    "model.add(Softmax())\n",
    "\n",
    "model.summary()"
   ]
  },
  {
   "attachments": {},
   "cell_type": "markdown",
   "metadata": {},
   "source": [
    "# learning_rate 1e-3, batch_size 128, epoch 100"
   ]
  },
  {
   "cell_type": "code",
   "execution_count": 7,
   "metadata": {},
   "outputs": [],
   "source": [
    "model.compile(loss='categorical_crossentropy', optimizer=Adam(learning_rate=1e-3), metrics=['accuracy'])"
   ]
  },
  {
   "cell_type": "code",
   "execution_count": 8,
   "metadata": {},
   "outputs": [
    {
     "name": "stdout",
     "output_type": "stream",
     "text": [
      "Epoch 1/100\n",
      "415/415 [==============================] - 100s 237ms/step - loss: 0.4985 - accuracy: 0.8250 - val_loss: 0.2199 - val_accuracy: 0.9328\n",
      "Epoch 2/100\n",
      "415/415 [==============================] - 100s 240ms/step - loss: 0.1952 - accuracy: 0.9413 - val_loss: 0.1430 - val_accuracy: 0.9578\n",
      "Epoch 3/100\n",
      "415/415 [==============================] - 102s 247ms/step - loss: 0.1419 - accuracy: 0.9589 - val_loss: 0.1104 - val_accuracy: 0.9690\n",
      "Epoch 4/100\n",
      "415/415 [==============================] - 100s 241ms/step - loss: 0.1188 - accuracy: 0.9665 - val_loss: 0.0981 - val_accuracy: 0.9721\n",
      "Epoch 5/100\n",
      "415/415 [==============================] - 110s 264ms/step - loss: 0.1037 - accuracy: 0.9703 - val_loss: 0.0895 - val_accuracy: 0.9772\n",
      "Epoch 6/100\n",
      "415/415 [==============================] - 92s 223ms/step - loss: 0.0936 - accuracy: 0.9740 - val_loss: 0.0846 - val_accuracy: 0.9796\n",
      "Epoch 7/100\n",
      "415/415 [==============================] - 95s 228ms/step - loss: 0.0884 - accuracy: 0.9762 - val_loss: 0.0844 - val_accuracy: 0.9781\n",
      "Epoch 8/100\n",
      "415/415 [==============================] - 88s 212ms/step - loss: 0.0811 - accuracy: 0.9779 - val_loss: 0.0726 - val_accuracy: 0.9815\n",
      "Epoch 9/100\n",
      "415/415 [==============================] - 90s 217ms/step - loss: 0.0773 - accuracy: 0.9788 - val_loss: 0.0748 - val_accuracy: 0.9818\n",
      "Epoch 10/100\n",
      "415/415 [==============================] - 90s 216ms/step - loss: 0.0730 - accuracy: 0.9805 - val_loss: 0.0784 - val_accuracy: 0.9808\n",
      "Epoch 11/100\n",
      "415/415 [==============================] - 91s 220ms/step - loss: 0.0697 - accuracy: 0.9815 - val_loss: 0.0721 - val_accuracy: 0.9834\n",
      "Epoch 12/100\n",
      "415/415 [==============================] - 97s 233ms/step - loss: 0.0660 - accuracy: 0.9829 - val_loss: 0.0714 - val_accuracy: 0.9826\n",
      "Epoch 13/100\n",
      "415/415 [==============================] - 90s 216ms/step - loss: 0.0608 - accuracy: 0.9839 - val_loss: 0.0670 - val_accuracy: 0.9852\n",
      "Epoch 14/100\n",
      "415/415 [==============================] - 87s 209ms/step - loss: 0.0607 - accuracy: 0.9851 - val_loss: 0.0708 - val_accuracy: 0.9843\n",
      "Epoch 15/100\n",
      "415/415 [==============================] - 88s 211ms/step - loss: 0.0591 - accuracy: 0.9847 - val_loss: 0.0708 - val_accuracy: 0.9829\n",
      "Epoch 16/100\n",
      "415/415 [==============================] - 85s 205ms/step - loss: 0.0545 - accuracy: 0.9861 - val_loss: 0.0652 - val_accuracy: 0.9843\n",
      "Epoch 17/100\n",
      "415/415 [==============================] - 84s 202ms/step - loss: 0.0528 - accuracy: 0.9863 - val_loss: 0.0729 - val_accuracy: 0.9828\n",
      "Epoch 18/100\n",
      "415/415 [==============================] - 77s 185ms/step - loss: 0.0516 - accuracy: 0.9867 - val_loss: 0.0677 - val_accuracy: 0.9848\n",
      "Epoch 19/100\n",
      "415/415 [==============================] - 78s 189ms/step - loss: 0.0492 - accuracy: 0.9878 - val_loss: 0.0695 - val_accuracy: 0.9853\n",
      "Epoch 20/100\n",
      "415/415 [==============================] - 79s 191ms/step - loss: 0.0461 - accuracy: 0.9889 - val_loss: 0.0642 - val_accuracy: 0.9852\n",
      "Epoch 21/100\n",
      "415/415 [==============================] - 78s 188ms/step - loss: 0.0438 - accuracy: 0.9895 - val_loss: 0.0665 - val_accuracy: 0.9854\n",
      "Epoch 22/100\n",
      "415/415 [==============================] - 78s 188ms/step - loss: 0.0435 - accuracy: 0.9898 - val_loss: 0.0626 - val_accuracy: 0.9861\n",
      "Epoch 23/100\n",
      "415/415 [==============================] - 79s 191ms/step - loss: 0.0413 - accuracy: 0.9897 - val_loss: 0.0649 - val_accuracy: 0.9858\n",
      "Epoch 24/100\n",
      "415/415 [==============================] - 76s 184ms/step - loss: 0.0414 - accuracy: 0.9904 - val_loss: 0.0661 - val_accuracy: 0.9862\n",
      "Epoch 25/100\n",
      "415/415 [==============================] - 77s 187ms/step - loss: 0.0401 - accuracy: 0.9905 - val_loss: 0.0649 - val_accuracy: 0.9855\n",
      "Epoch 26/100\n",
      "415/415 [==============================] - 78s 188ms/step - loss: 0.0372 - accuracy: 0.9915 - val_loss: 0.0611 - val_accuracy: 0.9864\n",
      "Epoch 27/100\n",
      "415/415 [==============================] - 75s 181ms/step - loss: 0.0368 - accuracy: 0.9912 - val_loss: 0.0722 - val_accuracy: 0.9857\n",
      "Epoch 28/100\n",
      "415/415 [==============================] - 92s 222ms/step - loss: 0.0357 - accuracy: 0.9921 - val_loss: 0.0718 - val_accuracy: 0.9846\n",
      "Epoch 29/100\n",
      "415/415 [==============================] - 89s 215ms/step - loss: 0.0342 - accuracy: 0.9921 - val_loss: 0.0631 - val_accuracy: 0.9870\n",
      "Epoch 30/100\n",
      "415/415 [==============================] - 83s 200ms/step - loss: 0.0320 - accuracy: 0.9931 - val_loss: 0.0596 - val_accuracy: 0.9871\n",
      "Epoch 31/100\n",
      "415/415 [==============================] - 86s 208ms/step - loss: 0.0332 - accuracy: 0.9927 - val_loss: 0.0652 - val_accuracy: 0.9860\n",
      "Epoch 32/100\n",
      "415/415 [==============================] - 85s 204ms/step - loss: 0.0318 - accuracy: 0.9927 - val_loss: 0.0674 - val_accuracy: 0.9871\n",
      "Epoch 33/100\n",
      "415/415 [==============================] - 82s 197ms/step - loss: 0.0290 - accuracy: 0.9938 - val_loss: 0.0671 - val_accuracy: 0.9862\n",
      "Epoch 34/100\n",
      "415/415 [==============================] - 83s 201ms/step - loss: 0.0306 - accuracy: 0.9930 - val_loss: 0.0683 - val_accuracy: 0.9854\n",
      "Epoch 35/100\n",
      "415/415 [==============================] - 81s 195ms/step - loss: 0.0288 - accuracy: 0.9934 - val_loss: 0.0652 - val_accuracy: 0.9861\n",
      "Epoch 36/100\n",
      "415/415 [==============================] - 81s 195ms/step - loss: 0.0274 - accuracy: 0.9945 - val_loss: 0.0624 - val_accuracy: 0.9870\n",
      "Epoch 37/100\n",
      "415/415 [==============================] - 82s 198ms/step - loss: 0.0267 - accuracy: 0.9942 - val_loss: 0.0638 - val_accuracy: 0.9883\n",
      "Epoch 38/100\n",
      "415/415 [==============================] - 81s 196ms/step - loss: 0.0275 - accuracy: 0.9942 - val_loss: 0.0650 - val_accuracy: 0.9874\n",
      "Epoch 39/100\n",
      "415/415 [==============================] - 80s 193ms/step - loss: 0.0263 - accuracy: 0.9947 - val_loss: 0.0676 - val_accuracy: 0.9861\n",
      "Epoch 40/100\n",
      "415/415 [==============================] - 324s 782ms/step - loss: 0.0254 - accuracy: 0.9946 - val_loss: 0.0697 - val_accuracy: 0.9880\n",
      "Epoch 41/100\n",
      "415/415 [==============================] - 92s 222ms/step - loss: 0.0241 - accuracy: 0.9950 - val_loss: 0.0701 - val_accuracy: 0.9870\n",
      "Epoch 42/100\n",
      "415/415 [==============================] - 87s 209ms/step - loss: 0.0236 - accuracy: 0.9949 - val_loss: 0.0664 - val_accuracy: 0.9865\n",
      "Epoch 43/100\n",
      "415/415 [==============================] - 82s 197ms/step - loss: 0.0238 - accuracy: 0.9951 - val_loss: 0.0628 - val_accuracy: 0.9878\n",
      "Epoch 44/100\n",
      "415/415 [==============================] - 88s 213ms/step - loss: 0.0240 - accuracy: 0.9950 - val_loss: 0.0609 - val_accuracy: 0.9874\n",
      "Epoch 45/100\n",
      "415/415 [==============================] - 87s 210ms/step - loss: 0.0230 - accuracy: 0.9951 - val_loss: 0.0586 - val_accuracy: 0.9876\n",
      "Epoch 46/100\n",
      "415/415 [==============================] - 90s 218ms/step - loss: 0.0214 - accuracy: 0.9954 - val_loss: 0.0674 - val_accuracy: 0.9868\n",
      "Epoch 47/100\n",
      "415/415 [==============================] - 89s 215ms/step - loss: 0.0224 - accuracy: 0.9955 - val_loss: 0.0665 - val_accuracy: 0.9873\n",
      "Epoch 48/100\n",
      "415/415 [==============================] - 88s 212ms/step - loss: 0.0196 - accuracy: 0.9964 - val_loss: 0.0669 - val_accuracy: 0.9871\n",
      "Epoch 49/100\n",
      "415/415 [==============================] - 88s 212ms/step - loss: 0.0207 - accuracy: 0.9959 - val_loss: 0.0645 - val_accuracy: 0.9867\n",
      "Epoch 50/100\n",
      "415/415 [==============================] - 83s 201ms/step - loss: 0.0197 - accuracy: 0.9962 - val_loss: 0.0697 - val_accuracy: 0.9870\n",
      "Epoch 51/100\n",
      "415/415 [==============================] - 83s 200ms/step - loss: 0.0189 - accuracy: 0.9963 - val_loss: 0.0792 - val_accuracy: 0.9872\n",
      "Epoch 52/100\n",
      "415/415 [==============================] - 83s 201ms/step - loss: 0.0196 - accuracy: 0.9960 - val_loss: 0.0681 - val_accuracy: 0.9873\n",
      "Epoch 53/100\n",
      "415/415 [==============================] - 81s 196ms/step - loss: 0.0205 - accuracy: 0.9958 - val_loss: 0.0599 - val_accuracy: 0.9871\n",
      "Epoch 54/100\n",
      "415/415 [==============================] - 89s 215ms/step - loss: 0.0187 - accuracy: 0.9963 - val_loss: 0.0664 - val_accuracy: 0.9875\n",
      "Epoch 55/100\n",
      "415/415 [==============================] - 85s 206ms/step - loss: 0.0182 - accuracy: 0.9966 - val_loss: 0.0659 - val_accuracy: 0.9868\n",
      "Epoch 56/100\n",
      "415/415 [==============================] - 87s 211ms/step - loss: 0.0191 - accuracy: 0.9964 - val_loss: 0.0652 - val_accuracy: 0.9882\n",
      "Epoch 57/100\n",
      "415/415 [==============================] - 78s 188ms/step - loss: 0.0174 - accuracy: 0.9967 - val_loss: 0.0676 - val_accuracy: 0.9881\n",
      "Epoch 58/100\n",
      "415/415 [==============================] - 80s 193ms/step - loss: 0.0185 - accuracy: 0.9963 - val_loss: 0.0635 - val_accuracy: 0.9879\n",
      "Epoch 59/100\n",
      "415/415 [==============================] - 80s 192ms/step - loss: 0.0180 - accuracy: 0.9964 - val_loss: 0.0628 - val_accuracy: 0.9879\n",
      "Epoch 60/100\n",
      "415/415 [==============================] - 87s 209ms/step - loss: 0.0173 - accuracy: 0.9967 - val_loss: 0.0686 - val_accuracy: 0.9876\n",
      "Epoch 61/100\n",
      "415/415 [==============================] - 90s 216ms/step - loss: 0.0166 - accuracy: 0.9967 - val_loss: 0.0676 - val_accuracy: 0.9881\n",
      "Epoch 62/100\n",
      "415/415 [==============================] - 83s 199ms/step - loss: 0.0164 - accuracy: 0.9970 - val_loss: 0.0717 - val_accuracy: 0.9886\n",
      "Epoch 63/100\n",
      "415/415 [==============================] - 81s 195ms/step - loss: 0.0165 - accuracy: 0.9971 - val_loss: 0.0706 - val_accuracy: 0.9878\n",
      "Epoch 64/100\n",
      "415/415 [==============================] - 90s 216ms/step - loss: 0.0172 - accuracy: 0.9966 - val_loss: 0.0694 - val_accuracy: 0.9878\n",
      "Epoch 65/100\n",
      "415/415 [==============================] - 87s 210ms/step - loss: 0.0195 - accuracy: 0.9960 - val_loss: 0.0639 - val_accuracy: 0.9882\n",
      "Epoch 66/100\n",
      "415/415 [==============================] - 90s 216ms/step - loss: 0.0158 - accuracy: 0.9971 - val_loss: 0.0671 - val_accuracy: 0.9880\n",
      "Epoch 67/100\n",
      "415/415 [==============================] - 87s 208ms/step - loss: 0.0154 - accuracy: 0.9968 - val_loss: 0.0626 - val_accuracy: 0.9889\n",
      "Epoch 68/100\n",
      "415/415 [==============================] - 88s 211ms/step - loss: 0.0138 - accuracy: 0.9975 - val_loss: 0.0705 - val_accuracy: 0.9882\n",
      "Epoch 69/100\n",
      "415/415 [==============================] - 94s 226ms/step - loss: 0.0169 - accuracy: 0.9966 - val_loss: 0.0729 - val_accuracy: 0.9882\n",
      "Epoch 70/100\n",
      "415/415 [==============================] - 85s 204ms/step - loss: 0.0147 - accuracy: 0.9974 - val_loss: 0.0705 - val_accuracy: 0.9879\n",
      "Epoch 71/100\n",
      "415/415 [==============================] - 84s 203ms/step - loss: 0.0150 - accuracy: 0.9973 - val_loss: 0.0731 - val_accuracy: 0.9863\n",
      "Epoch 72/100\n",
      "415/415 [==============================] - 82s 199ms/step - loss: 0.0162 - accuracy: 0.9968 - val_loss: 0.0672 - val_accuracy: 0.9885\n",
      "Epoch 73/100\n",
      "415/415 [==============================] - 79s 190ms/step - loss: 0.0156 - accuracy: 0.9974 - val_loss: 0.0628 - val_accuracy: 0.9873\n",
      "Epoch 74/100\n",
      "415/415 [==============================] - 87s 210ms/step - loss: 0.0128 - accuracy: 0.9979 - val_loss: 0.0669 - val_accuracy: 0.9894\n",
      "Epoch 75/100\n",
      "415/415 [==============================] - 83s 200ms/step - loss: 0.0134 - accuracy: 0.9977 - val_loss: 0.0701 - val_accuracy: 0.9873\n",
      "Epoch 76/100\n",
      "415/415 [==============================] - 83s 199ms/step - loss: 0.0156 - accuracy: 0.9967 - val_loss: 0.0692 - val_accuracy: 0.9882\n",
      "Epoch 77/100\n",
      "415/415 [==============================] - 79s 190ms/step - loss: 0.0153 - accuracy: 0.9972 - val_loss: 0.0669 - val_accuracy: 0.9881\n",
      "Epoch 78/100\n",
      "415/415 [==============================] - 55s 132ms/step - loss: 0.0123 - accuracy: 0.9979 - val_loss: 0.0710 - val_accuracy: 0.9886\n",
      "Epoch 79/100\n",
      "415/415 [==============================] - 56s 135ms/step - loss: 0.0146 - accuracy: 0.9973 - val_loss: 0.0687 - val_accuracy: 0.9882\n",
      "Epoch 80/100\n",
      "415/415 [==============================] - 54s 130ms/step - loss: 0.0140 - accuracy: 0.9973 - val_loss: 0.0707 - val_accuracy: 0.9873\n",
      "Epoch 81/100\n",
      "415/415 [==============================] - 56s 135ms/step - loss: 0.0140 - accuracy: 0.9975 - val_loss: 0.0682 - val_accuracy: 0.9884\n",
      "Epoch 82/100\n",
      "415/415 [==============================] - 56s 135ms/step - loss: 0.0131 - accuracy: 0.9976 - val_loss: 0.0673 - val_accuracy: 0.9876\n",
      "Epoch 83/100\n",
      "415/415 [==============================] - 55s 132ms/step - loss: 0.0124 - accuracy: 0.9978 - val_loss: 0.0734 - val_accuracy: 0.9871\n",
      "Epoch 84/100\n",
      "415/415 [==============================] - 56s 136ms/step - loss: 0.0109 - accuracy: 0.9981 - val_loss: 0.0747 - val_accuracy: 0.9879\n",
      "Epoch 85/100\n",
      "415/415 [==============================] - 56s 135ms/step - loss: 0.0128 - accuracy: 0.9977 - val_loss: 0.0850 - val_accuracy: 0.9876\n",
      "Epoch 86/100\n",
      "415/415 [==============================] - 56s 135ms/step - loss: 0.0135 - accuracy: 0.9977 - val_loss: 0.0721 - val_accuracy: 0.9876\n",
      "Epoch 87/100\n",
      "415/415 [==============================] - 56s 134ms/step - loss: 0.0124 - accuracy: 0.9977 - val_loss: 0.0762 - val_accuracy: 0.9878\n",
      "Epoch 88/100\n",
      "415/415 [==============================] - 55s 134ms/step - loss: 0.0142 - accuracy: 0.9971 - val_loss: 0.0748 - val_accuracy: 0.9875\n",
      "Epoch 89/100\n",
      "415/415 [==============================] - 56s 134ms/step - loss: 0.0150 - accuracy: 0.9968 - val_loss: 0.0724 - val_accuracy: 0.9879\n",
      "Epoch 90/100\n",
      "415/415 [==============================] - 57s 139ms/step - loss: 0.0131 - accuracy: 0.9976 - val_loss: 0.0804 - val_accuracy: 0.9879\n",
      "Epoch 91/100\n",
      "415/415 [==============================] - 57s 138ms/step - loss: 0.0106 - accuracy: 0.9983 - val_loss: 0.0707 - val_accuracy: 0.9885\n",
      "Epoch 92/100\n",
      "415/415 [==============================] - 58s 139ms/step - loss: 0.0114 - accuracy: 0.9979 - val_loss: 0.0751 - val_accuracy: 0.9865\n",
      "Epoch 93/100\n",
      "415/415 [==============================] - 58s 141ms/step - loss: 0.0153 - accuracy: 0.9972 - val_loss: 0.0668 - val_accuracy: 0.9878\n",
      "Epoch 94/100\n",
      "415/415 [==============================] - 58s 140ms/step - loss: 0.0117 - accuracy: 0.9981 - val_loss: 0.0761 - val_accuracy: 0.9883\n",
      "Epoch 95/100\n",
      "415/415 [==============================] - 58s 139ms/step - loss: 0.0120 - accuracy: 0.9978 - val_loss: 0.0710 - val_accuracy: 0.9882\n",
      "Epoch 96/100\n",
      "415/415 [==============================] - 57s 139ms/step - loss: 0.0128 - accuracy: 0.9976 - val_loss: 0.0734 - val_accuracy: 0.9875\n",
      "Epoch 97/100\n",
      "415/415 [==============================] - 57s 138ms/step - loss: 0.0110 - accuracy: 0.9982 - val_loss: 0.0771 - val_accuracy: 0.9879\n",
      "Epoch 98/100\n",
      "415/415 [==============================] - 56s 135ms/step - loss: 0.0122 - accuracy: 0.9978 - val_loss: 0.0730 - val_accuracy: 0.9888\n",
      "Epoch 99/100\n",
      "415/415 [==============================] - 59s 142ms/step - loss: 0.0106 - accuracy: 0.9982 - val_loss: 0.0684 - val_accuracy: 0.9891\n",
      "Epoch 100/100\n",
      "415/415 [==============================] - 58s 139ms/step - loss: 0.0124 - accuracy: 0.9979 - val_loss: 0.0677 - val_accuracy: 0.9882\n"
     ]
    }
   ],
   "source": [
    "history = model.fit(train_x, train_y, batch_size=128, epochs=100, verbose=1, validation_data=(test_x, test_y))"
   ]
  },
  {
   "cell_type": "code",
   "execution_count": 9,
   "metadata": {},
   "outputs": [
    {
     "data": {
      "image/png": "[encoded data removed]",
      "text/plain": [
       "<Figure size 800x300 with 1 Axes>"
      ]
     },
     "metadata": {},
     "output_type": "display_data"
    },
    {
     "data": {
      "image/png": "[encoded data removed]",
      "text/plain": [
       "<Figure size 800x300 with 1 Axes>"
      ]
     },
     "metadata": {},
     "output_type": "display_data"
    }
   ],
   "source": [
    "# summarize history for loss\n",
    "plt.figure(figsize=(8,3))\n",
    "plt.plot(history.history['loss'])\n",
    "plt.plot(history.history['val_loss'])\n",
    "plt.title('model loss')\n",
    "plt.ylabel('loss')\n",
    "plt.xlabel('epoch')\n",
    "plt.legend(['train', 'test'], loc='best')\n",
    "plt.show()\n",
    "\n",
    "# summarize history for accuracy\n",
    "plt.figure(figsize=(8,3))\n",
    "plt.plot(history.history['accuracy'])\n",
    "plt.plot(history.history['val_accuracy'])\n",
    "plt.title('model accuracy')\n",
    "plt.ylabel('accuracy')\n",
    "plt.xlabel('epoch')\n",
    "plt.legend(['train', 'test'], loc='best')\n",
    "plt.show()"
   ]
  },
  {
   "cell_type": "code",
   "execution_count": 10,
   "metadata": {},
   "outputs": [
    {
     "name": "stdout",
     "output_type": "stream",
     "text": [
      "415/415 [==============================] - 4s 9ms/step - loss: 0.0677 - accuracy: 0.9882\n",
      "Test Loss: 0.06768529117107391\n",
      "Test accuracy: 0.9881741404533386\n"
     ]
    }
   ],
   "source": [
    "# finding the loss and acuracy of the model\n",
    "score = model.evaluate(test_x, test_y)\n",
    "\n",
    "print('Test Loss:', score[0])\n",
    "print('Test accuracy:', score[1])"
   ]
  },
  {
   "cell_type": "code",
   "execution_count": 11,
   "metadata": {},
   "outputs": [
    {
     "name": "stderr",
     "output_type": "stream",
     "text": [
      "WARNING:absl:Found untraced functions such as _jit_compiled_convolution_op, _jit_compiled_convolution_op, _jit_compiled_convolution_op, _jit_compiled_convolution_op while saving (showing 4 of 4). These functions will not be directly callable after loading.\n"
     ]
    },
    {
     "name": "stdout",
     "output_type": "stream",
     "text": [
      "INFO:tensorflow:Assets written to: CNN_model_9\\assets\n"
     ]
    },
    {
     "name": "stderr",
     "output_type": "stream",
     "text": [
      "INFO:tensorflow:Assets written to: CNN_model_9\\assets\n"
     ]
    }
   ],
   "source": [
    "# save model\n",
    "model.save('CNN_model_9')"
   ]
  },
  {
   "attachments": {},
   "cell_type": "markdown",
   "metadata": {},
   "source": [
    "# confusion matrix"
   ]
  },
  {
   "cell_type": "code",
   "execution_count": 12,
   "metadata": {},
   "outputs": [
    {
     "name": "stdout",
     "output_type": "stream",
     "text": [
      "415/415 [==============================] - 4s 8ms/step\n"
     ]
    },
    {
     "data": {
      "text/plain": [
       "array([3, 1, 2, ..., 0, 3, 0], dtype=int64)"
      ]
     },
     "execution_count": 12,
     "metadata": {},
     "output_type": "execute_result"
    }
   ],
   "source": [
    "y_pred = model.predict(test_x)\n",
    "y_pred = np.argmax(y_pred, axis=1)\n",
    "y_pred"
   ]
  },
  {
   "cell_type": "code",
   "execution_count": 13,
   "metadata": {},
   "outputs": [
    {
     "name": "stdout",
     "output_type": "stream",
     "text": [
      "confusion matrix\n",
      "[[3191    3   12   16   22]\n",
      " [   6 3187    2    4    1]\n",
      " [   5    1 2982    3    1]\n",
      " [  31    3    2 2787   12]\n",
      " [  21    1    2    9  972]]\n",
      "\n",
      "classification report\n",
      "              precision    recall  f1-score   support\n",
      "\n",
      "           N     0.9806    0.9837    0.9821      3244\n",
      "           L     0.9975    0.9959    0.9967      3200\n",
      "           R     0.9940    0.9967    0.9953      2992\n",
      "           V     0.9886    0.9831    0.9859      2835\n",
      "           A     0.9643    0.9672    0.9657      1005\n",
      "\n",
      "    accuracy                         0.9882     13276\n",
      "   macro avg     0.9850    0.9853    0.9852     13276\n",
      "weighted avg     0.9882    0.9882    0.9882     13276\n",
      "\n"
     ]
    }
   ],
   "source": [
    "y_true = test[440]\n",
    "\n",
    "from sklearn.metrics import confusion_matrix, classification_report\n",
    "\n",
    "cm = confusion_matrix(y_true, y_pred)\n",
    "print('confusion matrix')\n",
    "print(cm)\n",
    "print('\\nclassification report')\n",
    "report = classification_report(y_true, y_pred, target_names=['N', 'L', 'R', 'V', 'A'], digits=4)\n",
    "print(report )\n",
    "\n",
    "def report_to_df(report):\n",
    "    report = [x.split(' ') for x in report.split('\\n')]\n",
    "    header = ['Class Name']+[x for x in report[0] if x!='']\n",
    "    values = []\n",
    "    for row in report[1:-5]:\n",
    "        row = [value for value in row if value!='']\n",
    "        if row!=[]:\n",
    "            values.append(row)\n",
    "    df = pd.DataFrame(data = values, columns = header)\n",
    "    return df\n",
    "report = report_to_df(report)\n",
    "\n",
    "# report.to_csv('classification report.csv', index=True)"
   ]
  }
 ],
 "metadata": {
  "kernelspec": {
   "display_name": "cenv1",
   "language": "python",
   "name": "python3"
  },
  "language_info": {
   "codemirror_mode": {
    "name": "ipython",
    "version": 3
   },
   "file_extension": ".py",
   "mimetype": "text/x-python",
   "name": "python",
   "nbconvert_exporter": "python",
   "pygments_lexer": "ipython3",
   "version": "3.10.9"
  },
  "orig_nbformat": 4
 },
 "nbformat": 4,
 "nbformat_minor": 2
}
