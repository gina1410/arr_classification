{
 "cells": [
  {
   "attachments": {},
   "cell_type": "markdown",
   "metadata": {},
   "source": [
    "# Initialize"
   ]
  },
  {
   "cell_type": "code",
   "execution_count": 2,
   "metadata": {},
   "outputs": [],
   "source": [
    "import numpy as np\n",
    "import pandas as pd\n",
    "import matplotlib.pyplot as plt\n",
    "\n",
    "from keras.utils.np_utils import to_categorical\n",
    "from keras.models import Sequential\n",
    "from keras.layers import Conv1D, AvgPool1D, Flatten, Dense, Dropout, Softmax\n",
    "from keras import regularizers\n",
    "from keras.optimizers import Adam \n"
   ]
  },
  {
   "attachments": {},
   "cell_type": "markdown",
   "metadata": {},
   "source": [
    "# Load dataset"
   ]
  },
  {
   "cell_type": "code",
   "execution_count": 3,
   "metadata": {},
   "outputs": [
    {
     "name": "stdout",
     "output_type": "stream",
     "text": [
      "train_data :  (53102, 441)\n",
      "test_data  :  (13276, 441)\n"
     ]
    }
   ],
   "source": [
    "train = pd.read_csv('./data/0.8_train.csv', header=None)\n",
    "test = pd.read_csv('./data/0.2_test.csv', header=None)\n",
    "\n",
    "print(\"train_data : \", np.shape(train))\n",
    "print(\"test_data  : \", np.shape(test))"
   ]
  },
  {
   "cell_type": "code",
   "execution_count": 4,
   "metadata": {},
   "outputs": [
    {
     "name": "stdout",
     "output_type": "stream",
     "text": [
      "data train per class\n",
      "0.0    13152\n",
      "1.0    12938\n",
      "2.0    11508\n",
      "3.0    11421\n",
      "4.0     4083\n",
      "Name: 440, dtype: int64\n",
      "---------------------------------\n",
      "data test per class\n",
      "0.0    3244\n",
      "1.0    3200\n",
      "2.0    2992\n",
      "3.0    2835\n",
      "4.0    1005\n",
      "Name: 440, dtype: int64\n"
     ]
    }
   ],
   "source": [
    "# 0.0 Normal beat\n",
    "# 1.0 LBBB beat\n",
    "# 2.0 RBBB beat\n",
    "# 3.0 PVC beat\n",
    "# 4.0 PAC beat\n",
    "\n",
    "print('data train per class')\n",
    "print(train[440].value_counts())\n",
    "print('---------------------------------')\n",
    "print('data test per class')\n",
    "print(test[440].value_counts())"
   ]
  },
  {
   "cell_type": "code",
   "execution_count": 5,
   "metadata": {},
   "outputs": [
    {
     "name": "stdout",
     "output_type": "stream",
     "text": [
      "(53102, 5) (13276, 5)\n"
     ]
    }
   ],
   "source": [
    "target_train=train[train.shape[1]-1]\n",
    "target_test=test[test.shape[1]-1]\n",
    "train_y=to_categorical(target_train)\n",
    "test_y=to_categorical(target_test)\n",
    "print(np.shape(train_y), np.shape(test_y))"
   ]
  },
  {
   "cell_type": "code",
   "execution_count": 6,
   "metadata": {},
   "outputs": [
    {
     "name": "stdout",
     "output_type": "stream",
     "text": [
      "(53102, 440, 1) (13276, 440, 1)\n"
     ]
    }
   ],
   "source": [
    "train_x = train.iloc[:,:train.shape[1]-1].values\n",
    "test_x = test.iloc[:,:test.shape[1]-1].values\n",
    "train_x = train_x.reshape(len(train_x), train_x.shape[1],1)\n",
    "test_x = test_x.reshape(len(test_x), test_x.shape[1],1)\n",
    "print(np.shape(train_x), np.shape(test_x))"
   ]
  },
  {
   "attachments": {},
   "cell_type": "markdown",
   "metadata": {},
   "source": [
    "# Model architecture"
   ]
  },
  {
   "cell_type": "code",
   "execution_count": 7,
   "metadata": {},
   "outputs": [
    {
     "name": "stdout",
     "output_type": "stream",
     "text": [
      "Model: \"sequential\"\n",
      "_________________________________________________________________\n",
      " Layer (type)                Output Shape              Param #   \n",
      "=================================================================\n",
      " conv1d (Conv1D)             (None, 440, 16)           224       \n",
      "                                                                 \n",
      " average_pooling1d (AverageP  (None, 219, 16)          0         \n",
      " ooling1D)                                                       \n",
      "                                                                 \n",
      " conv1d_1 (Conv1D)           (None, 219, 32)           7712      \n",
      "                                                                 \n",
      " average_pooling1d_1 (Averag  (None, 109, 32)          0         \n",
      " ePooling1D)                                                     \n",
      "                                                                 \n",
      " conv1d_2 (Conv1D)           (None, 109, 64)           34880     \n",
      "                                                                 \n",
      " average_pooling1d_2 (Averag  (None, 54, 64)           0         \n",
      " ePooling1D)                                                     \n",
      "                                                                 \n",
      " conv1d_3 (Conv1D)           (None, 54, 128)           155776    \n",
      "                                                                 \n",
      " average_pooling1d_3 (Averag  (None, 26, 128)          0         \n",
      " ePooling1D)                                                     \n",
      "                                                                 \n",
      " flatten (Flatten)           (None, 3328)              0         \n",
      "                                                                 \n",
      " dropout (Dropout)           (None, 3328)              0         \n",
      "                                                                 \n",
      " dense (Dense)               (None, 35)                116515    \n",
      "                                                                 \n",
      " dense_1 (Dense)             (None, 5)                 180       \n",
      "                                                                 \n",
      " softmax (Softmax)           (None, 5)                 0         \n",
      "                                                                 \n",
      "=================================================================\n",
      "Total params: 315,287\n",
      "Trainable params: 315,287\n",
      "Non-trainable params: 0\n",
      "_________________________________________________________________\n"
     ]
    }
   ],
   "source": [
    "# Instanciate an empty model\n",
    "model = Sequential()\n",
    "\n",
    "model.add(Conv1D(filters=16, kernel_size=13, padding='same', activation='relu',input_shape=(440, 1)))\n",
    "model.add(AvgPool1D(pool_size=3, strides=2))\n",
    "model.add(Conv1D(filters=32, kernel_size=15, padding='same', activation='relu'))\n",
    "model.add(AvgPool1D(pool_size=3, strides=2))\n",
    "model.add(Conv1D(filters=64, kernel_size=17, padding='same', activation='relu'))\n",
    "model.add(AvgPool1D(pool_size=3, strides=2))\n",
    "model.add(Conv1D(filters=128, kernel_size=19, padding='same', activation='relu'))\n",
    "model.add(AvgPool1D(pool_size=3, strides=2))\n",
    "model.add(Flatten())\n",
    "model.add(Dropout(0.5))\n",
    "model.add(Dense(35,kernel_regularizer=regularizers.l2(0.0001), bias_regularizer=regularizers.l2(0.0001)))\n",
    "model.add(Dense(5,kernel_regularizer=regularizers.l2(0.0001), bias_regularizer=regularizers.l2(0.0001)))\n",
    "model.add(Softmax())\n",
    "\n",
    "model.summary()"
   ]
  },
  {
   "attachments": {},
   "cell_type": "markdown",
   "metadata": {},
   "source": [
    "# learning_rate 1e-3, batch_size 32, epoch 50"
   ]
  },
  {
   "cell_type": "code",
   "execution_count": 8,
   "metadata": {},
   "outputs": [],
   "source": [
    "model.compile(loss='categorical_crossentropy', optimizer=Adam(learning_rate=1e-3), metrics=['accuracy'])"
   ]
  },
  {
   "cell_type": "code",
   "execution_count": 9,
   "metadata": {},
   "outputs": [
    {
     "name": "stdout",
     "output_type": "stream",
     "text": [
      "Epoch 1/50\n",
      "1660/1660 [==============================] - 111s 66ms/step - loss: 0.3448 - accuracy: 0.8865 - val_loss: 0.1388 - val_accuracy: 0.9607\n",
      "Epoch 2/50\n",
      "1660/1660 [==============================] - 113s 68ms/step - loss: 0.1413 - accuracy: 0.9607 - val_loss: 0.1085 - val_accuracy: 0.9720\n",
      "Epoch 3/50\n",
      "1660/1660 [==============================] - 111s 67ms/step - loss: 0.1139 - accuracy: 0.9700 - val_loss: 0.0883 - val_accuracy: 0.9790\n",
      "Epoch 4/50\n",
      "1660/1660 [==============================] - 110s 66ms/step - loss: 0.0976 - accuracy: 0.9752 - val_loss: 0.0819 - val_accuracy: 0.9807\n",
      "Epoch 5/50\n",
      "1660/1660 [==============================] - 111s 67ms/step - loss: 0.0896 - accuracy: 0.9781 - val_loss: 0.0835 - val_accuracy: 0.9792\n",
      "Epoch 6/50\n",
      "1660/1660 [==============================] - 106s 64ms/step - loss: 0.0792 - accuracy: 0.9801 - val_loss: 0.0875 - val_accuracy: 0.9788\n",
      "Epoch 7/50\n",
      "1660/1660 [==============================] - 102s 62ms/step - loss: 0.0727 - accuracy: 0.9824 - val_loss: 0.0739 - val_accuracy: 0.9837\n",
      "Epoch 8/50\n",
      "1660/1660 [==============================] - 104s 63ms/step - loss: 0.0678 - accuracy: 0.9831 - val_loss: 0.0694 - val_accuracy: 0.9855\n",
      "Epoch 9/50\n",
      "1660/1660 [==============================] - 104s 62ms/step - loss: 0.0625 - accuracy: 0.9843 - val_loss: 0.0697 - val_accuracy: 0.9846\n",
      "Epoch 10/50\n",
      "1660/1660 [==============================] - 111s 67ms/step - loss: 0.0575 - accuracy: 0.9866 - val_loss: 0.0697 - val_accuracy: 0.9845\n",
      "Epoch 11/50\n",
      "1660/1660 [==============================] - 114s 69ms/step - loss: 0.0550 - accuracy: 0.9866 - val_loss: 0.0637 - val_accuracy: 0.9861\n",
      "Epoch 12/50\n",
      "1660/1660 [==============================] - 103s 62ms/step - loss: 0.0493 - accuracy: 0.9882 - val_loss: 0.0645 - val_accuracy: 0.9861\n",
      "Epoch 13/50\n",
      "1660/1660 [==============================] - 99s 60ms/step - loss: 0.0462 - accuracy: 0.9894 - val_loss: 0.0656 - val_accuracy: 0.9857\n",
      "Epoch 14/50\n",
      "1660/1660 [==============================] - 114s 69ms/step - loss: 0.0448 - accuracy: 0.9895 - val_loss: 0.0665 - val_accuracy: 0.9852\n",
      "Epoch 15/50\n",
      "1660/1660 [==============================] - 118s 71ms/step - loss: 0.0405 - accuracy: 0.9907 - val_loss: 0.0626 - val_accuracy: 0.9879\n",
      "Epoch 16/50\n",
      "1660/1660 [==============================] - 124s 75ms/step - loss: 0.0386 - accuracy: 0.9908 - val_loss: 0.0601 - val_accuracy: 0.9864\n",
      "Epoch 17/50\n",
      "1660/1660 [==============================] - 124s 75ms/step - loss: 0.0351 - accuracy: 0.9922 - val_loss: 0.0768 - val_accuracy: 0.9843\n",
      "Epoch 18/50\n",
      "1660/1660 [==============================] - 111s 67ms/step - loss: 0.0338 - accuracy: 0.9924 - val_loss: 0.0614 - val_accuracy: 0.9871\n",
      "Epoch 19/50\n",
      "1660/1660 [==============================] - 117s 70ms/step - loss: 0.0329 - accuracy: 0.9925 - val_loss: 0.0632 - val_accuracy: 0.9878\n",
      "Epoch 20/50\n",
      "1660/1660 [==============================] - 128s 77ms/step - loss: 0.0324 - accuracy: 0.9924 - val_loss: 0.0597 - val_accuracy: 0.9884\n",
      "Epoch 21/50\n",
      "1660/1660 [==============================] - 122s 74ms/step - loss: 0.0317 - accuracy: 0.9929 - val_loss: 0.0608 - val_accuracy: 0.9879\n",
      "Epoch 22/50\n",
      "1660/1660 [==============================] - 108s 65ms/step - loss: 0.0292 - accuracy: 0.9941 - val_loss: 0.0612 - val_accuracy: 0.9873\n",
      "Epoch 23/50\n",
      "1660/1660 [==============================] - 115s 70ms/step - loss: 0.0304 - accuracy: 0.9934 - val_loss: 0.0761 - val_accuracy: 0.9857\n",
      "Epoch 24/50\n",
      "1660/1660 [==============================] - 113s 68ms/step - loss: 0.0293 - accuracy: 0.9938 - val_loss: 0.0670 - val_accuracy: 0.9867\n",
      "Epoch 25/50\n",
      "1660/1660 [==============================] - 112s 68ms/step - loss: 0.0279 - accuracy: 0.9946 - val_loss: 0.0677 - val_accuracy: 0.9882\n",
      "Epoch 26/50\n",
      "1660/1660 [==============================] - 109s 66ms/step - loss: 0.0264 - accuracy: 0.9946 - val_loss: 0.0664 - val_accuracy: 0.9864\n",
      "Epoch 27/50\n",
      "1660/1660 [==============================] - 98s 59ms/step - loss: 0.0253 - accuracy: 0.9949 - val_loss: 0.0825 - val_accuracy: 0.9858\n",
      "Epoch 28/50\n",
      "1660/1660 [==============================] - 97s 58ms/step - loss: 0.0266 - accuracy: 0.9943 - val_loss: 0.0741 - val_accuracy: 0.9852\n",
      "Epoch 29/50\n",
      "1660/1660 [==============================] - 101s 61ms/step - loss: 0.0218 - accuracy: 0.9959 - val_loss: 0.0812 - val_accuracy: 0.9849\n",
      "Epoch 30/50\n",
      "1660/1660 [==============================] - 100s 60ms/step - loss: 0.0252 - accuracy: 0.9946 - val_loss: 0.0730 - val_accuracy: 0.9871\n",
      "Epoch 31/50\n",
      "1660/1660 [==============================] - 100s 60ms/step - loss: 0.0227 - accuracy: 0.9952 - val_loss: 0.0747 - val_accuracy: 0.9881\n",
      "Epoch 32/50\n",
      "1660/1660 [==============================] - 107s 64ms/step - loss: 0.0215 - accuracy: 0.9958 - val_loss: 0.0660 - val_accuracy: 0.9880\n",
      "Epoch 33/50\n",
      "1660/1660 [==============================] - 101s 61ms/step - loss: 0.0228 - accuracy: 0.9957 - val_loss: 0.0715 - val_accuracy: 0.9882\n",
      "Epoch 34/50\n",
      "1660/1660 [==============================] - 101s 61ms/step - loss: 0.0224 - accuracy: 0.9953 - val_loss: 0.0666 - val_accuracy: 0.9876\n",
      "Epoch 35/50\n",
      "1660/1660 [==============================] - 101s 61ms/step - loss: 0.0224 - accuracy: 0.9955 - val_loss: 0.0693 - val_accuracy: 0.9873\n",
      "Epoch 36/50\n",
      "1660/1660 [==============================] - 110s 66ms/step - loss: 0.0224 - accuracy: 0.9955 - val_loss: 0.0664 - val_accuracy: 0.9876\n",
      "Epoch 37/50\n",
      "1660/1660 [==============================] - 101s 61ms/step - loss: 0.0187 - accuracy: 0.9967 - val_loss: 0.0746 - val_accuracy: 0.9872\n",
      "Epoch 38/50\n",
      "1660/1660 [==============================] - 101s 61ms/step - loss: 0.0213 - accuracy: 0.9959 - val_loss: 0.0667 - val_accuracy: 0.9876\n",
      "Epoch 39/50\n",
      "1660/1660 [==============================] - 107s 64ms/step - loss: 0.0205 - accuracy: 0.9959 - val_loss: 0.0664 - val_accuracy: 0.9876\n",
      "Epoch 40/50\n",
      "1660/1660 [==============================] - 100s 61ms/step - loss: 0.0218 - accuracy: 0.9957 - val_loss: 0.0729 - val_accuracy: 0.9889\n",
      "Epoch 41/50\n",
      "1660/1660 [==============================] - 101s 61ms/step - loss: 0.0205 - accuracy: 0.9960 - val_loss: 0.0645 - val_accuracy: 0.9871\n",
      "Epoch 42/50\n",
      "1660/1660 [==============================] - 101s 61ms/step - loss: 0.0202 - accuracy: 0.9961 - val_loss: 0.0818 - val_accuracy: 0.9879\n",
      "Epoch 43/50\n",
      "1660/1660 [==============================] - 102s 61ms/step - loss: 0.0216 - accuracy: 0.9960 - val_loss: 0.0669 - val_accuracy: 0.9876\n",
      "Epoch 44/50\n",
      "1660/1660 [==============================] - 105s 63ms/step - loss: 0.0189 - accuracy: 0.9967 - val_loss: 0.0733 - val_accuracy: 0.9873\n",
      "Epoch 45/50\n",
      "1660/1660 [==============================] - 105s 63ms/step - loss: 0.0187 - accuracy: 0.9967 - val_loss: 0.0874 - val_accuracy: 0.9879\n",
      "Epoch 46/50\n",
      "1660/1660 [==============================] - 101s 61ms/step - loss: 0.0211 - accuracy: 0.9958 - val_loss: 0.0816 - val_accuracy: 0.9873\n",
      "Epoch 47/50\n",
      "1660/1660 [==============================] - 107s 64ms/step - loss: 0.0172 - accuracy: 0.9973 - val_loss: 0.0836 - val_accuracy: 0.9873\n",
      "Epoch 48/50\n",
      "1660/1660 [==============================] - 102s 61ms/step - loss: 0.0211 - accuracy: 0.9958 - val_loss: 0.0792 - val_accuracy: 0.9877\n",
      "Epoch 49/50\n",
      "1660/1660 [==============================] - 105s 63ms/step - loss: 0.0199 - accuracy: 0.9964 - val_loss: 0.0754 - val_accuracy: 0.9879\n",
      "Epoch 50/50\n",
      "1660/1660 [==============================] - 109s 66ms/step - loss: 0.0182 - accuracy: 0.9971 - val_loss: 0.0784 - val_accuracy: 0.9875\n"
     ]
    }
   ],
   "source": [
    "history = model.fit(train_x, train_y, batch_size=32, epochs=50, verbose=1, validation_data=(test_x, test_y))"
   ]
  },
  {
   "cell_type": "code",
   "execution_count": 10,
   "metadata": {},
   "outputs": [
    {
     "data": {
      "image/png": "[encoded data removed]",
      "text/plain": [
       "<Figure size 800x300 with 1 Axes>"
      ]
     },
     "metadata": {},
     "output_type": "display_data"
    },
    {
     "data": {
      "image/png": "[encoded data removed]",
      "text/plain": [
       "<Figure size 800x300 with 1 Axes>"
      ]
     },
     "metadata": {},
     "output_type": "display_data"
    }
   ],
   "source": [
    "# summarize history for loss\n",
    "plt.figure(figsize=(8,3))\n",
    "plt.plot(history.history['loss'])\n",
    "plt.plot(history.history['val_loss'])\n",
    "plt.title('model loss')\n",
    "plt.ylabel('loss')\n",
    "plt.xlabel('epoch')\n",
    "plt.legend(['train', 'test'], loc='best')\n",
    "plt.show()\n",
    "\n",
    "# summarize history for accuracy\n",
    "plt.figure(figsize=(8,3))\n",
    "plt.plot(history.history['accuracy'])\n",
    "plt.plot(history.history['val_accuracy'])\n",
    "plt.title('model accuracy')\n",
    "plt.ylabel('accuracy')\n",
    "plt.xlabel('epoch')\n",
    "plt.legend(['train', 'test'], loc='best')\n",
    "plt.show()"
   ]
  },
  {
   "cell_type": "code",
   "execution_count": 11,
   "metadata": {},
   "outputs": [
    {
     "name": "stdout",
     "output_type": "stream",
     "text": [
      "415/415 [==============================] - 6s 15ms/step - loss: 0.0784 - accuracy: 0.9875\n",
      "Test Loss: 0.07839757204055786\n",
      "Test accuracy: 0.9874962568283081\n"
     ]
    }
   ],
   "source": [
    "# finding the loss and acuracy of the model\n",
    "score = model.evaluate(test_x, test_y)\n",
    "\n",
    "print('Test Loss:', score[0])\n",
    "print('Test accuracy:', score[1])"
   ]
  },
  {
   "cell_type": "code",
   "execution_count": 12,
   "metadata": {},
   "outputs": [
    {
     "name": "stderr",
     "output_type": "stream",
     "text": [
      "WARNING:absl:Found untraced functions such as _jit_compiled_convolution_op, _jit_compiled_convolution_op, _jit_compiled_convolution_op, _jit_compiled_convolution_op while saving (showing 4 of 4). These functions will not be directly callable after loading.\n"
     ]
    },
    {
     "name": "stdout",
     "output_type": "stream",
     "text": [
      "INFO:tensorflow:Assets written to: CNN_model_1\\assets\n"
     ]
    },
    {
     "name": "stderr",
     "output_type": "stream",
     "text": [
      "INFO:tensorflow:Assets written to: CNN_model_1\\assets\n"
     ]
    }
   ],
   "source": [
    "# save model\n",
    "model.save('CNN_model_1')"
   ]
  },
  {
   "attachments": {},
   "cell_type": "markdown",
   "metadata": {},
   "source": [
    "# confusion matrix"
   ]
  },
  {
   "cell_type": "code",
   "execution_count": 13,
   "metadata": {},
   "outputs": [
    {
     "name": "stdout",
     "output_type": "stream",
     "text": [
      "415/415 [==============================] - 7s 15ms/step\n"
     ]
    },
    {
     "data": {
      "text/plain": [
       "array([3, 1, 2, ..., 0, 3, 0], dtype=int64)"
      ]
     },
     "execution_count": 13,
     "metadata": {},
     "output_type": "execute_result"
    }
   ],
   "source": [
    "y_pred = model.predict(test_x)\n",
    "y_pred = np.argmax(y_pred, axis=1)\n",
    "y_pred"
   ]
  },
  {
   "cell_type": "code",
   "execution_count": 14,
   "metadata": {},
   "outputs": [
    {
     "name": "stdout",
     "output_type": "stream",
     "text": [
      "confusion matrix\n",
      "[[3202    6   10   18    8]\n",
      " [   5 3191    0    3    1]\n",
      " [   7    4 2973    7    1]\n",
      " [  34    4    0 2794    3]\n",
      " [  35    1    3   16  950]]\n",
      "\n",
      "classification report\n",
      "              precision    recall  f1-score   support\n",
      "\n",
      "           N     0.9753    0.9871    0.9812      3244\n",
      "           L     0.9953    0.9972    0.9963      3200\n",
      "           R     0.9956    0.9936    0.9946      2992\n",
      "           V     0.9845    0.9855    0.9850      2835\n",
      "           A     0.9865    0.9453    0.9654      1005\n",
      "\n",
      "    accuracy                         0.9875     13276\n",
      "   macro avg     0.9875    0.9817    0.9845     13276\n",
      "weighted avg     0.9875    0.9875    0.9875     13276\n",
      "\n"
     ]
    }
   ],
   "source": [
    "y_true = test[440]\n",
    "\n",
    "from sklearn.metrics import confusion_matrix, classification_report\n",
    "\n",
    "cm = confusion_matrix(y_true, y_pred)\n",
    "print('confusion matrix')\n",
    "print(cm)\n",
    "print('\\nclassification report')\n",
    "report = classification_report(y_true, y_pred, target_names=['N', 'L', 'R', 'V', 'A'], digits=4)\n",
    "print(report )\n",
    "\n",
    "def report_to_df(report):\n",
    "    report = [x.split(' ') for x in report.split('\\n')]\n",
    "    header = ['Class Name']+[x for x in report[0] if x!='']\n",
    "    values = []\n",
    "    for row in report[1:-5]:\n",
    "        row = [value for value in row if value!='']\n",
    "        if row!=[]:\n",
    "            values.append(row)\n",
    "    df = pd.DataFrame(data = values, columns = header)\n",
    "    return df\n",
    "report = report_to_df(report)\n",
    "\n",
    "# report.to_csv('classification report.csv', index=True)"
   ]
  }
 ],
 "metadata": {
  "kernelspec": {
   "display_name": "cenv1",
   "language": "python",
   "name": "python3"
  },
  "language_info": {
   "codemirror_mode": {
    "name": "ipython",
    "version": 3
   },
   "file_extension": ".py",
   "mimetype": "text/x-python",
   "name": "python",
   "nbconvert_exporter": "python",
   "pygments_lexer": "ipython3",
   "version": "3.10.9"
  },
  "orig_nbformat": 4
 },
 "nbformat": 4,
 "nbformat_minor": 2
}
