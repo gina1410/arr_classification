{
 "cells": [
  {
   "attachments": {},
   "cell_type": "markdown",
   "metadata": {},
   "source": [
    "# Initialize"
   ]
  },
  {
   "cell_type": "code",
   "execution_count": 1,
   "metadata": {},
   "outputs": [],
   "source": [
    "import numpy as np\n",
    "import pandas as pd\n",
    "import matplotlib.pyplot as plt\n",
    "\n",
    "from keras.utils.np_utils import to_categorical\n",
    "from keras.models import Sequential\n",
    "from keras.layers import Conv1D, AvgPool1D, Flatten, Dense, Dropout, Softmax\n",
    "from keras import regularizers\n",
    "from keras.optimizers import Adam \n"
   ]
  },
  {
   "attachments": {},
   "cell_type": "markdown",
   "metadata": {},
   "source": [
    "# Load dataset"
   ]
  },
  {
   "cell_type": "code",
   "execution_count": 2,
   "metadata": {},
   "outputs": [
    {
     "name": "stdout",
     "output_type": "stream",
     "text": [
      "train_data :  (53102, 441)\n",
      "test_data  :  (13276, 441)\n"
     ]
    }
   ],
   "source": [
    "train = pd.read_csv('./data/0.8_train.csv', header=None)\n",
    "test = pd.read_csv('./data/0.2_test.csv', header=None)\n",
    "\n",
    "print(\"train_data : \", np.shape(train))\n",
    "print(\"test_data  : \", np.shape(test))"
   ]
  },
  {
   "cell_type": "code",
   "execution_count": 3,
   "metadata": {},
   "outputs": [
    {
     "name": "stdout",
     "output_type": "stream",
     "text": [
      "data train per class\n",
      "0.0    13152\n",
      "1.0    12938\n",
      "2.0    11508\n",
      "3.0    11421\n",
      "4.0     4083\n",
      "Name: 440, dtype: int64\n",
      "---------------------------------\n",
      "data test per class\n",
      "0.0    3244\n",
      "1.0    3200\n",
      "2.0    2992\n",
      "3.0    2835\n",
      "4.0    1005\n",
      "Name: 440, dtype: int64\n"
     ]
    }
   ],
   "source": [
    "# 0.0 Normal beat\n",
    "# 1.0 LBBB beat\n",
    "# 2.0 RBBB beat\n",
    "# 3.0 PVC beat\n",
    "# 4.0 PAC beat\n",
    "\n",
    "print('data train per class')\n",
    "print(train[440].value_counts())\n",
    "print('---------------------------------')\n",
    "print('data test per class')\n",
    "print(test[440].value_counts())"
   ]
  },
  {
   "cell_type": "code",
   "execution_count": 4,
   "metadata": {},
   "outputs": [
    {
     "name": "stdout",
     "output_type": "stream",
     "text": [
      "(53102, 5) (13276, 5)\n"
     ]
    }
   ],
   "source": [
    "target_train=train[train.shape[1]-1]\n",
    "target_test=test[test.shape[1]-1]\n",
    "train_y=to_categorical(target_train)\n",
    "test_y=to_categorical(target_test)\n",
    "print(np.shape(train_y), np.shape(test_y))"
   ]
  },
  {
   "cell_type": "code",
   "execution_count": 5,
   "metadata": {},
   "outputs": [
    {
     "name": "stdout",
     "output_type": "stream",
     "text": [
      "(53102, 440, 1) (13276, 440, 1)\n"
     ]
    }
   ],
   "source": [
    "train_x = train.iloc[:,:train.shape[1]-1].values\n",
    "test_x = test.iloc[:,:test.shape[1]-1].values\n",
    "train_x = train_x.reshape(len(train_x), train_x.shape[1],1)\n",
    "test_x = test_x.reshape(len(test_x), test_x.shape[1],1)\n",
    "print(np.shape(train_x), np.shape(test_x))"
   ]
  },
  {
   "attachments": {},
   "cell_type": "markdown",
   "metadata": {},
   "source": [
    "# Model architecture"
   ]
  },
  {
   "cell_type": "code",
   "execution_count": 6,
   "metadata": {},
   "outputs": [
    {
     "name": "stdout",
     "output_type": "stream",
     "text": [
      "Model: \"sequential\"\n",
      "_________________________________________________________________\n",
      " Layer (type)                Output Shape              Param #   \n",
      "=================================================================\n",
      " conv1d (Conv1D)             (None, 440, 16)           224       \n",
      "                                                                 \n",
      " average_pooling1d (AverageP  (None, 219, 16)          0         \n",
      " ooling1D)                                                       \n",
      "                                                                 \n",
      " conv1d_1 (Conv1D)           (None, 219, 32)           7712      \n",
      "                                                                 \n",
      " average_pooling1d_1 (Averag  (None, 109, 32)          0         \n",
      " ePooling1D)                                                     \n",
      "                                                                 \n",
      " conv1d_2 (Conv1D)           (None, 109, 64)           34880     \n",
      "                                                                 \n",
      " average_pooling1d_2 (Averag  (None, 54, 64)           0         \n",
      " ePooling1D)                                                     \n",
      "                                                                 \n",
      " conv1d_3 (Conv1D)           (None, 54, 128)           155776    \n",
      "                                                                 \n",
      " average_pooling1d_3 (Averag  (None, 26, 128)          0         \n",
      " ePooling1D)                                                     \n",
      "                                                                 \n",
      " flatten (Flatten)           (None, 3328)              0         \n",
      "                                                                 \n",
      " dropout (Dropout)           (None, 3328)              0         \n",
      "                                                                 \n",
      " dense (Dense)               (None, 35)                116515    \n",
      "                                                                 \n",
      " dense_1 (Dense)             (None, 5)                 180       \n",
      "                                                                 \n",
      " softmax (Softmax)           (None, 5)                 0         \n",
      "                                                                 \n",
      "=================================================================\n",
      "Total params: 315,287\n",
      "Trainable params: 315,287\n",
      "Non-trainable params: 0\n",
      "_________________________________________________________________\n"
     ]
    }
   ],
   "source": [
    "# Instanciate an empty model\n",
    "model = Sequential()\n",
    "\n",
    "model.add(Conv1D(filters=16, kernel_size=13, padding='same', activation='relu',input_shape=(440, 1)))\n",
    "model.add(AvgPool1D(pool_size=3, strides=2))\n",
    "model.add(Conv1D(filters=32, kernel_size=15, padding='same', activation='relu'))\n",
    "model.add(AvgPool1D(pool_size=3, strides=2))\n",
    "model.add(Conv1D(filters=64, kernel_size=17, padding='same', activation='relu'))\n",
    "model.add(AvgPool1D(pool_size=3, strides=2))\n",
    "model.add(Conv1D(filters=128, kernel_size=19, padding='same', activation='relu'))\n",
    "model.add(AvgPool1D(pool_size=3, strides=2))\n",
    "model.add(Flatten())\n",
    "model.add(Dropout(0.5))\n",
    "model.add(Dense(35,kernel_regularizer=regularizers.l2(0.0001), bias_regularizer=regularizers.l2(0.0001)))\n",
    "model.add(Dense(5,kernel_regularizer=regularizers.l2(0.0001), bias_regularizer=regularizers.l2(0.0001)))\n",
    "model.add(Softmax())\n",
    "\n",
    "model.summary()"
   ]
  },
  {
   "attachments": {},
   "cell_type": "markdown",
   "metadata": {},
   "source": [
    "# learning_rate 0.002, batch_size 64, epoch 100"
   ]
  },
  {
   "cell_type": "code",
   "execution_count": 7,
   "metadata": {},
   "outputs": [],
   "source": [
    "model.compile(loss='categorical_crossentropy', optimizer=Adam(learning_rate=0.002), metrics=['accuracy'])"
   ]
  },
  {
   "cell_type": "code",
   "execution_count": 8,
   "metadata": {},
   "outputs": [
    {
     "name": "stdout",
     "output_type": "stream",
     "text": [
      "Epoch 1/100\n",
      "830/830 [==============================] - 85s 99ms/step - loss: 0.3625 - accuracy: 0.8789 - val_loss: 0.1669 - val_accuracy: 0.9562\n",
      "Epoch 2/100\n",
      "830/830 [==============================] - 87s 105ms/step - loss: 0.1545 - accuracy: 0.9586 - val_loss: 0.1155 - val_accuracy: 0.9718\n",
      "Epoch 3/100\n",
      "830/830 [==============================] - 85s 102ms/step - loss: 0.1251 - accuracy: 0.9669 - val_loss: 0.1016 - val_accuracy: 0.9764\n",
      "Epoch 4/100\n",
      "830/830 [==============================] - 85s 102ms/step - loss: 0.1108 - accuracy: 0.9718 - val_loss: 0.1004 - val_accuracy: 0.9766\n",
      "Epoch 5/100\n",
      "830/830 [==============================] - 85s 102ms/step - loss: 0.1008 - accuracy: 0.9747 - val_loss: 0.0970 - val_accuracy: 0.9763\n",
      "Epoch 6/100\n",
      "830/830 [==============================] - 84s 101ms/step - loss: 0.0923 - accuracy: 0.9763 - val_loss: 0.0889 - val_accuracy: 0.9788\n",
      "Epoch 7/100\n",
      "830/830 [==============================] - 85s 102ms/step - loss: 0.0862 - accuracy: 0.9786 - val_loss: 0.0808 - val_accuracy: 0.9823\n",
      "Epoch 8/100\n",
      "830/830 [==============================] - 84s 101ms/step - loss: 0.0810 - accuracy: 0.9799 - val_loss: 0.0852 - val_accuracy: 0.9811\n",
      "Epoch 9/100\n",
      "830/830 [==============================] - 84s 102ms/step - loss: 0.0731 - accuracy: 0.9820 - val_loss: 0.0765 - val_accuracy: 0.9834\n",
      "Epoch 10/100\n",
      "830/830 [==============================] - 85s 102ms/step - loss: 0.0685 - accuracy: 0.9835 - val_loss: 0.0739 - val_accuracy: 0.9835\n",
      "Epoch 11/100\n",
      "830/830 [==============================] - 89s 108ms/step - loss: 0.0676 - accuracy: 0.9835 - val_loss: 0.0748 - val_accuracy: 0.9834\n",
      "Epoch 12/100\n",
      "830/830 [==============================] - 98s 118ms/step - loss: 0.0618 - accuracy: 0.9851 - val_loss: 0.0808 - val_accuracy: 0.9826\n",
      "Epoch 13/100\n",
      "830/830 [==============================] - 94s 113ms/step - loss: 0.0576 - accuracy: 0.9865 - val_loss: 0.0749 - val_accuracy: 0.9830\n",
      "Epoch 14/100\n",
      "830/830 [==============================] - 89s 108ms/step - loss: 0.0547 - accuracy: 0.9874 - val_loss: 0.0719 - val_accuracy: 0.9849\n",
      "Epoch 15/100\n",
      "830/830 [==============================] - 82s 98ms/step - loss: 0.0527 - accuracy: 0.9875 - val_loss: 0.0689 - val_accuracy: 0.9849\n",
      "Epoch 16/100\n",
      "830/830 [==============================] - 84s 101ms/step - loss: 0.0487 - accuracy: 0.9891 - val_loss: 0.0741 - val_accuracy: 0.9849\n",
      "Epoch 17/100\n",
      "830/830 [==============================] - 84s 101ms/step - loss: 0.0491 - accuracy: 0.9888 - val_loss: 0.0698 - val_accuracy: 0.9858\n",
      "Epoch 18/100\n",
      "830/830 [==============================] - 89s 108ms/step - loss: 0.0454 - accuracy: 0.9900 - val_loss: 0.0670 - val_accuracy: 0.9858\n",
      "Epoch 19/100\n",
      "830/830 [==============================] - 95s 115ms/step - loss: 0.0444 - accuracy: 0.9903 - val_loss: 0.0841 - val_accuracy: 0.9850\n",
      "Epoch 20/100\n",
      "830/830 [==============================] - 94s 113ms/step - loss: 0.0452 - accuracy: 0.9900 - val_loss: 0.0764 - val_accuracy: 0.9854\n",
      "Epoch 21/100\n",
      "830/830 [==============================] - 93s 112ms/step - loss: 0.0436 - accuracy: 0.9905 - val_loss: 0.0760 - val_accuracy: 0.9857\n",
      "Epoch 22/100\n",
      "830/830 [==============================] - 95s 115ms/step - loss: 0.0407 - accuracy: 0.9918 - val_loss: 0.0717 - val_accuracy: 0.9865\n",
      "Epoch 23/100\n",
      "830/830 [==============================] - 93s 113ms/step - loss: 0.0419 - accuracy: 0.9914 - val_loss: 0.0696 - val_accuracy: 0.9859\n",
      "Epoch 24/100\n",
      "830/830 [==============================] - 109s 131ms/step - loss: 0.0390 - accuracy: 0.9917 - val_loss: 0.0698 - val_accuracy: 0.9855\n",
      "Epoch 25/100\n",
      "830/830 [==============================] - 101s 122ms/step - loss: 0.0370 - accuracy: 0.9926 - val_loss: 0.0687 - val_accuracy: 0.9860\n",
      "Epoch 26/100\n",
      "830/830 [==============================] - 93s 112ms/step - loss: 0.0403 - accuracy: 0.9920 - val_loss: 0.0815 - val_accuracy: 0.9862\n",
      "Epoch 27/100\n",
      "830/830 [==============================] - 92s 111ms/step - loss: 0.0357 - accuracy: 0.9929 - val_loss: 0.0738 - val_accuracy: 0.9860\n",
      "Epoch 28/100\n",
      "830/830 [==============================] - 101s 121ms/step - loss: 0.0344 - accuracy: 0.9932 - val_loss: 0.0792 - val_accuracy: 0.9852\n",
      "Epoch 29/100\n",
      "830/830 [==============================] - 98s 118ms/step - loss: 0.0357 - accuracy: 0.9931 - val_loss: 0.0771 - val_accuracy: 0.9864\n",
      "Epoch 30/100\n",
      "830/830 [==============================] - 100s 121ms/step - loss: 0.0351 - accuracy: 0.9931 - val_loss: 0.0725 - val_accuracy: 0.9870\n",
      "Epoch 31/100\n",
      "830/830 [==============================] - 94s 113ms/step - loss: 0.0349 - accuracy: 0.9936 - val_loss: 0.0724 - val_accuracy: 0.9869\n",
      "Epoch 32/100\n",
      "830/830 [==============================] - 99s 119ms/step - loss: 0.0320 - accuracy: 0.9939 - val_loss: 0.0794 - val_accuracy: 0.9859\n",
      "Epoch 33/100\n",
      "830/830 [==============================] - 95s 114ms/step - loss: 0.0321 - accuracy: 0.9938 - val_loss: 0.0784 - val_accuracy: 0.9864\n",
      "Epoch 34/100\n",
      "830/830 [==============================] - 94s 113ms/step - loss: 0.0333 - accuracy: 0.9936 - val_loss: 0.0766 - val_accuracy: 0.9872\n",
      "Epoch 35/100\n",
      "830/830 [==============================] - 99s 120ms/step - loss: 0.0335 - accuracy: 0.9941 - val_loss: 0.0847 - val_accuracy: 0.9860\n",
      "Epoch 36/100\n",
      "830/830 [==============================] - 94s 114ms/step - loss: 0.0297 - accuracy: 0.9944 - val_loss: 0.0798 - val_accuracy: 0.9876\n",
      "Epoch 37/100\n",
      "830/830 [==============================] - 92s 111ms/step - loss: 0.0315 - accuracy: 0.9943 - val_loss: 0.0860 - val_accuracy: 0.9855\n",
      "Epoch 38/100\n",
      "830/830 [==============================] - 91s 110ms/step - loss: 0.0310 - accuracy: 0.9948 - val_loss: 0.0716 - val_accuracy: 0.9877\n",
      "Epoch 39/100\n",
      "830/830 [==============================] - 93s 112ms/step - loss: 0.0309 - accuracy: 0.9946 - val_loss: 0.0761 - val_accuracy: 0.9878\n",
      "Epoch 40/100\n",
      "830/830 [==============================] - 95s 115ms/step - loss: 0.0296 - accuracy: 0.9950 - val_loss: 0.0858 - val_accuracy: 0.9869\n",
      "Epoch 41/100\n",
      "830/830 [==============================] - 87s 105ms/step - loss: 0.0307 - accuracy: 0.9948 - val_loss: 0.0793 - val_accuracy: 0.9873\n",
      "Epoch 42/100\n",
      "830/830 [==============================] - 84s 102ms/step - loss: 0.0310 - accuracy: 0.9945 - val_loss: 0.0733 - val_accuracy: 0.9879\n",
      "Epoch 43/100\n",
      "830/830 [==============================] - 88s 106ms/step - loss: 0.0317 - accuracy: 0.9946 - val_loss: 0.0748 - val_accuracy: 0.9875\n",
      "Epoch 44/100\n",
      "830/830 [==============================] - 86s 103ms/step - loss: 0.0292 - accuracy: 0.9955 - val_loss: 0.0672 - val_accuracy: 0.9873\n",
      "Epoch 45/100\n",
      "830/830 [==============================] - 85s 102ms/step - loss: 0.0280 - accuracy: 0.9956 - val_loss: 0.0773 - val_accuracy: 0.9874\n",
      "Epoch 46/100\n",
      "830/830 [==============================] - 85s 102ms/step - loss: 0.0297 - accuracy: 0.9947 - val_loss: 0.0815 - val_accuracy: 0.9875\n",
      "Epoch 47/100\n",
      "830/830 [==============================] - 85s 103ms/step - loss: 0.0260 - accuracy: 0.9957 - val_loss: 0.0766 - val_accuracy: 0.9866\n",
      "Epoch 48/100\n",
      "830/830 [==============================] - 88s 106ms/step - loss: 0.0285 - accuracy: 0.9952 - val_loss: 0.0837 - val_accuracy: 0.9874\n",
      "Epoch 49/100\n",
      "830/830 [==============================] - 85s 103ms/step - loss: 0.0329 - accuracy: 0.9946 - val_loss: 0.0798 - val_accuracy: 0.9866\n",
      "Epoch 50/100\n",
      "830/830 [==============================] - 86s 103ms/step - loss: 0.0322 - accuracy: 0.9946 - val_loss: 0.0696 - val_accuracy: 0.9877\n",
      "Epoch 51/100\n",
      "830/830 [==============================] - 90s 109ms/step - loss: 0.0269 - accuracy: 0.9957 - val_loss: 0.0759 - val_accuracy: 0.9864\n",
      "Epoch 52/100\n",
      "830/830 [==============================] - 88s 106ms/step - loss: 0.0275 - accuracy: 0.9956 - val_loss: 0.0762 - val_accuracy: 0.9867\n",
      "Epoch 53/100\n",
      "830/830 [==============================] - 86s 104ms/step - loss: 0.0262 - accuracy: 0.9960 - val_loss: 0.0876 - val_accuracy: 0.9855\n",
      "Epoch 54/100\n",
      "830/830 [==============================] - 85s 103ms/step - loss: 0.0294 - accuracy: 0.9956 - val_loss: 0.0826 - val_accuracy: 0.9849\n",
      "Epoch 55/100\n",
      "830/830 [==============================] - 85s 102ms/step - loss: 0.0294 - accuracy: 0.9954 - val_loss: 0.0893 - val_accuracy: 0.9855\n",
      "Epoch 56/100\n",
      "830/830 [==============================] - 86s 103ms/step - loss: 0.0305 - accuracy: 0.9954 - val_loss: 0.0823 - val_accuracy: 0.9879\n",
      "Epoch 57/100\n",
      "830/830 [==============================] - 91s 109ms/step - loss: 0.0247 - accuracy: 0.9963 - val_loss: 0.0817 - val_accuracy: 0.9876\n",
      "Epoch 58/100\n",
      "830/830 [==============================] - 91s 109ms/step - loss: 0.0257 - accuracy: 0.9961 - val_loss: 0.0788 - val_accuracy: 0.9863\n",
      "Epoch 59/100\n",
      "830/830 [==============================] - 87s 105ms/step - loss: 0.0314 - accuracy: 0.9950 - val_loss: 0.0774 - val_accuracy: 0.9883\n",
      "Epoch 60/100\n",
      "830/830 [==============================] - 86s 103ms/step - loss: 0.0254 - accuracy: 0.9958 - val_loss: 0.0843 - val_accuracy: 0.9876\n",
      "Epoch 61/100\n",
      "830/830 [==============================] - 85s 103ms/step - loss: 0.0288 - accuracy: 0.9955 - val_loss: 0.0926 - val_accuracy: 0.9881\n",
      "Epoch 62/100\n",
      "830/830 [==============================] - 85s 103ms/step - loss: 0.0259 - accuracy: 0.9960 - val_loss: 0.0842 - val_accuracy: 0.9878\n",
      "Epoch 63/100\n",
      "830/830 [==============================] - 86s 104ms/step - loss: 0.0233 - accuracy: 0.9965 - val_loss: 0.0836 - val_accuracy: 0.9878\n",
      "Epoch 64/100\n",
      "830/830 [==============================] - 86s 103ms/step - loss: 0.0280 - accuracy: 0.9962 - val_loss: 0.0828 - val_accuracy: 0.9874\n",
      "Epoch 65/100\n",
      "830/830 [==============================] - 85s 103ms/step - loss: 0.0240 - accuracy: 0.9965 - val_loss: 0.0828 - val_accuracy: 0.9876\n",
      "Epoch 66/100\n",
      "830/830 [==============================] - 90s 109ms/step - loss: 0.0282 - accuracy: 0.9960 - val_loss: 0.0812 - val_accuracy: 0.9879\n",
      "Epoch 67/100\n",
      "830/830 [==============================] - 77s 92ms/step - loss: 0.0265 - accuracy: 0.9963 - val_loss: 0.1014 - val_accuracy: 0.9865\n",
      "Epoch 68/100\n",
      "830/830 [==============================] - 65s 78ms/step - loss: 0.0287 - accuracy: 0.9959 - val_loss: 0.0971 - val_accuracy: 0.9863\n",
      "Epoch 69/100\n",
      "830/830 [==============================] - 67s 81ms/step - loss: 0.0264 - accuracy: 0.9959 - val_loss: 0.0805 - val_accuracy: 0.9875\n",
      "Epoch 70/100\n",
      "830/830 [==============================] - 64s 77ms/step - loss: 0.0256 - accuracy: 0.9965 - val_loss: 0.0796 - val_accuracy: 0.9869\n",
      "Epoch 71/100\n",
      "830/830 [==============================] - 67s 81ms/step - loss: 0.0270 - accuracy: 0.9960 - val_loss: 0.1020 - val_accuracy: 0.9865\n",
      "Epoch 72/100\n",
      "830/830 [==============================] - 73s 87ms/step - loss: 0.0259 - accuracy: 0.9964 - val_loss: 0.0800 - val_accuracy: 0.9868\n",
      "Epoch 73/100\n",
      "830/830 [==============================] - 70s 85ms/step - loss: 0.0231 - accuracy: 0.9964 - val_loss: 0.0712 - val_accuracy: 0.9889\n",
      "Epoch 74/100\n",
      "830/830 [==============================] - 62s 75ms/step - loss: 0.0258 - accuracy: 0.9960 - val_loss: 0.0888 - val_accuracy: 0.9853\n",
      "Epoch 75/100\n",
      "830/830 [==============================] - 63s 76ms/step - loss: 0.0272 - accuracy: 0.9962 - val_loss: 0.0882 - val_accuracy: 0.9876\n",
      "Epoch 76/100\n",
      "830/830 [==============================] - 61s 73ms/step - loss: 0.0222 - accuracy: 0.9968 - val_loss: 0.0902 - val_accuracy: 0.9867\n",
      "Epoch 77/100\n",
      "830/830 [==============================] - 61s 74ms/step - loss: 0.0241 - accuracy: 0.9968 - val_loss: 0.0978 - val_accuracy: 0.9869\n",
      "Epoch 78/100\n",
      "830/830 [==============================] - 59s 72ms/step - loss: 0.0265 - accuracy: 0.9964 - val_loss: 0.0902 - val_accuracy: 0.9874\n",
      "Epoch 79/100\n",
      "830/830 [==============================] - 62s 75ms/step - loss: 0.0279 - accuracy: 0.9960 - val_loss: 0.1005 - val_accuracy: 0.9860\n",
      "Epoch 80/100\n",
      "830/830 [==============================] - 62s 74ms/step - loss: 0.0268 - accuracy: 0.9966 - val_loss: 0.0903 - val_accuracy: 0.9863\n",
      "Epoch 81/100\n",
      "830/830 [==============================] - 65s 78ms/step - loss: 0.0228 - accuracy: 0.9968 - val_loss: 0.0955 - val_accuracy: 0.9867\n",
      "Epoch 82/100\n",
      "830/830 [==============================] - 65s 79ms/step - loss: 0.0254 - accuracy: 0.9963 - val_loss: 0.0913 - val_accuracy: 0.9879\n",
      "Epoch 83/100\n",
      "830/830 [==============================] - 65s 79ms/step - loss: 0.0276 - accuracy: 0.9963 - val_loss: 0.0991 - val_accuracy: 0.9856\n",
      "Epoch 84/100\n",
      "830/830 [==============================] - 61s 74ms/step - loss: 0.0270 - accuracy: 0.9964 - val_loss: 0.0934 - val_accuracy: 0.9864\n",
      "Epoch 85/100\n",
      "830/830 [==============================] - 64s 78ms/step - loss: 0.0260 - accuracy: 0.9963 - val_loss: 0.0858 - val_accuracy: 0.9867\n",
      "Epoch 86/100\n",
      "830/830 [==============================] - 63s 76ms/step - loss: 0.0234 - accuracy: 0.9972 - val_loss: 0.0898 - val_accuracy: 0.9879\n",
      "Epoch 87/100\n",
      "830/830 [==============================] - 62s 75ms/step - loss: 0.0250 - accuracy: 0.9965 - val_loss: 0.0889 - val_accuracy: 0.9871\n",
      "Epoch 88/100\n",
      "830/830 [==============================] - 65s 78ms/step - loss: 0.0260 - accuracy: 0.9964 - val_loss: 0.0907 - val_accuracy: 0.9883\n",
      "Epoch 89/100\n",
      "830/830 [==============================] - 62s 74ms/step - loss: 0.0212 - accuracy: 0.9974 - val_loss: 0.0968 - val_accuracy: 0.9867\n",
      "Epoch 90/100\n",
      "830/830 [==============================] - 62s 74ms/step - loss: 0.0241 - accuracy: 0.9966 - val_loss: 0.1060 - val_accuracy: 0.9871\n",
      "Epoch 91/100\n",
      "830/830 [==============================] - 64s 77ms/step - loss: 0.0307 - accuracy: 0.9958 - val_loss: 0.0915 - val_accuracy: 0.9876\n",
      "Epoch 92/100\n",
      "830/830 [==============================] - 62s 75ms/step - loss: 0.0273 - accuracy: 0.9968 - val_loss: 0.0917 - val_accuracy: 0.9880\n",
      "Epoch 93/100\n",
      "830/830 [==============================] - 63s 76ms/step - loss: 0.0213 - accuracy: 0.9974 - val_loss: 0.0952 - val_accuracy: 0.9892\n",
      "Epoch 94/100\n",
      "830/830 [==============================] - 64s 77ms/step - loss: 0.0246 - accuracy: 0.9968 - val_loss: 0.1005 - val_accuracy: 0.9863\n",
      "Epoch 95/100\n",
      "830/830 [==============================] - 71s 85ms/step - loss: 0.0254 - accuracy: 0.9969 - val_loss: 0.0996 - val_accuracy: 0.9851\n",
      "Epoch 96/100\n",
      "830/830 [==============================] - 83s 100ms/step - loss: 0.0202 - accuracy: 0.9978 - val_loss: 0.0854 - val_accuracy: 0.9876\n",
      "Epoch 97/100\n",
      "830/830 [==============================] - 67s 80ms/step - loss: 0.0225 - accuracy: 0.9971 - val_loss: 0.1075 - val_accuracy: 0.9872\n",
      "Epoch 98/100\n",
      "830/830 [==============================] - 68s 82ms/step - loss: 0.0279 - accuracy: 0.9964 - val_loss: 0.0959 - val_accuracy: 0.9867\n",
      "Epoch 99/100\n",
      "830/830 [==============================] - 71s 86ms/step - loss: 0.0242 - accuracy: 0.9972 - val_loss: 0.1026 - val_accuracy: 0.9875\n",
      "Epoch 100/100\n",
      "830/830 [==============================] - 65s 78ms/step - loss: 0.0288 - accuracy: 0.9961 - val_loss: 0.1283 - val_accuracy: 0.9865\n"
     ]
    }
   ],
   "source": [
    "history = model.fit(train_x, train_y, batch_size=64, epochs=100, verbose=1, validation_data=(test_x, test_y))"
   ]
  },
  {
   "cell_type": "code",
   "execution_count": 9,
   "metadata": {},
   "outputs": [
    {
     "data": {
      "image/png": "[encoded data removed]",
      "text/plain": [
       "<Figure size 800x300 with 1 Axes>"
      ]
     },
     "metadata": {},
     "output_type": "display_data"
    },
    {
     "data": {
      "image/png": "[encoded data removed]",
      "text/plain": [
       "<Figure size 800x300 with 1 Axes>"
      ]
     },
     "metadata": {},
     "output_type": "display_data"
    }
   ],
   "source": [
    "# summarize history for loss\n",
    "plt.figure(figsize=(8,3))\n",
    "plt.plot(history.history['loss'])\n",
    "plt.plot(history.history['val_loss'])\n",
    "plt.title('model loss')\n",
    "plt.ylabel('loss')\n",
    "plt.xlabel('epoch')\n",
    "plt.legend(['train', 'test'], loc='best')\n",
    "plt.show()\n",
    "\n",
    "# summarize history for accuracy\n",
    "plt.figure(figsize=(8,3))\n",
    "plt.plot(history.history['accuracy'])\n",
    "plt.plot(history.history['val_accuracy'])\n",
    "plt.title('model accuracy')\n",
    "plt.ylabel('accuracy')\n",
    "plt.xlabel('epoch')\n",
    "plt.legend(['train', 'test'], loc='best')\n",
    "plt.show()"
   ]
  },
  {
   "cell_type": "code",
   "execution_count": 10,
   "metadata": {},
   "outputs": [
    {
     "name": "stdout",
     "output_type": "stream",
     "text": [
      "415/415 [==============================] - 4s 10ms/step - loss: 0.1283 - accuracy: 0.9865\n",
      "Test Loss: 0.12828819453716278\n",
      "Test accuracy: 0.9865170121192932\n"
     ]
    }
   ],
   "source": [
    "# finding the loss and acuracy of the model\n",
    "score = model.evaluate(test_x, test_y)\n",
    "\n",
    "print('Test Loss:', score[0])\n",
    "print('Test accuracy:', score[1])"
   ]
  },
  {
   "cell_type": "code",
   "execution_count": 11,
   "metadata": {},
   "outputs": [
    {
     "name": "stderr",
     "output_type": "stream",
     "text": [
      "WARNING:absl:Found untraced functions such as _jit_compiled_convolution_op, _jit_compiled_convolution_op, _jit_compiled_convolution_op, _jit_compiled_convolution_op while saving (showing 4 of 4). These functions will not be directly callable after loading.\n"
     ]
    },
    {
     "name": "stdout",
     "output_type": "stream",
     "text": [
      "INFO:tensorflow:Assets written to: CNN_model_24\\assets\n"
     ]
    },
    {
     "name": "stderr",
     "output_type": "stream",
     "text": [
      "INFO:tensorflow:Assets written to: CNN_model_24\\assets\n"
     ]
    }
   ],
   "source": [
    "# save model\n",
    "model.save('CNN_model_24')"
   ]
  },
  {
   "attachments": {},
   "cell_type": "markdown",
   "metadata": {},
   "source": [
    "# confusion matrix"
   ]
  },
  {
   "cell_type": "code",
   "execution_count": 12,
   "metadata": {},
   "outputs": [
    {
     "name": "stdout",
     "output_type": "stream",
     "text": [
      "415/415 [==============================] - 4s 9ms/step\n"
     ]
    },
    {
     "data": {
      "text/plain": [
       "array([3, 1, 2, ..., 0, 3, 0], dtype=int64)"
      ]
     },
     "execution_count": 12,
     "metadata": {},
     "output_type": "execute_result"
    }
   ],
   "source": [
    "y_pred = model.predict(test_x)\n",
    "y_pred = np.argmax(y_pred, axis=1)\n",
    "y_pred"
   ]
  },
  {
   "cell_type": "code",
   "execution_count": 13,
   "metadata": {},
   "outputs": [
    {
     "name": "stdout",
     "output_type": "stream",
     "text": [
      "confusion matrix\n",
      "[[3199    7   15    9   14]\n",
      " [   5 3185    2    6    2]\n",
      " [   5    2 2982    2    1]\n",
      " [  45    8    5 2766   11]\n",
      " [  33    0    2    5  965]]\n",
      "\n",
      "classification report\n",
      "              precision    recall  f1-score   support\n",
      "\n",
      "           N     0.9732    0.9861    0.9796      3244\n",
      "           L     0.9947    0.9953    0.9950      3200\n",
      "           R     0.9920    0.9967    0.9943      2992\n",
      "           V     0.9921    0.9757    0.9838      2835\n",
      "           A     0.9718    0.9602    0.9660      1005\n",
      "\n",
      "    accuracy                         0.9865     13276\n",
      "   macro avg     0.9848    0.9828    0.9838     13276\n",
      "weighted avg     0.9866    0.9865    0.9865     13276\n",
      "\n"
     ]
    }
   ],
   "source": [
    "y_true = test[440]\n",
    "\n",
    "from sklearn.metrics import confusion_matrix, classification_report\n",
    "\n",
    "cm = confusion_matrix(y_true, y_pred)\n",
    "print('confusion matrix')\n",
    "print(cm)\n",
    "print('\\nclassification report')\n",
    "report = classification_report(y_true, y_pred, target_names=['N', 'L', 'R', 'V', 'A'], digits=4)\n",
    "print(report )\n",
    "\n",
    "def report_to_df(report):\n",
    "    report = [x.split(' ') for x in report.split('\\n')]\n",
    "    header = ['Class Name']+[x for x in report[0] if x!='']\n",
    "    values = []\n",
    "    for row in report[1:-5]:\n",
    "        row = [value for value in row if value!='']\n",
    "        if row!=[]:\n",
    "            values.append(row)\n",
    "    df = pd.DataFrame(data = values, columns = header)\n",
    "    return df\n",
    "report = report_to_df(report)\n",
    "\n",
    "# report.to_csv('classification report.csv', index=True)"
   ]
  }
 ],
 "metadata": {
  "kernelspec": {
   "display_name": "cenv1",
   "language": "python",
   "name": "python3"
  },
  "language_info": {
   "codemirror_mode": {
    "name": "ipython",
    "version": 3
   },
   "file_extension": ".py",
   "mimetype": "text/x-python",
   "name": "python",
   "nbconvert_exporter": "python",
   "pygments_lexer": "ipython3",
   "version": "3.10.9"
  },
  "orig_nbformat": 4
 },
 "nbformat": 4,
 "nbformat_minor": 2
}
