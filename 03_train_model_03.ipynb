{
 "cells": [
  {
   "attachments": {},
   "cell_type": "markdown",
   "metadata": {},
   "source": [
    "# Initialize"
   ]
  },
  {
   "cell_type": "code",
   "execution_count": 1,
   "metadata": {},
   "outputs": [],
   "source": [
    "import numpy as np\n",
    "import pandas as pd\n",
    "import matplotlib.pyplot as plt\n",
    "\n",
    "from keras.utils.np_utils import to_categorical\n",
    "from keras.models import Sequential\n",
    "from keras.layers import Conv1D, AvgPool1D, Flatten, Dense, Dropout, Softmax\n",
    "from keras import regularizers\n",
    "from keras.optimizers import Adam \n"
   ]
  },
  {
   "attachments": {},
   "cell_type": "markdown",
   "metadata": {},
   "source": [
    "# Load dataset"
   ]
  },
  {
   "cell_type": "code",
   "execution_count": 2,
   "metadata": {},
   "outputs": [
    {
     "name": "stdout",
     "output_type": "stream",
     "text": [
      "train_data :  (53102, 441)\n",
      "test_data  :  (13276, 441)\n"
     ]
    }
   ],
   "source": [
    "train = pd.read_csv('./data/0.8_train.csv', header=None)\n",
    "test = pd.read_csv('./data/0.2_test.csv', header=None)\n",
    "\n",
    "print(\"train_data : \", np.shape(train))\n",
    "print(\"test_data  : \", np.shape(test))"
   ]
  },
  {
   "cell_type": "code",
   "execution_count": 3,
   "metadata": {},
   "outputs": [
    {
     "name": "stdout",
     "output_type": "stream",
     "text": [
      "data train per class\n",
      "0.0    13152\n",
      "1.0    12938\n",
      "2.0    11508\n",
      "3.0    11421\n",
      "4.0     4083\n",
      "Name: 440, dtype: int64\n",
      "---------------------------------\n",
      "data test per class\n",
      "0.0    3244\n",
      "1.0    3200\n",
      "2.0    2992\n",
      "3.0    2835\n",
      "4.0    1005\n",
      "Name: 440, dtype: int64\n"
     ]
    }
   ],
   "source": [
    "# 0.0 Normal beat\n",
    "# 1.0 LBBB beat\n",
    "# 2.0 RBBB beat\n",
    "# 3.0 PVC beat\n",
    "# 4.0 PAC beat\n",
    "\n",
    "print('data train per class')\n",
    "print(train[440].value_counts())\n",
    "print('---------------------------------')\n",
    "print('data test per class')\n",
    "print(test[440].value_counts())"
   ]
  },
  {
   "cell_type": "code",
   "execution_count": 4,
   "metadata": {},
   "outputs": [
    {
     "name": "stdout",
     "output_type": "stream",
     "text": [
      "(53102, 5) (13276, 5)\n"
     ]
    }
   ],
   "source": [
    "target_train=train[train.shape[1]-1]\n",
    "target_test=test[test.shape[1]-1]\n",
    "train_y=to_categorical(target_train)\n",
    "test_y=to_categorical(target_test)\n",
    "print(np.shape(train_y), np.shape(test_y))"
   ]
  },
  {
   "cell_type": "code",
   "execution_count": 5,
   "metadata": {},
   "outputs": [
    {
     "name": "stdout",
     "output_type": "stream",
     "text": [
      "(53102, 440, 1) (13276, 440, 1)\n"
     ]
    }
   ],
   "source": [
    "train_x = train.iloc[:,:train.shape[1]-1].values\n",
    "test_x = test.iloc[:,:test.shape[1]-1].values\n",
    "train_x = train_x.reshape(len(train_x), train_x.shape[1],1)\n",
    "test_x = test_x.reshape(len(test_x), test_x.shape[1],1)\n",
    "print(np.shape(train_x), np.shape(test_x))"
   ]
  },
  {
   "attachments": {},
   "cell_type": "markdown",
   "metadata": {},
   "source": [
    "# Model architecture"
   ]
  },
  {
   "cell_type": "code",
   "execution_count": 6,
   "metadata": {},
   "outputs": [
    {
     "name": "stdout",
     "output_type": "stream",
     "text": [
      "Model: \"sequential\"\n",
      "_________________________________________________________________\n",
      " Layer (type)                Output Shape              Param #   \n",
      "=================================================================\n",
      " conv1d (Conv1D)             (None, 440, 16)           224       \n",
      "                                                                 \n",
      " average_pooling1d (AverageP  (None, 219, 16)          0         \n",
      " ooling1D)                                                       \n",
      "                                                                 \n",
      " conv1d_1 (Conv1D)           (None, 219, 32)           7712      \n",
      "                                                                 \n",
      " average_pooling1d_1 (Averag  (None, 109, 32)          0         \n",
      " ePooling1D)                                                     \n",
      "                                                                 \n",
      " conv1d_2 (Conv1D)           (None, 109, 64)           34880     \n",
      "                                                                 \n",
      " average_pooling1d_2 (Averag  (None, 54, 64)           0         \n",
      " ePooling1D)                                                     \n",
      "                                                                 \n",
      " conv1d_3 (Conv1D)           (None, 54, 128)           155776    \n",
      "                                                                 \n",
      " average_pooling1d_3 (Averag  (None, 26, 128)          0         \n",
      " ePooling1D)                                                     \n",
      "                                                                 \n",
      " flatten (Flatten)           (None, 3328)              0         \n",
      "                                                                 \n",
      " dropout (Dropout)           (None, 3328)              0         \n",
      "                                                                 \n",
      " dense (Dense)               (None, 35)                116515    \n",
      "                                                                 \n",
      " dense_1 (Dense)             (None, 5)                 180       \n",
      "                                                                 \n",
      " softmax (Softmax)           (None, 5)                 0         \n",
      "                                                                 \n",
      "=================================================================\n",
      "Total params: 315,287\n",
      "Trainable params: 315,287\n",
      "Non-trainable params: 0\n",
      "_________________________________________________________________\n"
     ]
    }
   ],
   "source": [
    "# Instanciate an empty model\n",
    "model = Sequential()\n",
    "\n",
    "model.add(Conv1D(filters=16, kernel_size=13, padding='same', activation='relu',input_shape=(440, 1)))\n",
    "model.add(AvgPool1D(pool_size=3, strides=2))\n",
    "model.add(Conv1D(filters=32, kernel_size=15, padding='same', activation='relu'))\n",
    "model.add(AvgPool1D(pool_size=3, strides=2))\n",
    "model.add(Conv1D(filters=64, kernel_size=17, padding='same', activation='relu'))\n",
    "model.add(AvgPool1D(pool_size=3, strides=2))\n",
    "model.add(Conv1D(filters=128, kernel_size=19, padding='same', activation='relu'))\n",
    "model.add(AvgPool1D(pool_size=3, strides=2))\n",
    "model.add(Flatten())\n",
    "model.add(Dropout(0.5))\n",
    "model.add(Dense(35,kernel_regularizer=regularizers.l2(0.0001), bias_regularizer=regularizers.l2(0.0001)))\n",
    "model.add(Dense(5,kernel_regularizer=regularizers.l2(0.0001), bias_regularizer=regularizers.l2(0.0001)))\n",
    "model.add(Softmax())\n",
    "\n",
    "model.summary()"
   ]
  },
  {
   "attachments": {},
   "cell_type": "markdown",
   "metadata": {},
   "source": [
    "# learning_rate 1e-3, batch_size 32, epoch 100"
   ]
  },
  {
   "cell_type": "code",
   "execution_count": 7,
   "metadata": {},
   "outputs": [],
   "source": [
    "model.compile(loss='categorical_crossentropy', optimizer=Adam(learning_rate=1e-3), metrics=['accuracy'])"
   ]
  },
  {
   "cell_type": "code",
   "execution_count": 8,
   "metadata": {},
   "outputs": [
    {
     "name": "stdout",
     "output_type": "stream",
     "text": [
      "Epoch 1/100\n",
      "1660/1660 [==============================] - 108s 64ms/step - loss: 0.3392 - accuracy: 0.8888 - val_loss: 0.1670 - val_accuracy: 0.9507\n",
      "Epoch 2/100\n",
      "1660/1660 [==============================] - 108s 65ms/step - loss: 0.1518 - accuracy: 0.9581 - val_loss: 0.1104 - val_accuracy: 0.9718\n",
      "Epoch 3/100\n",
      "1660/1660 [==============================] - 110s 66ms/step - loss: 0.1212 - accuracy: 0.9676 - val_loss: 0.0933 - val_accuracy: 0.9768\n",
      "Epoch 4/100\n",
      "1660/1660 [==============================] - 115s 69ms/step - loss: 0.1042 - accuracy: 0.9736 - val_loss: 0.0981 - val_accuracy: 0.9757\n",
      "Epoch 5/100\n",
      "1660/1660 [==============================] - 117s 70ms/step - loss: 0.0926 - accuracy: 0.9768 - val_loss: 0.0816 - val_accuracy: 0.9806\n",
      "Epoch 6/100\n",
      "1660/1660 [==============================] - 114s 68ms/step - loss: 0.0860 - accuracy: 0.9786 - val_loss: 0.0817 - val_accuracy: 0.9815\n",
      "Epoch 7/100\n",
      "1660/1660 [==============================] - 109s 65ms/step - loss: 0.0772 - accuracy: 0.9810 - val_loss: 0.0791 - val_accuracy: 0.9820\n",
      "Epoch 8/100\n",
      "1660/1660 [==============================] - 101s 61ms/step - loss: 0.0713 - accuracy: 0.9823 - val_loss: 0.0709 - val_accuracy: 0.9840\n",
      "Epoch 9/100\n",
      "1660/1660 [==============================] - 102s 61ms/step - loss: 0.0675 - accuracy: 0.9838 - val_loss: 0.0714 - val_accuracy: 0.9831\n",
      "Epoch 10/100\n",
      "1660/1660 [==============================] - 99s 60ms/step - loss: 0.0615 - accuracy: 0.9851 - val_loss: 0.0786 - val_accuracy: 0.9826\n",
      "Epoch 11/100\n",
      "1660/1660 [==============================] - 88s 53ms/step - loss: 0.0575 - accuracy: 0.9864 - val_loss: 0.0739 - val_accuracy: 0.9835\n",
      "Epoch 12/100\n",
      "1660/1660 [==============================] - 87s 52ms/step - loss: 0.0542 - accuracy: 0.9875 - val_loss: 0.0690 - val_accuracy: 0.9847\n",
      "Epoch 13/100\n",
      "1660/1660 [==============================] - 85s 51ms/step - loss: 0.0511 - accuracy: 0.9877 - val_loss: 0.0727 - val_accuracy: 0.9837\n",
      "Epoch 14/100\n",
      "1660/1660 [==============================] - 84s 50ms/step - loss: 0.0480 - accuracy: 0.9893 - val_loss: 0.0712 - val_accuracy: 0.9857\n",
      "Epoch 15/100\n",
      "1660/1660 [==============================] - 87s 52ms/step - loss: 0.0455 - accuracy: 0.9898 - val_loss: 0.0670 - val_accuracy: 0.9858\n",
      "Epoch 16/100\n",
      "1660/1660 [==============================] - 86s 52ms/step - loss: 0.0436 - accuracy: 0.9905 - val_loss: 0.0657 - val_accuracy: 0.9857\n",
      "Epoch 17/100\n",
      "1660/1660 [==============================] - 81s 49ms/step - loss: 0.0414 - accuracy: 0.9906 - val_loss: 0.0756 - val_accuracy: 0.9840\n",
      "Epoch 18/100\n",
      "1660/1660 [==============================] - 87s 53ms/step - loss: 0.0395 - accuracy: 0.9913 - val_loss: 0.0619 - val_accuracy: 0.9871\n",
      "Epoch 19/100\n",
      "1660/1660 [==============================] - 89s 54ms/step - loss: 0.0358 - accuracy: 0.9924 - val_loss: 0.0741 - val_accuracy: 0.9855\n",
      "Epoch 20/100\n",
      "1660/1660 [==============================] - 89s 53ms/step - loss: 0.0373 - accuracy: 0.9920 - val_loss: 0.0698 - val_accuracy: 0.9861\n",
      "Epoch 21/100\n",
      "1660/1660 [==============================] - 90s 54ms/step - loss: 0.0375 - accuracy: 0.9917 - val_loss: 0.0670 - val_accuracy: 0.9859\n",
      "Epoch 22/100\n",
      "1660/1660 [==============================] - 78s 47ms/step - loss: 0.0326 - accuracy: 0.9931 - val_loss: 0.0651 - val_accuracy: 0.9873\n",
      "Epoch 23/100\n",
      "1660/1660 [==============================] - 68s 41ms/step - loss: 0.0309 - accuracy: 0.9935 - val_loss: 0.0709 - val_accuracy: 0.9866\n",
      "Epoch 24/100\n",
      "1660/1660 [==============================] - 74s 45ms/step - loss: 0.0315 - accuracy: 0.9932 - val_loss: 0.0673 - val_accuracy: 0.9870\n",
      "Epoch 25/100\n",
      "1660/1660 [==============================] - 76s 46ms/step - loss: 0.0284 - accuracy: 0.9942 - val_loss: 0.0730 - val_accuracy: 0.9849\n",
      "Epoch 26/100\n",
      "1660/1660 [==============================] - 88s 53ms/step - loss: 0.0280 - accuracy: 0.9943 - val_loss: 0.0686 - val_accuracy: 0.9874\n",
      "Epoch 27/100\n",
      "1660/1660 [==============================] - 75s 45ms/step - loss: 0.0262 - accuracy: 0.9946 - val_loss: 0.0664 - val_accuracy: 0.9869\n",
      "Epoch 28/100\n",
      "1660/1660 [==============================] - 76s 46ms/step - loss: 0.0286 - accuracy: 0.9940 - val_loss: 0.0767 - val_accuracy: 0.9852\n",
      "Epoch 29/100\n",
      "1660/1660 [==============================] - 87s 52ms/step - loss: 0.0268 - accuracy: 0.9944 - val_loss: 0.0761 - val_accuracy: 0.9846\n",
      "Epoch 30/100\n",
      "1660/1660 [==============================] - 97s 58ms/step - loss: 0.0234 - accuracy: 0.9955 - val_loss: 0.0769 - val_accuracy: 0.9846\n",
      "Epoch 31/100\n",
      "1660/1660 [==============================] - 101s 61ms/step - loss: 0.0247 - accuracy: 0.9953 - val_loss: 0.0703 - val_accuracy: 0.9873\n",
      "Epoch 32/100\n",
      "1660/1660 [==============================] - 95s 57ms/step - loss: 0.0252 - accuracy: 0.9947 - val_loss: 0.0768 - val_accuracy: 0.9860\n",
      "Epoch 33/100\n",
      "1660/1660 [==============================] - 96s 58ms/step - loss: 0.0236 - accuracy: 0.9955 - val_loss: 0.0672 - val_accuracy: 0.9882\n",
      "Epoch 34/100\n",
      "1660/1660 [==============================] - 91s 55ms/step - loss: 0.0219 - accuracy: 0.9957 - val_loss: 0.0760 - val_accuracy: 0.9864\n",
      "Epoch 35/100\n",
      "1660/1660 [==============================] - 98s 59ms/step - loss: 0.0229 - accuracy: 0.9956 - val_loss: 0.0667 - val_accuracy: 0.9872\n",
      "Epoch 36/100\n",
      "1660/1660 [==============================] - 87s 53ms/step - loss: 0.0210 - accuracy: 0.9961 - val_loss: 0.0769 - val_accuracy: 0.9876\n",
      "Epoch 37/100\n",
      "1660/1660 [==============================] - 99s 60ms/step - loss: 0.0237 - accuracy: 0.9953 - val_loss: 0.0726 - val_accuracy: 0.9876\n",
      "Epoch 38/100\n",
      "1660/1660 [==============================] - 99s 59ms/step - loss: 0.0207 - accuracy: 0.9958 - val_loss: 0.0718 - val_accuracy: 0.9876\n",
      "Epoch 39/100\n",
      "1660/1660 [==============================] - 103s 62ms/step - loss: 0.0219 - accuracy: 0.9956 - val_loss: 0.0683 - val_accuracy: 0.9868\n",
      "Epoch 40/100\n",
      "1660/1660 [==============================] - 100s 60ms/step - loss: 0.0218 - accuracy: 0.9958 - val_loss: 0.0744 - val_accuracy: 0.9861\n",
      "Epoch 41/100\n",
      "1660/1660 [==============================] - 98s 59ms/step - loss: 0.0222 - accuracy: 0.9959 - val_loss: 0.0763 - val_accuracy: 0.9870\n",
      "Epoch 42/100\n",
      "1660/1660 [==============================] - 102s 61ms/step - loss: 0.0200 - accuracy: 0.9962 - val_loss: 0.0809 - val_accuracy: 0.9862\n",
      "Epoch 43/100\n",
      "1660/1660 [==============================] - 95s 57ms/step - loss: 0.0203 - accuracy: 0.9961 - val_loss: 0.0726 - val_accuracy: 0.9866\n",
      "Epoch 44/100\n",
      "1660/1660 [==============================] - 93s 56ms/step - loss: 0.0211 - accuracy: 0.9961 - val_loss: 0.0780 - val_accuracy: 0.9868\n",
      "Epoch 45/100\n",
      "1660/1660 [==============================] - 89s 53ms/step - loss: 0.0204 - accuracy: 0.9963 - val_loss: 0.0816 - val_accuracy: 0.9869\n",
      "Epoch 46/100\n",
      "1660/1660 [==============================] - 88s 53ms/step - loss: 0.0204 - accuracy: 0.9959 - val_loss: 0.0748 - val_accuracy: 0.9865\n",
      "Epoch 47/100\n",
      "1660/1660 [==============================] - 90s 54ms/step - loss: 0.0200 - accuracy: 0.9963 - val_loss: 0.0649 - val_accuracy: 0.9882\n",
      "Epoch 48/100\n",
      "1660/1660 [==============================] - 79s 48ms/step - loss: 0.0196 - accuracy: 0.9964 - val_loss: 0.0734 - val_accuracy: 0.9863\n",
      "Epoch 49/100\n",
      "1660/1660 [==============================] - 79s 47ms/step - loss: 0.0193 - accuracy: 0.9964 - val_loss: 0.0761 - val_accuracy: 0.9879\n",
      "Epoch 50/100\n",
      "1660/1660 [==============================] - 80s 48ms/step - loss: 0.0187 - accuracy: 0.9965 - val_loss: 0.0792 - val_accuracy: 0.9874\n",
      "Epoch 51/100\n",
      "1660/1660 [==============================] - 76s 46ms/step - loss: 0.0190 - accuracy: 0.9965 - val_loss: 0.0768 - val_accuracy: 0.9882\n",
      "Epoch 52/100\n",
      "1660/1660 [==============================] - 78s 47ms/step - loss: 0.0198 - accuracy: 0.9962 - val_loss: 0.0698 - val_accuracy: 0.9871\n",
      "Epoch 53/100\n",
      "1660/1660 [==============================] - 89s 54ms/step - loss: 0.0164 - accuracy: 0.9975 - val_loss: 0.0769 - val_accuracy: 0.9864\n",
      "Epoch 54/100\n",
      "1660/1660 [==============================] - 71s 43ms/step - loss: 0.0198 - accuracy: 0.9965 - val_loss: 0.0758 - val_accuracy: 0.9864\n",
      "Epoch 55/100\n",
      "1660/1660 [==============================] - 71s 43ms/step - loss: 0.0175 - accuracy: 0.9970 - val_loss: 0.0813 - val_accuracy: 0.9882\n",
      "Epoch 56/100\n",
      "1660/1660 [==============================] - 70s 42ms/step - loss: 0.0188 - accuracy: 0.9967 - val_loss: 0.0808 - val_accuracy: 0.9867\n",
      "Epoch 57/100\n",
      "1660/1660 [==============================] - 93s 56ms/step - loss: 0.0182 - accuracy: 0.9970 - val_loss: 0.0691 - val_accuracy: 0.9888\n",
      "Epoch 58/100\n",
      "1660/1660 [==============================] - 85s 51ms/step - loss: 0.0190 - accuracy: 0.9963 - val_loss: 0.0747 - val_accuracy: 0.9873\n",
      "Epoch 59/100\n",
      "1660/1660 [==============================] - 66s 40ms/step - loss: 0.0169 - accuracy: 0.9973 - val_loss: 0.0791 - val_accuracy: 0.9879\n",
      "Epoch 60/100\n",
      "1660/1660 [==============================] - 67s 41ms/step - loss: 0.0178 - accuracy: 0.9970 - val_loss: 0.0870 - val_accuracy: 0.9870\n",
      "Epoch 61/100\n",
      "1660/1660 [==============================] - 67s 40ms/step - loss: 0.0192 - accuracy: 0.9968 - val_loss: 0.0739 - val_accuracy: 0.9882\n",
      "Epoch 62/100\n",
      "1660/1660 [==============================] - 68s 41ms/step - loss: 0.0173 - accuracy: 0.9972 - val_loss: 0.0775 - val_accuracy: 0.9879\n",
      "Epoch 63/100\n",
      "1660/1660 [==============================] - 70s 42ms/step - loss: 0.0169 - accuracy: 0.9972 - val_loss: 0.0729 - val_accuracy: 0.9873\n",
      "Epoch 64/100\n",
      "1660/1660 [==============================] - 70s 42ms/step - loss: 0.0170 - accuracy: 0.9973 - val_loss: 0.0753 - val_accuracy: 0.9882\n",
      "Epoch 65/100\n",
      "1660/1660 [==============================] - 71s 43ms/step - loss: 0.0179 - accuracy: 0.9970 - val_loss: 0.0851 - val_accuracy: 0.9868\n",
      "Epoch 66/100\n",
      "1660/1660 [==============================] - 71s 43ms/step - loss: 0.0184 - accuracy: 0.9969 - val_loss: 0.0760 - val_accuracy: 0.9877\n",
      "Epoch 67/100\n",
      "1660/1660 [==============================] - 71s 43ms/step - loss: 0.0190 - accuracy: 0.9972 - val_loss: 0.0737 - val_accuracy: 0.9859\n",
      "Epoch 68/100\n",
      "1660/1660 [==============================] - 74s 44ms/step - loss: 0.0165 - accuracy: 0.9973 - val_loss: 0.0763 - val_accuracy: 0.9873\n",
      "Epoch 69/100\n",
      "1660/1660 [==============================] - 70s 42ms/step - loss: 0.0190 - accuracy: 0.9969 - val_loss: 0.0709 - val_accuracy: 0.9876\n",
      "Epoch 70/100\n",
      "1660/1660 [==============================] - 72s 43ms/step - loss: 0.0165 - accuracy: 0.9974 - val_loss: 0.0828 - val_accuracy: 0.9873\n",
      "Epoch 71/100\n",
      "1660/1660 [==============================] - 72s 43ms/step - loss: 0.0162 - accuracy: 0.9973 - val_loss: 0.0911 - val_accuracy: 0.9846\n",
      "Epoch 72/100\n",
      "1660/1660 [==============================] - 74s 45ms/step - loss: 0.0160 - accuracy: 0.9976 - val_loss: 0.0905 - val_accuracy: 0.9882\n",
      "Epoch 73/100\n",
      "1660/1660 [==============================] - 70s 42ms/step - loss: 0.0167 - accuracy: 0.9974 - val_loss: 0.0781 - val_accuracy: 0.9883\n",
      "Epoch 74/100\n",
      "1660/1660 [==============================] - 70s 42ms/step - loss: 0.0157 - accuracy: 0.9975 - val_loss: 0.0876 - val_accuracy: 0.9870\n",
      "Epoch 75/100\n",
      "1660/1660 [==============================] - 69s 41ms/step - loss: 0.0171 - accuracy: 0.9974 - val_loss: 0.0766 - val_accuracy: 0.9887\n",
      "Epoch 76/100\n",
      "1660/1660 [==============================] - 69s 42ms/step - loss: 0.0164 - accuracy: 0.9976 - val_loss: 0.0814 - val_accuracy: 0.9874\n",
      "Epoch 77/100\n",
      "1660/1660 [==============================] - 71s 43ms/step - loss: 0.0151 - accuracy: 0.9976 - val_loss: 0.0750 - val_accuracy: 0.9880\n",
      "Epoch 78/100\n",
      "1660/1660 [==============================] - 72s 43ms/step - loss: 0.0147 - accuracy: 0.9976 - val_loss: 0.1053 - val_accuracy: 0.9853\n",
      "Epoch 79/100\n",
      "1660/1660 [==============================] - 71s 43ms/step - loss: 0.0164 - accuracy: 0.9976 - val_loss: 0.0928 - val_accuracy: 0.9872\n",
      "Epoch 80/100\n",
      "1660/1660 [==============================] - 73s 44ms/step - loss: 0.0158 - accuracy: 0.9974 - val_loss: 0.0879 - val_accuracy: 0.9872\n",
      "Epoch 81/100\n",
      "1660/1660 [==============================] - 72s 44ms/step - loss: 0.0172 - accuracy: 0.9973 - val_loss: 0.0834 - val_accuracy: 0.9867\n",
      "Epoch 82/100\n",
      "1660/1660 [==============================] - 74s 44ms/step - loss: 0.0164 - accuracy: 0.9972 - val_loss: 0.0829 - val_accuracy: 0.9867\n",
      "Epoch 83/100\n",
      "1660/1660 [==============================] - 73s 44ms/step - loss: 0.0171 - accuracy: 0.9975 - val_loss: 0.0712 - val_accuracy: 0.9881\n",
      "Epoch 84/100\n",
      "1660/1660 [==============================] - 71s 43ms/step - loss: 0.0148 - accuracy: 0.9978 - val_loss: 0.0848 - val_accuracy: 0.9884\n",
      "Epoch 85/100\n",
      "1660/1660 [==============================] - 71s 43ms/step - loss: 0.0165 - accuracy: 0.9974 - val_loss: 0.0851 - val_accuracy: 0.9878\n",
      "Epoch 86/100\n",
      "1660/1660 [==============================] - 71s 43ms/step - loss: 0.0141 - accuracy: 0.9980 - val_loss: 0.0785 - val_accuracy: 0.9884\n",
      "Epoch 87/100\n",
      "1660/1660 [==============================] - 72s 43ms/step - loss: 0.0152 - accuracy: 0.9976 - val_loss: 0.0766 - val_accuracy: 0.9879\n",
      "Epoch 88/100\n",
      "1660/1660 [==============================] - 74s 44ms/step - loss: 0.0146 - accuracy: 0.9978 - val_loss: 0.0878 - val_accuracy: 0.9866\n",
      "Epoch 89/100\n",
      "1660/1660 [==============================] - 74s 44ms/step - loss: 0.0185 - accuracy: 0.9970 - val_loss: 0.0917 - val_accuracy: 0.9871\n",
      "Epoch 90/100\n",
      "1660/1660 [==============================] - 72s 43ms/step - loss: 0.0159 - accuracy: 0.9974 - val_loss: 0.0799 - val_accuracy: 0.9877\n",
      "Epoch 91/100\n",
      "1660/1660 [==============================] - 72s 43ms/step - loss: 0.0156 - accuracy: 0.9977 - val_loss: 0.0793 - val_accuracy: 0.9879\n",
      "Epoch 92/100\n",
      "1660/1660 [==============================] - 71s 43ms/step - loss: 0.0141 - accuracy: 0.9981 - val_loss: 0.0771 - val_accuracy: 0.9882\n",
      "Epoch 93/100\n",
      "1660/1660 [==============================] - 73s 44ms/step - loss: 0.0173 - accuracy: 0.9975 - val_loss: 0.0774 - val_accuracy: 0.9885\n",
      "Epoch 94/100\n",
      "1660/1660 [==============================] - 72s 43ms/step - loss: 0.0155 - accuracy: 0.9977 - val_loss: 0.0838 - val_accuracy: 0.9879\n",
      "Epoch 95/100\n",
      "1660/1660 [==============================] - 70s 42ms/step - loss: 0.0177 - accuracy: 0.9969 - val_loss: 0.0857 - val_accuracy: 0.9874\n",
      "Epoch 96/100\n",
      "1660/1660 [==============================] - 72s 43ms/step - loss: 0.0137 - accuracy: 0.9982 - val_loss: 0.0866 - val_accuracy: 0.9876\n",
      "Epoch 97/100\n",
      "1660/1660 [==============================] - 71s 43ms/step - loss: 0.0164 - accuracy: 0.9978 - val_loss: 0.1024 - val_accuracy: 0.9860\n",
      "Epoch 98/100\n",
      "1660/1660 [==============================] - 70s 42ms/step - loss: 0.0162 - accuracy: 0.9978 - val_loss: 0.0839 - val_accuracy: 0.9880\n",
      "Epoch 99/100\n",
      "1660/1660 [==============================] - 68s 41ms/step - loss: 0.0127 - accuracy: 0.9980 - val_loss: 0.1003 - val_accuracy: 0.9864\n",
      "Epoch 100/100\n",
      "1660/1660 [==============================] - 73s 44ms/step - loss: 0.0149 - accuracy: 0.9979 - val_loss: 0.0915 - val_accuracy: 0.9874\n"
     ]
    }
   ],
   "source": [
    "history = model.fit(train_x, train_y, batch_size=32, epochs=100, verbose=1, validation_data=(test_x, test_y))"
   ]
  },
  {
   "cell_type": "code",
   "execution_count": 9,
   "metadata": {},
   "outputs": [
    {
     "data": {
      "image/png": "[encoded data removed]",
      "text/plain": [
       "<Figure size 800x300 with 1 Axes>"
      ]
     },
     "metadata": {},
     "output_type": "display_data"
    },
    {
     "data": {
      "image/png": "[encoded data removed]",
      "text/plain": [
       "<Figure size 800x300 with 1 Axes>"
      ]
     },
     "metadata": {},
     "output_type": "display_data"
    }
   ],
   "source": [
    "# summarize history for loss\n",
    "plt.figure(figsize=(8,3))\n",
    "plt.plot(history.history['loss'])\n",
    "plt.plot(history.history['val_loss'])\n",
    "plt.title('model loss')\n",
    "plt.ylabel('loss')\n",
    "plt.xlabel('epoch')\n",
    "plt.legend(['train', 'test'], loc='best')\n",
    "plt.show()\n",
    "\n",
    "# summarize history for accuracy\n",
    "plt.figure(figsize=(8,3))\n",
    "plt.plot(history.history['accuracy'])\n",
    "plt.plot(history.history['val_accuracy'])\n",
    "plt.title('model accuracy')\n",
    "plt.ylabel('accuracy')\n",
    "plt.xlabel('epoch')\n",
    "plt.legend(['train', 'test'], loc='best')\n",
    "plt.show()"
   ]
  },
  {
   "cell_type": "code",
   "execution_count": 10,
   "metadata": {},
   "outputs": [
    {
     "name": "stdout",
     "output_type": "stream",
     "text": [
      "415/415 [==============================] - 4s 10ms/step - loss: 0.0915 - accuracy: 0.9874\n",
      "Test Loss: 0.09146443009376526\n",
      "Test accuracy: 0.987420916557312\n"
     ]
    }
   ],
   "source": [
    "# finding the loss and acuracy of the model\n",
    "score = model.evaluate(test_x, test_y)\n",
    "\n",
    "print('Test Loss:', score[0])\n",
    "print('Test accuracy:', score[1])"
   ]
  },
  {
   "cell_type": "code",
   "execution_count": 11,
   "metadata": {},
   "outputs": [
    {
     "name": "stderr",
     "output_type": "stream",
     "text": [
      "WARNING:absl:Found untraced functions such as _jit_compiled_convolution_op, _jit_compiled_convolution_op, _jit_compiled_convolution_op, _jit_compiled_convolution_op while saving (showing 4 of 4). These functions will not be directly callable after loading.\n"
     ]
    },
    {
     "name": "stdout",
     "output_type": "stream",
     "text": [
      "INFO:tensorflow:Assets written to: CNN_model_3\\assets\n"
     ]
    },
    {
     "name": "stderr",
     "output_type": "stream",
     "text": [
      "INFO:tensorflow:Assets written to: CNN_model_3\\assets\n"
     ]
    }
   ],
   "source": [
    "# save model\n",
    "model.save('CNN_model_3')"
   ]
  },
  {
   "attachments": {},
   "cell_type": "markdown",
   "metadata": {},
   "source": [
    "# confusion matrix"
   ]
  },
  {
   "cell_type": "code",
   "execution_count": 12,
   "metadata": {},
   "outputs": [
    {
     "name": "stdout",
     "output_type": "stream",
     "text": [
      "415/415 [==============================] - 4s 9ms/step\n"
     ]
    },
    {
     "data": {
      "text/plain": [
       "array([3, 1, 2, ..., 0, 3, 0], dtype=int64)"
      ]
     },
     "execution_count": 12,
     "metadata": {},
     "output_type": "execute_result"
    }
   ],
   "source": [
    "y_pred = model.predict(test_x)\n",
    "y_pred = np.argmax(y_pred, axis=1)\n",
    "y_pred"
   ]
  },
  {
   "cell_type": "code",
   "execution_count": 13,
   "metadata": {},
   "outputs": [
    {
     "name": "stdout",
     "output_type": "stream",
     "text": [
      "confusion matrix\n",
      "[[3190    8   10   18   18]\n",
      " [   2 3191    0    6    1]\n",
      " [   7    4 2973    5    3]\n",
      " [  30    8    3 2788    6]\n",
      " [  24    0    2   12  967]]\n",
      "\n",
      "classification report\n",
      "              precision    recall  f1-score   support\n",
      "\n",
      "           N     0.9806    0.9834    0.9820      3244\n",
      "           L     0.9938    0.9972    0.9955      3200\n",
      "           R     0.9950    0.9936    0.9943      2992\n",
      "           V     0.9855    0.9834    0.9845      2835\n",
      "           A     0.9719    0.9622    0.9670      1005\n",
      "\n",
      "    accuracy                         0.9874     13276\n",
      "   macro avg     0.9854    0.9840    0.9846     13276\n",
      "weighted avg     0.9874    0.9874    0.9874     13276\n",
      "\n"
     ]
    }
   ],
   "source": [
    "y_true = test[440]\n",
    "\n",
    "from sklearn.metrics import confusion_matrix, classification_report\n",
    "\n",
    "cm = confusion_matrix(y_true, y_pred)\n",
    "print('confusion matrix')\n",
    "print(cm)\n",
    "print('\\nclassification report')\n",
    "report = classification_report(y_true, y_pred, target_names=['N', 'L', 'R', 'V', 'A'], digits=4)\n",
    "print(report )\n",
    "\n",
    "def report_to_df(report):\n",
    "    report = [x.split(' ') for x in report.split('\\n')]\n",
    "    header = ['Class Name']+[x for x in report[0] if x!='']\n",
    "    values = []\n",
    "    for row in report[1:-5]:\n",
    "        row = [value for value in row if value!='']\n",
    "        if row!=[]:\n",
    "            values.append(row)\n",
    "    df = pd.DataFrame(data = values, columns = header)\n",
    "    return df\n",
    "report = report_to_df(report)\n",
    "\n",
    "# report.to_csv('classification report.csv', index=True)"
   ]
  }
 ],
 "metadata": {
  "kernelspec": {
   "display_name": "cenv1",
   "language": "python",
   "name": "python3"
  },
  "language_info": {
   "codemirror_mode": {
    "name": "ipython",
    "version": 3
   },
   "file_extension": ".py",
   "mimetype": "text/x-python",
   "name": "python",
   "nbconvert_exporter": "python",
   "pygments_lexer": "ipython3",
   "version": "3.10.9"
  },
  "orig_nbformat": 4
 },
 "nbformat": 4,
 "nbformat_minor": 2
}
