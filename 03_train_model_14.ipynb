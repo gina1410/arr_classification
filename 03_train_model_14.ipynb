{
 "cells": [
  {
   "attachments": {},
   "cell_type": "markdown",
   "metadata": {},
   "source": [
    "# Initialize"
   ]
  },
  {
   "cell_type": "code",
   "execution_count": 1,
   "metadata": {},
   "outputs": [],
   "source": [
    "import numpy as np\n",
    "import pandas as pd\n",
    "import matplotlib.pyplot as plt\n",
    "\n",
    "from keras.utils.np_utils import to_categorical\n",
    "from keras.models import Sequential\n",
    "from keras.layers import Conv1D, AvgPool1D, Flatten, Dense, Dropout, Softmax\n",
    "from keras import regularizers\n",
    "from keras.optimizers import Adam \n"
   ]
  },
  {
   "attachments": {},
   "cell_type": "markdown",
   "metadata": {},
   "source": [
    "# Load dataset"
   ]
  },
  {
   "cell_type": "code",
   "execution_count": 2,
   "metadata": {},
   "outputs": [
    {
     "name": "stdout",
     "output_type": "stream",
     "text": [
      "train_data :  (53102, 441)\n",
      "test_data  :  (13276, 441)\n"
     ]
    }
   ],
   "source": [
    "train = pd.read_csv('./data/0.8_train.csv', header=None)\n",
    "test = pd.read_csv('./data/0.2_test.csv', header=None)\n",
    "\n",
    "print(\"train_data : \", np.shape(train))\n",
    "print(\"test_data  : \", np.shape(test))"
   ]
  },
  {
   "cell_type": "code",
   "execution_count": 3,
   "metadata": {},
   "outputs": [
    {
     "name": "stdout",
     "output_type": "stream",
     "text": [
      "data train per class\n",
      "0.0    13152\n",
      "1.0    12938\n",
      "2.0    11508\n",
      "3.0    11421\n",
      "4.0     4083\n",
      "Name: 440, dtype: int64\n",
      "---------------------------------\n",
      "data test per class\n",
      "0.0    3244\n",
      "1.0    3200\n",
      "2.0    2992\n",
      "3.0    2835\n",
      "4.0    1005\n",
      "Name: 440, dtype: int64\n"
     ]
    }
   ],
   "source": [
    "# 0.0 Normal beat\n",
    "# 1.0 LBBB beat\n",
    "# 2.0 RBBB beat\n",
    "# 3.0 PVC beat\n",
    "# 4.0 PAC beat\n",
    "\n",
    "print('data train per class')\n",
    "print(train[440].value_counts())\n",
    "print('---------------------------------')\n",
    "print('data test per class')\n",
    "print(test[440].value_counts())"
   ]
  },
  {
   "cell_type": "code",
   "execution_count": 4,
   "metadata": {},
   "outputs": [
    {
     "name": "stdout",
     "output_type": "stream",
     "text": [
      "(53102, 5) (13276, 5)\n"
     ]
    }
   ],
   "source": [
    "target_train=train[train.shape[1]-1]\n",
    "target_test=test[test.shape[1]-1]\n",
    "train_y=to_categorical(target_train)\n",
    "test_y=to_categorical(target_test)\n",
    "print(np.shape(train_y), np.shape(test_y))"
   ]
  },
  {
   "cell_type": "code",
   "execution_count": 5,
   "metadata": {},
   "outputs": [
    {
     "name": "stdout",
     "output_type": "stream",
     "text": [
      "(53102, 440, 1) (13276, 440, 1)\n"
     ]
    }
   ],
   "source": [
    "train_x = train.iloc[:,:train.shape[1]-1].values\n",
    "test_x = test.iloc[:,:test.shape[1]-1].values\n",
    "train_x = train_x.reshape(len(train_x), train_x.shape[1],1)\n",
    "test_x = test_x.reshape(len(test_x), test_x.shape[1],1)\n",
    "print(np.shape(train_x), np.shape(test_x))"
   ]
  },
  {
   "attachments": {},
   "cell_type": "markdown",
   "metadata": {},
   "source": [
    "# Model architecture"
   ]
  },
  {
   "cell_type": "code",
   "execution_count": 6,
   "metadata": {},
   "outputs": [
    {
     "name": "stdout",
     "output_type": "stream",
     "text": [
      "Model: \"sequential\"\n",
      "_________________________________________________________________\n",
      " Layer (type)                Output Shape              Param #   \n",
      "=================================================================\n",
      " conv1d (Conv1D)             (None, 440, 16)           224       \n",
      "                                                                 \n",
      " average_pooling1d (AverageP  (None, 219, 16)          0         \n",
      " ooling1D)                                                       \n",
      "                                                                 \n",
      " conv1d_1 (Conv1D)           (None, 219, 32)           7712      \n",
      "                                                                 \n",
      " average_pooling1d_1 (Averag  (None, 109, 32)          0         \n",
      " ePooling1D)                                                     \n",
      "                                                                 \n",
      " conv1d_2 (Conv1D)           (None, 109, 64)           34880     \n",
      "                                                                 \n",
      " average_pooling1d_2 (Averag  (None, 54, 64)           0         \n",
      " ePooling1D)                                                     \n",
      "                                                                 \n",
      " conv1d_3 (Conv1D)           (None, 54, 128)           155776    \n",
      "                                                                 \n",
      " average_pooling1d_3 (Averag  (None, 26, 128)          0         \n",
      " ePooling1D)                                                     \n",
      "                                                                 \n",
      " flatten (Flatten)           (None, 3328)              0         \n",
      "                                                                 \n",
      " dropout (Dropout)           (None, 3328)              0         \n",
      "                                                                 \n",
      " dense (Dense)               (None, 35)                116515    \n",
      "                                                                 \n",
      " dense_1 (Dense)             (None, 5)                 180       \n",
      "                                                                 \n",
      " softmax (Softmax)           (None, 5)                 0         \n",
      "                                                                 \n",
      "=================================================================\n",
      "Total params: 315,287\n",
      "Trainable params: 315,287\n",
      "Non-trainable params: 0\n",
      "_________________________________________________________________\n"
     ]
    }
   ],
   "source": [
    "# Instanciate an empty model\n",
    "model = Sequential()\n",
    "\n",
    "model.add(Conv1D(filters=16, kernel_size=13, padding='same', activation='relu',input_shape=(440, 1)))\n",
    "model.add(AvgPool1D(pool_size=3, strides=2))\n",
    "model.add(Conv1D(filters=32, kernel_size=15, padding='same', activation='relu'))\n",
    "model.add(AvgPool1D(pool_size=3, strides=2))\n",
    "model.add(Conv1D(filters=64, kernel_size=17, padding='same', activation='relu'))\n",
    "model.add(AvgPool1D(pool_size=3, strides=2))\n",
    "model.add(Conv1D(filters=128, kernel_size=19, padding='same', activation='relu'))\n",
    "model.add(AvgPool1D(pool_size=3, strides=2))\n",
    "model.add(Flatten())\n",
    "model.add(Dropout(0.5))\n",
    "model.add(Dense(35,kernel_regularizer=regularizers.l2(0.0001), bias_regularizer=regularizers.l2(0.0001)))\n",
    "model.add(Dense(5,kernel_regularizer=regularizers.l2(0.0001), bias_regularizer=regularizers.l2(0.0001)))\n",
    "model.add(Softmax())\n",
    "\n",
    "model.summary()"
   ]
  },
  {
   "attachments": {},
   "cell_type": "markdown",
   "metadata": {},
   "source": [
    "# learning_rate 0.0015, batch_size 64, epoch 75"
   ]
  },
  {
   "cell_type": "code",
   "execution_count": 7,
   "metadata": {},
   "outputs": [],
   "source": [
    "model.compile(loss='categorical_crossentropy', optimizer=Adam(learning_rate=0.0015), metrics=['accuracy'])"
   ]
  },
  {
   "cell_type": "code",
   "execution_count": 8,
   "metadata": {},
   "outputs": [
    {
     "name": "stdout",
     "output_type": "stream",
     "text": [
      "Epoch 1/75\n",
      "830/830 [==============================] - 109s 128ms/step - loss: 0.3607 - accuracy: 0.8794 - val_loss: 0.1569 - val_accuracy: 0.9549\n",
      "Epoch 2/75\n",
      "830/830 [==============================] - 103s 124ms/step - loss: 0.1554 - accuracy: 0.9570 - val_loss: 0.1268 - val_accuracy: 0.9675\n",
      "Epoch 3/75\n",
      "830/830 [==============================] - 100s 121ms/step - loss: 0.1208 - accuracy: 0.9682 - val_loss: 0.1135 - val_accuracy: 0.9710\n",
      "Epoch 4/75\n",
      "830/830 [==============================] - 97s 117ms/step - loss: 0.1072 - accuracy: 0.9719 - val_loss: 0.0936 - val_accuracy: 0.9784\n",
      "Epoch 5/75\n",
      "830/830 [==============================] - 98s 118ms/step - loss: 0.0983 - accuracy: 0.9747 - val_loss: 0.0935 - val_accuracy: 0.9768\n",
      "Epoch 6/75\n",
      "830/830 [==============================] - 96s 115ms/step - loss: 0.0877 - accuracy: 0.9782 - val_loss: 0.0805 - val_accuracy: 0.9820\n",
      "Epoch 7/75\n",
      "830/830 [==============================] - 98s 118ms/step - loss: 0.0813 - accuracy: 0.9801 - val_loss: 0.0841 - val_accuracy: 0.9815\n",
      "Epoch 8/75\n",
      "830/830 [==============================] - 95s 115ms/step - loss: 0.0772 - accuracy: 0.9814 - val_loss: 0.0752 - val_accuracy: 0.9831\n",
      "Epoch 9/75\n",
      "830/830 [==============================] - 99s 119ms/step - loss: 0.0692 - accuracy: 0.9834 - val_loss: 0.0976 - val_accuracy: 0.9794\n",
      "Epoch 10/75\n",
      "830/830 [==============================] - 98s 118ms/step - loss: 0.0663 - accuracy: 0.9850 - val_loss: 0.0670 - val_accuracy: 0.9848\n",
      "Epoch 11/75\n",
      "830/830 [==============================] - 101s 122ms/step - loss: 0.0637 - accuracy: 0.9847 - val_loss: 0.0700 - val_accuracy: 0.9854\n",
      "Epoch 12/75\n",
      "830/830 [==============================] - 99s 120ms/step - loss: 0.0577 - accuracy: 0.9861 - val_loss: 0.0648 - val_accuracy: 0.9859\n",
      "Epoch 13/75\n",
      "830/830 [==============================] - 91s 110ms/step - loss: 0.0528 - accuracy: 0.9876 - val_loss: 0.0673 - val_accuracy: 0.9849\n",
      "Epoch 14/75\n",
      "830/830 [==============================] - 89s 108ms/step - loss: 0.0509 - accuracy: 0.9883 - val_loss: 0.0643 - val_accuracy: 0.9864\n",
      "Epoch 15/75\n",
      "830/830 [==============================] - 90s 108ms/step - loss: 0.0472 - accuracy: 0.9892 - val_loss: 0.0680 - val_accuracy: 0.9859\n",
      "Epoch 16/75\n",
      "830/830 [==============================] - 94s 114ms/step - loss: 0.0462 - accuracy: 0.9893 - val_loss: 0.0755 - val_accuracy: 0.9836\n",
      "Epoch 17/75\n",
      "830/830 [==============================] - 92s 111ms/step - loss: 0.0458 - accuracy: 0.9903 - val_loss: 0.0761 - val_accuracy: 0.9833\n",
      "Epoch 18/75\n",
      "830/830 [==============================] - 90s 109ms/step - loss: 0.0430 - accuracy: 0.9901 - val_loss: 0.0653 - val_accuracy: 0.9857\n",
      "Epoch 19/75\n",
      "830/830 [==============================] - 87s 105ms/step - loss: 0.0402 - accuracy: 0.9917 - val_loss: 0.0667 - val_accuracy: 0.9869\n",
      "Epoch 20/75\n",
      "830/830 [==============================] - 89s 108ms/step - loss: 0.0387 - accuracy: 0.9918 - val_loss: 0.0702 - val_accuracy: 0.9852\n",
      "Epoch 21/75\n",
      "830/830 [==============================] - 94s 114ms/step - loss: 0.0379 - accuracy: 0.9921 - val_loss: 0.0649 - val_accuracy: 0.9861\n",
      "Epoch 22/75\n",
      "830/830 [==============================] - 96s 115ms/step - loss: 0.0352 - accuracy: 0.9923 - val_loss: 0.0716 - val_accuracy: 0.9859\n",
      "Epoch 23/75\n",
      "830/830 [==============================] - 96s 115ms/step - loss: 0.0359 - accuracy: 0.9923 - val_loss: 0.0672 - val_accuracy: 0.9867\n",
      "Epoch 24/75\n",
      "830/830 [==============================] - 97s 117ms/step - loss: 0.0322 - accuracy: 0.9935 - val_loss: 0.0705 - val_accuracy: 0.9873\n",
      "Epoch 25/75\n",
      "830/830 [==============================] - 94s 113ms/step - loss: 0.0310 - accuracy: 0.9933 - val_loss: 0.0670 - val_accuracy: 0.9868\n",
      "Epoch 26/75\n",
      "830/830 [==============================] - 89s 107ms/step - loss: 0.0332 - accuracy: 0.9934 - val_loss: 0.0670 - val_accuracy: 0.9849\n",
      "Epoch 27/75\n",
      "830/830 [==============================] - 91s 109ms/step - loss: 0.0291 - accuracy: 0.9940 - val_loss: 0.0769 - val_accuracy: 0.9851\n",
      "Epoch 28/75\n",
      "830/830 [==============================] - 91s 109ms/step - loss: 0.0290 - accuracy: 0.9941 - val_loss: 0.0794 - val_accuracy: 0.9864\n",
      "Epoch 29/75\n",
      "830/830 [==============================] - 92s 111ms/step - loss: 0.0324 - accuracy: 0.9931 - val_loss: 0.0674 - val_accuracy: 0.9867\n",
      "Epoch 30/75\n",
      "830/830 [==============================] - 93s 112ms/step - loss: 0.0285 - accuracy: 0.9944 - val_loss: 0.0691 - val_accuracy: 0.9861\n",
      "Epoch 31/75\n",
      "830/830 [==============================] - 89s 108ms/step - loss: 0.0276 - accuracy: 0.9944 - val_loss: 0.0738 - val_accuracy: 0.9880\n",
      "Epoch 32/75\n",
      "830/830 [==============================] - 94s 113ms/step - loss: 0.0277 - accuracy: 0.9944 - val_loss: 0.0670 - val_accuracy: 0.9867\n",
      "Epoch 33/75\n",
      "830/830 [==============================] - 97s 117ms/step - loss: 0.0267 - accuracy: 0.9950 - val_loss: 0.0692 - val_accuracy: 0.9870\n",
      "Epoch 34/75\n",
      "830/830 [==============================] - 93s 112ms/step - loss: 0.0265 - accuracy: 0.9947 - val_loss: 0.0686 - val_accuracy: 0.9867\n",
      "Epoch 35/75\n",
      "830/830 [==============================] - 92s 111ms/step - loss: 0.0254 - accuracy: 0.9950 - val_loss: 0.0707 - val_accuracy: 0.9886\n",
      "Epoch 36/75\n",
      "830/830 [==============================] - 95s 115ms/step - loss: 0.0238 - accuracy: 0.9952 - val_loss: 0.0705 - val_accuracy: 0.9873\n",
      "Epoch 37/75\n",
      "830/830 [==============================] - 93s 112ms/step - loss: 0.0255 - accuracy: 0.9949 - val_loss: 0.0673 - val_accuracy: 0.9882\n",
      "Epoch 38/75\n",
      "830/830 [==============================] - 92s 111ms/step - loss: 0.0240 - accuracy: 0.9956 - val_loss: 0.0854 - val_accuracy: 0.9874\n",
      "Epoch 39/75\n",
      "830/830 [==============================] - 94s 113ms/step - loss: 0.0254 - accuracy: 0.9954 - val_loss: 0.0637 - val_accuracy: 0.9880\n",
      "Epoch 40/75\n",
      "830/830 [==============================] - 93s 112ms/step - loss: 0.0206 - accuracy: 0.9967 - val_loss: 0.0673 - val_accuracy: 0.9879\n",
      "Epoch 41/75\n",
      "830/830 [==============================] - 96s 115ms/step - loss: 0.0236 - accuracy: 0.9954 - val_loss: 0.0827 - val_accuracy: 0.9874\n",
      "Epoch 42/75\n",
      "830/830 [==============================] - 93s 112ms/step - loss: 0.0249 - accuracy: 0.9952 - val_loss: 0.0704 - val_accuracy: 0.9881\n",
      "Epoch 43/75\n",
      "830/830 [==============================] - 93s 112ms/step - loss: 0.0211 - accuracy: 0.9965 - val_loss: 0.0721 - val_accuracy: 0.9886\n",
      "Epoch 44/75\n",
      "830/830 [==============================] - 90s 109ms/step - loss: 0.0232 - accuracy: 0.9957 - val_loss: 0.0725 - val_accuracy: 0.9880\n",
      "Epoch 45/75\n",
      "830/830 [==============================] - 98s 119ms/step - loss: 0.0234 - accuracy: 0.9958 - val_loss: 0.0775 - val_accuracy: 0.9869\n",
      "Epoch 46/75\n",
      "830/830 [==============================] - 94s 114ms/step - loss: 0.0207 - accuracy: 0.9966 - val_loss: 0.0665 - val_accuracy: 0.9882\n",
      "Epoch 47/75\n",
      "830/830 [==============================] - 93s 112ms/step - loss: 0.0230 - accuracy: 0.9958 - val_loss: 0.0774 - val_accuracy: 0.9876\n",
      "Epoch 48/75\n",
      "830/830 [==============================] - 95s 114ms/step - loss: 0.0217 - accuracy: 0.9961 - val_loss: 0.0781 - val_accuracy: 0.9877\n",
      "Epoch 49/75\n",
      "830/830 [==============================] - 89s 107ms/step - loss: 0.0229 - accuracy: 0.9956 - val_loss: 0.0839 - val_accuracy: 0.9873\n",
      "Epoch 50/75\n",
      "830/830 [==============================] - 86s 104ms/step - loss: 0.0219 - accuracy: 0.9961 - val_loss: 0.0811 - val_accuracy: 0.9855\n",
      "Epoch 51/75\n",
      "830/830 [==============================] - 86s 103ms/step - loss: 0.0202 - accuracy: 0.9963 - val_loss: 0.0775 - val_accuracy: 0.9876\n",
      "Epoch 52/75\n",
      "830/830 [==============================] - 85s 103ms/step - loss: 0.0203 - accuracy: 0.9968 - val_loss: 0.0700 - val_accuracy: 0.9883\n",
      "Epoch 53/75\n",
      "830/830 [==============================] - 89s 108ms/step - loss: 0.0227 - accuracy: 0.9963 - val_loss: 0.0675 - val_accuracy: 0.9886\n",
      "Epoch 54/75\n",
      "830/830 [==============================] - 89s 107ms/step - loss: 0.0196 - accuracy: 0.9968 - val_loss: 0.0798 - val_accuracy: 0.9857\n",
      "Epoch 55/75\n",
      "830/830 [==============================] - 87s 105ms/step - loss: 0.0216 - accuracy: 0.9964 - val_loss: 0.0702 - val_accuracy: 0.9885\n",
      "Epoch 56/75\n",
      "830/830 [==============================] - 87s 105ms/step - loss: 0.0229 - accuracy: 0.9961 - val_loss: 0.0748 - val_accuracy: 0.9876\n",
      "Epoch 57/75\n",
      "830/830 [==============================] - 91s 109ms/step - loss: 0.0187 - accuracy: 0.9970 - val_loss: 0.0733 - val_accuracy: 0.9869\n",
      "Epoch 58/75\n",
      "830/830 [==============================] - 89s 107ms/step - loss: 0.0211 - accuracy: 0.9965 - val_loss: 0.0775 - val_accuracy: 0.9879\n",
      "Epoch 59/75\n",
      "830/830 [==============================] - 86s 104ms/step - loss: 0.0176 - accuracy: 0.9972 - val_loss: 0.0841 - val_accuracy: 0.9868\n",
      "Epoch 60/75\n",
      "830/830 [==============================] - 85s 103ms/step - loss: 0.0195 - accuracy: 0.9969 - val_loss: 0.0785 - val_accuracy: 0.9887\n",
      "Epoch 61/75\n",
      "830/830 [==============================] - 85s 102ms/step - loss: 0.0202 - accuracy: 0.9968 - val_loss: 0.0757 - val_accuracy: 0.9874\n",
      "Epoch 62/75\n",
      "830/830 [==============================] - 79s 95ms/step - loss: 0.0198 - accuracy: 0.9970 - val_loss: 0.0715 - val_accuracy: 0.9889\n",
      "Epoch 63/75\n",
      "830/830 [==============================] - 80s 96ms/step - loss: 0.0167 - accuracy: 0.9976 - val_loss: 0.0738 - val_accuracy: 0.9886\n",
      "Epoch 64/75\n",
      "830/830 [==============================] - 65s 79ms/step - loss: 0.0173 - accuracy: 0.9974 - val_loss: 0.0799 - val_accuracy: 0.9881\n",
      "Epoch 65/75\n",
      "830/830 [==============================] - 67s 81ms/step - loss: 0.0213 - accuracy: 0.9968 - val_loss: 0.0760 - val_accuracy: 0.9859\n",
      "Epoch 66/75\n",
      "830/830 [==============================] - 79s 95ms/step - loss: 0.0181 - accuracy: 0.9971 - val_loss: 0.0725 - val_accuracy: 0.9892\n",
      "Epoch 67/75\n",
      "830/830 [==============================] - 80s 96ms/step - loss: 0.0185 - accuracy: 0.9970 - val_loss: 0.0798 - val_accuracy: 0.9877\n",
      "Epoch 68/75\n",
      "830/830 [==============================] - 79s 96ms/step - loss: 0.0196 - accuracy: 0.9969 - val_loss: 0.0796 - val_accuracy: 0.9891\n",
      "Epoch 69/75\n",
      "830/830 [==============================] - 80s 96ms/step - loss: 0.0176 - accuracy: 0.9972 - val_loss: 0.0723 - val_accuracy: 0.9889\n",
      "Epoch 70/75\n",
      "830/830 [==============================] - 76s 92ms/step - loss: 0.0200 - accuracy: 0.9969 - val_loss: 0.0787 - val_accuracy: 0.9873\n",
      "Epoch 71/75\n",
      "830/830 [==============================] - 62s 75ms/step - loss: 0.0159 - accuracy: 0.9976 - val_loss: 0.0866 - val_accuracy: 0.9869\n",
      "Epoch 72/75\n",
      "830/830 [==============================] - 60s 72ms/step - loss: 0.0209 - accuracy: 0.9968 - val_loss: 0.0740 - val_accuracy: 0.9887\n",
      "Epoch 73/75\n",
      "830/830 [==============================] - 73s 88ms/step - loss: 0.0194 - accuracy: 0.9973 - val_loss: 0.0705 - val_accuracy: 0.9885\n",
      "Epoch 74/75\n",
      "830/830 [==============================] - 79s 95ms/step - loss: 0.0195 - accuracy: 0.9969 - val_loss: 0.0736 - val_accuracy: 0.9883\n",
      "Epoch 75/75\n",
      "830/830 [==============================] - 78s 93ms/step - loss: 0.0185 - accuracy: 0.9970 - val_loss: 0.0720 - val_accuracy: 0.9882\n"
     ]
    }
   ],
   "source": [
    "history = model.fit(train_x, train_y, batch_size=64, epochs=75, verbose=1, validation_data=(test_x, test_y))"
   ]
  },
  {
   "cell_type": "code",
   "execution_count": 9,
   "metadata": {},
   "outputs": [
    {
     "data": {
      "image/png": "[encoded data removed]",
      "text/plain": [
       "<Figure size 800x300 with 1 Axes>"
      ]
     },
     "metadata": {},
     "output_type": "display_data"
    },
    {
     "data": {
      "image/png": "[encoded data removed]",
      "text/plain": [
       "<Figure size 800x300 with 1 Axes>"
      ]
     },
     "metadata": {},
     "output_type": "display_data"
    }
   ],
   "source": [
    "# summarize history for loss\n",
    "plt.figure(figsize=(8,3))\n",
    "plt.plot(history.history['loss'])\n",
    "plt.plot(history.history['val_loss'])\n",
    "plt.title('model loss')\n",
    "plt.ylabel('loss')\n",
    "plt.xlabel('epoch')\n",
    "plt.legend(['train', 'test'], loc='best')\n",
    "plt.show()\n",
    "\n",
    "# summarize history for accuracy\n",
    "plt.figure(figsize=(8,3))\n",
    "plt.plot(history.history['accuracy'])\n",
    "plt.plot(history.history['val_accuracy'])\n",
    "plt.title('model accuracy')\n",
    "plt.ylabel('accuracy')\n",
    "plt.xlabel('epoch')\n",
    "plt.legend(['train', 'test'], loc='best')\n",
    "plt.show()"
   ]
  },
  {
   "cell_type": "code",
   "execution_count": 10,
   "metadata": {},
   "outputs": [
    {
     "name": "stdout",
     "output_type": "stream",
     "text": [
      "415/415 [==============================] - 4s 11ms/step - loss: 0.0720 - accuracy: 0.9882\n",
      "Test Loss: 0.07201368361711502\n",
      "Test accuracy: 0.9881741404533386\n"
     ]
    }
   ],
   "source": [
    "# finding the loss and acuracy of the model\n",
    "score = model.evaluate(test_x, test_y)\n",
    "\n",
    "print('Test Loss:', score[0])\n",
    "print('Test accuracy:', score[1])"
   ]
  },
  {
   "cell_type": "code",
   "execution_count": 11,
   "metadata": {},
   "outputs": [
    {
     "name": "stderr",
     "output_type": "stream",
     "text": [
      "WARNING:absl:Found untraced functions such as _jit_compiled_convolution_op, _jit_compiled_convolution_op, _jit_compiled_convolution_op, _jit_compiled_convolution_op while saving (showing 4 of 4). These functions will not be directly callable after loading.\n"
     ]
    },
    {
     "name": "stdout",
     "output_type": "stream",
     "text": [
      "INFO:tensorflow:Assets written to: CNN_model_14\\assets\n"
     ]
    },
    {
     "name": "stderr",
     "output_type": "stream",
     "text": [
      "INFO:tensorflow:Assets written to: CNN_model_14\\assets\n"
     ]
    }
   ],
   "source": [
    "# save model\n",
    "model.save('CNN_model_14')"
   ]
  },
  {
   "attachments": {},
   "cell_type": "markdown",
   "metadata": {},
   "source": [
    "# confusion matrix"
   ]
  },
  {
   "cell_type": "code",
   "execution_count": 12,
   "metadata": {},
   "outputs": [
    {
     "name": "stdout",
     "output_type": "stream",
     "text": [
      "415/415 [==============================] - 6s 14ms/step\n"
     ]
    },
    {
     "data": {
      "text/plain": [
       "array([3, 1, 2, ..., 0, 3, 0], dtype=int64)"
      ]
     },
     "execution_count": 12,
     "metadata": {},
     "output_type": "execute_result"
    }
   ],
   "source": [
    "y_pred = model.predict(test_x)\n",
    "y_pred = np.argmax(y_pred, axis=1)\n",
    "y_pred"
   ]
  },
  {
   "cell_type": "code",
   "execution_count": 13,
   "metadata": {},
   "outputs": [
    {
     "name": "stdout",
     "output_type": "stream",
     "text": [
      "confusion matrix\n",
      "[[3190    7    6   17   24]\n",
      " [   4 3192    0    3    1]\n",
      " [  10    2 2975    3    2]\n",
      " [  35    5    1 2788    6]\n",
      " [  23    1    2    5  974]]\n",
      "\n",
      "classification report\n",
      "              precision    recall  f1-score   support\n",
      "\n",
      "           N     0.9779    0.9834    0.9806      3244\n",
      "           L     0.9953    0.9975    0.9964      3200\n",
      "           R     0.9970    0.9943    0.9956      2992\n",
      "           V     0.9901    0.9834    0.9867      2835\n",
      "           A     0.9672    0.9692    0.9682      1005\n",
      "\n",
      "    accuracy                         0.9882     13276\n",
      "   macro avg     0.9855    0.9855    0.9855     13276\n",
      "weighted avg     0.9882    0.9882    0.9882     13276\n",
      "\n"
     ]
    }
   ],
   "source": [
    "y_true = test[440]\n",
    "\n",
    "from sklearn.metrics import confusion_matrix, classification_report\n",
    "\n",
    "cm = confusion_matrix(y_true, y_pred)\n",
    "print('confusion matrix')\n",
    "print(cm)\n",
    "print('\\nclassification report')\n",
    "report = classification_report(y_true, y_pred, target_names=['N', 'L', 'R', 'V', 'A'], digits=4)\n",
    "print(report )\n",
    "\n",
    "def report_to_df(report):\n",
    "    report = [x.split(' ') for x in report.split('\\n')]\n",
    "    header = ['Class Name']+[x for x in report[0] if x!='']\n",
    "    values = []\n",
    "    for row in report[1:-5]:\n",
    "        row = [value for value in row if value!='']\n",
    "        if row!=[]:\n",
    "            values.append(row)\n",
    "    df = pd.DataFrame(data = values, columns = header)\n",
    "    return df\n",
    "report = report_to_df(report)\n",
    "\n",
    "# report.to_csv('classification report.csv', index=True)"
   ]
  }
 ],
 "metadata": {
  "kernelspec": {
   "display_name": "cenv1",
   "language": "python",
   "name": "python3"
  },
  "language_info": {
   "codemirror_mode": {
    "name": "ipython",
    "version": 3
   },
   "file_extension": ".py",
   "mimetype": "text/x-python",
   "name": "python",
   "nbconvert_exporter": "python",
   "pygments_lexer": "ipython3",
   "version": "3.10.9"
  },
  "orig_nbformat": 4
 },
 "nbformat": 4,
 "nbformat_minor": 2
}
