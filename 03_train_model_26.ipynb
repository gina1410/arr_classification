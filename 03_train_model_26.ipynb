{
 "cells": [
  {
   "attachments": {},
   "cell_type": "markdown",
   "metadata": {},
   "source": [
    "# Initialize"
   ]
  },
  {
   "cell_type": "code",
   "execution_count": 1,
   "metadata": {},
   "outputs": [],
   "source": [
    "import numpy as np\n",
    "import pandas as pd\n",
    "import matplotlib.pyplot as plt\n",
    "\n",
    "from keras.utils.np_utils import to_categorical\n",
    "from keras.models import Sequential\n",
    "from keras.layers import Conv1D, AvgPool1D, Flatten, Dense, Dropout, Softmax\n",
    "from keras import regularizers\n",
    "from keras.optimizers import Adam \n"
   ]
  },
  {
   "attachments": {},
   "cell_type": "markdown",
   "metadata": {},
   "source": [
    "# Load dataset"
   ]
  },
  {
   "cell_type": "code",
   "execution_count": 2,
   "metadata": {},
   "outputs": [
    {
     "name": "stdout",
     "output_type": "stream",
     "text": [
      "train_data :  (53102, 441)\n",
      "test_data  :  (13276, 441)\n"
     ]
    }
   ],
   "source": [
    "train = pd.read_csv('./data/0.8_train.csv', header=None)\n",
    "test = pd.read_csv('./data/0.2_test.csv', header=None)\n",
    "\n",
    "print(\"train_data : \", np.shape(train))\n",
    "print(\"test_data  : \", np.shape(test))"
   ]
  },
  {
   "cell_type": "code",
   "execution_count": 3,
   "metadata": {},
   "outputs": [
    {
     "name": "stdout",
     "output_type": "stream",
     "text": [
      "data train per class\n",
      "0.0    13152\n",
      "1.0    12938\n",
      "2.0    11508\n",
      "3.0    11421\n",
      "4.0     4083\n",
      "Name: 440, dtype: int64\n",
      "---------------------------------\n",
      "data test per class\n",
      "0.0    3244\n",
      "1.0    3200\n",
      "2.0    2992\n",
      "3.0    2835\n",
      "4.0    1005\n",
      "Name: 440, dtype: int64\n"
     ]
    }
   ],
   "source": [
    "# 0.0 Normal beat\n",
    "# 1.0 LBBB beat\n",
    "# 2.0 RBBB beat\n",
    "# 3.0 PVC beat\n",
    "# 4.0 PAC beat\n",
    "\n",
    "print('data train per class')\n",
    "print(train[440].value_counts())\n",
    "print('---------------------------------')\n",
    "print('data test per class')\n",
    "print(test[440].value_counts())"
   ]
  },
  {
   "cell_type": "code",
   "execution_count": 4,
   "metadata": {},
   "outputs": [
    {
     "name": "stdout",
     "output_type": "stream",
     "text": [
      "(53102, 5) (13276, 5)\n"
     ]
    }
   ],
   "source": [
    "target_train=train[train.shape[1]-1]\n",
    "target_test=test[test.shape[1]-1]\n",
    "train_y=to_categorical(target_train)\n",
    "test_y=to_categorical(target_test)\n",
    "print(np.shape(train_y), np.shape(test_y))"
   ]
  },
  {
   "cell_type": "code",
   "execution_count": 5,
   "metadata": {},
   "outputs": [
    {
     "name": "stdout",
     "output_type": "stream",
     "text": [
      "(53102, 440, 1) (13276, 440, 1)\n"
     ]
    }
   ],
   "source": [
    "train_x = train.iloc[:,:train.shape[1]-1].values\n",
    "test_x = test.iloc[:,:test.shape[1]-1].values\n",
    "train_x = train_x.reshape(len(train_x), train_x.shape[1],1)\n",
    "test_x = test_x.reshape(len(test_x), test_x.shape[1],1)\n",
    "print(np.shape(train_x), np.shape(test_x))"
   ]
  },
  {
   "attachments": {},
   "cell_type": "markdown",
   "metadata": {},
   "source": [
    "# Model architecture"
   ]
  },
  {
   "cell_type": "code",
   "execution_count": 6,
   "metadata": {},
   "outputs": [
    {
     "name": "stdout",
     "output_type": "stream",
     "text": [
      "Model: \"sequential\"\n",
      "_________________________________________________________________\n",
      " Layer (type)                Output Shape              Param #   \n",
      "=================================================================\n",
      " conv1d (Conv1D)             (None, 440, 16)           224       \n",
      "                                                                 \n",
      " average_pooling1d (AverageP  (None, 219, 16)          0         \n",
      " ooling1D)                                                       \n",
      "                                                                 \n",
      " conv1d_1 (Conv1D)           (None, 219, 32)           7712      \n",
      "                                                                 \n",
      " average_pooling1d_1 (Averag  (None, 109, 32)          0         \n",
      " ePooling1D)                                                     \n",
      "                                                                 \n",
      " conv1d_2 (Conv1D)           (None, 109, 64)           34880     \n",
      "                                                                 \n",
      " average_pooling1d_2 (Averag  (None, 54, 64)           0         \n",
      " ePooling1D)                                                     \n",
      "                                                                 \n",
      " conv1d_3 (Conv1D)           (None, 54, 128)           155776    \n",
      "                                                                 \n",
      " average_pooling1d_3 (Averag  (None, 26, 128)          0         \n",
      " ePooling1D)                                                     \n",
      "                                                                 \n",
      " flatten (Flatten)           (None, 3328)              0         \n",
      "                                                                 \n",
      " dropout (Dropout)           (None, 3328)              0         \n",
      "                                                                 \n",
      " dense (Dense)               (None, 35)                116515    \n",
      "                                                                 \n",
      " dense_1 (Dense)             (None, 5)                 180       \n",
      "                                                                 \n",
      " softmax (Softmax)           (None, 5)                 0         \n",
      "                                                                 \n",
      "=================================================================\n",
      "Total params: 315,287\n",
      "Trainable params: 315,287\n",
      "Non-trainable params: 0\n",
      "_________________________________________________________________\n"
     ]
    }
   ],
   "source": [
    "# Instanciate an empty model\n",
    "model = Sequential()\n",
    "\n",
    "model.add(Conv1D(filters=16, kernel_size=13, padding='same', activation='relu',input_shape=(440, 1)))\n",
    "model.add(AvgPool1D(pool_size=3, strides=2))\n",
    "model.add(Conv1D(filters=32, kernel_size=15, padding='same', activation='relu'))\n",
    "model.add(AvgPool1D(pool_size=3, strides=2))\n",
    "model.add(Conv1D(filters=64, kernel_size=17, padding='same', activation='relu'))\n",
    "model.add(AvgPool1D(pool_size=3, strides=2))\n",
    "model.add(Conv1D(filters=128, kernel_size=19, padding='same', activation='relu'))\n",
    "model.add(AvgPool1D(pool_size=3, strides=2))\n",
    "model.add(Flatten())\n",
    "model.add(Dropout(0.5))\n",
    "model.add(Dense(35,kernel_regularizer=regularizers.l2(0.0001), bias_regularizer=regularizers.l2(0.0001)))\n",
    "model.add(Dense(5,kernel_regularizer=regularizers.l2(0.0001), bias_regularizer=regularizers.l2(0.0001)))\n",
    "model.add(Softmax())\n",
    "\n",
    "model.summary()"
   ]
  },
  {
   "attachments": {},
   "cell_type": "markdown",
   "metadata": {},
   "source": [
    "# learning_rate 0.002, batch_size 128, epoch 75"
   ]
  },
  {
   "cell_type": "code",
   "execution_count": 7,
   "metadata": {},
   "outputs": [],
   "source": [
    "model.compile(loss='categorical_crossentropy', optimizer=Adam(learning_rate=0.002), metrics=['accuracy'])"
   ]
  },
  {
   "cell_type": "code",
   "execution_count": 8,
   "metadata": {},
   "outputs": [
    {
     "name": "stdout",
     "output_type": "stream",
     "text": [
      "Epoch 1/75\n",
      "415/415 [==============================] - 86s 202ms/step - loss: 0.4299 - accuracy: 0.8497 - val_loss: 0.1763 - val_accuracy: 0.9507\n",
      "Epoch 2/75\n",
      "415/415 [==============================] - 78s 187ms/step - loss: 0.1573 - accuracy: 0.9565 - val_loss: 0.1182 - val_accuracy: 0.9679\n",
      "Epoch 3/75\n",
      "415/415 [==============================] - 78s 189ms/step - loss: 0.1220 - accuracy: 0.9684 - val_loss: 0.1043 - val_accuracy: 0.9748\n",
      "Epoch 4/75\n",
      "415/415 [==============================] - 84s 202ms/step - loss: 0.1075 - accuracy: 0.9721 - val_loss: 0.0922 - val_accuracy: 0.9783\n",
      "Epoch 5/75\n",
      "415/415 [==============================] - 86s 208ms/step - loss: 0.0979 - accuracy: 0.9749 - val_loss: 0.1070 - val_accuracy: 0.9739\n",
      "Epoch 6/75\n",
      "415/415 [==============================] - 81s 195ms/step - loss: 0.0922 - accuracy: 0.9771 - val_loss: 0.1019 - val_accuracy: 0.9766\n",
      "Epoch 7/75\n",
      "415/415 [==============================] - 86s 206ms/step - loss: 0.0862 - accuracy: 0.9786 - val_loss: 0.0824 - val_accuracy: 0.9817\n",
      "Epoch 8/75\n",
      "415/415 [==============================] - 77s 186ms/step - loss: 0.0768 - accuracy: 0.9814 - val_loss: 0.0896 - val_accuracy: 0.9788\n",
      "Epoch 9/75\n",
      "415/415 [==============================] - 78s 188ms/step - loss: 0.0737 - accuracy: 0.9823 - val_loss: 0.0844 - val_accuracy: 0.9809\n",
      "Epoch 10/75\n",
      "415/415 [==============================] - 77s 185ms/step - loss: 0.0698 - accuracy: 0.9836 - val_loss: 0.0803 - val_accuracy: 0.9824\n",
      "Epoch 11/75\n",
      "415/415 [==============================] - 77s 185ms/step - loss: 0.0706 - accuracy: 0.9831 - val_loss: 0.0795 - val_accuracy: 0.9823\n",
      "Epoch 12/75\n",
      "415/415 [==============================] - 96s 231ms/step - loss: 0.0622 - accuracy: 0.9857 - val_loss: 0.0819 - val_accuracy: 0.9818\n",
      "Epoch 13/75\n",
      "415/415 [==============================] - 89s 214ms/step - loss: 0.0627 - accuracy: 0.9857 - val_loss: 0.0712 - val_accuracy: 0.9849\n",
      "Epoch 14/75\n",
      "415/415 [==============================] - 88s 213ms/step - loss: 0.0563 - accuracy: 0.9872 - val_loss: 0.0677 - val_accuracy: 0.9844\n",
      "Epoch 15/75\n",
      "415/415 [==============================] - 87s 209ms/step - loss: 0.0529 - accuracy: 0.9879 - val_loss: 0.0753 - val_accuracy: 0.9832\n",
      "Epoch 16/75\n",
      "415/415 [==============================] - 91s 220ms/step - loss: 0.0524 - accuracy: 0.9882 - val_loss: 0.0708 - val_accuracy: 0.9840\n",
      "Epoch 17/75\n",
      "415/415 [==============================] - 86s 208ms/step - loss: 0.0492 - accuracy: 0.9894 - val_loss: 0.0709 - val_accuracy: 0.9840\n",
      "Epoch 18/75\n",
      "415/415 [==============================] - 89s 215ms/step - loss: 0.0480 - accuracy: 0.9885 - val_loss: 0.0698 - val_accuracy: 0.9853\n",
      "Epoch 19/75\n",
      "415/415 [==============================] - 81s 194ms/step - loss: 0.0452 - accuracy: 0.9897 - val_loss: 0.0743 - val_accuracy: 0.9849\n",
      "Epoch 20/75\n",
      "415/415 [==============================] - 72s 173ms/step - loss: 0.0432 - accuracy: 0.9907 - val_loss: 0.0697 - val_accuracy: 0.9862\n",
      "Epoch 21/75\n",
      "415/415 [==============================] - 72s 174ms/step - loss: 0.0433 - accuracy: 0.9902 - val_loss: 0.0719 - val_accuracy: 0.9854\n",
      "Epoch 22/75\n",
      "415/415 [==============================] - 71s 172ms/step - loss: 0.0404 - accuracy: 0.9917 - val_loss: 0.0686 - val_accuracy: 0.9862\n",
      "Epoch 23/75\n",
      "415/415 [==============================] - 71s 171ms/step - loss: 0.0388 - accuracy: 0.9919 - val_loss: 0.0727 - val_accuracy: 0.9862\n",
      "Epoch 24/75\n",
      "415/415 [==============================] - 68s 164ms/step - loss: 0.0388 - accuracy: 0.9920 - val_loss: 0.0740 - val_accuracy: 0.9870\n",
      "Epoch 25/75\n",
      "415/415 [==============================] - 68s 164ms/step - loss: 0.0383 - accuracy: 0.9918 - val_loss: 0.0650 - val_accuracy: 0.9870\n",
      "Epoch 26/75\n",
      "415/415 [==============================] - 66s 160ms/step - loss: 0.0338 - accuracy: 0.9930 - val_loss: 0.0767 - val_accuracy: 0.9846\n",
      "Epoch 27/75\n",
      "415/415 [==============================] - 68s 163ms/step - loss: 0.0337 - accuracy: 0.9930 - val_loss: 0.0736 - val_accuracy: 0.9863\n",
      "Epoch 28/75\n",
      "415/415 [==============================] - 67s 162ms/step - loss: 0.0345 - accuracy: 0.9931 - val_loss: 0.0768 - val_accuracy: 0.9852\n",
      "Epoch 29/75\n",
      "415/415 [==============================] - 67s 162ms/step - loss: 0.0322 - accuracy: 0.9938 - val_loss: 0.0688 - val_accuracy: 0.9861\n",
      "Epoch 30/75\n",
      "415/415 [==============================] - 67s 162ms/step - loss: 0.0304 - accuracy: 0.9939 - val_loss: 0.0723 - val_accuracy: 0.9858\n",
      "Epoch 31/75\n",
      "415/415 [==============================] - 68s 163ms/step - loss: 0.0323 - accuracy: 0.9937 - val_loss: 0.0767 - val_accuracy: 0.9852\n",
      "Epoch 32/75\n",
      "415/415 [==============================] - 67s 161ms/step - loss: 0.0283 - accuracy: 0.9949 - val_loss: 0.0709 - val_accuracy: 0.9870\n",
      "Epoch 33/75\n",
      "415/415 [==============================] - 67s 161ms/step - loss: 0.0313 - accuracy: 0.9933 - val_loss: 0.0694 - val_accuracy: 0.9871\n",
      "Epoch 34/75\n",
      "415/415 [==============================] - 65s 157ms/step - loss: 0.0294 - accuracy: 0.9941 - val_loss: 0.0697 - val_accuracy: 0.9867\n",
      "Epoch 35/75\n",
      "415/415 [==============================] - 66s 160ms/step - loss: 0.0293 - accuracy: 0.9942 - val_loss: 0.0705 - val_accuracy: 0.9867\n",
      "Epoch 36/75\n",
      "415/415 [==============================] - 67s 161ms/step - loss: 0.0272 - accuracy: 0.9950 - val_loss: 0.0669 - val_accuracy: 0.9879\n",
      "Epoch 37/75\n",
      "415/415 [==============================] - 68s 165ms/step - loss: 0.0261 - accuracy: 0.9952 - val_loss: 0.0685 - val_accuracy: 0.9877\n",
      "Epoch 38/75\n",
      "415/415 [==============================] - 63s 151ms/step - loss: 0.0289 - accuracy: 0.9947 - val_loss: 0.0744 - val_accuracy: 0.9859\n",
      "Epoch 39/75\n",
      "415/415 [==============================] - 57s 137ms/step - loss: 0.0255 - accuracy: 0.9955 - val_loss: 0.0688 - val_accuracy: 0.9861\n",
      "Epoch 40/75\n",
      "415/415 [==============================] - 57s 138ms/step - loss: 0.0261 - accuracy: 0.9952 - val_loss: 0.0662 - val_accuracy: 0.9873\n",
      "Epoch 41/75\n",
      "415/415 [==============================] - 57s 137ms/step - loss: 0.0255 - accuracy: 0.9951 - val_loss: 0.0727 - val_accuracy: 0.9879\n",
      "Epoch 42/75\n",
      "415/415 [==============================] - 56s 136ms/step - loss: 0.0249 - accuracy: 0.9955 - val_loss: 0.0672 - val_accuracy: 0.9877\n",
      "Epoch 43/75\n",
      "415/415 [==============================] - 56s 136ms/step - loss: 0.0256 - accuracy: 0.9954 - val_loss: 0.0725 - val_accuracy: 0.9867\n",
      "Epoch 44/75\n",
      "415/415 [==============================] - 56s 136ms/step - loss: 0.0263 - accuracy: 0.9952 - val_loss: 0.0682 - val_accuracy: 0.9876\n",
      "Epoch 45/75\n",
      "415/415 [==============================] - 57s 137ms/step - loss: 0.0248 - accuracy: 0.9956 - val_loss: 0.0811 - val_accuracy: 0.9861\n",
      "Epoch 46/75\n",
      "415/415 [==============================] - 56s 136ms/step - loss: 0.0248 - accuracy: 0.9953 - val_loss: 0.0704 - val_accuracy: 0.9875\n",
      "Epoch 47/75\n",
      "415/415 [==============================] - 56s 136ms/step - loss: 0.0258 - accuracy: 0.9951 - val_loss: 0.0675 - val_accuracy: 0.9873\n",
      "Epoch 48/75\n",
      "415/415 [==============================] - 59s 142ms/step - loss: 0.0248 - accuracy: 0.9957 - val_loss: 0.0661 - val_accuracy: 0.9878\n",
      "Epoch 49/75\n",
      "415/415 [==============================] - 56s 136ms/step - loss: 0.0229 - accuracy: 0.9960 - val_loss: 0.0729 - val_accuracy: 0.9877\n",
      "Epoch 50/75\n",
      "415/415 [==============================] - 57s 136ms/step - loss: 0.0230 - accuracy: 0.9958 - val_loss: 0.0755 - val_accuracy: 0.9878\n",
      "Epoch 51/75\n",
      "415/415 [==============================] - 59s 141ms/step - loss: 0.0211 - accuracy: 0.9967 - val_loss: 0.0827 - val_accuracy: 0.9873\n",
      "Epoch 52/75\n",
      "415/415 [==============================] - 56s 135ms/step - loss: 0.0250 - accuracy: 0.9959 - val_loss: 0.0800 - val_accuracy: 0.9874\n",
      "Epoch 53/75\n",
      "415/415 [==============================] - 57s 136ms/step - loss: 0.0266 - accuracy: 0.9952 - val_loss: 0.0768 - val_accuracy: 0.9870\n",
      "Epoch 54/75\n",
      "415/415 [==============================] - 56s 136ms/step - loss: 0.0199 - accuracy: 0.9969 - val_loss: 0.0749 - val_accuracy: 0.9863\n",
      "Epoch 55/75\n",
      "415/415 [==============================] - 57s 136ms/step - loss: 0.0193 - accuracy: 0.9968 - val_loss: 0.0743 - val_accuracy: 0.9879\n",
      "Epoch 56/75\n",
      "415/415 [==============================] - 56s 136ms/step - loss: 0.0193 - accuracy: 0.9966 - val_loss: 0.0768 - val_accuracy: 0.9866\n",
      "Epoch 57/75\n",
      "415/415 [==============================] - 57s 137ms/step - loss: 0.0273 - accuracy: 0.9956 - val_loss: 0.0751 - val_accuracy: 0.9874\n",
      "Epoch 58/75\n",
      "415/415 [==============================] - 58s 139ms/step - loss: 0.0228 - accuracy: 0.9962 - val_loss: 0.0739 - val_accuracy: 0.9879\n",
      "Epoch 59/75\n",
      "415/415 [==============================] - 56s 136ms/step - loss: 0.0211 - accuracy: 0.9966 - val_loss: 0.0717 - val_accuracy: 0.9873\n",
      "Epoch 60/75\n",
      "415/415 [==============================] - 57s 137ms/step - loss: 0.0206 - accuracy: 0.9964 - val_loss: 0.0783 - val_accuracy: 0.9873\n",
      "Epoch 61/75\n",
      "415/415 [==============================] - 57s 136ms/step - loss: 0.0208 - accuracy: 0.9965 - val_loss: 0.0842 - val_accuracy: 0.9885\n",
      "Epoch 62/75\n",
      "415/415 [==============================] - 57s 136ms/step - loss: 0.0204 - accuracy: 0.9968 - val_loss: 0.0816 - val_accuracy: 0.9882\n",
      "Epoch 63/75\n",
      "415/415 [==============================] - 56s 136ms/step - loss: 0.0232 - accuracy: 0.9961 - val_loss: 0.0751 - val_accuracy: 0.9886\n",
      "Epoch 64/75\n",
      "415/415 [==============================] - 57s 137ms/step - loss: 0.0200 - accuracy: 0.9969 - val_loss: 0.0704 - val_accuracy: 0.9885\n",
      "Epoch 65/75\n",
      "415/415 [==============================] - 56s 136ms/step - loss: 0.0194 - accuracy: 0.9968 - val_loss: 0.0851 - val_accuracy: 0.9876\n",
      "Epoch 66/75\n",
      "415/415 [==============================] - 57s 137ms/step - loss: 0.0205 - accuracy: 0.9973 - val_loss: 0.0795 - val_accuracy: 0.9885\n",
      "Epoch 67/75\n",
      "415/415 [==============================] - 56s 136ms/step - loss: 0.0198 - accuracy: 0.9969 - val_loss: 0.0909 - val_accuracy: 0.9865\n",
      "Epoch 68/75\n",
      "415/415 [==============================] - 57s 136ms/step - loss: 0.0227 - accuracy: 0.9959 - val_loss: 0.0801 - val_accuracy: 0.9876\n",
      "Epoch 69/75\n",
      "415/415 [==============================] - 56s 136ms/step - loss: 0.0199 - accuracy: 0.9971 - val_loss: 0.0792 - val_accuracy: 0.9862\n",
      "Epoch 70/75\n",
      "415/415 [==============================] - 57s 136ms/step - loss: 0.0169 - accuracy: 0.9974 - val_loss: 0.0776 - val_accuracy: 0.9879\n",
      "Epoch 71/75\n",
      "415/415 [==============================] - 57s 136ms/step - loss: 0.0181 - accuracy: 0.9969 - val_loss: 0.0905 - val_accuracy: 0.9870\n",
      "Epoch 72/75\n",
      "415/415 [==============================] - 57s 137ms/step - loss: 0.0195 - accuracy: 0.9966 - val_loss: 0.0912 - val_accuracy: 0.9876\n",
      "Epoch 73/75\n",
      "415/415 [==============================] - 57s 136ms/step - loss: 0.0218 - accuracy: 0.9966 - val_loss: 0.0973 - val_accuracy: 0.9878\n",
      "Epoch 74/75\n",
      "415/415 [==============================] - 57s 136ms/step - loss: 0.0225 - accuracy: 0.9964 - val_loss: 0.0943 - val_accuracy: 0.9876\n",
      "Epoch 75/75\n",
      "415/415 [==============================] - 56s 136ms/step - loss: 0.0239 - accuracy: 0.9966 - val_loss: 0.0827 - val_accuracy: 0.9882\n"
     ]
    }
   ],
   "source": [
    "history = model.fit(train_x, train_y, batch_size=128, epochs=75, verbose=1, validation_data=(test_x, test_y))"
   ]
  },
  {
   "cell_type": "code",
   "execution_count": 9,
   "metadata": {},
   "outputs": [
    {
     "data": {
      "image/png": "[encoded data removed]",
      "text/plain": [
       "<Figure size 800x300 with 1 Axes>"
      ]
     },
     "metadata": {},
     "output_type": "display_data"
    },
    {
     "data": {
      "image/png": "[encoded data removed]",
      "text/plain": [
       "<Figure size 800x300 with 1 Axes>"
      ]
     },
     "metadata": {},
     "output_type": "display_data"
    }
   ],
   "source": [
    "# summarize history for loss\n",
    "plt.figure(figsize=(8,3))\n",
    "plt.plot(history.history['loss'])\n",
    "plt.plot(history.history['val_loss'])\n",
    "plt.title('model loss')\n",
    "plt.ylabel('loss')\n",
    "plt.xlabel('epoch')\n",
    "plt.legend(['train', 'test'], loc='best')\n",
    "plt.show()\n",
    "\n",
    "# summarize history for accuracy\n",
    "plt.figure(figsize=(8,3))\n",
    "plt.plot(history.history['accuracy'])\n",
    "plt.plot(history.history['val_accuracy'])\n",
    "plt.title('model accuracy')\n",
    "plt.ylabel('accuracy')\n",
    "plt.xlabel('epoch')\n",
    "plt.legend(['train', 'test'], loc='best')\n",
    "plt.show()"
   ]
  },
  {
   "cell_type": "code",
   "execution_count": 10,
   "metadata": {},
   "outputs": [
    {
     "name": "stdout",
     "output_type": "stream",
     "text": [
      "415/415 [==============================] - 5s 11ms/step - loss: 0.0827 - accuracy: 0.9882\n",
      "Test Loss: 0.08274278789758682\n",
      "Test accuracy: 0.9882494807243347\n"
     ]
    }
   ],
   "source": [
    "# finding the loss and acuracy of the model\n",
    "score = model.evaluate(test_x, test_y)\n",
    "\n",
    "print('Test Loss:', score[0])\n",
    "print('Test accuracy:', score[1])"
   ]
  },
  {
   "cell_type": "code",
   "execution_count": 11,
   "metadata": {},
   "outputs": [
    {
     "name": "stderr",
     "output_type": "stream",
     "text": [
      "WARNING:absl:Found untraced functions such as _jit_compiled_convolution_op, _jit_compiled_convolution_op, _jit_compiled_convolution_op, _jit_compiled_convolution_op while saving (showing 4 of 4). These functions will not be directly callable after loading.\n"
     ]
    },
    {
     "name": "stdout",
     "output_type": "stream",
     "text": [
      "INFO:tensorflow:Assets written to: CNN_model_26\\assets\n"
     ]
    },
    {
     "name": "stderr",
     "output_type": "stream",
     "text": [
      "INFO:tensorflow:Assets written to: CNN_model_26\\assets\n"
     ]
    }
   ],
   "source": [
    "# save model\n",
    "model.save('CNN_model_26')"
   ]
  },
  {
   "attachments": {},
   "cell_type": "markdown",
   "metadata": {},
   "source": [
    "# confusion matrix"
   ]
  },
  {
   "cell_type": "code",
   "execution_count": 12,
   "metadata": {},
   "outputs": [
    {
     "name": "stdout",
     "output_type": "stream",
     "text": [
      "415/415 [==============================] - 5s 13ms/step\n"
     ]
    },
    {
     "data": {
      "text/plain": [
       "array([3, 1, 2, ..., 0, 3, 0], dtype=int64)"
      ]
     },
     "execution_count": 12,
     "metadata": {},
     "output_type": "execute_result"
    }
   ],
   "source": [
    "y_pred = model.predict(test_x)\n",
    "y_pred = np.argmax(y_pred, axis=1)\n",
    "y_pred"
   ]
  },
  {
   "cell_type": "code",
   "execution_count": 13,
   "metadata": {},
   "outputs": [
    {
     "name": "stdout",
     "output_type": "stream",
     "text": [
      "confusion matrix\n",
      "[[3190    6   15   16   17]\n",
      " [   5 3183    2    9    1]\n",
      " [   5    1 2982    3    1]\n",
      " [  33    4    2 2786   10]\n",
      " [  16    0    2    8  979]]\n",
      "\n",
      "classification report\n",
      "              precision    recall  f1-score   support\n",
      "\n",
      "           N     0.9818    0.9834    0.9826      3244\n",
      "           L     0.9966    0.9947    0.9956      3200\n",
      "           R     0.9930    0.9967    0.9948      2992\n",
      "           V     0.9872    0.9827    0.9850      2835\n",
      "           A     0.9712    0.9741    0.9727      1005\n",
      "\n",
      "    accuracy                         0.9882     13276\n",
      "   macro avg     0.9860    0.9863    0.9861     13276\n",
      "weighted avg     0.9883    0.9882    0.9882     13276\n",
      "\n"
     ]
    }
   ],
   "source": [
    "y_true = test[440]\n",
    "\n",
    "from sklearn.metrics import confusion_matrix, classification_report\n",
    "\n",
    "cm = confusion_matrix(y_true, y_pred)\n",
    "print('confusion matrix')\n",
    "print(cm)\n",
    "print('\\nclassification report')\n",
    "report = classification_report(y_true, y_pred, target_names=['N', 'L', 'R', 'V', 'A'], digits=4)\n",
    "print(report )\n",
    "\n",
    "def report_to_df(report):\n",
    "    report = [x.split(' ') for x in report.split('\\n')]\n",
    "    header = ['Class Name']+[x for x in report[0] if x!='']\n",
    "    values = []\n",
    "    for row in report[1:-5]:\n",
    "        row = [value for value in row if value!='']\n",
    "        if row!=[]:\n",
    "            values.append(row)\n",
    "    df = pd.DataFrame(data = values, columns = header)\n",
    "    return df\n",
    "report = report_to_df(report)\n",
    "\n",
    "# report.to_csv('classification report.csv', index=True)"
   ]
  }
 ],
 "metadata": {
  "kernelspec": {
   "display_name": "cenv1",
   "language": "python",
   "name": "python3"
  },
  "language_info": {
   "codemirror_mode": {
    "name": "ipython",
    "version": 3
   },
   "file_extension": ".py",
   "mimetype": "text/x-python",
   "name": "python",
   "nbconvert_exporter": "python",
   "pygments_lexer": "ipython3",
   "version": "3.10.9"
  },
  "orig_nbformat": 4
 },
 "nbformat": 4,
 "nbformat_minor": 2
}
